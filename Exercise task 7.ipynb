{
  "nbformat": 4,
  "nbformat_minor": 0,
  "metadata": {
    "colab": {
      "provenance": [],
      "authorship_tag": "ABX9TyMVGCCt/1pctIHz2qdrpSeQ",
      "include_colab_link": true
    },
    "kernelspec": {
      "name": "python3",
      "display_name": "Python 3"
    },
    "language_info": {
      "name": "python"
    }
  },
  "cells": [
    {
      "cell_type": "markdown",
      "metadata": {
        "id": "view-in-github",
        "colab_type": "text"
      },
      "source": [
        "<a href=\"https://colab.research.google.com/github/simulate111/Textual-Data-Analysis-25/blob/main/Exercise%20task%207.ipynb\" target=\"_parent\"><img src=\"https://colab.research.google.com/assets/colab-badge.svg\" alt=\"Open In Colab\"/></a>"
      ]
    },
    {
      "cell_type": "code",
      "execution_count": null,
      "metadata": {
        "id": "Fs2TEj84XCfp"
      },
      "outputs": [],
      "source": []
    },
    {
      "cell_type": "markdown",
      "source": [
        "The Stanford Sentiment Treebank (SST) dataset which we used as training data in the explainability part of the lecture has more to it than it seems at first sight, and is a good example of a dataset constructed with some thought and deep understanding of the underlying task. It was introduced in this 2013 paper: https://aclanthology.org/D13-1170.pdf\n",
        "\n",
        "Read the parts of the paper which are relevant to the construction of the SST dataset and the evaluation (Sections 3&5). The paper also introduces some models which of course from today's point of view seem a mere historical curiosity, but you can check those out too.\n",
        "\n",
        "Ponder/answer the following:"
      ],
      "metadata": {
        "id": "7kQCr0buXHAU"
      }
    },
    {
      "cell_type": "markdown",
      "source": [
        "What is the distinguishing feature of the SST corpus, as opposed to other sentiment-labeled corpora?\n"
      ],
      "metadata": {
        "id": "aLZPC_z0XLIt"
      }
    },
    {
      "cell_type": "markdown",
      "source": [
        "Who were the annotators?\n"
      ],
      "metadata": {
        "id": "kdbCN6NMXN3-"
      }
    },
    {
      "cell_type": "markdown",
      "source": [
        "Does the paper give enough information to establish whether the annotators were in good agreement and whether you can trust the dataset?\n"
      ],
      "metadata": {
        "id": "K2MxKF9pXUUg"
      }
    },
    {
      "cell_type": "markdown",
      "source": [
        "Google the authors and check their Google Scholar, several of them are true stars of the field!"
      ],
      "metadata": {
        "id": "uHaPkcb3XSPm"
      }
    }
  ]
}