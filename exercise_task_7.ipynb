{
  "nbformat": 4,
  "nbformat_minor": 0,
  "metadata": {
    "colab": {
      "provenance": [],
      "authorship_tag": "ABX9TyNUA3z0wxG9Xlm+ljHs/zjg",
      "include_colab_link": true
    },
    "kernelspec": {
      "name": "python3",
      "display_name": "Python 3"
    },
    "language_info": {
      "name": "python"
    }
  },
  "cells": [
    {
      "cell_type": "markdown",
      "metadata": {
        "id": "view-in-github",
        "colab_type": "text"
      },
      "source": [
        "<a href=\"https://colab.research.google.com/github/simulate111/Textual-Data-Analysis-25/blob/main/exercise_task_7.ipynb\" target=\"_parent\"><img src=\"https://colab.research.google.com/assets/colab-badge.svg\" alt=\"Open In Colab\"/></a>"
      ]
    },
    {
      "cell_type": "code",
      "execution_count": null,
      "metadata": {
        "id": "Fs2TEj84XCfp"
      },
      "outputs": [],
      "source": []
    },
    {
      "cell_type": "markdown",
      "source": [
        "The Stanford Sentiment Treebank (SST) dataset which we used as training data in the explainability part of the lecture has more to it than it seems at first sight, and is a good example of a dataset constructed with some thought and deep understanding of the underlying task. It was introduced in this 2013 paper: https://aclanthology.org/D13-1170.pdf\n",
        "\n",
        "Read the parts of the paper which are relevant to the construction of the SST dataset and the evaluation (Sections 3&5). The paper also introduces some models which of course from today's point of view seem a mere historical curiosity, but you can check those out too.\n",
        "\n",
        "Ponder/answer the following:"
      ],
      "metadata": {
        "id": "7kQCr0buXHAU"
      }
    },
    {
      "cell_type": "markdown",
      "source": [
        "What is the distinguishing feature of the SST corpus, as opposed to other sentiment-labeled corpora?\n",
        "\n",
        "Analyzing the accuracy of fine-grained sentiment classification for all phrases instead of only used full sentence labels and binary classification of positive/negative.\n"
      ],
      "metadata": {
        "id": "aLZPC_z0XLIt"
      }
    },
    {
      "cell_type": "markdown",
      "source": [
        "Who were the annotators?\n",
        "\n",
        "Amazon Mechanical Turk is used to label the 215,154 phrases and slider has 25 different values with a a 5-class classification and more detail in supplementary materials."
      ],
      "metadata": {
        "id": "kdbCN6NMXN3-"
      }
    },
    {
      "cell_type": "markdown",
      "source": [
        "Does the paper give enough information to establish whether the annotators were in good agreement and whether you can trust the dataset?\n",
        "\n",
        "The article tries to give some information liek what have been use to extract the dataset and annotate them. Also, they did some examination like investigationg different size of sentences to capture sentiment. However, the article did not focus on the dataset itself which could be intereting and of great importance for further use if it works nice. It should be noted that the research may be at the first part and it requires further study and improvement. Therefore, it is soon to decide how good is the dataset but definitely there are not enough information for general readers like me.\n",
        "MOre importantly, including specialist in this article and being reviewed or written under professionals could give us some certainty that they have tried their best.\n"
      ],
      "metadata": {
        "id": "K2MxKF9pXUUg"
      }
    },
    {
      "cell_type": "markdown",
      "source": [
        "Google the authors and check their Google Scholar, several of them are true stars of the field!\n",
        "\n",
        "Christopher Potts h-index: 64\n",
        "Professor of Linguistics and, by courtesy, of Computer Science\n",
        "Verified email at stanford.edu\n",
        "\n",
        "Andrew Ng h-index:151\n",
        "Stanford University\n",
        "\n",
        "Christopher D Manning h-index: 166\n",
        "Professor of Computer Science and Linguistics, Stanford University"
      ],
      "metadata": {
        "id": "uHaPkcb3XSPm"
      }
    }
  ]
}