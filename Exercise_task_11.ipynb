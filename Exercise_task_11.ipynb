{
  "nbformat": 4,
  "nbformat_minor": 0,
  "metadata": {
    "colab": {
      "provenance": [],
      "authorship_tag": "ABX9TyN2YxViSS5lGsIHaTOmkVud",
      "include_colab_link": true
    },
    "kernelspec": {
      "name": "python3",
      "display_name": "Python 3"
    },
    "language_info": {
      "name": "python"
    }
  },
  "cells": [
    {
      "cell_type": "markdown",
      "metadata": {
        "id": "view-in-github",
        "colab_type": "text"
      },
      "source": [
        "<a href=\"https://colab.research.google.com/github/simulate111/Textual-Data-Analysis-25/blob/main/Exercise_task_11.ipynb\" target=\"_parent\"><img src=\"https://colab.research.google.com/assets/colab-badge.svg\" alt=\"Open In Colab\"/></a>"
      ]
    },
    {
      "cell_type": "code",
      "execution_count": 17,
      "metadata": {
        "colab": {
          "base_uri": "https://localhost:8080/"
        },
        "id": "qNvTSHACk9_o",
        "outputId": "5b6dcf59-4a4c-4a37-ef5f-3af402f61ad1"
      },
      "outputs": [
        {
          "output_type": "stream",
          "name": "stderr",
          "text": [
            "Device set to use cpu\n"
          ]
        }
      ],
      "source": [
        "from transformers import pipeline\n",
        "\n",
        "MODEL_NAME = \"HuggingFaceTB/SmolLM2-360M-Instruct\"\n",
        "\n",
        "# Set up the pipeline\n",
        "pipe = pipeline(\n",
        "    \"text-generation\",\n",
        "    model=MODEL_NAME,\n",
        "    device=0,  # Ensure it runs on CPU\n",
        "    max_new_tokens=50,  # Control response length\n",
        "    temperature=0.8,  # Adds randomness for variety\n",
        "    do_sample=True,  # Ensures different responses\n",
        "    top_k=50,  # Limits choices to the top 50 likely words\n",
        "    top_p=0.9,  # Nucleus sampling to improve coherence\n",
        "    return_full_text=False,\n",
        "    pad_token_id=50256  # Prevents padding issues\n",
        ")\n",
        "\n",
        "def chat():\n",
        "    history = []  # Stores conversation history\n",
        "    while True:\n",
        "        user_input = input('Say something (\"exit\" to quit, \"reset\" to clear history): ')\n",
        "\n",
        "        if user_input.lower() == \"exit\":\n",
        "            break\n",
        "        elif user_input.lower() == \"reset\":\n",
        "            history = []\n",
        "            print(\"Chat history cleared.\")\n",
        "            continue\n",
        "\n",
        "        # Add user input to history\n",
        "        history.append(f\"User: {user_input}\")\n",
        "\n",
        "        # Structure the conversation for better AI understanding\n",
        "        conversation = \"\\n\".join(history) + \"\\nAI:\"\n",
        "\n",
        "        # Generate a response\n",
        "        response = pipe(conversation)[0]['generated_text'].strip()\n",
        "\n",
        "        # Ensure AI doesn’t just repeat user input\n",
        "        if response.startswith(user_input):\n",
        "            response = response[len(user_input):].strip()\n",
        "\n",
        "        # Keep only the first meaningful sentence\n",
        "        response = response.split(\"\\n\")[0]\n",
        "\n",
        "        print(\"Chatbot:\", response)\n",
        "\n",
        "        # Store AI response in history\n",
        "        history.append(f\"AI: {response}\")\n"
      ]
    },
    {
      "cell_type": "code",
      "source": [
        "chat()\n"
      ],
      "metadata": {
        "colab": {
          "base_uri": "https://localhost:8080/"
        },
        "id": "CrFKHuqwlAEF",
        "outputId": "a85b79db-110c-4897-892d-b17c009f4e55"
      },
      "execution_count": 10,
      "outputs": [
        {
          "name": "stdout",
          "output_type": "stream",
          "text": [
            "Say something (\"exit\" to quit, \"reset\" to clear history): who is donald trump?\n",
            "Chatbot: Donald J. Trump is the 45th president of the United States.\n",
            "Say something (\"exit\" to quit, \"reset\" to clear history): what is the capital of finland?\n",
            "Chatbot: The capital of Finland is Helsinki.\n",
            "Say something (\"exit\" to quit, \"reset\" to clear history): where is canada located?\n",
            "Chatbot: Canada is located in the northern hemisphere, bordered by the Arctic Ocean, the Atlantic Ocean, the Pacific Ocean, and the North Sea, and is a country in North America.\n",
            "Say something (\"exit\" to quit, \"reset\" to clear history): what the population of the world in 2025?\n",
            "Chatbot: The population of the world in 2025 is approximately 7.9 billion people, with an average global population of 7.94 billion people.\n",
            "Say something (\"exit\" to quit, \"reset\" to clear history): how baout 2024?\n",
            "Chatbot: 2024 is the current year and is the 14th year of the current century.\n",
            "Say something (\"exit\" to quit, \"reset\" to clear history): what do you know about paris?\n",
            "Chatbot: Paris is a city in the northern region of France and is the capital of France. It is known for its romantic atmosphere, art and fashion, culinary delights, and world famous cuisine.\n",
            "Say something (\"exit\" to quit, \"reset\" to clear history): THanks\n",
            "Chatbot: I'm sorry for any misunderstanding, but I don't have the ability to provide real-time data or updates. It's always a good idea to check official government or news sources for the most accurate and up-to-date information.\n",
            "Say something (\"exit\" to quit, \"reset\" to clear history): exit\n"
          ]
        }
      ]
    },
    {
      "cell_type": "code",
      "source": [
        "chat()\n"
      ],
      "metadata": {
        "colab": {
          "base_uri": "https://localhost:8080/"
        },
        "id": "SXZIML3hlAvt",
        "outputId": "08652333-f0f2-4de1-bbab-0a32423c6f45"
      },
      "execution_count": 11,
      "outputs": [
        {
          "name": "stdout",
          "output_type": "stream",
          "text": [
            "Say something (\"exit\" to quit, \"reset\" to clear history): what is 1+1?\n",
            "Chatbot: I don't know, but it's a simple number!\n",
            "Say something (\"exit\" to quit, \"reset\" to clear history): 1+1=?\n",
            "Chatbot: 2\n",
            "Say something (\"exit\" to quit, \"reset\" to clear history): 2*3=?\n",
            "Chatbot: 6\n",
            "Say something (\"exit\" to quit, \"reset\" to clear history): 4*5/2+4=?\n",
            "Chatbot: 20\n",
            "Say something (\"exit\" to quit, \"reset\" to clear history): what is one plus one?\n",
            "Chatbot: 1 + 1 = 2\n",
            "Say something (\"exit\" to quit, \"reset\" to clear history): what is 1+1=?\n",
            "Chatbot: 2\n",
            "Say something (\"exit\" to quit, \"reset\" to clear history): w iaht s 4*5/2+4=?\n",
            "Chatbot: 20\n",
            "Say something (\"exit\" to quit, \"reset\" to clear history): what is 4*5/2+4=? \n",
            "Chatbot: 20\n",
            "Say something (\"exit\" to quit, \"reset\" to clear history): 4*5/2=?\n",
            "Chatbot: 10\n",
            "Say something (\"exit\" to quit, \"reset\" to clear history): exit\n"
          ]
        }
      ]
    },
    {
      "cell_type": "code",
      "source": [
        "\n",
        "chat()\n"
      ],
      "metadata": {
        "colab": {
          "base_uri": "https://localhost:8080/"
        },
        "id": "kk_1SiUPlBAj",
        "outputId": "e995314d-7156-4a0b-ed27-2d13928d2088"
      },
      "execution_count": 18,
      "outputs": [
        {
          "name": "stdout",
          "output_type": "stream",
          "text": [
            "Say something (\"exit\" to quit, \"reset\" to clear history): I have a riddle and you should guess the word, are you ready?\n",
            "Chatbot: (smiling) I'm ready.\n",
            "Say something (\"exit\" to quit, \"reset\" to clear history): It is an animal.\n",
            "Chatbot: Very accurate! The answer is cat.\n",
            "Say something (\"exit\" to quit, \"reset\" to clear history): It usually lives in Africa.\n",
            "Chatbot: Yes, that's correct! The answer is antelope.\n",
            "Say something (\"exit\" to quit, \"reset\" to clear history): It has white and black stripes.\n",
            "Chatbot: Very good! The answer is zebra.\n",
            "Say something (\"exit\" to quit, \"reset\" to clear history): bravo\n",
            "Chatbot: (smiling) Bravo! That's the answer. The answer is dog.\n",
            "Say something (\"exit\" to quit, \"reset\" to clear history): exit\n"
          ]
        }
      ]
    },
    {
      "cell_type": "code",
      "source": [],
      "metadata": {
        "id": "zomqg65vHmNQ"
      },
      "execution_count": null,
      "outputs": []
    }
  ]
}