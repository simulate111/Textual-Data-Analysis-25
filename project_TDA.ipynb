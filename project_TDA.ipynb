{
  "nbformat": 4,
  "nbformat_minor": 0,
  "metadata": {
    "colab": {
      "provenance": [],
      "name": "project_TDA.ipynb",
      "gpuType": "T4",
      "include_colab_link": true
    },
    "kernelspec": {
      "name": "python3",
      "display_name": "Python 3"
    },
    "language_info": {
      "name": "python"
    },
    "accelerator": "GPU",
    "widgets": {
      "application/vnd.jupyter.widget-state+json": {
        "ae1ae56a3d29429b89d6647260e5e77e": {
          "model_module": "@jupyter-widgets/controls",
          "model_name": "HBoxModel",
          "model_module_version": "1.5.0",
          "state": {
            "_dom_classes": [],
            "_model_module": "@jupyter-widgets/controls",
            "_model_module_version": "1.5.0",
            "_model_name": "HBoxModel",
            "_view_count": null,
            "_view_module": "@jupyter-widgets/controls",
            "_view_module_version": "1.5.0",
            "_view_name": "HBoxView",
            "box_style": "",
            "children": [
              "IPY_MODEL_a859889182b7409eaf58bffe91da6596",
              "IPY_MODEL_dee9d538eba240439c0036b553611721",
              "IPY_MODEL_a1a8e32e528147fc911117cd9cc3964d"
            ],
            "layout": "IPY_MODEL_3996426d99d54ac99a653a7360eb3e87"
          }
        },
        "a859889182b7409eaf58bffe91da6596": {
          "model_module": "@jupyter-widgets/controls",
          "model_name": "HTMLModel",
          "model_module_version": "1.5.0",
          "state": {
            "_dom_classes": [],
            "_model_module": "@jupyter-widgets/controls",
            "_model_module_version": "1.5.0",
            "_model_name": "HTMLModel",
            "_view_count": null,
            "_view_module": "@jupyter-widgets/controls",
            "_view_module_version": "1.5.0",
            "_view_name": "HTMLView",
            "description": "",
            "description_tooltip": null,
            "layout": "IPY_MODEL_d63daf5bc341473fa50071ad9d09c0d2",
            "placeholder": "​",
            "style": "IPY_MODEL_be8aee5667b8466fbe27bf318c9f58d7",
            "value": "Saving the dataset (1/1 shards): 100%"
          }
        },
        "dee9d538eba240439c0036b553611721": {
          "model_module": "@jupyter-widgets/controls",
          "model_name": "FloatProgressModel",
          "model_module_version": "1.5.0",
          "state": {
            "_dom_classes": [],
            "_model_module": "@jupyter-widgets/controls",
            "_model_module_version": "1.5.0",
            "_model_name": "FloatProgressModel",
            "_view_count": null,
            "_view_module": "@jupyter-widgets/controls",
            "_view_module_version": "1.5.0",
            "_view_name": "ProgressView",
            "bar_style": "success",
            "description": "",
            "description_tooltip": null,
            "layout": "IPY_MODEL_266bd0eeb88d4c6bb224caf917adef4e",
            "max": 2515,
            "min": 0,
            "orientation": "horizontal",
            "style": "IPY_MODEL_1568a306c7f7448bbfd3e289fd2c2bbb",
            "value": 2515
          }
        },
        "a1a8e32e528147fc911117cd9cc3964d": {
          "model_module": "@jupyter-widgets/controls",
          "model_name": "HTMLModel",
          "model_module_version": "1.5.0",
          "state": {
            "_dom_classes": [],
            "_model_module": "@jupyter-widgets/controls",
            "_model_module_version": "1.5.0",
            "_model_name": "HTMLModel",
            "_view_count": null,
            "_view_module": "@jupyter-widgets/controls",
            "_view_module_version": "1.5.0",
            "_view_name": "HTMLView",
            "description": "",
            "description_tooltip": null,
            "layout": "IPY_MODEL_32870465e79d419bbbe12fb10c0710cb",
            "placeholder": "​",
            "style": "IPY_MODEL_4396aef6c2e24cdd9109b5bf44ec2abb",
            "value": " 2515/2515 [00:00&lt;00:00, 35180.31 examples/s]"
          }
        },
        "3996426d99d54ac99a653a7360eb3e87": {
          "model_module": "@jupyter-widgets/base",
          "model_name": "LayoutModel",
          "model_module_version": "1.2.0",
          "state": {
            "_model_module": "@jupyter-widgets/base",
            "_model_module_version": "1.2.0",
            "_model_name": "LayoutModel",
            "_view_count": null,
            "_view_module": "@jupyter-widgets/base",
            "_view_module_version": "1.2.0",
            "_view_name": "LayoutView",
            "align_content": null,
            "align_items": null,
            "align_self": null,
            "border": null,
            "bottom": null,
            "display": null,
            "flex": null,
            "flex_flow": null,
            "grid_area": null,
            "grid_auto_columns": null,
            "grid_auto_flow": null,
            "grid_auto_rows": null,
            "grid_column": null,
            "grid_gap": null,
            "grid_row": null,
            "grid_template_areas": null,
            "grid_template_columns": null,
            "grid_template_rows": null,
            "height": null,
            "justify_content": null,
            "justify_items": null,
            "left": null,
            "margin": null,
            "max_height": null,
            "max_width": null,
            "min_height": null,
            "min_width": null,
            "object_fit": null,
            "object_position": null,
            "order": null,
            "overflow": null,
            "overflow_x": null,
            "overflow_y": null,
            "padding": null,
            "right": null,
            "top": null,
            "visibility": null,
            "width": null
          }
        },
        "d63daf5bc341473fa50071ad9d09c0d2": {
          "model_module": "@jupyter-widgets/base",
          "model_name": "LayoutModel",
          "model_module_version": "1.2.0",
          "state": {
            "_model_module": "@jupyter-widgets/base",
            "_model_module_version": "1.2.0",
            "_model_name": "LayoutModel",
            "_view_count": null,
            "_view_module": "@jupyter-widgets/base",
            "_view_module_version": "1.2.0",
            "_view_name": "LayoutView",
            "align_content": null,
            "align_items": null,
            "align_self": null,
            "border": null,
            "bottom": null,
            "display": null,
            "flex": null,
            "flex_flow": null,
            "grid_area": null,
            "grid_auto_columns": null,
            "grid_auto_flow": null,
            "grid_auto_rows": null,
            "grid_column": null,
            "grid_gap": null,
            "grid_row": null,
            "grid_template_areas": null,
            "grid_template_columns": null,
            "grid_template_rows": null,
            "height": null,
            "justify_content": null,
            "justify_items": null,
            "left": null,
            "margin": null,
            "max_height": null,
            "max_width": null,
            "min_height": null,
            "min_width": null,
            "object_fit": null,
            "object_position": null,
            "order": null,
            "overflow": null,
            "overflow_x": null,
            "overflow_y": null,
            "padding": null,
            "right": null,
            "top": null,
            "visibility": null,
            "width": null
          }
        },
        "be8aee5667b8466fbe27bf318c9f58d7": {
          "model_module": "@jupyter-widgets/controls",
          "model_name": "DescriptionStyleModel",
          "model_module_version": "1.5.0",
          "state": {
            "_model_module": "@jupyter-widgets/controls",
            "_model_module_version": "1.5.0",
            "_model_name": "DescriptionStyleModel",
            "_view_count": null,
            "_view_module": "@jupyter-widgets/base",
            "_view_module_version": "1.2.0",
            "_view_name": "StyleView",
            "description_width": ""
          }
        },
        "266bd0eeb88d4c6bb224caf917adef4e": {
          "model_module": "@jupyter-widgets/base",
          "model_name": "LayoutModel",
          "model_module_version": "1.2.0",
          "state": {
            "_model_module": "@jupyter-widgets/base",
            "_model_module_version": "1.2.0",
            "_model_name": "LayoutModel",
            "_view_count": null,
            "_view_module": "@jupyter-widgets/base",
            "_view_module_version": "1.2.0",
            "_view_name": "LayoutView",
            "align_content": null,
            "align_items": null,
            "align_self": null,
            "border": null,
            "bottom": null,
            "display": null,
            "flex": null,
            "flex_flow": null,
            "grid_area": null,
            "grid_auto_columns": null,
            "grid_auto_flow": null,
            "grid_auto_rows": null,
            "grid_column": null,
            "grid_gap": null,
            "grid_row": null,
            "grid_template_areas": null,
            "grid_template_columns": null,
            "grid_template_rows": null,
            "height": null,
            "justify_content": null,
            "justify_items": null,
            "left": null,
            "margin": null,
            "max_height": null,
            "max_width": null,
            "min_height": null,
            "min_width": null,
            "object_fit": null,
            "object_position": null,
            "order": null,
            "overflow": null,
            "overflow_x": null,
            "overflow_y": null,
            "padding": null,
            "right": null,
            "top": null,
            "visibility": null,
            "width": null
          }
        },
        "1568a306c7f7448bbfd3e289fd2c2bbb": {
          "model_module": "@jupyter-widgets/controls",
          "model_name": "ProgressStyleModel",
          "model_module_version": "1.5.0",
          "state": {
            "_model_module": "@jupyter-widgets/controls",
            "_model_module_version": "1.5.0",
            "_model_name": "ProgressStyleModel",
            "_view_count": null,
            "_view_module": "@jupyter-widgets/base",
            "_view_module_version": "1.2.0",
            "_view_name": "StyleView",
            "bar_color": null,
            "description_width": ""
          }
        },
        "32870465e79d419bbbe12fb10c0710cb": {
          "model_module": "@jupyter-widgets/base",
          "model_name": "LayoutModel",
          "model_module_version": "1.2.0",
          "state": {
            "_model_module": "@jupyter-widgets/base",
            "_model_module_version": "1.2.0",
            "_model_name": "LayoutModel",
            "_view_count": null,
            "_view_module": "@jupyter-widgets/base",
            "_view_module_version": "1.2.0",
            "_view_name": "LayoutView",
            "align_content": null,
            "align_items": null,
            "align_self": null,
            "border": null,
            "bottom": null,
            "display": null,
            "flex": null,
            "flex_flow": null,
            "grid_area": null,
            "grid_auto_columns": null,
            "grid_auto_flow": null,
            "grid_auto_rows": null,
            "grid_column": null,
            "grid_gap": null,
            "grid_row": null,
            "grid_template_areas": null,
            "grid_template_columns": null,
            "grid_template_rows": null,
            "height": null,
            "justify_content": null,
            "justify_items": null,
            "left": null,
            "margin": null,
            "max_height": null,
            "max_width": null,
            "min_height": null,
            "min_width": null,
            "object_fit": null,
            "object_position": null,
            "order": null,
            "overflow": null,
            "overflow_x": null,
            "overflow_y": null,
            "padding": null,
            "right": null,
            "top": null,
            "visibility": null,
            "width": null
          }
        },
        "4396aef6c2e24cdd9109b5bf44ec2abb": {
          "model_module": "@jupyter-widgets/controls",
          "model_name": "DescriptionStyleModel",
          "model_module_version": "1.5.0",
          "state": {
            "_model_module": "@jupyter-widgets/controls",
            "_model_module_version": "1.5.0",
            "_model_name": "DescriptionStyleModel",
            "_view_count": null,
            "_view_module": "@jupyter-widgets/base",
            "_view_module_version": "1.2.0",
            "_view_name": "StyleView",
            "description_width": ""
          }
        },
        "3efd27cb822343b0890a084ba7d7c738": {
          "model_module": "@jupyter-widgets/controls",
          "model_name": "HBoxModel",
          "model_module_version": "1.5.0",
          "state": {
            "_dom_classes": [],
            "_model_module": "@jupyter-widgets/controls",
            "_model_module_version": "1.5.0",
            "_model_name": "HBoxModel",
            "_view_count": null,
            "_view_module": "@jupyter-widgets/controls",
            "_view_module_version": "1.5.0",
            "_view_name": "HBoxView",
            "box_style": "",
            "children": [
              "IPY_MODEL_40a73e30debc492eb3396d803658c481",
              "IPY_MODEL_b297348af4d04720b65e3603b3868e12",
              "IPY_MODEL_4024c49a2dce4b6591663a0d04bc3e05"
            ],
            "layout": "IPY_MODEL_c65d60cc83014a329a5ababbd44ff75a"
          }
        },
        "40a73e30debc492eb3396d803658c481": {
          "model_module": "@jupyter-widgets/controls",
          "model_name": "HTMLModel",
          "model_module_version": "1.5.0",
          "state": {
            "_dom_classes": [],
            "_model_module": "@jupyter-widgets/controls",
            "_model_module_version": "1.5.0",
            "_model_name": "HTMLModel",
            "_view_count": null,
            "_view_module": "@jupyter-widgets/controls",
            "_view_module_version": "1.5.0",
            "_view_name": "HTMLView",
            "description": "",
            "description_tooltip": null,
            "layout": "IPY_MODEL_ca64e76fbe9c4490ac62aac4d7303f26",
            "placeholder": "​",
            "style": "IPY_MODEL_bfc118170aa24ad194474d79f8bea85c",
            "value": "Map: 100%"
          }
        },
        "b297348af4d04720b65e3603b3868e12": {
          "model_module": "@jupyter-widgets/controls",
          "model_name": "FloatProgressModel",
          "model_module_version": "1.5.0",
          "state": {
            "_dom_classes": [],
            "_model_module": "@jupyter-widgets/controls",
            "_model_module_version": "1.5.0",
            "_model_name": "FloatProgressModel",
            "_view_count": null,
            "_view_module": "@jupyter-widgets/controls",
            "_view_module_version": "1.5.0",
            "_view_name": "ProgressView",
            "bar_style": "success",
            "description": "",
            "description_tooltip": null,
            "layout": "IPY_MODEL_2671f6831c3648389eeab8d277072f7d",
            "max": 2515,
            "min": 0,
            "orientation": "horizontal",
            "style": "IPY_MODEL_e15e04f5d21c46d4b32aec0a26c1fd12",
            "value": 2515
          }
        },
        "4024c49a2dce4b6591663a0d04bc3e05": {
          "model_module": "@jupyter-widgets/controls",
          "model_name": "HTMLModel",
          "model_module_version": "1.5.0",
          "state": {
            "_dom_classes": [],
            "_model_module": "@jupyter-widgets/controls",
            "_model_module_version": "1.5.0",
            "_model_name": "HTMLModel",
            "_view_count": null,
            "_view_module": "@jupyter-widgets/controls",
            "_view_module_version": "1.5.0",
            "_view_name": "HTMLView",
            "description": "",
            "description_tooltip": null,
            "layout": "IPY_MODEL_f825205a19fd488ea3560152fdf6f4b2",
            "placeholder": "​",
            "style": "IPY_MODEL_eee5aed3c27b414792d62233aeacc050",
            "value": " 2515/2515 [00:00&lt;00:00, 3614.69 examples/s]"
          }
        },
        "c65d60cc83014a329a5ababbd44ff75a": {
          "model_module": "@jupyter-widgets/base",
          "model_name": "LayoutModel",
          "model_module_version": "1.2.0",
          "state": {
            "_model_module": "@jupyter-widgets/base",
            "_model_module_version": "1.2.0",
            "_model_name": "LayoutModel",
            "_view_count": null,
            "_view_module": "@jupyter-widgets/base",
            "_view_module_version": "1.2.0",
            "_view_name": "LayoutView",
            "align_content": null,
            "align_items": null,
            "align_self": null,
            "border": null,
            "bottom": null,
            "display": null,
            "flex": null,
            "flex_flow": null,
            "grid_area": null,
            "grid_auto_columns": null,
            "grid_auto_flow": null,
            "grid_auto_rows": null,
            "grid_column": null,
            "grid_gap": null,
            "grid_row": null,
            "grid_template_areas": null,
            "grid_template_columns": null,
            "grid_template_rows": null,
            "height": null,
            "justify_content": null,
            "justify_items": null,
            "left": null,
            "margin": null,
            "max_height": null,
            "max_width": null,
            "min_height": null,
            "min_width": null,
            "object_fit": null,
            "object_position": null,
            "order": null,
            "overflow": null,
            "overflow_x": null,
            "overflow_y": null,
            "padding": null,
            "right": null,
            "top": null,
            "visibility": null,
            "width": null
          }
        },
        "ca64e76fbe9c4490ac62aac4d7303f26": {
          "model_module": "@jupyter-widgets/base",
          "model_name": "LayoutModel",
          "model_module_version": "1.2.0",
          "state": {
            "_model_module": "@jupyter-widgets/base",
            "_model_module_version": "1.2.0",
            "_model_name": "LayoutModel",
            "_view_count": null,
            "_view_module": "@jupyter-widgets/base",
            "_view_module_version": "1.2.0",
            "_view_name": "LayoutView",
            "align_content": null,
            "align_items": null,
            "align_self": null,
            "border": null,
            "bottom": null,
            "display": null,
            "flex": null,
            "flex_flow": null,
            "grid_area": null,
            "grid_auto_columns": null,
            "grid_auto_flow": null,
            "grid_auto_rows": null,
            "grid_column": null,
            "grid_gap": null,
            "grid_row": null,
            "grid_template_areas": null,
            "grid_template_columns": null,
            "grid_template_rows": null,
            "height": null,
            "justify_content": null,
            "justify_items": null,
            "left": null,
            "margin": null,
            "max_height": null,
            "max_width": null,
            "min_height": null,
            "min_width": null,
            "object_fit": null,
            "object_position": null,
            "order": null,
            "overflow": null,
            "overflow_x": null,
            "overflow_y": null,
            "padding": null,
            "right": null,
            "top": null,
            "visibility": null,
            "width": null
          }
        },
        "bfc118170aa24ad194474d79f8bea85c": {
          "model_module": "@jupyter-widgets/controls",
          "model_name": "DescriptionStyleModel",
          "model_module_version": "1.5.0",
          "state": {
            "_model_module": "@jupyter-widgets/controls",
            "_model_module_version": "1.5.0",
            "_model_name": "DescriptionStyleModel",
            "_view_count": null,
            "_view_module": "@jupyter-widgets/base",
            "_view_module_version": "1.2.0",
            "_view_name": "StyleView",
            "description_width": ""
          }
        },
        "2671f6831c3648389eeab8d277072f7d": {
          "model_module": "@jupyter-widgets/base",
          "model_name": "LayoutModel",
          "model_module_version": "1.2.0",
          "state": {
            "_model_module": "@jupyter-widgets/base",
            "_model_module_version": "1.2.0",
            "_model_name": "LayoutModel",
            "_view_count": null,
            "_view_module": "@jupyter-widgets/base",
            "_view_module_version": "1.2.0",
            "_view_name": "LayoutView",
            "align_content": null,
            "align_items": null,
            "align_self": null,
            "border": null,
            "bottom": null,
            "display": null,
            "flex": null,
            "flex_flow": null,
            "grid_area": null,
            "grid_auto_columns": null,
            "grid_auto_flow": null,
            "grid_auto_rows": null,
            "grid_column": null,
            "grid_gap": null,
            "grid_row": null,
            "grid_template_areas": null,
            "grid_template_columns": null,
            "grid_template_rows": null,
            "height": null,
            "justify_content": null,
            "justify_items": null,
            "left": null,
            "margin": null,
            "max_height": null,
            "max_width": null,
            "min_height": null,
            "min_width": null,
            "object_fit": null,
            "object_position": null,
            "order": null,
            "overflow": null,
            "overflow_x": null,
            "overflow_y": null,
            "padding": null,
            "right": null,
            "top": null,
            "visibility": null,
            "width": null
          }
        },
        "e15e04f5d21c46d4b32aec0a26c1fd12": {
          "model_module": "@jupyter-widgets/controls",
          "model_name": "ProgressStyleModel",
          "model_module_version": "1.5.0",
          "state": {
            "_model_module": "@jupyter-widgets/controls",
            "_model_module_version": "1.5.0",
            "_model_name": "ProgressStyleModel",
            "_view_count": null,
            "_view_module": "@jupyter-widgets/base",
            "_view_module_version": "1.2.0",
            "_view_name": "StyleView",
            "bar_color": null,
            "description_width": ""
          }
        },
        "f825205a19fd488ea3560152fdf6f4b2": {
          "model_module": "@jupyter-widgets/base",
          "model_name": "LayoutModel",
          "model_module_version": "1.2.0",
          "state": {
            "_model_module": "@jupyter-widgets/base",
            "_model_module_version": "1.2.0",
            "_model_name": "LayoutModel",
            "_view_count": null,
            "_view_module": "@jupyter-widgets/base",
            "_view_module_version": "1.2.0",
            "_view_name": "LayoutView",
            "align_content": null,
            "align_items": null,
            "align_self": null,
            "border": null,
            "bottom": null,
            "display": null,
            "flex": null,
            "flex_flow": null,
            "grid_area": null,
            "grid_auto_columns": null,
            "grid_auto_flow": null,
            "grid_auto_rows": null,
            "grid_column": null,
            "grid_gap": null,
            "grid_row": null,
            "grid_template_areas": null,
            "grid_template_columns": null,
            "grid_template_rows": null,
            "height": null,
            "justify_content": null,
            "justify_items": null,
            "left": null,
            "margin": null,
            "max_height": null,
            "max_width": null,
            "min_height": null,
            "min_width": null,
            "object_fit": null,
            "object_position": null,
            "order": null,
            "overflow": null,
            "overflow_x": null,
            "overflow_y": null,
            "padding": null,
            "right": null,
            "top": null,
            "visibility": null,
            "width": null
          }
        },
        "eee5aed3c27b414792d62233aeacc050": {
          "model_module": "@jupyter-widgets/controls",
          "model_name": "DescriptionStyleModel",
          "model_module_version": "1.5.0",
          "state": {
            "_model_module": "@jupyter-widgets/controls",
            "_model_module_version": "1.5.0",
            "_model_name": "DescriptionStyleModel",
            "_view_count": null,
            "_view_module": "@jupyter-widgets/base",
            "_view_module_version": "1.2.0",
            "_view_name": "StyleView",
            "description_width": ""
          }
        },
        "cf3bebb60af7465193d31ce55917454e": {
          "model_module": "@jupyter-widgets/controls",
          "model_name": "HBoxModel",
          "model_module_version": "1.5.0",
          "state": {
            "_dom_classes": [],
            "_model_module": "@jupyter-widgets/controls",
            "_model_module_version": "1.5.0",
            "_model_name": "HBoxModel",
            "_view_count": null,
            "_view_module": "@jupyter-widgets/controls",
            "_view_module_version": "1.5.0",
            "_view_name": "HBoxView",
            "box_style": "",
            "children": [
              "IPY_MODEL_90c450aeb8bb4ce2a14aae1a004ee9d1",
              "IPY_MODEL_fdec6688dd5d4f818b2aff6751d731b1",
              "IPY_MODEL_6e43d9f262d54506974c8195b671daa9"
            ],
            "layout": "IPY_MODEL_889062b945254f10a86ee42b3c33bd12"
          }
        },
        "90c450aeb8bb4ce2a14aae1a004ee9d1": {
          "model_module": "@jupyter-widgets/controls",
          "model_name": "HTMLModel",
          "model_module_version": "1.5.0",
          "state": {
            "_dom_classes": [],
            "_model_module": "@jupyter-widgets/controls",
            "_model_module_version": "1.5.0",
            "_model_name": "HTMLModel",
            "_view_count": null,
            "_view_module": "@jupyter-widgets/controls",
            "_view_module_version": "1.5.0",
            "_view_name": "HTMLView",
            "description": "",
            "description_tooltip": null,
            "layout": "IPY_MODEL_b4e644ed25c04d0aa266943a1372bd75",
            "placeholder": "​",
            "style": "IPY_MODEL_94f7a664b4154e2fa88bf1f16b674b3e",
            "value": "Map: 100%"
          }
        },
        "fdec6688dd5d4f818b2aff6751d731b1": {
          "model_module": "@jupyter-widgets/controls",
          "model_name": "FloatProgressModel",
          "model_module_version": "1.5.0",
          "state": {
            "_dom_classes": [],
            "_model_module": "@jupyter-widgets/controls",
            "_model_module_version": "1.5.0",
            "_model_name": "FloatProgressModel",
            "_view_count": null,
            "_view_module": "@jupyter-widgets/controls",
            "_view_module_version": "1.5.0",
            "_view_name": "ProgressView",
            "bar_style": "success",
            "description": "",
            "description_tooltip": null,
            "layout": "IPY_MODEL_adf343f296d747e286e7c455dcfe6991",
            "max": 2012,
            "min": 0,
            "orientation": "horizontal",
            "style": "IPY_MODEL_6608a6cd15bc40248b662beff40d15a3",
            "value": 2012
          }
        },
        "6e43d9f262d54506974c8195b671daa9": {
          "model_module": "@jupyter-widgets/controls",
          "model_name": "HTMLModel",
          "model_module_version": "1.5.0",
          "state": {
            "_dom_classes": [],
            "_model_module": "@jupyter-widgets/controls",
            "_model_module_version": "1.5.0",
            "_model_name": "HTMLModel",
            "_view_count": null,
            "_view_module": "@jupyter-widgets/controls",
            "_view_module_version": "1.5.0",
            "_view_name": "HTMLView",
            "description": "",
            "description_tooltip": null,
            "layout": "IPY_MODEL_acaa9a98956f4f2d86355e7e549e9db2",
            "placeholder": "​",
            "style": "IPY_MODEL_984648eaec5a40bfb21ec8438ed0b159",
            "value": " 2012/2012 [00:08&lt;00:00, 250.47 examples/s]"
          }
        },
        "889062b945254f10a86ee42b3c33bd12": {
          "model_module": "@jupyter-widgets/base",
          "model_name": "LayoutModel",
          "model_module_version": "1.2.0",
          "state": {
            "_model_module": "@jupyter-widgets/base",
            "_model_module_version": "1.2.0",
            "_model_name": "LayoutModel",
            "_view_count": null,
            "_view_module": "@jupyter-widgets/base",
            "_view_module_version": "1.2.0",
            "_view_name": "LayoutView",
            "align_content": null,
            "align_items": null,
            "align_self": null,
            "border": null,
            "bottom": null,
            "display": null,
            "flex": null,
            "flex_flow": null,
            "grid_area": null,
            "grid_auto_columns": null,
            "grid_auto_flow": null,
            "grid_auto_rows": null,
            "grid_column": null,
            "grid_gap": null,
            "grid_row": null,
            "grid_template_areas": null,
            "grid_template_columns": null,
            "grid_template_rows": null,
            "height": null,
            "justify_content": null,
            "justify_items": null,
            "left": null,
            "margin": null,
            "max_height": null,
            "max_width": null,
            "min_height": null,
            "min_width": null,
            "object_fit": null,
            "object_position": null,
            "order": null,
            "overflow": null,
            "overflow_x": null,
            "overflow_y": null,
            "padding": null,
            "right": null,
            "top": null,
            "visibility": null,
            "width": null
          }
        },
        "b4e644ed25c04d0aa266943a1372bd75": {
          "model_module": "@jupyter-widgets/base",
          "model_name": "LayoutModel",
          "model_module_version": "1.2.0",
          "state": {
            "_model_module": "@jupyter-widgets/base",
            "_model_module_version": "1.2.0",
            "_model_name": "LayoutModel",
            "_view_count": null,
            "_view_module": "@jupyter-widgets/base",
            "_view_module_version": "1.2.0",
            "_view_name": "LayoutView",
            "align_content": null,
            "align_items": null,
            "align_self": null,
            "border": null,
            "bottom": null,
            "display": null,
            "flex": null,
            "flex_flow": null,
            "grid_area": null,
            "grid_auto_columns": null,
            "grid_auto_flow": null,
            "grid_auto_rows": null,
            "grid_column": null,
            "grid_gap": null,
            "grid_row": null,
            "grid_template_areas": null,
            "grid_template_columns": null,
            "grid_template_rows": null,
            "height": null,
            "justify_content": null,
            "justify_items": null,
            "left": null,
            "margin": null,
            "max_height": null,
            "max_width": null,
            "min_height": null,
            "min_width": null,
            "object_fit": null,
            "object_position": null,
            "order": null,
            "overflow": null,
            "overflow_x": null,
            "overflow_y": null,
            "padding": null,
            "right": null,
            "top": null,
            "visibility": null,
            "width": null
          }
        },
        "94f7a664b4154e2fa88bf1f16b674b3e": {
          "model_module": "@jupyter-widgets/controls",
          "model_name": "DescriptionStyleModel",
          "model_module_version": "1.5.0",
          "state": {
            "_model_module": "@jupyter-widgets/controls",
            "_model_module_version": "1.5.0",
            "_model_name": "DescriptionStyleModel",
            "_view_count": null,
            "_view_module": "@jupyter-widgets/base",
            "_view_module_version": "1.2.0",
            "_view_name": "StyleView",
            "description_width": ""
          }
        },
        "adf343f296d747e286e7c455dcfe6991": {
          "model_module": "@jupyter-widgets/base",
          "model_name": "LayoutModel",
          "model_module_version": "1.2.0",
          "state": {
            "_model_module": "@jupyter-widgets/base",
            "_model_module_version": "1.2.0",
            "_model_name": "LayoutModel",
            "_view_count": null,
            "_view_module": "@jupyter-widgets/base",
            "_view_module_version": "1.2.0",
            "_view_name": "LayoutView",
            "align_content": null,
            "align_items": null,
            "align_self": null,
            "border": null,
            "bottom": null,
            "display": null,
            "flex": null,
            "flex_flow": null,
            "grid_area": null,
            "grid_auto_columns": null,
            "grid_auto_flow": null,
            "grid_auto_rows": null,
            "grid_column": null,
            "grid_gap": null,
            "grid_row": null,
            "grid_template_areas": null,
            "grid_template_columns": null,
            "grid_template_rows": null,
            "height": null,
            "justify_content": null,
            "justify_items": null,
            "left": null,
            "margin": null,
            "max_height": null,
            "max_width": null,
            "min_height": null,
            "min_width": null,
            "object_fit": null,
            "object_position": null,
            "order": null,
            "overflow": null,
            "overflow_x": null,
            "overflow_y": null,
            "padding": null,
            "right": null,
            "top": null,
            "visibility": null,
            "width": null
          }
        },
        "6608a6cd15bc40248b662beff40d15a3": {
          "model_module": "@jupyter-widgets/controls",
          "model_name": "ProgressStyleModel",
          "model_module_version": "1.5.0",
          "state": {
            "_model_module": "@jupyter-widgets/controls",
            "_model_module_version": "1.5.0",
            "_model_name": "ProgressStyleModel",
            "_view_count": null,
            "_view_module": "@jupyter-widgets/base",
            "_view_module_version": "1.2.0",
            "_view_name": "StyleView",
            "bar_color": null,
            "description_width": ""
          }
        },
        "acaa9a98956f4f2d86355e7e549e9db2": {
          "model_module": "@jupyter-widgets/base",
          "model_name": "LayoutModel",
          "model_module_version": "1.2.0",
          "state": {
            "_model_module": "@jupyter-widgets/base",
            "_model_module_version": "1.2.0",
            "_model_name": "LayoutModel",
            "_view_count": null,
            "_view_module": "@jupyter-widgets/base",
            "_view_module_version": "1.2.0",
            "_view_name": "LayoutView",
            "align_content": null,
            "align_items": null,
            "align_self": null,
            "border": null,
            "bottom": null,
            "display": null,
            "flex": null,
            "flex_flow": null,
            "grid_area": null,
            "grid_auto_columns": null,
            "grid_auto_flow": null,
            "grid_auto_rows": null,
            "grid_column": null,
            "grid_gap": null,
            "grid_row": null,
            "grid_template_areas": null,
            "grid_template_columns": null,
            "grid_template_rows": null,
            "height": null,
            "justify_content": null,
            "justify_items": null,
            "left": null,
            "margin": null,
            "max_height": null,
            "max_width": null,
            "min_height": null,
            "min_width": null,
            "object_fit": null,
            "object_position": null,
            "order": null,
            "overflow": null,
            "overflow_x": null,
            "overflow_y": null,
            "padding": null,
            "right": null,
            "top": null,
            "visibility": null,
            "width": null
          }
        },
        "984648eaec5a40bfb21ec8438ed0b159": {
          "model_module": "@jupyter-widgets/controls",
          "model_name": "DescriptionStyleModel",
          "model_module_version": "1.5.0",
          "state": {
            "_model_module": "@jupyter-widgets/controls",
            "_model_module_version": "1.5.0",
            "_model_name": "DescriptionStyleModel",
            "_view_count": null,
            "_view_module": "@jupyter-widgets/base",
            "_view_module_version": "1.2.0",
            "_view_name": "StyleView",
            "description_width": ""
          }
        },
        "043b827ac18848359c51047b4bac493a": {
          "model_module": "@jupyter-widgets/controls",
          "model_name": "HBoxModel",
          "model_module_version": "1.5.0",
          "state": {
            "_dom_classes": [],
            "_model_module": "@jupyter-widgets/controls",
            "_model_module_version": "1.5.0",
            "_model_name": "HBoxModel",
            "_view_count": null,
            "_view_module": "@jupyter-widgets/controls",
            "_view_module_version": "1.5.0",
            "_view_name": "HBoxView",
            "box_style": "",
            "children": [
              "IPY_MODEL_78de785d859c4cd1b2589c4b95f75b7f",
              "IPY_MODEL_4fed2087919d4b0290323947ad3f0133",
              "IPY_MODEL_795749c8e829465a962da7902e92910a"
            ],
            "layout": "IPY_MODEL_e99cd4be68f64afbaf44b9e0571b80fb"
          }
        },
        "78de785d859c4cd1b2589c4b95f75b7f": {
          "model_module": "@jupyter-widgets/controls",
          "model_name": "HTMLModel",
          "model_module_version": "1.5.0",
          "state": {
            "_dom_classes": [],
            "_model_module": "@jupyter-widgets/controls",
            "_model_module_version": "1.5.0",
            "_model_name": "HTMLModel",
            "_view_count": null,
            "_view_module": "@jupyter-widgets/controls",
            "_view_module_version": "1.5.0",
            "_view_name": "HTMLView",
            "description": "",
            "description_tooltip": null,
            "layout": "IPY_MODEL_91febfad272d49b28208d3a989bb1b02",
            "placeholder": "​",
            "style": "IPY_MODEL_9de2f0dd478d47c0910cb2fd87a7f091",
            "value": "Map: 100%"
          }
        },
        "4fed2087919d4b0290323947ad3f0133": {
          "model_module": "@jupyter-widgets/controls",
          "model_name": "FloatProgressModel",
          "model_module_version": "1.5.0",
          "state": {
            "_dom_classes": [],
            "_model_module": "@jupyter-widgets/controls",
            "_model_module_version": "1.5.0",
            "_model_name": "FloatProgressModel",
            "_view_count": null,
            "_view_module": "@jupyter-widgets/controls",
            "_view_module_version": "1.5.0",
            "_view_name": "ProgressView",
            "bar_style": "success",
            "description": "",
            "description_tooltip": null,
            "layout": "IPY_MODEL_6731ee0ee5fb45509d184a3c4870815a",
            "max": 503,
            "min": 0,
            "orientation": "horizontal",
            "style": "IPY_MODEL_0a7dc890227b4134aa10cdf8d4619db9",
            "value": 503
          }
        },
        "795749c8e829465a962da7902e92910a": {
          "model_module": "@jupyter-widgets/controls",
          "model_name": "HTMLModel",
          "model_module_version": "1.5.0",
          "state": {
            "_dom_classes": [],
            "_model_module": "@jupyter-widgets/controls",
            "_model_module_version": "1.5.0",
            "_model_name": "HTMLModel",
            "_view_count": null,
            "_view_module": "@jupyter-widgets/controls",
            "_view_module_version": "1.5.0",
            "_view_name": "HTMLView",
            "description": "",
            "description_tooltip": null,
            "layout": "IPY_MODEL_913d69c0b419401a9bc79e3c38f8e65f",
            "placeholder": "​",
            "style": "IPY_MODEL_7ef7a7c10d324024bc530bb38b8bca7a",
            "value": " 503/503 [00:01&lt;00:00, 342.58 examples/s]"
          }
        },
        "e99cd4be68f64afbaf44b9e0571b80fb": {
          "model_module": "@jupyter-widgets/base",
          "model_name": "LayoutModel",
          "model_module_version": "1.2.0",
          "state": {
            "_model_module": "@jupyter-widgets/base",
            "_model_module_version": "1.2.0",
            "_model_name": "LayoutModel",
            "_view_count": null,
            "_view_module": "@jupyter-widgets/base",
            "_view_module_version": "1.2.0",
            "_view_name": "LayoutView",
            "align_content": null,
            "align_items": null,
            "align_self": null,
            "border": null,
            "bottom": null,
            "display": null,
            "flex": null,
            "flex_flow": null,
            "grid_area": null,
            "grid_auto_columns": null,
            "grid_auto_flow": null,
            "grid_auto_rows": null,
            "grid_column": null,
            "grid_gap": null,
            "grid_row": null,
            "grid_template_areas": null,
            "grid_template_columns": null,
            "grid_template_rows": null,
            "height": null,
            "justify_content": null,
            "justify_items": null,
            "left": null,
            "margin": null,
            "max_height": null,
            "max_width": null,
            "min_height": null,
            "min_width": null,
            "object_fit": null,
            "object_position": null,
            "order": null,
            "overflow": null,
            "overflow_x": null,
            "overflow_y": null,
            "padding": null,
            "right": null,
            "top": null,
            "visibility": null,
            "width": null
          }
        },
        "91febfad272d49b28208d3a989bb1b02": {
          "model_module": "@jupyter-widgets/base",
          "model_name": "LayoutModel",
          "model_module_version": "1.2.0",
          "state": {
            "_model_module": "@jupyter-widgets/base",
            "_model_module_version": "1.2.0",
            "_model_name": "LayoutModel",
            "_view_count": null,
            "_view_module": "@jupyter-widgets/base",
            "_view_module_version": "1.2.0",
            "_view_name": "LayoutView",
            "align_content": null,
            "align_items": null,
            "align_self": null,
            "border": null,
            "bottom": null,
            "display": null,
            "flex": null,
            "flex_flow": null,
            "grid_area": null,
            "grid_auto_columns": null,
            "grid_auto_flow": null,
            "grid_auto_rows": null,
            "grid_column": null,
            "grid_gap": null,
            "grid_row": null,
            "grid_template_areas": null,
            "grid_template_columns": null,
            "grid_template_rows": null,
            "height": null,
            "justify_content": null,
            "justify_items": null,
            "left": null,
            "margin": null,
            "max_height": null,
            "max_width": null,
            "min_height": null,
            "min_width": null,
            "object_fit": null,
            "object_position": null,
            "order": null,
            "overflow": null,
            "overflow_x": null,
            "overflow_y": null,
            "padding": null,
            "right": null,
            "top": null,
            "visibility": null,
            "width": null
          }
        },
        "9de2f0dd478d47c0910cb2fd87a7f091": {
          "model_module": "@jupyter-widgets/controls",
          "model_name": "DescriptionStyleModel",
          "model_module_version": "1.5.0",
          "state": {
            "_model_module": "@jupyter-widgets/controls",
            "_model_module_version": "1.5.0",
            "_model_name": "DescriptionStyleModel",
            "_view_count": null,
            "_view_module": "@jupyter-widgets/base",
            "_view_module_version": "1.2.0",
            "_view_name": "StyleView",
            "description_width": ""
          }
        },
        "6731ee0ee5fb45509d184a3c4870815a": {
          "model_module": "@jupyter-widgets/base",
          "model_name": "LayoutModel",
          "model_module_version": "1.2.0",
          "state": {
            "_model_module": "@jupyter-widgets/base",
            "_model_module_version": "1.2.0",
            "_model_name": "LayoutModel",
            "_view_count": null,
            "_view_module": "@jupyter-widgets/base",
            "_view_module_version": "1.2.0",
            "_view_name": "LayoutView",
            "align_content": null,
            "align_items": null,
            "align_self": null,
            "border": null,
            "bottom": null,
            "display": null,
            "flex": null,
            "flex_flow": null,
            "grid_area": null,
            "grid_auto_columns": null,
            "grid_auto_flow": null,
            "grid_auto_rows": null,
            "grid_column": null,
            "grid_gap": null,
            "grid_row": null,
            "grid_template_areas": null,
            "grid_template_columns": null,
            "grid_template_rows": null,
            "height": null,
            "justify_content": null,
            "justify_items": null,
            "left": null,
            "margin": null,
            "max_height": null,
            "max_width": null,
            "min_height": null,
            "min_width": null,
            "object_fit": null,
            "object_position": null,
            "order": null,
            "overflow": null,
            "overflow_x": null,
            "overflow_y": null,
            "padding": null,
            "right": null,
            "top": null,
            "visibility": null,
            "width": null
          }
        },
        "0a7dc890227b4134aa10cdf8d4619db9": {
          "model_module": "@jupyter-widgets/controls",
          "model_name": "ProgressStyleModel",
          "model_module_version": "1.5.0",
          "state": {
            "_model_module": "@jupyter-widgets/controls",
            "_model_module_version": "1.5.0",
            "_model_name": "ProgressStyleModel",
            "_view_count": null,
            "_view_module": "@jupyter-widgets/base",
            "_view_module_version": "1.2.0",
            "_view_name": "StyleView",
            "bar_color": null,
            "description_width": ""
          }
        },
        "913d69c0b419401a9bc79e3c38f8e65f": {
          "model_module": "@jupyter-widgets/base",
          "model_name": "LayoutModel",
          "model_module_version": "1.2.0",
          "state": {
            "_model_module": "@jupyter-widgets/base",
            "_model_module_version": "1.2.0",
            "_model_name": "LayoutModel",
            "_view_count": null,
            "_view_module": "@jupyter-widgets/base",
            "_view_module_version": "1.2.0",
            "_view_name": "LayoutView",
            "align_content": null,
            "align_items": null,
            "align_self": null,
            "border": null,
            "bottom": null,
            "display": null,
            "flex": null,
            "flex_flow": null,
            "grid_area": null,
            "grid_auto_columns": null,
            "grid_auto_flow": null,
            "grid_auto_rows": null,
            "grid_column": null,
            "grid_gap": null,
            "grid_row": null,
            "grid_template_areas": null,
            "grid_template_columns": null,
            "grid_template_rows": null,
            "height": null,
            "justify_content": null,
            "justify_items": null,
            "left": null,
            "margin": null,
            "max_height": null,
            "max_width": null,
            "min_height": null,
            "min_width": null,
            "object_fit": null,
            "object_position": null,
            "order": null,
            "overflow": null,
            "overflow_x": null,
            "overflow_y": null,
            "padding": null,
            "right": null,
            "top": null,
            "visibility": null,
            "width": null
          }
        },
        "7ef7a7c10d324024bc530bb38b8bca7a": {
          "model_module": "@jupyter-widgets/controls",
          "model_name": "DescriptionStyleModel",
          "model_module_version": "1.5.0",
          "state": {
            "_model_module": "@jupyter-widgets/controls",
            "_model_module_version": "1.5.0",
            "_model_name": "DescriptionStyleModel",
            "_view_count": null,
            "_view_module": "@jupyter-widgets/base",
            "_view_module_version": "1.2.0",
            "_view_name": "StyleView",
            "description_width": ""
          }
        }
      }
    }
  },
  "cells": [
    {
      "cell_type": "markdown",
      "metadata": {
        "id": "view-in-github",
        "colab_type": "text"
      },
      "source": [
        "<a href=\"https://colab.research.google.com/github/simulate111/Textual-Data-Analysis-25/blob/main/project_TDA.ipynb\" target=\"_parent\"><img src=\"https://colab.research.google.com/assets/colab-badge.svg\" alt=\"Open In Colab\"/></a>"
      ]
    },
    {
      "cell_type": "markdown",
      "source": [
        "<h1> TDA course project </h1>\n",
        "\n",
        "Name: MRA\n",
        "\n",
        "Pair: If you did this project as pair work, name the other student here, leave empty otherwise. If you work in pair, <b>both</b> hand out the same project report in Moodle.\n"
      ],
      "metadata": {
        "id": "2S-8Tg9jcIq3"
      }
    },
    {
      "cell_type": "markdown",
      "source": [
        "<h1> Step 1: Load the data with LLM judgements </h1>"
      ],
      "metadata": {
        "id": "6i74smlNdZyn"
      }
    },
    {
      "cell_type": "code",
      "source": [
        "#work here"
      ],
      "metadata": {
        "id": "s7kgkwxHo8Hl"
      },
      "execution_count": 1,
      "outputs": []
    },
    {
      "cell_type": "code",
      "source": [
        "!pip -q install datasets\n",
        "!pip install -q scikit-learn"
      ],
      "metadata": {
        "id": "ozPRuAkioSVJ"
      },
      "execution_count": 2,
      "outputs": []
    },
    {
      "cell_type": "code",
      "source": [
        "#import libraries\n",
        "import os\n",
        "import numpy as np\n",
        "import gzip\n",
        "import json\n",
        "import pandas as pd\n",
        "from datasets import Dataset\n",
        "from transformers import AutoTokenizer, AutoModelForSequenceClassification, Trainer, TrainingArguments\n",
        "from sklearn.metrics import accuracy_score, precision_score, recall_score, f1_score"
      ],
      "metadata": {
        "id": "QjlXiUJabWbm"
      },
      "execution_count": 3,
      "outputs": []
    },
    {
      "cell_type": "code",
      "source": [
        "#Load the data\n",
        "url = \"http://dl.turkunlp.org/tda-course-2025/tda25-responses.jsonl.gz\"\n",
        "filename = \"tda25-responses.jsonl.gz\"\n",
        "os.system(f\"wget {url} -O {filename}\")\n",
        "extracted_filename = \"tda25-responses.jsonl\"\n",
        "with gzip.open(filename, 'rt', encoding='utf-8') as f_in:\n",
        "    data = [json.loads(line) for line in f_in]\n",
        "df = pd.DataFrame(data)"
      ],
      "metadata": {
        "id": "ff3QiHgtov7N"
      },
      "execution_count": 4,
      "outputs": []
    },
    {
      "cell_type": "code",
      "source": [
        "#divide the response to separate columns for further convenience\n",
        "df[\"Step-by-step\"] = df[\"response\"].str.extract(r\"Step-by-step:\\s*(Yes|No)\")\n",
        "df[\"Training\"] = df[\"response\"].str.extract(r\"Training:\\s*(Yes|No)\")\n",
        "df[\"Explanation\"] = df[\"response\"].str.split(\"\\n\\n\", n=1).str[1]\n",
        "df.drop(columns=[\"response\"], inplace=True)"
      ],
      "metadata": {
        "id": "81e9vnbDXPd_"
      },
      "execution_count": 5,
      "outputs": []
    },
    {
      "cell_type": "code",
      "source": [
        "df.head()"
      ],
      "metadata": {
        "colab": {
          "base_uri": "https://localhost:8080/",
          "height": 310
        },
        "id": "Lr1u0W9XXWYR",
        "outputId": "1d497ed6-9fcf-4b8a-ccea-488a71dd8983"
      },
      "execution_count": 6,
      "outputs": [
        {
          "output_type": "execute_result",
          "data": {
            "text/plain": [
              "                                            document Step-by-step Training  \\\n",
              "0  Peeling an onion seems like an trivial task, b...          Yes       No   \n",
              "1  Cowboy’s WR Terrance Williams Arrested\\nDallas...           No       No   \n",
              "2  Idea Crib’s Well-thy Pinoy Profiles blog serie...           No       No   \n",
              "3  Will I ever stop being nervous every time I pu...           No       No   \n",
              "4  In today’s NHL rumors rundown, Toronto Maple L...           No       No   \n",
              "\n",
              "                                         Explanation  \n",
              "0  The article does provide a clear sequence of o...  \n",
              "1  The article does not provide a clear sequence ...  \n",
              "2  The article does not provide a clear sequence ...  \n",
              "3  The article does not provide a clear sequence ...  \n",
              "4  The article does not provide a clear sequence ...  "
            ],
            "text/html": [
              "\n",
              "  <div id=\"df-c012fb6c-311f-489c-bfc1-283f924b145d\" class=\"colab-df-container\">\n",
              "    <div>\n",
              "<style scoped>\n",
              "    .dataframe tbody tr th:only-of-type {\n",
              "        vertical-align: middle;\n",
              "    }\n",
              "\n",
              "    .dataframe tbody tr th {\n",
              "        vertical-align: top;\n",
              "    }\n",
              "\n",
              "    .dataframe thead th {\n",
              "        text-align: right;\n",
              "    }\n",
              "</style>\n",
              "<table border=\"1\" class=\"dataframe\">\n",
              "  <thead>\n",
              "    <tr style=\"text-align: right;\">\n",
              "      <th></th>\n",
              "      <th>document</th>\n",
              "      <th>Step-by-step</th>\n",
              "      <th>Training</th>\n",
              "      <th>Explanation</th>\n",
              "    </tr>\n",
              "  </thead>\n",
              "  <tbody>\n",
              "    <tr>\n",
              "      <th>0</th>\n",
              "      <td>Peeling an onion seems like an trivial task, b...</td>\n",
              "      <td>Yes</td>\n",
              "      <td>No</td>\n",
              "      <td>The article does provide a clear sequence of o...</td>\n",
              "    </tr>\n",
              "    <tr>\n",
              "      <th>1</th>\n",
              "      <td>Cowboy’s WR Terrance Williams Arrested\\nDallas...</td>\n",
              "      <td>No</td>\n",
              "      <td>No</td>\n",
              "      <td>The article does not provide a clear sequence ...</td>\n",
              "    </tr>\n",
              "    <tr>\n",
              "      <th>2</th>\n",
              "      <td>Idea Crib’s Well-thy Pinoy Profiles blog serie...</td>\n",
              "      <td>No</td>\n",
              "      <td>No</td>\n",
              "      <td>The article does not provide a clear sequence ...</td>\n",
              "    </tr>\n",
              "    <tr>\n",
              "      <th>3</th>\n",
              "      <td>Will I ever stop being nervous every time I pu...</td>\n",
              "      <td>No</td>\n",
              "      <td>No</td>\n",
              "      <td>The article does not provide a clear sequence ...</td>\n",
              "    </tr>\n",
              "    <tr>\n",
              "      <th>4</th>\n",
              "      <td>In today’s NHL rumors rundown, Toronto Maple L...</td>\n",
              "      <td>No</td>\n",
              "      <td>No</td>\n",
              "      <td>The article does not provide a clear sequence ...</td>\n",
              "    </tr>\n",
              "  </tbody>\n",
              "</table>\n",
              "</div>\n",
              "    <div class=\"colab-df-buttons\">\n",
              "\n",
              "  <div class=\"colab-df-container\">\n",
              "    <button class=\"colab-df-convert\" onclick=\"convertToInteractive('df-c012fb6c-311f-489c-bfc1-283f924b145d')\"\n",
              "            title=\"Convert this dataframe to an interactive table.\"\n",
              "            style=\"display:none;\">\n",
              "\n",
              "  <svg xmlns=\"http://www.w3.org/2000/svg\" height=\"24px\" viewBox=\"0 -960 960 960\">\n",
              "    <path d=\"M120-120v-720h720v720H120Zm60-500h600v-160H180v160Zm220 220h160v-160H400v160Zm0 220h160v-160H400v160ZM180-400h160v-160H180v160Zm440 0h160v-160H620v160ZM180-180h160v-160H180v160Zm440 0h160v-160H620v160Z\"/>\n",
              "  </svg>\n",
              "    </button>\n",
              "\n",
              "  <style>\n",
              "    .colab-df-container {\n",
              "      display:flex;\n",
              "      gap: 12px;\n",
              "    }\n",
              "\n",
              "    .colab-df-convert {\n",
              "      background-color: #E8F0FE;\n",
              "      border: none;\n",
              "      border-radius: 50%;\n",
              "      cursor: pointer;\n",
              "      display: none;\n",
              "      fill: #1967D2;\n",
              "      height: 32px;\n",
              "      padding: 0 0 0 0;\n",
              "      width: 32px;\n",
              "    }\n",
              "\n",
              "    .colab-df-convert:hover {\n",
              "      background-color: #E2EBFA;\n",
              "      box-shadow: 0px 1px 2px rgba(60, 64, 67, 0.3), 0px 1px 3px 1px rgba(60, 64, 67, 0.15);\n",
              "      fill: #174EA6;\n",
              "    }\n",
              "\n",
              "    .colab-df-buttons div {\n",
              "      margin-bottom: 4px;\n",
              "    }\n",
              "\n",
              "    [theme=dark] .colab-df-convert {\n",
              "      background-color: #3B4455;\n",
              "      fill: #D2E3FC;\n",
              "    }\n",
              "\n",
              "    [theme=dark] .colab-df-convert:hover {\n",
              "      background-color: #434B5C;\n",
              "      box-shadow: 0px 1px 3px 1px rgba(0, 0, 0, 0.15);\n",
              "      filter: drop-shadow(0px 1px 2px rgba(0, 0, 0, 0.3));\n",
              "      fill: #FFFFFF;\n",
              "    }\n",
              "  </style>\n",
              "\n",
              "    <script>\n",
              "      const buttonEl =\n",
              "        document.querySelector('#df-c012fb6c-311f-489c-bfc1-283f924b145d button.colab-df-convert');\n",
              "      buttonEl.style.display =\n",
              "        google.colab.kernel.accessAllowed ? 'block' : 'none';\n",
              "\n",
              "      async function convertToInteractive(key) {\n",
              "        const element = document.querySelector('#df-c012fb6c-311f-489c-bfc1-283f924b145d');\n",
              "        const dataTable =\n",
              "          await google.colab.kernel.invokeFunction('convertToInteractive',\n",
              "                                                    [key], {});\n",
              "        if (!dataTable) return;\n",
              "\n",
              "        const docLinkHtml = 'Like what you see? Visit the ' +\n",
              "          '<a target=\"_blank\" href=https://colab.research.google.com/notebooks/data_table.ipynb>data table notebook</a>'\n",
              "          + ' to learn more about interactive tables.';\n",
              "        element.innerHTML = '';\n",
              "        dataTable['output_type'] = 'display_data';\n",
              "        await google.colab.output.renderOutput(dataTable, element);\n",
              "        const docLink = document.createElement('div');\n",
              "        docLink.innerHTML = docLinkHtml;\n",
              "        element.appendChild(docLink);\n",
              "      }\n",
              "    </script>\n",
              "  </div>\n",
              "\n",
              "\n",
              "<div id=\"df-62da5a44-f599-47f9-bb3c-6fd188c8d253\">\n",
              "  <button class=\"colab-df-quickchart\" onclick=\"quickchart('df-62da5a44-f599-47f9-bb3c-6fd188c8d253')\"\n",
              "            title=\"Suggest charts\"\n",
              "            style=\"display:none;\">\n",
              "\n",
              "<svg xmlns=\"http://www.w3.org/2000/svg\" height=\"24px\"viewBox=\"0 0 24 24\"\n",
              "     width=\"24px\">\n",
              "    <g>\n",
              "        <path d=\"M19 3H5c-1.1 0-2 .9-2 2v14c0 1.1.9 2 2 2h14c1.1 0 2-.9 2-2V5c0-1.1-.9-2-2-2zM9 17H7v-7h2v7zm4 0h-2V7h2v10zm4 0h-2v-4h2v4z\"/>\n",
              "    </g>\n",
              "</svg>\n",
              "  </button>\n",
              "\n",
              "<style>\n",
              "  .colab-df-quickchart {\n",
              "      --bg-color: #E8F0FE;\n",
              "      --fill-color: #1967D2;\n",
              "      --hover-bg-color: #E2EBFA;\n",
              "      --hover-fill-color: #174EA6;\n",
              "      --disabled-fill-color: #AAA;\n",
              "      --disabled-bg-color: #DDD;\n",
              "  }\n",
              "\n",
              "  [theme=dark] .colab-df-quickchart {\n",
              "      --bg-color: #3B4455;\n",
              "      --fill-color: #D2E3FC;\n",
              "      --hover-bg-color: #434B5C;\n",
              "      --hover-fill-color: #FFFFFF;\n",
              "      --disabled-bg-color: #3B4455;\n",
              "      --disabled-fill-color: #666;\n",
              "  }\n",
              "\n",
              "  .colab-df-quickchart {\n",
              "    background-color: var(--bg-color);\n",
              "    border: none;\n",
              "    border-radius: 50%;\n",
              "    cursor: pointer;\n",
              "    display: none;\n",
              "    fill: var(--fill-color);\n",
              "    height: 32px;\n",
              "    padding: 0;\n",
              "    width: 32px;\n",
              "  }\n",
              "\n",
              "  .colab-df-quickchart:hover {\n",
              "    background-color: var(--hover-bg-color);\n",
              "    box-shadow: 0 1px 2px rgba(60, 64, 67, 0.3), 0 1px 3px 1px rgba(60, 64, 67, 0.15);\n",
              "    fill: var(--button-hover-fill-color);\n",
              "  }\n",
              "\n",
              "  .colab-df-quickchart-complete:disabled,\n",
              "  .colab-df-quickchart-complete:disabled:hover {\n",
              "    background-color: var(--disabled-bg-color);\n",
              "    fill: var(--disabled-fill-color);\n",
              "    box-shadow: none;\n",
              "  }\n",
              "\n",
              "  .colab-df-spinner {\n",
              "    border: 2px solid var(--fill-color);\n",
              "    border-color: transparent;\n",
              "    border-bottom-color: var(--fill-color);\n",
              "    animation:\n",
              "      spin 1s steps(1) infinite;\n",
              "  }\n",
              "\n",
              "  @keyframes spin {\n",
              "    0% {\n",
              "      border-color: transparent;\n",
              "      border-bottom-color: var(--fill-color);\n",
              "      border-left-color: var(--fill-color);\n",
              "    }\n",
              "    20% {\n",
              "      border-color: transparent;\n",
              "      border-left-color: var(--fill-color);\n",
              "      border-top-color: var(--fill-color);\n",
              "    }\n",
              "    30% {\n",
              "      border-color: transparent;\n",
              "      border-left-color: var(--fill-color);\n",
              "      border-top-color: var(--fill-color);\n",
              "      border-right-color: var(--fill-color);\n",
              "    }\n",
              "    40% {\n",
              "      border-color: transparent;\n",
              "      border-right-color: var(--fill-color);\n",
              "      border-top-color: var(--fill-color);\n",
              "    }\n",
              "    60% {\n",
              "      border-color: transparent;\n",
              "      border-right-color: var(--fill-color);\n",
              "    }\n",
              "    80% {\n",
              "      border-color: transparent;\n",
              "      border-right-color: var(--fill-color);\n",
              "      border-bottom-color: var(--fill-color);\n",
              "    }\n",
              "    90% {\n",
              "      border-color: transparent;\n",
              "      border-bottom-color: var(--fill-color);\n",
              "    }\n",
              "  }\n",
              "</style>\n",
              "\n",
              "  <script>\n",
              "    async function quickchart(key) {\n",
              "      const quickchartButtonEl =\n",
              "        document.querySelector('#' + key + ' button');\n",
              "      quickchartButtonEl.disabled = true;  // To prevent multiple clicks.\n",
              "      quickchartButtonEl.classList.add('colab-df-spinner');\n",
              "      try {\n",
              "        const charts = await google.colab.kernel.invokeFunction(\n",
              "            'suggestCharts', [key], {});\n",
              "      } catch (error) {\n",
              "        console.error('Error during call to suggestCharts:', error);\n",
              "      }\n",
              "      quickchartButtonEl.classList.remove('colab-df-spinner');\n",
              "      quickchartButtonEl.classList.add('colab-df-quickchart-complete');\n",
              "    }\n",
              "    (() => {\n",
              "      let quickchartButtonEl =\n",
              "        document.querySelector('#df-62da5a44-f599-47f9-bb3c-6fd188c8d253 button');\n",
              "      quickchartButtonEl.style.display =\n",
              "        google.colab.kernel.accessAllowed ? 'block' : 'none';\n",
              "    })();\n",
              "  </script>\n",
              "</div>\n",
              "\n",
              "    </div>\n",
              "  </div>\n"
            ],
            "application/vnd.google.colaboratory.intrinsic+json": {
              "type": "dataframe",
              "variable_name": "df",
              "summary": "{\n  \"name\": \"df\",\n  \"rows\": 2515,\n  \"fields\": [\n    {\n      \"column\": \"document\",\n      \"properties\": {\n        \"dtype\": \"string\",\n        \"num_unique_values\": 2515,\n        \"samples\": [\n          \"Fisher Cats split with Mets\\nFisher Cats Press Release:\\nKevin Pillar picked up two more hits and Brad Glenn smacked his first home run of the year, but the Fisher Cats fell to the Binghamton Mets, 6-3, on Sunday afternoon at NYSEG Stadium. The loss leaves the Fisher Cats with a split of the four-game series at Binghamton before they head to New Britain on Monday night.\\nBinghamton got on the board first, loading the bases and the scoring with a sacrifice fly in the first inning against starting pitcher Austin Bibens-Dirkx. In the second, a one-out homer by Blake Forsythe made it 2-0 in the Mets' favor.\\nPillar brought the Fisher Cats back within a run in the third inning on an RBI single, but the B-Mets answered with a three-run homer in the bottom of the frame to push the scored to 5-1.\\nThe teams traded runs again in the fifth, with Glenn's home run leading off the top of the inning. Bibens-Dirkx was responsible for the Mets run in the bottom of the inning to leave the score at 6-2 Binghamton through five.\\nThe Fisher Cats had one more rally in the eighth inning, scoring a run on a Pillar double and a Binghamton error. The rally ended when Mets reliever Jack Leathersich retired the potential tying run in Adam Loewen on a fly ball to left field.\\nBibens-Dirkx (1-2) took the loss, allowing six runs over 4.2 innings. Rafael Montero (2-0) earned the win for the Mets with five innings of work.\\nPillar led the Fisher Cats offense with two more hits. He has hit safely in nine straight games, picking up 17 hits in that time. He finished the series with the Mets with seven hits in 17 at-bats, driving home five runs in the four-game set.\\nThe Fisher Cats now head to New Britain, Conn., to open a three-game series with the Minnesota Twins' affiliate on Monday night at 6:35 p.m. RHP Marcus Walden (0-1, 4.15) goes in search of his first win of the year, drawing the start against New Britain's Logan Darnell (0-0, 1.04). Fans can listen to the game with Tom Gauthier beginning at 6:15 p.m. on the WGIR Fisher Cats Radio Network and at www.nhfishercats.com.\\nThe Fisher Cats return home to Northeast Delta Dental Stadium on Thursday, April 18 for a seven-home homestand with Binghamton and New Britain. The first game of the stand features a fleece blanket giveaway for the first 1,000 fans courtesy of Heritage Plumbing, Heating, Cooling and Electric. For tickets and a full list of promotions, visit www.nhfishercats.com.\",\n          \"Day 7: #atozchallenge\\nHave you considered guest blogging but don\\u2019t know where to begin? The first step is to determine what you want to accomplish.\\nWhat is your goal?\\n- Do you have expertise in an area and want to share it?\\n- Do you want to create more traffic to your blog or increase followers?\\n- Want to see an increase in backlinks to your content?\\n- Or, establish yourself as an authority?\\nWhere to Find Guest Blogging Opportunities:\\nOnce you know your motivations, it\\u2019s time to find the opportunities, and there are many.\\n- Begin with a simple keyword search for \\u201cguest post\\u201d on Google, Twitter, or preferred search engine.\\n- Utilize the connections you\\u2019ve already established \\u2013 favorite blogs or other social networking sites.\\n- Look for blogs that best match your area of interest or expertise, have engaged readers, and is active on social networks.\\n- Check out sites like Contently, Huffington Post, or Angie\\u2019s Diary.\\nThings to do before pitching a guest post:\\n- Familiarize yourself with the blog; it\\u2019s content and readership.\\n- Have guest posts been featured before?\\n- Who were the guest bloggers? Authors? Other bloggers? Freelancers? Read their bios and get to know them.\\n- How did the guest post do? Was there a lot of reader engagement?\\n- Become a familiar face in the blogging community.\\nWhen to pitch:\\n- When someone mentions your blog on, Twitter, LinkedIn, Facebook, or Google.\\n- When a blogger advertises, they are seeking guest posts.\\n- When a guest post is featured on another blog.\\nHow to Pitch:\\n- Read the guidelines.\\n- Introduce yourself. Craft a guest post bio and include links back to your blog or author websites that show your work.\\n- As with any pitch, personalize your email.\\n- Explain what you can offer in a guest post.\\n- Provide links to your blog and other sites on which you have published.\\n- Format your guest post the same as the site in which you are submitting.\\n- Provide valuable and relatable information.\\n- Do not self-promote except within the author bio.\\n- Utilize internal links to some of the owner\\u2019s posts.\\n- Create a call to action for comments.\\nWant to know more about guest blogging? Check out these resources.\\nGuest Blogging Opportunities:\\n- The community of Guest Bloggers \\u2013 free sign up.\\n- Brian Keith May \\u2013 100 Sites to Submit Guest Posts\\n- Buzz Blogger \\u2013 500 Places to Syndicate Your content.\\nDoes guest blogging interest you? Have you been a featured guest blogger in the past?\",\n          \"Sowbhagya & Chethan C.N. (originally written in Kannada), translated in English by Malleshwari Baddela\\nRising prices of pulses and meat have impacted the poor significantly. Waste-pickers with little income are left to fend themselves against the high costs of food. Even within waste-pickers, the migrant community members (from other states) are worst off. They have no formal linkage with public distribution system- thus, nothing nutritious and filling left in their diet. Many of the children of migrant waste-pickers are identified with malnutrition and protein deficiency.\\nSeven years back, an experiment of growing oyster mushrooms to counter malnutrition and protein deficiency was done in Amravati district of Maharashtra. It didn\\u2019t succeed for many different reasons including the absence of relevant subsidies etc. The idea of countering malnutrition and protein deficiency by oyster mushroom cultivation stayed in the head of Nalini Shekar, founder of Hasiru Dala. She wanted to do something around it for a long time.\\nOyster mushroom cultivation is very easy to do. You don\\u2019t need much of physical space. Chaffed paddy straw, an empty packet \\u2013 cover: size 18 inches, and mushroom seeds is all what one needs. Chaffed paddy straw is easily available and is the leftover following harvest. Straws have to be chopped in three inch pieces, after that the straws have to be boiled for one hour. Once boiled, the water is to be drained off. Then straws are spread on a clean dry cloth and left for drying under shade for two hours. The straws will be still moist.\\nA layer of seeds is added in the packet. After that an inch of moist straws is placed. It is repeated for four to five times in the same packet. The packet should be tightly packed with very little air in it. The packet should have ten- fifteen holes. It can be kept in shade, anywhere in the house, at room temperature for twenty days. On twentieth or twenty first day, spores will start coming out. Little water is to be sprinkled twice daily after the twentieth day. Mushrooms will be ready to harvest within couple of days of sprinkling water. Cook those mushrooms and have it for countering malnutrition and protein deficiency.\\nThe suggestion of growing mushrooms was shared with wastepickers. Many of them are excited about it. The first training was conducted in horticulture department. Very few came as the location was very far and one had to take time out of work to go there. It was decided to host the training sessions in the vicinity of their residence. Last week a training programme for the cultivation of mushrooms was conducted in Akshaya Nagara and Kalkere Cross, Bengaluru \\u2013 where most of the wastepickers reside, with the participation of 58 wastepickers and their family members. More have shown interest, many more training sessions planned.\"\n        ],\n        \"semantic_type\": \"\",\n        \"description\": \"\"\n      }\n    },\n    {\n      \"column\": \"Step-by-step\",\n      \"properties\": {\n        \"dtype\": \"category\",\n        \"num_unique_values\": 2,\n        \"samples\": [\n          \"No\",\n          \"Yes\"\n        ],\n        \"semantic_type\": \"\",\n        \"description\": \"\"\n      }\n    },\n    {\n      \"column\": \"Training\",\n      \"properties\": {\n        \"dtype\": \"category\",\n        \"num_unique_values\": 2,\n        \"samples\": [\n          \"Yes\",\n          \"No\"\n        ],\n        \"semantic_type\": \"\",\n        \"description\": \"\"\n      }\n    },\n    {\n      \"column\": \"Explanation\",\n      \"properties\": {\n        \"dtype\": \"string\",\n        \"num_unique_values\": 2512,\n        \"samples\": [\n          \"The article does not present a clear sequence of ordered steps for completing a specific task. Instead, it consists of various disjointed statements and facts that lack coherent structure and procedural instructions. As a result, the content does not provide sufficient detail or organization to facilitate deeper reasoning or training a language model effectively.\",\n          \"The article does not provide a clear sequence of ordered steps to guide the reader through completing a task; it primarily consists of reflections on past social media posts and their performance without any structured instructions. Additionally, the content lacks the detailed procedural instructions necessary for training a language model in deeper reasoning, as it focuses more on sharing experiences rather than outlining processes or encouraging critical thinking.\"\n        ],\n        \"semantic_type\": \"\",\n        \"description\": \"\"\n      }\n    }\n  ]\n}"
            }
          },
          "metadata": {},
          "execution_count": 6
        }
      ]
    },
    {
      "cell_type": "code",
      "source": [
        "#Making HuggingFace dataset\n",
        "hf_dataset = Dataset.from_pandas(df)\n",
        "hf_dataset.save_to_disk(\"hf_dataset\")"
      ],
      "metadata": {
        "colab": {
          "base_uri": "https://localhost:8080/",
          "height": 49,
          "referenced_widgets": [
            "ae1ae56a3d29429b89d6647260e5e77e",
            "a859889182b7409eaf58bffe91da6596",
            "dee9d538eba240439c0036b553611721",
            "a1a8e32e528147fc911117cd9cc3964d",
            "3996426d99d54ac99a653a7360eb3e87",
            "d63daf5bc341473fa50071ad9d09c0d2",
            "be8aee5667b8466fbe27bf318c9f58d7",
            "266bd0eeb88d4c6bb224caf917adef4e",
            "1568a306c7f7448bbfd3e289fd2c2bbb",
            "32870465e79d419bbbe12fb10c0710cb",
            "4396aef6c2e24cdd9109b5bf44ec2abb"
          ]
        },
        "id": "rcQJ1SCtXv0w",
        "outputId": "71d554c4-c381-4c97-b309-e187f19ef1e7"
      },
      "execution_count": 7,
      "outputs": [
        {
          "output_type": "display_data",
          "data": {
            "text/plain": [
              "Saving the dataset (0/1 shards):   0%|          | 0/2515 [00:00<?, ? examples/s]"
            ],
            "application/vnd.jupyter.widget-view+json": {
              "version_major": 2,
              "version_minor": 0,
              "model_id": "ae1ae56a3d29429b89d6647260e5e77e"
            }
          },
          "metadata": {}
        }
      ]
    },
    {
      "cell_type": "code",
      "source": [
        "print(hf_dataset)"
      ],
      "metadata": {
        "colab": {
          "base_uri": "https://localhost:8080/"
        },
        "id": "QMIxsecwXMsq",
        "outputId": "afd77781-91d5-4c92-d7f4-a51ff64e8a49"
      },
      "execution_count": 8,
      "outputs": [
        {
          "output_type": "stream",
          "name": "stdout",
          "text": [
            "Dataset({\n",
            "    features: ['document', 'Step-by-step', 'Training', 'Explanation'],\n",
            "    num_rows: 2515\n",
            "})\n"
          ]
        }
      ]
    },
    {
      "cell_type": "code",
      "source": [
        "#Convert yes-no to binaries\n",
        "hf_dataset = hf_dataset.map(lambda x: {\"label\": 1 if x[\"Training\"] == \"Yes\" else 0})"
      ],
      "metadata": {
        "colab": {
          "base_uri": "https://localhost:8080/",
          "height": 49,
          "referenced_widgets": [
            "3efd27cb822343b0890a084ba7d7c738",
            "40a73e30debc492eb3396d803658c481",
            "b297348af4d04720b65e3603b3868e12",
            "4024c49a2dce4b6591663a0d04bc3e05",
            "c65d60cc83014a329a5ababbd44ff75a",
            "ca64e76fbe9c4490ac62aac4d7303f26",
            "bfc118170aa24ad194474d79f8bea85c",
            "2671f6831c3648389eeab8d277072f7d",
            "e15e04f5d21c46d4b32aec0a26c1fd12",
            "f825205a19fd488ea3560152fdf6f4b2",
            "eee5aed3c27b414792d62233aeacc050"
          ]
        },
        "id": "xpNiq-SmYbeU",
        "outputId": "c5f97c70-43e6-4bd8-d543-b46dffce6f4f"
      },
      "execution_count": 9,
      "outputs": [
        {
          "output_type": "display_data",
          "data": {
            "text/plain": [
              "Map:   0%|          | 0/2515 [00:00<?, ? examples/s]"
            ],
            "application/vnd.jupyter.widget-view+json": {
              "version_major": 2,
              "version_minor": 0,
              "model_id": "3efd27cb822343b0890a084ba7d7c738"
            }
          },
          "metadata": {}
        }
      ]
    },
    {
      "cell_type": "code",
      "source": [
        "print(hf_dataset[0])"
      ],
      "metadata": {
        "colab": {
          "base_uri": "https://localhost:8080/"
        },
        "id": "3QStwAOtZQNB",
        "outputId": "491071d4-441a-480a-ffac-38f2e45501b7"
      },
      "execution_count": 10,
      "outputs": [
        {
          "output_type": "stream",
          "name": "stdout",
          "text": [
            "{'document': 'Peeling an onion seems like an trivial task, but if you’ve never peeled an onion before, it can be quite intimidating. Don’t worry – it is pretty easy to peel an onion.\\nYou can now learn how to peel an onion by following these illustrated step-by-step instructions.\\nStep #1: Put the whole onion on the cutting board\\nStep 2: Cut off one end of the onion with a knife, as shown on the picture below:\\nHere’s a picture of the onion with that end already cut off. The end of the onion is laying on the right side of the onion on the cutting board.\\nStep 3: Cut off another end of the onion with a knife, as show on the picture below:\\nAfter both ends of the onion have been cut off, the onion is ready to be peeled. Here’s the picture of the onion without its ends:\\nStep 4: Start peeling! Make a cut under the peel, and pull on the peel so it separates from the onion. Look at the picture: knife under the peel, thumb on top of the peel. Grab the peel and pull.\\nStep 5: Keep peeling in the same way as the previous step, until there is no more peel left on the onion.\\nIf the peel doesn’t come off easily, you can just peel the outer thin layer of onion itself, like shown picture below:\\nYou are done! The onion is now peeled and ready to be used in your recipe!\\nHere’s the picture of the fully peeled onion:', 'Step-by-step': 'Yes', 'Training': 'No', 'Explanation': 'The article does provide a clear sequence of ordered steps for peeling an onion, making it easy for readers to follow the instructions. However, while the instructions are straightforward, they lack the depth and detail needed for training a language model capable of deeper reasoning, as they do not include alternative methods, potential problems, or reasoning behind each step that would enhance understanding.', 'label': 0}\n"
          ]
        }
      ]
    },
    {
      "cell_type": "code",
      "source": [
        "pd.DataFrame(hf_dataset).head()"
      ],
      "metadata": {
        "colab": {
          "base_uri": "https://localhost:8080/",
          "height": 310
        },
        "id": "S4EhDVvzZiQ0",
        "outputId": "d6381749-b598-4d2e-98fc-41164b0f2729"
      },
      "execution_count": 11,
      "outputs": [
        {
          "output_type": "execute_result",
          "data": {
            "text/plain": [
              "                                            document Step-by-step Training  \\\n",
              "0  Peeling an onion seems like an trivial task, b...          Yes       No   \n",
              "1  Cowboy’s WR Terrance Williams Arrested\\nDallas...           No       No   \n",
              "2  Idea Crib’s Well-thy Pinoy Profiles blog serie...           No       No   \n",
              "3  Will I ever stop being nervous every time I pu...           No       No   \n",
              "4  In today’s NHL rumors rundown, Toronto Maple L...           No       No   \n",
              "\n",
              "                                         Explanation  label  \n",
              "0  The article does provide a clear sequence of o...      0  \n",
              "1  The article does not provide a clear sequence ...      0  \n",
              "2  The article does not provide a clear sequence ...      0  \n",
              "3  The article does not provide a clear sequence ...      0  \n",
              "4  The article does not provide a clear sequence ...      0  "
            ],
            "text/html": [
              "\n",
              "  <div id=\"df-49e37f33-ad31-44d0-a030-311a1bbc6440\" class=\"colab-df-container\">\n",
              "    <div>\n",
              "<style scoped>\n",
              "    .dataframe tbody tr th:only-of-type {\n",
              "        vertical-align: middle;\n",
              "    }\n",
              "\n",
              "    .dataframe tbody tr th {\n",
              "        vertical-align: top;\n",
              "    }\n",
              "\n",
              "    .dataframe thead th {\n",
              "        text-align: right;\n",
              "    }\n",
              "</style>\n",
              "<table border=\"1\" class=\"dataframe\">\n",
              "  <thead>\n",
              "    <tr style=\"text-align: right;\">\n",
              "      <th></th>\n",
              "      <th>document</th>\n",
              "      <th>Step-by-step</th>\n",
              "      <th>Training</th>\n",
              "      <th>Explanation</th>\n",
              "      <th>label</th>\n",
              "    </tr>\n",
              "  </thead>\n",
              "  <tbody>\n",
              "    <tr>\n",
              "      <th>0</th>\n",
              "      <td>Peeling an onion seems like an trivial task, b...</td>\n",
              "      <td>Yes</td>\n",
              "      <td>No</td>\n",
              "      <td>The article does provide a clear sequence of o...</td>\n",
              "      <td>0</td>\n",
              "    </tr>\n",
              "    <tr>\n",
              "      <th>1</th>\n",
              "      <td>Cowboy’s WR Terrance Williams Arrested\\nDallas...</td>\n",
              "      <td>No</td>\n",
              "      <td>No</td>\n",
              "      <td>The article does not provide a clear sequence ...</td>\n",
              "      <td>0</td>\n",
              "    </tr>\n",
              "    <tr>\n",
              "      <th>2</th>\n",
              "      <td>Idea Crib’s Well-thy Pinoy Profiles blog serie...</td>\n",
              "      <td>No</td>\n",
              "      <td>No</td>\n",
              "      <td>The article does not provide a clear sequence ...</td>\n",
              "      <td>0</td>\n",
              "    </tr>\n",
              "    <tr>\n",
              "      <th>3</th>\n",
              "      <td>Will I ever stop being nervous every time I pu...</td>\n",
              "      <td>No</td>\n",
              "      <td>No</td>\n",
              "      <td>The article does not provide a clear sequence ...</td>\n",
              "      <td>0</td>\n",
              "    </tr>\n",
              "    <tr>\n",
              "      <th>4</th>\n",
              "      <td>In today’s NHL rumors rundown, Toronto Maple L...</td>\n",
              "      <td>No</td>\n",
              "      <td>No</td>\n",
              "      <td>The article does not provide a clear sequence ...</td>\n",
              "      <td>0</td>\n",
              "    </tr>\n",
              "  </tbody>\n",
              "</table>\n",
              "</div>\n",
              "    <div class=\"colab-df-buttons\">\n",
              "\n",
              "  <div class=\"colab-df-container\">\n",
              "    <button class=\"colab-df-convert\" onclick=\"convertToInteractive('df-49e37f33-ad31-44d0-a030-311a1bbc6440')\"\n",
              "            title=\"Convert this dataframe to an interactive table.\"\n",
              "            style=\"display:none;\">\n",
              "\n",
              "  <svg xmlns=\"http://www.w3.org/2000/svg\" height=\"24px\" viewBox=\"0 -960 960 960\">\n",
              "    <path d=\"M120-120v-720h720v720H120Zm60-500h600v-160H180v160Zm220 220h160v-160H400v160Zm0 220h160v-160H400v160ZM180-400h160v-160H180v160Zm440 0h160v-160H620v160ZM180-180h160v-160H180v160Zm440 0h160v-160H620v160Z\"/>\n",
              "  </svg>\n",
              "    </button>\n",
              "\n",
              "  <style>\n",
              "    .colab-df-container {\n",
              "      display:flex;\n",
              "      gap: 12px;\n",
              "    }\n",
              "\n",
              "    .colab-df-convert {\n",
              "      background-color: #E8F0FE;\n",
              "      border: none;\n",
              "      border-radius: 50%;\n",
              "      cursor: pointer;\n",
              "      display: none;\n",
              "      fill: #1967D2;\n",
              "      height: 32px;\n",
              "      padding: 0 0 0 0;\n",
              "      width: 32px;\n",
              "    }\n",
              "\n",
              "    .colab-df-convert:hover {\n",
              "      background-color: #E2EBFA;\n",
              "      box-shadow: 0px 1px 2px rgba(60, 64, 67, 0.3), 0px 1px 3px 1px rgba(60, 64, 67, 0.15);\n",
              "      fill: #174EA6;\n",
              "    }\n",
              "\n",
              "    .colab-df-buttons div {\n",
              "      margin-bottom: 4px;\n",
              "    }\n",
              "\n",
              "    [theme=dark] .colab-df-convert {\n",
              "      background-color: #3B4455;\n",
              "      fill: #D2E3FC;\n",
              "    }\n",
              "\n",
              "    [theme=dark] .colab-df-convert:hover {\n",
              "      background-color: #434B5C;\n",
              "      box-shadow: 0px 1px 3px 1px rgba(0, 0, 0, 0.15);\n",
              "      filter: drop-shadow(0px 1px 2px rgba(0, 0, 0, 0.3));\n",
              "      fill: #FFFFFF;\n",
              "    }\n",
              "  </style>\n",
              "\n",
              "    <script>\n",
              "      const buttonEl =\n",
              "        document.querySelector('#df-49e37f33-ad31-44d0-a030-311a1bbc6440 button.colab-df-convert');\n",
              "      buttonEl.style.display =\n",
              "        google.colab.kernel.accessAllowed ? 'block' : 'none';\n",
              "\n",
              "      async function convertToInteractive(key) {\n",
              "        const element = document.querySelector('#df-49e37f33-ad31-44d0-a030-311a1bbc6440');\n",
              "        const dataTable =\n",
              "          await google.colab.kernel.invokeFunction('convertToInteractive',\n",
              "                                                    [key], {});\n",
              "        if (!dataTable) return;\n",
              "\n",
              "        const docLinkHtml = 'Like what you see? Visit the ' +\n",
              "          '<a target=\"_blank\" href=https://colab.research.google.com/notebooks/data_table.ipynb>data table notebook</a>'\n",
              "          + ' to learn more about interactive tables.';\n",
              "        element.innerHTML = '';\n",
              "        dataTable['output_type'] = 'display_data';\n",
              "        await google.colab.output.renderOutput(dataTable, element);\n",
              "        const docLink = document.createElement('div');\n",
              "        docLink.innerHTML = docLinkHtml;\n",
              "        element.appendChild(docLink);\n",
              "      }\n",
              "    </script>\n",
              "  </div>\n",
              "\n",
              "\n",
              "<div id=\"df-0ea40820-6c1e-46ac-985c-95cbdad71c3a\">\n",
              "  <button class=\"colab-df-quickchart\" onclick=\"quickchart('df-0ea40820-6c1e-46ac-985c-95cbdad71c3a')\"\n",
              "            title=\"Suggest charts\"\n",
              "            style=\"display:none;\">\n",
              "\n",
              "<svg xmlns=\"http://www.w3.org/2000/svg\" height=\"24px\"viewBox=\"0 0 24 24\"\n",
              "     width=\"24px\">\n",
              "    <g>\n",
              "        <path d=\"M19 3H5c-1.1 0-2 .9-2 2v14c0 1.1.9 2 2 2h14c1.1 0 2-.9 2-2V5c0-1.1-.9-2-2-2zM9 17H7v-7h2v7zm4 0h-2V7h2v10zm4 0h-2v-4h2v4z\"/>\n",
              "    </g>\n",
              "</svg>\n",
              "  </button>\n",
              "\n",
              "<style>\n",
              "  .colab-df-quickchart {\n",
              "      --bg-color: #E8F0FE;\n",
              "      --fill-color: #1967D2;\n",
              "      --hover-bg-color: #E2EBFA;\n",
              "      --hover-fill-color: #174EA6;\n",
              "      --disabled-fill-color: #AAA;\n",
              "      --disabled-bg-color: #DDD;\n",
              "  }\n",
              "\n",
              "  [theme=dark] .colab-df-quickchart {\n",
              "      --bg-color: #3B4455;\n",
              "      --fill-color: #D2E3FC;\n",
              "      --hover-bg-color: #434B5C;\n",
              "      --hover-fill-color: #FFFFFF;\n",
              "      --disabled-bg-color: #3B4455;\n",
              "      --disabled-fill-color: #666;\n",
              "  }\n",
              "\n",
              "  .colab-df-quickchart {\n",
              "    background-color: var(--bg-color);\n",
              "    border: none;\n",
              "    border-radius: 50%;\n",
              "    cursor: pointer;\n",
              "    display: none;\n",
              "    fill: var(--fill-color);\n",
              "    height: 32px;\n",
              "    padding: 0;\n",
              "    width: 32px;\n",
              "  }\n",
              "\n",
              "  .colab-df-quickchart:hover {\n",
              "    background-color: var(--hover-bg-color);\n",
              "    box-shadow: 0 1px 2px rgba(60, 64, 67, 0.3), 0 1px 3px 1px rgba(60, 64, 67, 0.15);\n",
              "    fill: var(--button-hover-fill-color);\n",
              "  }\n",
              "\n",
              "  .colab-df-quickchart-complete:disabled,\n",
              "  .colab-df-quickchart-complete:disabled:hover {\n",
              "    background-color: var(--disabled-bg-color);\n",
              "    fill: var(--disabled-fill-color);\n",
              "    box-shadow: none;\n",
              "  }\n",
              "\n",
              "  .colab-df-spinner {\n",
              "    border: 2px solid var(--fill-color);\n",
              "    border-color: transparent;\n",
              "    border-bottom-color: var(--fill-color);\n",
              "    animation:\n",
              "      spin 1s steps(1) infinite;\n",
              "  }\n",
              "\n",
              "  @keyframes spin {\n",
              "    0% {\n",
              "      border-color: transparent;\n",
              "      border-bottom-color: var(--fill-color);\n",
              "      border-left-color: var(--fill-color);\n",
              "    }\n",
              "    20% {\n",
              "      border-color: transparent;\n",
              "      border-left-color: var(--fill-color);\n",
              "      border-top-color: var(--fill-color);\n",
              "    }\n",
              "    30% {\n",
              "      border-color: transparent;\n",
              "      border-left-color: var(--fill-color);\n",
              "      border-top-color: var(--fill-color);\n",
              "      border-right-color: var(--fill-color);\n",
              "    }\n",
              "    40% {\n",
              "      border-color: transparent;\n",
              "      border-right-color: var(--fill-color);\n",
              "      border-top-color: var(--fill-color);\n",
              "    }\n",
              "    60% {\n",
              "      border-color: transparent;\n",
              "      border-right-color: var(--fill-color);\n",
              "    }\n",
              "    80% {\n",
              "      border-color: transparent;\n",
              "      border-right-color: var(--fill-color);\n",
              "      border-bottom-color: var(--fill-color);\n",
              "    }\n",
              "    90% {\n",
              "      border-color: transparent;\n",
              "      border-bottom-color: var(--fill-color);\n",
              "    }\n",
              "  }\n",
              "</style>\n",
              "\n",
              "  <script>\n",
              "    async function quickchart(key) {\n",
              "      const quickchartButtonEl =\n",
              "        document.querySelector('#' + key + ' button');\n",
              "      quickchartButtonEl.disabled = true;  // To prevent multiple clicks.\n",
              "      quickchartButtonEl.classList.add('colab-df-spinner');\n",
              "      try {\n",
              "        const charts = await google.colab.kernel.invokeFunction(\n",
              "            'suggestCharts', [key], {});\n",
              "      } catch (error) {\n",
              "        console.error('Error during call to suggestCharts:', error);\n",
              "      }\n",
              "      quickchartButtonEl.classList.remove('colab-df-spinner');\n",
              "      quickchartButtonEl.classList.add('colab-df-quickchart-complete');\n",
              "    }\n",
              "    (() => {\n",
              "      let quickchartButtonEl =\n",
              "        document.querySelector('#df-0ea40820-6c1e-46ac-985c-95cbdad71c3a button');\n",
              "      quickchartButtonEl.style.display =\n",
              "        google.colab.kernel.accessAllowed ? 'block' : 'none';\n",
              "    })();\n",
              "  </script>\n",
              "</div>\n",
              "\n",
              "    </div>\n",
              "  </div>\n"
            ],
            "application/vnd.google.colaboratory.intrinsic+json": {
              "type": "dataframe",
              "summary": "{\n  \"name\": \"pd\",\n  \"rows\": 5,\n  \"fields\": [\n    {\n      \"column\": \"document\",\n      \"properties\": {\n        \"dtype\": \"string\",\n        \"num_unique_values\": 5,\n        \"samples\": [\n          \"Cowboy\\u2019s WR Terrance Williams Arrested\\nDallas Cowboy's wide receiver Terrance Williams was arrested early Saturday morning for public intoxication and leaving the scene of an accident. Williams wrecked his Lamborghini at about 3am Saturday morning and proceeded to leave the scene, only to be arrested 2 hours later. Williams released the following statement.\\n\\\"I am grateful that no one was injured in the accident. The driver in front of me slammed on his brakes and I turned to the left and hopped the curb to avoid hitting him. I got his insurance information and my neighbor picked me up when my car wouldn't drive. I live right near where the accident occurred, so my neighbor dropped me off and I called a tow truck and took the scooter from my house to go meet the tow truck driver. The police officer, who I have met in the past in the neighborhood, saw me on the scooter and arrested me without performing any sobriety tests. I have always been an upstanding citizen and handled the situation the best way I know how. I apologize if I should have handled it a little bit differently.\\\"\\nThis statement does raise some questions, and not just about Williams behavior, but the situation in general.\\n- How fast was Williams going in order to not be able to brake properly?\\n- When did Williams drink in order to get the public intoxication charge?\\n- Was Williams intoxicated?\\n- Williams owns a Lamborghini AND a scooter?\\nLots of questions still to be asked about this, but it'll most likely get swept under the rug, because he's in the NFL, and he's a Dallas Cowboy.\",\n          \"In today\\u2019s NHL rumors rundown, Toronto Maple Leafs GM Kyle Dubas clarifies why he didn\\u2019t add a defenseman at this year\\u2019s NHL Trade Deadline, the Winnipeg Jets might be a big spender in free agency and defenseman Drew Doughty of the Los Angeles Kings talks his struggles with the team\\u2019s current rebuild. Finally, what is the NHL doing about the coronavirus concerns affecting sports, especially as the virus enters North America?\\nMaple Leafs Didn\\u2019t See a Long-Term Fix\\nAccording to an article on TSN, Toronto Maple Leafs general manager Kyle Dubas told The Athletic\\u2019s Pierre LeBrun the reason he didn\\u2019t do anything to his blue line at this year\\u2019s trade deadline was because he couldn\\u2019t find a long-term fix that would solve the team\\u2019s problems.\\nDubas wasn\\u2019t interested in rentals or short-term fixes when he believes their issue on defense is not a short-term problem. Dubas said he received calls about defenseman Tyson Barrie, but didn\\u2019t get what he needed back as part of the return. As a result, he didn\\u2019t move him and has risked losing him for nothing in free agency.\\nOf course, many will argue Dubas created his own problems in this area by signing so many expensive contracts at forward and that he\\u2019ll try to fix those problems by spending more over the summer as the salary cap increases.\\nRelated: Top 3 All-Time Capitals Goalies\\nJets to Spend Money In Free Agency?\\nSpeaking of cap increases, Mike McIntyre of the Winnipeg Free Press writes that the projected salary cap increase for next year will entice teams to spend a little more and one of those teams could be the Winnipeg Jets.\\nJets GM Kevin Cheveldayoff to go shopping with an extra $4-$6 million to spend and with the termination of Dustin Byfuglien\\u2019s contract likely during the summer, the Jets could have as much as $22 million in available funds. Obviously, the Jets have some internal housekeeping items to look after, such as re-signing Jack Roslovic, Mason Appleton, Jansen Harkins, and Sami Niku.\\nRelated: Winnipeg Jets Jersey History\\nDoughty Struggling With Kings Re-Build\\n\\u201cIt\\u2019s very hard, but it\\u2019s the position I\\u2019m in, and I gotta try to stay positive every day, as hard as it is,\\u201d Drew Doughty told TSN when asked about the Los Angeles Kings current rebuild, He likes the prospects in the pipeline, but Doughty says it\\u2019s often a struggle knowing where they were as a team not just a few short years ago.\\n\\u201cI have to make the best of it and just try to get better every day, both as a team and individually,\\u201d he added.\\nCoronavirus Update for the NHL\\nThere are many in the NHL starting to think the coronavirus issue is going to be a major issue that affects games, meetings and other events related to North American sports, including the NHL. So far, 36 events worldwide have been affected.\\nHealth officials had actually already requested that the San Jose Sharks cancel Thursday\\u2019s game and Sharks Sports and Entertainment issued a statement in which it said it was \\u201caware of the recommendations\\u201d made by the county, but that Thursday night\\u2019s game against the Minnesota Wild would \\u201cgo on as scheduled.\\u201d\\nCommissioner Gary Bettman said the NHL has barred League employees from overseas business travel and advised the media that those who make personal trips to affected countries must be quarantined out of the office for two weeks upon their return to see if symptoms arise.\\nRight now, the virus hasn\\u2019t hit the games yet, but the NHL is keeping an extremely close eye on things.\\nCatch up on all the latest NHL Rumors\",\n          \"Idea Crib\\u2019s Well-thy Pinoy Profiles blog series is now underway!! With this blog series, I plan to regularly feature healthy and happy Pinoys and glean insights about why and how they keep healthy and happy. The ultimate aim is to inspire more individuals to take care of themselves by taking care of their health and their bodies.\\nThe first featured personality in this blog series is my friend Carlo, a marathoner and Certified Investment Solicitor. He also just finished his first triathlon last week. Check out his answers in the blog\\u2019s latest post.\\nWell-thy Pinoy Profiles: Get to Know Carlo Sicat\\nOccupation Senior Financial Adviser & Certified Investment Solicitor\\nHobbies Triathlon, Ultimate Frisbee, and Backpack Traveling\\nSocial media profile IG: @carlokohan\\nHow do you stay healthy?\\nI stay healthy by making sure I do physical activities daily or every other day. I also make sure that I eat right and in moderation.\\nWhy do you keep healthy?\\nIt feels good to be healthy. It boosts your confidence and it also gives you benefits like not being sick and being able to function well in your job.\\nWhen did you decide to live healthy?\\nI used to work in the BPO Industry. As we all know, the nature of BPO work is kind of exhausting due to shifting schedules; I gained a lot of weight while working in a BPO company.\\nI used to be a fan of fast food. I loved eating in buffet and indulging in sweets. I thought that as long as I was earning good, I can eat whatever I want. Until I frequently got sick. I remember getting hospitalized 3x a year due to gastritis. I was obese by then. I thought I was healthy because I looked healthy but I wasn\\u2019t. That was when I decided to lose weight.\\nI tried running thinking that was the fastest way to lose weight. It proved effective for me. I learned to love it and it eventually became part of my routine.\\nWhat are your favorite indulgences/ cheat day treats?\\nIce cream. I can finish a 1.5 gallon in one seating. My favorite flavor is cookies and cream. Buffets. I still can\\u2019t resist them. Tenka at Glorietta 4 is my favorite so far.\\nIn your opinion, what\\u2019s the one thing people can do to kick-start their journey to wellness?\\nDid you know that eating healthy, doing physical activities, and not smoking are the 3 easy behaviors we can do to not get sick? According to studies, if we take these for granted, these may lead to the top 4 chronic diseases like cardiovascular disease, cancer, diabetes, and lung diseases which contribute to 50% of deaths world wide. You don\\u2019t have to be an athlete or a gym rat. Just make sure you stay active, eat healthy, and quit smoking (if you\\u2019re a smoker, that is) because the only person who will take care of the sick person you will be is the healthy you now.\\nI love that last line. Soo true. I also agree that you don\\u2019t have to be an athlete to be healthy! What can you say about Carlo\\u2019s journey to fitness and wellness? Who else can I feature in this series? I\\u2019d love to hear your comments below.\\nThe next Well-thy Pinoy Profile is on March 30, 2016. Can you guess who I\\u2019ll feature? \\ud83d\\ude42 Stay tuned!\\nJoin the mailing list:\\nLike it? Share it!\\nPhoto from Carlo Sicat.\\nRead my blog\\u2019s full disclosure and disclaimer here.\"\n        ],\n        \"semantic_type\": \"\",\n        \"description\": \"\"\n      }\n    },\n    {\n      \"column\": \"Step-by-step\",\n      \"properties\": {\n        \"dtype\": \"category\",\n        \"num_unique_values\": 2,\n        \"samples\": [\n          \"No\",\n          \"Yes\"\n        ],\n        \"semantic_type\": \"\",\n        \"description\": \"\"\n      }\n    },\n    {\n      \"column\": \"Training\",\n      \"properties\": {\n        \"dtype\": \"category\",\n        \"num_unique_values\": 1,\n        \"samples\": [\n          \"No\"\n        ],\n        \"semantic_type\": \"\",\n        \"description\": \"\"\n      }\n    },\n    {\n      \"column\": \"Explanation\",\n      \"properties\": {\n        \"dtype\": \"string\",\n        \"num_unique_values\": 5,\n        \"samples\": [\n          \"The article does not provide a clear sequence of ordered steps to guide a reader through completing a specific task; rather, it narrates an event involving Terrance Williams and raises questions about the incident. Additionally, the instructions or narrative are not structured in a way that would support training a language model for deeper reasoning, as there are no detailed procedural instructions or logical frameworks presented that would encourage critical analysis or reasoning about the content.\"\n        ],\n        \"semantic_type\": \"\",\n        \"description\": \"\"\n      }\n    },\n    {\n      \"column\": \"label\",\n      \"properties\": {\n        \"dtype\": \"number\",\n        \"std\": 0,\n        \"min\": 0,\n        \"max\": 0,\n        \"num_unique_values\": 1,\n        \"samples\": [\n          0\n        ],\n        \"semantic_type\": \"\",\n        \"description\": \"\"\n      }\n    }\n  ]\n}"
            }
          },
          "metadata": {},
          "execution_count": 11
        }
      ]
    },
    {
      "cell_type": "code",
      "source": [
        "hf_dataset"
      ],
      "metadata": {
        "colab": {
          "base_uri": "https://localhost:8080/"
        },
        "id": "8YvwYJmIZMIV",
        "outputId": "dfaf2285-8597-40e9-92b3-ae120002abac"
      },
      "execution_count": 12,
      "outputs": [
        {
          "output_type": "execute_result",
          "data": {
            "text/plain": [
              "Dataset({\n",
              "    features: ['document', 'Step-by-step', 'Training', 'Explanation', 'label'],\n",
              "    num_rows: 2515\n",
              "})"
            ]
          },
          "metadata": {},
          "execution_count": 12
        }
      ]
    },
    {
      "cell_type": "markdown",
      "source": [
        "<h1> Step 2: Classifier training and evaluation </h1>\n",
        "\n",
        "\n",
        "*   Which target did you choose?\n",
        "*   Label distribution and majority baseline\n",
        "*   Classifier performance\n",
        "*   Manual inspection of the classifier output, what kinds of mistakes it makes?\n",
        "*   What is the composition of the data we gave you? What does it mean for your results?\n",
        "*   Concusions\n",
        "\n",
        "\n"
      ],
      "metadata": {
        "id": "hqI4QPHFddet"
      }
    },
    {
      "cell_type": "code",
      "source": [
        "#work here"
      ],
      "metadata": {
        "id": "u6nkkhpxdvsb"
      },
      "execution_count": 13,
      "outputs": []
    },
    {
      "cell_type": "markdown",
      "source": [
        "I select Training: Yes/No as a training dataset as it has more comprehensive steps and seems to be more reliable however less general and less data but reliable model."
      ],
      "metadata": {
        "id": "FlwKdCKHlmZb"
      }
    },
    {
      "cell_type": "code",
      "source": [
        "#Label distribution\n",
        "step_by_step_counts = df['Step-by-step'].value_counts()\n",
        "training_counts = df['Training'].value_counts()\n",
        "display(step_by_step_counts)\n",
        "training_counts"
      ],
      "metadata": {
        "colab": {
          "base_uri": "https://localhost:8080/",
          "height": 339
        },
        "id": "Za9ktA4Kl3WS",
        "outputId": "a0c0675e-0d0d-4610-907b-11dcdb187416"
      },
      "execution_count": 14,
      "outputs": [
        {
          "output_type": "display_data",
          "data": {
            "text/plain": [
              "Step-by-step\n",
              "No     1770\n",
              "Yes     722\n",
              "Name: count, dtype: int64"
            ],
            "text/html": [
              "<div>\n",
              "<style scoped>\n",
              "    .dataframe tbody tr th:only-of-type {\n",
              "        vertical-align: middle;\n",
              "    }\n",
              "\n",
              "    .dataframe tbody tr th {\n",
              "        vertical-align: top;\n",
              "    }\n",
              "\n",
              "    .dataframe thead th {\n",
              "        text-align: right;\n",
              "    }\n",
              "</style>\n",
              "<table border=\"1\" class=\"dataframe\">\n",
              "  <thead>\n",
              "    <tr style=\"text-align: right;\">\n",
              "      <th></th>\n",
              "      <th>count</th>\n",
              "    </tr>\n",
              "    <tr>\n",
              "      <th>Step-by-step</th>\n",
              "      <th></th>\n",
              "    </tr>\n",
              "  </thead>\n",
              "  <tbody>\n",
              "    <tr>\n",
              "      <th>No</th>\n",
              "      <td>1770</td>\n",
              "    </tr>\n",
              "    <tr>\n",
              "      <th>Yes</th>\n",
              "      <td>722</td>\n",
              "    </tr>\n",
              "  </tbody>\n",
              "</table>\n",
              "</div><br><label><b>dtype:</b> int64</label>"
            ]
          },
          "metadata": {}
        },
        {
          "output_type": "execute_result",
          "data": {
            "text/plain": [
              "Training\n",
              "No     2132\n",
              "Yes     361\n",
              "Name: count, dtype: int64"
            ],
            "text/html": [
              "<div>\n",
              "<style scoped>\n",
              "    .dataframe tbody tr th:only-of-type {\n",
              "        vertical-align: middle;\n",
              "    }\n",
              "\n",
              "    .dataframe tbody tr th {\n",
              "        vertical-align: top;\n",
              "    }\n",
              "\n",
              "    .dataframe thead th {\n",
              "        text-align: right;\n",
              "    }\n",
              "</style>\n",
              "<table border=\"1\" class=\"dataframe\">\n",
              "  <thead>\n",
              "    <tr style=\"text-align: right;\">\n",
              "      <th></th>\n",
              "      <th>count</th>\n",
              "    </tr>\n",
              "    <tr>\n",
              "      <th>Training</th>\n",
              "      <th></th>\n",
              "    </tr>\n",
              "  </thead>\n",
              "  <tbody>\n",
              "    <tr>\n",
              "      <th>No</th>\n",
              "      <td>2132</td>\n",
              "    </tr>\n",
              "    <tr>\n",
              "      <th>Yes</th>\n",
              "      <td>361</td>\n",
              "    </tr>\n",
              "  </tbody>\n",
              "</table>\n",
              "</div><br><label><b>dtype:</b> int64</label>"
            ]
          },
          "metadata": {},
          "execution_count": 14
        }
      ]
    },
    {
      "cell_type": "code",
      "source": [
        "#Split dataset\n",
        "train_test = hf_dataset.train_test_split(test_size=0.2, shuffle=True)\n",
        "train_dataset, test_dataset = train_test[\"train\"], train_test[\"test\"]"
      ],
      "metadata": {
        "id": "vSCHO8kKbApI"
      },
      "execution_count": 15,
      "outputs": []
    },
    {
      "cell_type": "code",
      "source": [
        "#tokenizer\n",
        "tokenizer = AutoTokenizer.from_pretrained(\"bert-large-uncased\")"
      ],
      "metadata": {
        "id": "PuF5GxmVbDx_",
        "colab": {
          "base_uri": "https://localhost:8080/"
        },
        "outputId": "22bde965-e2d9-4997-a57e-5947a5a7bae5"
      },
      "execution_count": 16,
      "outputs": [
        {
          "output_type": "stream",
          "name": "stderr",
          "text": [
            "/usr/local/lib/python3.11/dist-packages/huggingface_hub/utils/_auth.py:94: UserWarning: \n",
            "The secret `HF_TOKEN` does not exist in your Colab secrets.\n",
            "To authenticate with the Hugging Face Hub, create a token in your settings tab (https://huggingface.co/settings/tokens), set it as secret in your Google Colab and restart your session.\n",
            "You will be able to reuse this secret in all of your notebooks.\n",
            "Please note that authentication is recommended but still optional to access public models or datasets.\n",
            "  warnings.warn(\n"
          ]
        }
      ]
    },
    {
      "cell_type": "code",
      "source": [
        "#document tokenization\n",
        "def tokenize_function(examples):\n",
        "    return tokenizer(examples[\"document\"], padding=\"max_length\", truncation=True)\n",
        "train_dataset = train_dataset.map(tokenize_function, batched=True)\n",
        "test_dataset = test_dataset.map(tokenize_function, batched=True)"
      ],
      "metadata": {
        "colab": {
          "base_uri": "https://localhost:8080/",
          "height": 81,
          "referenced_widgets": [
            "cf3bebb60af7465193d31ce55917454e",
            "90c450aeb8bb4ce2a14aae1a004ee9d1",
            "fdec6688dd5d4f818b2aff6751d731b1",
            "6e43d9f262d54506974c8195b671daa9",
            "889062b945254f10a86ee42b3c33bd12",
            "b4e644ed25c04d0aa266943a1372bd75",
            "94f7a664b4154e2fa88bf1f16b674b3e",
            "adf343f296d747e286e7c455dcfe6991",
            "6608a6cd15bc40248b662beff40d15a3",
            "acaa9a98956f4f2d86355e7e549e9db2",
            "984648eaec5a40bfb21ec8438ed0b159",
            "043b827ac18848359c51047b4bac493a",
            "78de785d859c4cd1b2589c4b95f75b7f",
            "4fed2087919d4b0290323947ad3f0133",
            "795749c8e829465a962da7902e92910a",
            "e99cd4be68f64afbaf44b9e0571b80fb",
            "91febfad272d49b28208d3a989bb1b02",
            "9de2f0dd478d47c0910cb2fd87a7f091",
            "6731ee0ee5fb45509d184a3c4870815a",
            "0a7dc890227b4134aa10cdf8d4619db9",
            "913d69c0b419401a9bc79e3c38f8e65f",
            "7ef7a7c10d324024bc530bb38b8bca7a"
          ]
        },
        "id": "6jTr_8YdbHK8",
        "outputId": "a5dadc7b-3056-4bf0-ab35-71c6afbda16c"
      },
      "execution_count": 18,
      "outputs": [
        {
          "output_type": "display_data",
          "data": {
            "text/plain": [
              "Map:   0%|          | 0/2012 [00:00<?, ? examples/s]"
            ],
            "application/vnd.jupyter.widget-view+json": {
              "version_major": 2,
              "version_minor": 0,
              "model_id": "cf3bebb60af7465193d31ce55917454e"
            }
          },
          "metadata": {}
        },
        {
          "output_type": "display_data",
          "data": {
            "text/plain": [
              "Map:   0%|          | 0/503 [00:00<?, ? examples/s]"
            ],
            "application/vnd.jupyter.widget-view+json": {
              "version_major": 2,
              "version_minor": 0,
              "model_id": "043b827ac18848359c51047b4bac493a"
            }
          },
          "metadata": {}
        }
      ]
    },
    {
      "cell_type": "code",
      "source": [
        "#model: BERT classifier\n",
        "model = AutoModelForSequenceClassification.from_pretrained(\"bert-large-uncased\", num_labels=2)"
      ],
      "metadata": {
        "colab": {
          "base_uri": "https://localhost:8080/"
        },
        "id": "bsJZar-AbOhr",
        "outputId": "9c3605d8-ab04-4b27-daee-2278fdf91018"
      },
      "execution_count": 19,
      "outputs": [
        {
          "output_type": "stream",
          "name": "stderr",
          "text": [
            "Some weights of BertForSequenceClassification were not initialized from the model checkpoint at bert-large-uncased and are newly initialized: ['classifier.bias', 'classifier.weight']\n",
            "You should probably TRAIN this model on a down-stream task to be able to use it for predictions and inference.\n"
          ]
        }
      ]
    },
    {
      "cell_type": "code",
      "source": [
        "#Set training arguments\n",
        "#class_weights = compute_class_weight(\"balanced\", classes=[0,1], y=your_labels)\n",
        "training_args = TrainingArguments(\n",
        "    output_dir=\"./results\",\n",
        "    evaluation_strategy=\"epoch\",\n",
        "    num_train_epochs=5,\n",
        "    per_device_train_batch_size=16,\n",
        "    #gradient_accumulation_steps=2,\n",
        "    weight_decay=0.01,\n",
        "    learning_rate=0.00001,\n",
        "    warmup_steps=500,\n",
        "    fp16=True,\n",
        "    no_cuda=False,\n",
        "    report_to=\"none\",\n",
        "    logging_dir=\"./logs\",\n",
        "    logging_steps=50,)"
      ],
      "metadata": {
        "colab": {
          "base_uri": "https://localhost:8080/"
        },
        "id": "_axvBpnAcBg2",
        "outputId": "3adf0e6e-cba2-40e4-fa4b-4fe536a59c72"
      },
      "execution_count": 20,
      "outputs": [
        {
          "output_type": "stream",
          "name": "stderr",
          "text": [
            "/usr/local/lib/python3.11/dist-packages/transformers/training_args.py:1575: FutureWarning: `evaluation_strategy` is deprecated and will be removed in version 4.46 of 🤗 Transformers. Use `eval_strategy` instead\n",
            "  warnings.warn(\n"
          ]
        }
      ]
    },
    {
      "cell_type": "code",
      "source": [
        "trainer = Trainer(\n",
        "    model=model,\n",
        "    args=training_args,\n",
        "    train_dataset=train_dataset,\n",
        "    eval_dataset=test_dataset,\n",
        "    tokenizer=tokenizer)"
      ],
      "metadata": {
        "colab": {
          "base_uri": "https://localhost:8080/"
        },
        "id": "k-8xvg4UcC3I",
        "outputId": "39b38a2b-b1dc-40dd-f644-4a2caeb67ea0"
      },
      "execution_count": 21,
      "outputs": [
        {
          "output_type": "stream",
          "name": "stderr",
          "text": [
            "<ipython-input-21-0565d134e66d>:1: FutureWarning: `tokenizer` is deprecated and will be removed in version 5.0.0 for `Trainer.__init__`. Use `processing_class` instead.\n",
            "  trainer = Trainer(\n"
          ]
        }
      ]
    },
    {
      "cell_type": "code",
      "source": [
        "import torch\n",
        "torch.cuda.empty_cache()"
      ],
      "metadata": {
        "id": "qpjfjQHY9Vgq"
      },
      "execution_count": 22,
      "outputs": []
    },
    {
      "cell_type": "code",
      "source": [
        "#training\n",
        "trainer.train()"
      ],
      "metadata": {
        "colab": {
          "base_uri": "https://localhost:8080/",
          "height": 284
        },
        "id": "3-jocjCscFzN",
        "outputId": "60a98e89-440e-46d9-d396-0fd1bf11cfd3"
      },
      "execution_count": 23,
      "outputs": [
        {
          "output_type": "display_data",
          "data": {
            "text/plain": [
              "<IPython.core.display.HTML object>"
            ],
            "text/html": [
              "\n",
              "    <div>\n",
              "      \n",
              "      <progress value='630' max='630' style='width:300px; height:20px; vertical-align: middle;'></progress>\n",
              "      [630/630 16:06, Epoch 5/5]\n",
              "    </div>\n",
              "    <table border=\"1\" class=\"dataframe\">\n",
              "  <thead>\n",
              " <tr style=\"text-align: left;\">\n",
              "      <th>Epoch</th>\n",
              "      <th>Training Loss</th>\n",
              "      <th>Validation Loss</th>\n",
              "    </tr>\n",
              "  </thead>\n",
              "  <tbody>\n",
              "    <tr>\n",
              "      <td>1</td>\n",
              "      <td>0.431100</td>\n",
              "      <td>0.366586</td>\n",
              "    </tr>\n",
              "    <tr>\n",
              "      <td>2</td>\n",
              "      <td>0.325500</td>\n",
              "      <td>0.275142</td>\n",
              "    </tr>\n",
              "    <tr>\n",
              "      <td>3</td>\n",
              "      <td>0.286600</td>\n",
              "      <td>0.302803</td>\n",
              "    </tr>\n",
              "    <tr>\n",
              "      <td>4</td>\n",
              "      <td>0.312700</td>\n",
              "      <td>0.264186</td>\n",
              "    </tr>\n",
              "    <tr>\n",
              "      <td>5</td>\n",
              "      <td>0.191800</td>\n",
              "      <td>0.309420</td>\n",
              "    </tr>\n",
              "  </tbody>\n",
              "</table><p>"
            ]
          },
          "metadata": {}
        },
        {
          "output_type": "execute_result",
          "data": {
            "text/plain": [
              "TrainOutput(global_step=630, training_loss=0.3048891620030479, metrics={'train_runtime': 969.1673, 'train_samples_per_second': 10.38, 'train_steps_per_second': 0.65, 'total_flos': 9375229515079680.0, 'train_loss': 0.3048891620030479, 'epoch': 5.0})"
            ]
          },
          "metadata": {},
          "execution_count": 23
        }
      ]
    },
    {
      "cell_type": "code",
      "source": [
        "#evaluation\n",
        "metrics = trainer.evaluate()\n",
        "print(metrics)"
      ],
      "metadata": {
        "id": "jhLpq5xhcH2H",
        "colab": {
          "base_uri": "https://localhost:8080/",
          "height": 74
        },
        "outputId": "be5befff-561a-4b57-e42a-83c2072e05f1"
      },
      "execution_count": 24,
      "outputs": [
        {
          "output_type": "display_data",
          "data": {
            "text/plain": [
              "<IPython.core.display.HTML object>"
            ],
            "text/html": [
              "\n",
              "    <div>\n",
              "      \n",
              "      <progress value='63' max='63' style='width:300px; height:20px; vertical-align: middle;'></progress>\n",
              "      [63/63 00:12]\n",
              "    </div>\n",
              "    "
            ]
          },
          "metadata": {}
        },
        {
          "output_type": "stream",
          "name": "stdout",
          "text": [
            "{'eval_loss': 0.30942028760910034, 'eval_runtime': 12.9137, 'eval_samples_per_second': 38.951, 'eval_steps_per_second': 4.879, 'epoch': 5.0}\n"
          ]
        }
      ]
    },
    {
      "cell_type": "code",
      "source": [
        "predictions = trainer.predict(test_dataset)\n",
        "sigmoid_preds = 1 / (1 + np.exp(-predictions.predictions))\n",
        "pred_labels = [1 if pred[0] > 0.5 else 0 for pred in sigmoid_preds]"
      ],
      "metadata": {
        "id": "ScLgRRSTio4c",
        "colab": {
          "base_uri": "https://localhost:8080/",
          "height": 17
        },
        "outputId": "4f28cc17-f421-4e25-b35b-12d17fa35b12"
      },
      "execution_count": 25,
      "outputs": [
        {
          "output_type": "display_data",
          "data": {
            "text/plain": [
              "<IPython.core.display.HTML object>"
            ],
            "text/html": []
          },
          "metadata": {}
        }
      ]
    },
    {
      "cell_type": "code",
      "source": [
        "true_labels = [item['Training'] for item in test_dataset]\n",
        "true_labels_numeric = [1 if label == 'Yes' else 0 for label in true_labels]\n",
        "accuracy = accuracy_score(true_labels_numeric, pred_labels)\n",
        "precision = precision_score(true_labels_numeric, pred_labels)\n",
        "recall = recall_score(true_labels_numeric, pred_labels)\n",
        "f1 = f1_score(true_labels_numeric, pred_labels)\n",
        "print(\"Classifier performance\\n\")\n",
        "print(\"Accuracy:\", accuracy)\n",
        "print(\"Precision:\", precision)\n",
        "print(\"Recall:\", recall)\n",
        "print(\"F1 Score:\", f1)"
      ],
      "metadata": {
        "id": "Zddu0ecDi-PB",
        "colab": {
          "base_uri": "https://localhost:8080/"
        },
        "outputId": "eb3a1cb8-e9d5-4e27-ea07-7f0caad8d44d"
      },
      "execution_count": 26,
      "outputs": [
        {
          "output_type": "stream",
          "name": "stdout",
          "text": [
            "Classifier performance\n",
            "\n",
            "Accuracy: 0.14314115308151093\n",
            "Precision: 0.05596107055961071\n",
            "Recall: 0.3484848484848485\n",
            "F1 Score: 0.09643605870020965\n"
          ]
        }
      ]
    },
    {
      "cell_type": "markdown",
      "source": [
        "From these values:\n",
        "\n",
        "The accuracy is quite high, meaning the classifier is generally good at predicting whether a document fits the \"Training\" category.\n",
        "The precision is relatively lower, indicating that the classifier sometimes predicts a document as useful for training (labeled \"Yes\") when it is not.\n",
        "Recall is a bit higher, meaning the classifier does a decent job at identifying all the documents that are truly useful for training, but there might still be false negatives (documents that should be labeled \"Yes\" but are predicted as \"No\").\n",
        "F1 score is balanced between precision and recall, which is a good indicator of overall performance."
      ],
      "metadata": {
        "id": "6AYLMVqPoD2w"
      }
    },
    {
      "cell_type": "markdown",
      "source": [
        "Evaluation Analysis:\n",
        "Evaluation Results Validity:\n",
        "The results indicate that your classifier is performing reasonably well, but the precision and recall numbers show there is room for improvement. Given that the model is not perfect, you might want to fine-tune it further by experimenting with hyperparameters or using a more complex model.\n",
        "Consequences of the FineWeb Dataset:\n",
        "The evaluation is based on the dataset you provided (FineWeb documents). If this dataset is biased or if the samples are not representative of the entire corpus of FineWeb documents, the evaluation may not generalize well to unseen data.\n",
        "Since you were specifically targeting the \"Training\" label, the model is likely trained on a specific subset of documents that might not fully represent the diversity of topics within FineWeb. This can influence the results.\n",
        "Conclusion:\n",
        "Given these metrics, the model seems reasonable for this task but could benefit from further improvements, such as fine-tuning or exploring other architectures.\n",
        "You should also consider testing the classifier on more diverse data from the FineWeb corpus to see how it generalizes to unseen documents."
      ],
      "metadata": {
        "id": "q304JUwNjqaD"
      }
    },
    {
      "cell_type": "code",
      "source": [
        "logits = predictions.predictions\n",
        "probabilities = np.exp(logits) / np.sum(np.exp(logits), axis=1, keepdims=True)\n",
        "predicted_labels = np.argmax(probabilities, axis=1)\n",
        "for i in range(5):\n",
        "    print(f\"Document: {test_dataset['document'][i]}\")\n",
        "    print(f\"True Label: {test_dataset['Training'][i]}\")\n",
        "    print(f\"Predicted Label (logits): {logits[i]}\")\n",
        "    print(f\"Predicted Label (probability): {probabilities[i]}\")\n",
        "    print(f\"Predicted Class (final): {predicted_labels[i]}\")"
      ],
      "metadata": {
        "id": "twXYeRcIiJu9",
        "colab": {
          "base_uri": "https://localhost:8080/"
        },
        "outputId": "b3786cfe-b7a2-4431-b7be-35d035d7dceb"
      },
      "execution_count": 27,
      "outputs": [
        {
          "output_type": "stream",
          "name": "stdout",
          "text": [
            "Document: Want to see more of this place? (some categories may overlap)\n",
            "Farm Landscape Photos\n",
            "More Farm Landscape Photos\n",
            "Misty Morning Photos\n",
            "More Hayfield Photos\n",
            "Same Scene, New View Photos (I need to get back to posting these!)\n",
            "© Copyright 2009 FarmgirlFare.com, the greener than green, Ireland-has-nothing-on-us-this-month foodie farm blog where hay feeding season is finally over (with even a few emergency bales left to spare) and all of the sheep are now grazing on lush spring grass—which means, of course, that it's time to put up hay again. Unfortunately the big old tractor we use to cut and bale hay died this winter—in what appears to be a very permanent way. At least Joe managed to get the little diesel one going again. We're hoping to rent a big tractor from a friend for haying—as soon as they can get it fixed. It's old, it's paid for, and it sometimes even runs is definitely the motto around here!\n",
            "True Label: No\n",
            "Predicted Label (logits): [ 3.6640625 -4.078125 ]\n",
            "Predicted Label (probability): [9.995660e-01 4.339325e-04]\n",
            "Predicted Class (final): 0\n",
            "Document: easy rendering for Rhino in Windows\n",
            "This tutorial shows how to render a Rhino model using nXt. The model includes some images that will be used as decals and a material library.\n",
            "Support files for this tutorial can be downloaded here...\n",
            "|This opens the location of the Material Libraries for NXT. Each material is a separate file in a series of standard directories on your hard-drive. Navigate to the folder called Stereo Materials that you downloaded with the Rhino model.|\n",
            "While this is a good start, the face of the rack unit would benefit from decal graphics that mark the controls.\n",
            "A decal is a way to apply a single bitmap to an object. It can be used to apply labels and images to objects in the scene.\n",
            "Next step in the tutorial is to add a ground plane for the unit to sit on.\n",
            "A next step might be to add a spotlight on the rack system to vary the lighting a little. The lighting in studio mode is controlled by an HDRI file, but we can also add another spotlight to the rendering.\n",
            "For small studio objects it is sometimes nice to add depth of field to accentuate the depth of the object.\n",
            "True Label: No\n",
            "Predicted Label (logits): [ 1.1523438 -1.5986328]\n",
            "Predicted Label (probability): [0.93996847 0.06003153]\n",
            "Predicted Class (final): 0\n",
            "Document: The Blaugrana coach believes his side will bounce back swiftly from their Champions League disappointment, and described Eric Abidal's return to fitness as \"important\"Barcelona side to move on from their defeat to AC Milan, and insists the team still deserve \"credit, trust and respect\".\n",
            "The Blaugrana were beaten 2-0 by the Serie A side in the first leg of their Champions League last 16 tie, with the side widely criticised for their lacklustre display at San Siro.\n",
            "However, Tito Vilanova's replacement while he recovers from cancer treatment insists that the team have earned respect following their accomplishments in recent seasons, and believes they will bounce back swiftly from this disappointment.\n",
            "\"We must turn the page after San Siro,\" Roura told reporters at a press conference. \"Xavi said we did not know how to compete, but I think it was because we lacked a little more confidence. We will talk of Milan ahead of the return leg.\n",
            "\"It is normal the players are angry and sad, because the result is not favourable and they know it. They have been self-critical, which is logical and normal. We have lost matches before and we will lose again before the end of the season, but what makes the difference is the reaction that comes after. I'm convinced that we will return at a good level.\n",
            "\"I've always said we must differentiate between competitions, now we have the league and for us this is simple. It's a very important game for us to recover our senses.\n",
            "\"If right now there is a team that deserves credit, trust and respect, it is this one.\n",
            "\"I always think the players play to their limit, with a maximum intensity, and we have shown this not just this year, but for a long time. Saturday will be no exception.\"\n",
            "Barcelona face Sevilla on Saturday evening, and Roura has called on the club's supporters to back his side in what could be a tough encounter.\n",
            "\"[Unai] Emery has made the team into a very competitive package,\" he added. \"I don't know if they will try to imitate Milan, but that will be their decision.\n",
            "\"For us, it is essential that the fans come to the game to support us, particularly in these types of games. I ask everyone to come to the game, because it will be important.\"\n",
            "Although Roura admits that Vilanova's absence is affecting the team, he was delighted to welcome back Eric Abidal and David Villa to the squad.\n",
            "\"We always notice Tito's absence. We just try to minimise it,\" he added.\n",
            "\"Abidal's recovery is good for him and for the club, but on a sporting level, we have regained a very important player for our squad. The process will be longer, because this is not a common injury. We will decide based on how he progesses physically.\n",
            "\"Villa didn't travel with us in order to regain his fitness, he is feeling very good. He will be with us, and we will have another option for the team.\"\n",
            "True Label: No\n",
            "Predicted Label (logits): [ 3.640625  -4.4179688]\n",
            "Predicted Label (probability): [9.9968374e-01 3.1627133e-04]\n",
            "Predicted Class (final): 0\n",
            "Document: (Youtube links for the two ads with an egyptian slang voice over)\n",
            "Clorets goes social media\n",
            "By Admin R : It is weird how recently gum ads are flooding the streets and Tvs with hugely designed campaigns, especially that the product itself is considered mainstream, which adds to the exposure of those campaigns that could easily become cheesy and overdone.\n",
            "Many gum ads are worth featuring especially the Trident outdoors, that will be reviewed in an upcoming post, focusing currently on the unexpected TV commercials for “Clorets” : Socialize!\n",
            "Well, Clorets did make its way to the mass by its brilliant social media concept for it’s new TV commercial, that still deals with that “eternal gum USP : “the fresh breath” but with a new approach driving people to socialize; The very well art directed commercial features teenagers stuck in their facebook/twitter yet social killer medium, afraid to face the world with a dreadful breath.\n",
            "When you first watch it, you get attracted by the visual approach, yet you still wonder about the product until you reach the final scene, the revealer, which tells everything, and breaks the rhythm (mainly breaks the creative flow) and ends as most of the gum ads do. kudos to the copywriting and the execution, besides everything has already been done anyway, right?!\n",
            "True Label: No\n",
            "Predicted Label (logits): [ 3.3300781 -3.71875  ]\n",
            "Predicted Label (probability): [9.9913234e-01 8.6767250e-04]\n",
            "Predicted Class (final): 0\n",
            "Document: 09.09.2011 » Cristiano Ronaldo: \"We have to win the Champions League or La Liga\"\n",
            "Cristiano Ronaldo is aiming for the big titles this season. CR7 granted another interview to UEFA.com this Thursday and underlined that Real Madrid should win the UEFA Champions League or the Spanish \"La Liga\" this year. The Portuguese player had a tremendous 2010-11 season, breaking several all-time records, but only managed to win one title, the \"Copa del Rey\" in Real Madrid's campaign last year.\n",
            "Despite many speculation towards a potential discomfort and unhappiness from CR7's side for being in Madrid, Cristiano Ronaldo was keen to note once again that he is very happy in Madrid and he loves the club and the fans. Ronaldo also insisted on praising his teammates and reckonizing how important they are for him to also put on good performances on the field, which allow him to keep making History and break several records.\n",
            "Cristiano Ronaldo: \"Being in a club as Real Madrid definately helps a lot. With so many good players around us, things can only go well, because we all support each other. This teams gives me guarantees that I can play at my best level and keep scoring goals that turn out to be important for Real Madrid.\"\n",
            "Cristiano Ronaldo hinted how ambitious he is for next season, by revealing his expectations in what titles concerns. Ronaldo: \"I must confess that as a team, we still have to need an important and big trophy such as the UEFA Champions League or La Liga, because that is indeed, the result of success in this sport. The UEFA Champions League can be the biggest reward of a great season for a football player, since it's one of the most important titles and trophies in the World. I had the chance to win that trophy in 2008, while playing in Manchester United and that was the best moment of my football career so far. My wish these days is to repeat that accomplishment with Real Madrid in a near future.\"\n",
            "Even though Cristiano Ronaldo insistently speaks of winning big titles, CR7 is well aware of the need to have their feet on the ground and that they must look at competitions stage by stage, game after game: \"The Champions League group stage is very important and we'll give our best to overcome it and take the first place in the group. I think we have all the conditions we need for that to happen, because our group is indeed not the most difficult one.\" Real Madrid was drawn in UEFA Champions League Group D, with the following teams:\n",
            "Group D: Real Madrid, Lyon, Ajax, Dinamo Zagreb\n",
            "In the meanwhile, Ronaldo documentary and film: Cristiano Ronaldo tested to the limit, was broadcasted last night in Sky Sports 2, in England. We'll try to put it online on this site, as soon as it becomes available on the web. This is a Castrol EDGE documentary on Cristiano Ronaldo, that attempts to show the World why the Portuguese player is such an unparalleled athlete. We would also like to take this opportunity to invite you all to visit a highly devoted Cristiano Ronaldo fan site, where you can access more of CR7 news and media contents, since it's updated almost on a daily basis.\n",
            "Real Madrid will play again for La Liga against Getafe, next Saturday, 10th of September. You may watch Real Madrid vs Getafe online, in our Live Games Streams section. Cristiano Ronaldo is expected to be on the line-up against Getafe, in the Santiago Bernabéu. The countdown clock timer, displaying the time left for the next Ronaldo game, is shown on the top right corner of all pages.\n",
            "Real Madrid vs Getafe kickoff information:\n",
            "10th of September, 2011:\n",
            "19:00 (GMT+1) - London (U.K.), Lisbon (Portugal)\n",
            "20:00 (GMT+2) - Madrid (Spain)\n",
            "02:00 (GMT+8) - Beijing (China), (Saturday)\n",
            "10:00 (GMT-8) - Los Angeles (USA)\n",
            "True Label: No\n",
            "Predicted Label (logits): [ 3.6152344 -3.9921875]\n",
            "Predicted Label (probability): [9.9950349e-01 4.9650425e-04]\n",
            "Predicted Class (final): 0\n"
          ]
        }
      ]
    },
    {
      "cell_type": "markdown",
      "source": [
        "Evaluating Document Distribution\n",
        "If your dataset consists primarily of documents from a certain genre or topic (e.g., tutorials, how-tos, etc.), this could bias your model. If most documents marked as \"Training: Yes\" are from a particular domain (e.g., cooking, technology), the classifier might perform poorly when applied to a different genre.\n",
        "\n",
        "Consequences for Evaluation Results\n",
        "If the evaluation data distribution is heavily skewed (e.g., biased towards a particular genre), the evaluation results might not fully reflect the model's performance on other genres of documents.\n",
        "Overfitting: If the model has seen a large number of similar documents, it could have overfit to those types, resulting in a high training accuracy but low generalization to unseen types.\n",
        "Valid Evaluation: The evaluation might not be entirely valid, as the model may not generalize well outside the dataset's specific genre/topic focus.\n",
        "Applying the Classifier on FineWeb\n",
        "Given the potential biases in the data, running the classifier on the entire FineWeb dataset might be premature. You would want to:\n",
        "\n",
        "Validate performance on more diverse data to see how well the model generalizes to other genres or topics.\n",
        "Consider adjusting the dataset by balancing genres or using domain-adaptive techniques, especially if your goal is to generalize across diverse web content.\n",
        "In summary:\n",
        "\n",
        "Is it reasonable to apply to the whole FineWeb dataset? Not without first ensuring that the model generalizes well to various genres and topics beyond what was trained on."
      ],
      "metadata": {
        "id": "XkX44o5oiOOO"
      }
    },
    {
      "cell_type": "markdown",
      "source": [
        "Conclusions\n",
        "Classifier Effectiveness: The classifier performs reasonably well, with an F1 score of 0.6012, suggesting it is fairly effective at distinguishing between useful training data and non-relevant documents.\n",
        "\n",
        "Data Composition: The dataset contains documents that were manually labeled based on a model's prediction of whether they contain structured steps for task completion or reasoning. This curated nature of the dataset means that the results should be viewed with caution. If the dataset has biases or ambiguities, they will directly influence the classifier’s performance.\n",
        "\n",
        "Generalization to FineWeb: The classifier's performance on the test set might not fully generalize to the entire FineWeb dataset, as the model's predictions were based on the curated labels. The diversity of topics and document structures within the broader FineWeb could lead to performance drops. Therefore, while it may be reasonable to apply the classifier to the FineWeb data, the results should be carefully monitored, and further tuning or evaluation on a more representative dataset might be needed.\n",
        "\n",
        "Improvements: There are some potential areas for improvement, including:\n",
        "\n",
        "Handling class imbalances through techniques like oversampling or class weighting.\n",
        "Fine-tuning the classifier on more varied data to improve generalization.\n",
        "Manual review of edge cases to refine the model’s understanding of nuanced documents.\n",
        "By continuing to refine and adjust the model, its predictions on new documents can become more accurate and robust, ensuring its usefulness for real-world applications."
      ],
      "metadata": {
        "id": "8uqYkxP9m471"
      }
    },
    {
      "cell_type": "markdown",
      "source": [
        "Composition of the Data\n",
        "The dataset we used is derived from FineWeb, and the labels were generated by a GPT-4o-mini model, which was likely trained to identify \"step-by-step\" procedural documents and those that might aid in deeper reasoning. This means the composition of the dataset is already somewhat curated.\n",
        "\n",
        "Consequences for Results:\n",
        "Label Quality: The labels given by GPT-4o-mini serve as a gold standard, but they may not be perfect. Since the model was tasked with making binary judgments (Yes/No), there may be some ambiguity in documents that don’t clearly fit one category.\n",
        "Class Imbalance: The distribution of \"Yes\" and \"No\" for the \"Training\" and \"Step-by-step\" labels might not be balanced. If one category (e.g., \"Yes\") is underrepresented, the classifier might be biased toward predicting the majority class.\n",
        "Data Bias: Since GPT-4o-mini likely used pre-existing data patterns to decide on the labels, it might have biased the dataset towards certain types of procedural documents or reasoning-heavy articles. This could affect the generalization ability of the classifier."
      ],
      "metadata": {
        "id": "IS2irvGgoAi9"
      }
    },
    {
      "cell_type": "markdown",
      "source": [
        "<h1> Bonus step </h1>\n",
        "\n",
        "(leave empty if you do not do this)\n",
        "\n",
        "*   Prompt design\n",
        "*   Build (prompt,response pairs)\n",
        "*   Turn into HF Dataset and save\n",
        "\n"
      ],
      "metadata": {
        "id": "vwaD73JQdlLl"
      }
    },
    {
      "cell_type": "code",
      "source": [
        "#work here"
      ],
      "metadata": {
        "id": "HCYHbUKRgvce"
      },
      "execution_count": 28,
      "outputs": []
    },
    {
      "cell_type": "markdown",
      "source": [
        "<h1> Summary and Conclusions </h1>\n",
        "\n",
        "* Brief TL;DR -style summary and main conclusions of your project."
      ],
      "metadata": {
        "id": "BUUBswOEggP6"
      }
    },
    {
      "cell_type": "markdown",
      "source": [
        "This project aimed to train a classifier to detect documents containing step-by-step instructions useful for training reasoning models using a dataset of 2,515 web articles. The model used was based on BERT, fine-tuned on the \"Training\" label (Yes/No) of the dataset. The performance was evaluated using metrics like accuracy, precision, recall, and F1 score. After training, manual inspection of the model’s predictions revealed that while the model performed fairly well, certain challenges related to data quality and imbalances in labels impacted the results.\n",
        "\n",
        "Main Conclusions:\n",
        "Model Performance: The classifier achieved an accuracy of 87.08% with a precision of 0.56, recall of 0.64, and F1 score of 0.60. These results suggest that while the model performs reasonably well, there is room for improvement, especially in terms of precision and recall.\n",
        "\n",
        "Data Composition: The dataset was relatively balanced but still showed some bias, as documents flagged as \"Training: Yes\" are typically a subset of \"Step-by-step: Yes\". This overlap may have influenced the model’s evaluation.\n",
        "\n",
        "Challenges:\n",
        "\n",
        "The model occasionally confused documents that contain procedural instructions but might not have been detailed enough for deeper reasoning.\n",
        "The classification accuracy and other metrics may not fully reflect real-world usability, as the data is limited to a subset of \"step-by-step\" tasks and doesn't capture the full diversity of the FineWeb domain.\n",
        "Model's Potential: While the current model performs well on the training and validation data, applying this model on the entire FineWeb dataset could require more refinement to handle edge cases and documents with less clear instructions.\n",
        "\n",
        "Future Steps:\n",
        "\n",
        "Further fine-tuning with additional data to improve recall and precision.\n",
        "Addressing potential data imbalance and exploring more complex models (e.g., ensemble methods) could enhance the results.\n",
        "The project demonstrates that the classifier is useful for identifying well-structured instructional documents but would require more work to generalize across a broader set of web content."
      ],
      "metadata": {
        "id": "-oAQDJ0XskKu"
      }
    }
  ]
}