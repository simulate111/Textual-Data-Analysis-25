{
  "nbformat": 4,
  "nbformat_minor": 0,
  "metadata": {
    "colab": {
      "provenance": [],
      "name": "project_TDA.ipynb",
      "gpuType": "T4",
      "include_colab_link": true
    },
    "kernelspec": {
      "name": "python3",
      "display_name": "Python 3"
    },
    "language_info": {
      "name": "python"
    },
    "accelerator": "GPU",
    "widgets": {
      "application/vnd.jupyter.widget-state+json": {
        "7703b20549974b56a0cb0153af823d10": {
          "model_module": "@jupyter-widgets/controls",
          "model_name": "HBoxModel",
          "model_module_version": "1.5.0",
          "state": {
            "_dom_classes": [],
            "_model_module": "@jupyter-widgets/controls",
            "_model_module_version": "1.5.0",
            "_model_name": "HBoxModel",
            "_view_count": null,
            "_view_module": "@jupyter-widgets/controls",
            "_view_module_version": "1.5.0",
            "_view_name": "HBoxView",
            "box_style": "",
            "children": [
              "IPY_MODEL_5c133f783eeb47ce9e2047b13fe8dc62",
              "IPY_MODEL_d2672a4c2b414ccb9568eb79536c2a93",
              "IPY_MODEL_bd93dac7960c4ed0afeb04c5ef206a28"
            ],
            "layout": "IPY_MODEL_f85fa2bd27c841c18a92f654d2a2b356"
          }
        },
        "5c133f783eeb47ce9e2047b13fe8dc62": {
          "model_module": "@jupyter-widgets/controls",
          "model_name": "HTMLModel",
          "model_module_version": "1.5.0",
          "state": {
            "_dom_classes": [],
            "_model_module": "@jupyter-widgets/controls",
            "_model_module_version": "1.5.0",
            "_model_name": "HTMLModel",
            "_view_count": null,
            "_view_module": "@jupyter-widgets/controls",
            "_view_module_version": "1.5.0",
            "_view_name": "HTMLView",
            "description": "",
            "description_tooltip": null,
            "layout": "IPY_MODEL_9fdb048626d54498bde1e97c2be82c8f",
            "placeholder": "​",
            "style": "IPY_MODEL_be287233b46942fea66e3862bae84fbb",
            "value": "Saving the dataset (1/1 shards): 100%"
          }
        },
        "d2672a4c2b414ccb9568eb79536c2a93": {
          "model_module": "@jupyter-widgets/controls",
          "model_name": "FloatProgressModel",
          "model_module_version": "1.5.0",
          "state": {
            "_dom_classes": [],
            "_model_module": "@jupyter-widgets/controls",
            "_model_module_version": "1.5.0",
            "_model_name": "FloatProgressModel",
            "_view_count": null,
            "_view_module": "@jupyter-widgets/controls",
            "_view_module_version": "1.5.0",
            "_view_name": "ProgressView",
            "bar_style": "success",
            "description": "",
            "description_tooltip": null,
            "layout": "IPY_MODEL_6b6b39cbc58e40b6b5d53de43b68f96d",
            "max": 2515,
            "min": 0,
            "orientation": "horizontal",
            "style": "IPY_MODEL_178a589e52fa45de9303a1005bb334b6",
            "value": 2515
          }
        },
        "bd93dac7960c4ed0afeb04c5ef206a28": {
          "model_module": "@jupyter-widgets/controls",
          "model_name": "HTMLModel",
          "model_module_version": "1.5.0",
          "state": {
            "_dom_classes": [],
            "_model_module": "@jupyter-widgets/controls",
            "_model_module_version": "1.5.0",
            "_model_name": "HTMLModel",
            "_view_count": null,
            "_view_module": "@jupyter-widgets/controls",
            "_view_module_version": "1.5.0",
            "_view_name": "HTMLView",
            "description": "",
            "description_tooltip": null,
            "layout": "IPY_MODEL_3f118349446d4014aeb42b034cd51673",
            "placeholder": "​",
            "style": "IPY_MODEL_31bbf578921f40ab9253fc72c578dc16",
            "value": " 2515/2515 [00:00&lt;00:00, 27464.00 examples/s]"
          }
        },
        "f85fa2bd27c841c18a92f654d2a2b356": {
          "model_module": "@jupyter-widgets/base",
          "model_name": "LayoutModel",
          "model_module_version": "1.2.0",
          "state": {
            "_model_module": "@jupyter-widgets/base",
            "_model_module_version": "1.2.0",
            "_model_name": "LayoutModel",
            "_view_count": null,
            "_view_module": "@jupyter-widgets/base",
            "_view_module_version": "1.2.0",
            "_view_name": "LayoutView",
            "align_content": null,
            "align_items": null,
            "align_self": null,
            "border": null,
            "bottom": null,
            "display": null,
            "flex": null,
            "flex_flow": null,
            "grid_area": null,
            "grid_auto_columns": null,
            "grid_auto_flow": null,
            "grid_auto_rows": null,
            "grid_column": null,
            "grid_gap": null,
            "grid_row": null,
            "grid_template_areas": null,
            "grid_template_columns": null,
            "grid_template_rows": null,
            "height": null,
            "justify_content": null,
            "justify_items": null,
            "left": null,
            "margin": null,
            "max_height": null,
            "max_width": null,
            "min_height": null,
            "min_width": null,
            "object_fit": null,
            "object_position": null,
            "order": null,
            "overflow": null,
            "overflow_x": null,
            "overflow_y": null,
            "padding": null,
            "right": null,
            "top": null,
            "visibility": null,
            "width": null
          }
        },
        "9fdb048626d54498bde1e97c2be82c8f": {
          "model_module": "@jupyter-widgets/base",
          "model_name": "LayoutModel",
          "model_module_version": "1.2.0",
          "state": {
            "_model_module": "@jupyter-widgets/base",
            "_model_module_version": "1.2.0",
            "_model_name": "LayoutModel",
            "_view_count": null,
            "_view_module": "@jupyter-widgets/base",
            "_view_module_version": "1.2.0",
            "_view_name": "LayoutView",
            "align_content": null,
            "align_items": null,
            "align_self": null,
            "border": null,
            "bottom": null,
            "display": null,
            "flex": null,
            "flex_flow": null,
            "grid_area": null,
            "grid_auto_columns": null,
            "grid_auto_flow": null,
            "grid_auto_rows": null,
            "grid_column": null,
            "grid_gap": null,
            "grid_row": null,
            "grid_template_areas": null,
            "grid_template_columns": null,
            "grid_template_rows": null,
            "height": null,
            "justify_content": null,
            "justify_items": null,
            "left": null,
            "margin": null,
            "max_height": null,
            "max_width": null,
            "min_height": null,
            "min_width": null,
            "object_fit": null,
            "object_position": null,
            "order": null,
            "overflow": null,
            "overflow_x": null,
            "overflow_y": null,
            "padding": null,
            "right": null,
            "top": null,
            "visibility": null,
            "width": null
          }
        },
        "be287233b46942fea66e3862bae84fbb": {
          "model_module": "@jupyter-widgets/controls",
          "model_name": "DescriptionStyleModel",
          "model_module_version": "1.5.0",
          "state": {
            "_model_module": "@jupyter-widgets/controls",
            "_model_module_version": "1.5.0",
            "_model_name": "DescriptionStyleModel",
            "_view_count": null,
            "_view_module": "@jupyter-widgets/base",
            "_view_module_version": "1.2.0",
            "_view_name": "StyleView",
            "description_width": ""
          }
        },
        "6b6b39cbc58e40b6b5d53de43b68f96d": {
          "model_module": "@jupyter-widgets/base",
          "model_name": "LayoutModel",
          "model_module_version": "1.2.0",
          "state": {
            "_model_module": "@jupyter-widgets/base",
            "_model_module_version": "1.2.0",
            "_model_name": "LayoutModel",
            "_view_count": null,
            "_view_module": "@jupyter-widgets/base",
            "_view_module_version": "1.2.0",
            "_view_name": "LayoutView",
            "align_content": null,
            "align_items": null,
            "align_self": null,
            "border": null,
            "bottom": null,
            "display": null,
            "flex": null,
            "flex_flow": null,
            "grid_area": null,
            "grid_auto_columns": null,
            "grid_auto_flow": null,
            "grid_auto_rows": null,
            "grid_column": null,
            "grid_gap": null,
            "grid_row": null,
            "grid_template_areas": null,
            "grid_template_columns": null,
            "grid_template_rows": null,
            "height": null,
            "justify_content": null,
            "justify_items": null,
            "left": null,
            "margin": null,
            "max_height": null,
            "max_width": null,
            "min_height": null,
            "min_width": null,
            "object_fit": null,
            "object_position": null,
            "order": null,
            "overflow": null,
            "overflow_x": null,
            "overflow_y": null,
            "padding": null,
            "right": null,
            "top": null,
            "visibility": null,
            "width": null
          }
        },
        "178a589e52fa45de9303a1005bb334b6": {
          "model_module": "@jupyter-widgets/controls",
          "model_name": "ProgressStyleModel",
          "model_module_version": "1.5.0",
          "state": {
            "_model_module": "@jupyter-widgets/controls",
            "_model_module_version": "1.5.0",
            "_model_name": "ProgressStyleModel",
            "_view_count": null,
            "_view_module": "@jupyter-widgets/base",
            "_view_module_version": "1.2.0",
            "_view_name": "StyleView",
            "bar_color": null,
            "description_width": ""
          }
        },
        "3f118349446d4014aeb42b034cd51673": {
          "model_module": "@jupyter-widgets/base",
          "model_name": "LayoutModel",
          "model_module_version": "1.2.0",
          "state": {
            "_model_module": "@jupyter-widgets/base",
            "_model_module_version": "1.2.0",
            "_model_name": "LayoutModel",
            "_view_count": null,
            "_view_module": "@jupyter-widgets/base",
            "_view_module_version": "1.2.0",
            "_view_name": "LayoutView",
            "align_content": null,
            "align_items": null,
            "align_self": null,
            "border": null,
            "bottom": null,
            "display": null,
            "flex": null,
            "flex_flow": null,
            "grid_area": null,
            "grid_auto_columns": null,
            "grid_auto_flow": null,
            "grid_auto_rows": null,
            "grid_column": null,
            "grid_gap": null,
            "grid_row": null,
            "grid_template_areas": null,
            "grid_template_columns": null,
            "grid_template_rows": null,
            "height": null,
            "justify_content": null,
            "justify_items": null,
            "left": null,
            "margin": null,
            "max_height": null,
            "max_width": null,
            "min_height": null,
            "min_width": null,
            "object_fit": null,
            "object_position": null,
            "order": null,
            "overflow": null,
            "overflow_x": null,
            "overflow_y": null,
            "padding": null,
            "right": null,
            "top": null,
            "visibility": null,
            "width": null
          }
        },
        "31bbf578921f40ab9253fc72c578dc16": {
          "model_module": "@jupyter-widgets/controls",
          "model_name": "DescriptionStyleModel",
          "model_module_version": "1.5.0",
          "state": {
            "_model_module": "@jupyter-widgets/controls",
            "_model_module_version": "1.5.0",
            "_model_name": "DescriptionStyleModel",
            "_view_count": null,
            "_view_module": "@jupyter-widgets/base",
            "_view_module_version": "1.2.0",
            "_view_name": "StyleView",
            "description_width": ""
          }
        },
        "ac98e293b8b94f2788789824fc33a333": {
          "model_module": "@jupyter-widgets/controls",
          "model_name": "HBoxModel",
          "model_module_version": "1.5.0",
          "state": {
            "_dom_classes": [],
            "_model_module": "@jupyter-widgets/controls",
            "_model_module_version": "1.5.0",
            "_model_name": "HBoxModel",
            "_view_count": null,
            "_view_module": "@jupyter-widgets/controls",
            "_view_module_version": "1.5.0",
            "_view_name": "HBoxView",
            "box_style": "",
            "children": [
              "IPY_MODEL_aafd1199d8e945c895d024ee318c306a",
              "IPY_MODEL_fe9667e7660945f981105cdade024a00",
              "IPY_MODEL_ce4d15f32c294403999c91a2e2c8300a"
            ],
            "layout": "IPY_MODEL_1aeb89ab5e30448b86c47eed7b90a59a"
          }
        },
        "aafd1199d8e945c895d024ee318c306a": {
          "model_module": "@jupyter-widgets/controls",
          "model_name": "HTMLModel",
          "model_module_version": "1.5.0",
          "state": {
            "_dom_classes": [],
            "_model_module": "@jupyter-widgets/controls",
            "_model_module_version": "1.5.0",
            "_model_name": "HTMLModel",
            "_view_count": null,
            "_view_module": "@jupyter-widgets/controls",
            "_view_module_version": "1.5.0",
            "_view_name": "HTMLView",
            "description": "",
            "description_tooltip": null,
            "layout": "IPY_MODEL_fb54e84330884c4a9fddeadf63bb3690",
            "placeholder": "​",
            "style": "IPY_MODEL_1ac82068c35a47a08b386db017f4a998",
            "value": "Map: 100%"
          }
        },
        "fe9667e7660945f981105cdade024a00": {
          "model_module": "@jupyter-widgets/controls",
          "model_name": "FloatProgressModel",
          "model_module_version": "1.5.0",
          "state": {
            "_dom_classes": [],
            "_model_module": "@jupyter-widgets/controls",
            "_model_module_version": "1.5.0",
            "_model_name": "FloatProgressModel",
            "_view_count": null,
            "_view_module": "@jupyter-widgets/controls",
            "_view_module_version": "1.5.0",
            "_view_name": "ProgressView",
            "bar_style": "success",
            "description": "",
            "description_tooltip": null,
            "layout": "IPY_MODEL_a5511a2bed4f48ebaec55cfb546c4e3e",
            "max": 2515,
            "min": 0,
            "orientation": "horizontal",
            "style": "IPY_MODEL_861d38f1486a4ce5b9a4b2720dcee07a",
            "value": 2515
          }
        },
        "ce4d15f32c294403999c91a2e2c8300a": {
          "model_module": "@jupyter-widgets/controls",
          "model_name": "HTMLModel",
          "model_module_version": "1.5.0",
          "state": {
            "_dom_classes": [],
            "_model_module": "@jupyter-widgets/controls",
            "_model_module_version": "1.5.0",
            "_model_name": "HTMLModel",
            "_view_count": null,
            "_view_module": "@jupyter-widgets/controls",
            "_view_module_version": "1.5.0",
            "_view_name": "HTMLView",
            "description": "",
            "description_tooltip": null,
            "layout": "IPY_MODEL_1393f9ba082e420b8cd4d4c7df81824a",
            "placeholder": "​",
            "style": "IPY_MODEL_699e8223fff7434190d7ae33e96721f3",
            "value": " 2515/2515 [00:00&lt;00:00, 9125.62 examples/s]"
          }
        },
        "1aeb89ab5e30448b86c47eed7b90a59a": {
          "model_module": "@jupyter-widgets/base",
          "model_name": "LayoutModel",
          "model_module_version": "1.2.0",
          "state": {
            "_model_module": "@jupyter-widgets/base",
            "_model_module_version": "1.2.0",
            "_model_name": "LayoutModel",
            "_view_count": null,
            "_view_module": "@jupyter-widgets/base",
            "_view_module_version": "1.2.0",
            "_view_name": "LayoutView",
            "align_content": null,
            "align_items": null,
            "align_self": null,
            "border": null,
            "bottom": null,
            "display": null,
            "flex": null,
            "flex_flow": null,
            "grid_area": null,
            "grid_auto_columns": null,
            "grid_auto_flow": null,
            "grid_auto_rows": null,
            "grid_column": null,
            "grid_gap": null,
            "grid_row": null,
            "grid_template_areas": null,
            "grid_template_columns": null,
            "grid_template_rows": null,
            "height": null,
            "justify_content": null,
            "justify_items": null,
            "left": null,
            "margin": null,
            "max_height": null,
            "max_width": null,
            "min_height": null,
            "min_width": null,
            "object_fit": null,
            "object_position": null,
            "order": null,
            "overflow": null,
            "overflow_x": null,
            "overflow_y": null,
            "padding": null,
            "right": null,
            "top": null,
            "visibility": null,
            "width": null
          }
        },
        "fb54e84330884c4a9fddeadf63bb3690": {
          "model_module": "@jupyter-widgets/base",
          "model_name": "LayoutModel",
          "model_module_version": "1.2.0",
          "state": {
            "_model_module": "@jupyter-widgets/base",
            "_model_module_version": "1.2.0",
            "_model_name": "LayoutModel",
            "_view_count": null,
            "_view_module": "@jupyter-widgets/base",
            "_view_module_version": "1.2.0",
            "_view_name": "LayoutView",
            "align_content": null,
            "align_items": null,
            "align_self": null,
            "border": null,
            "bottom": null,
            "display": null,
            "flex": null,
            "flex_flow": null,
            "grid_area": null,
            "grid_auto_columns": null,
            "grid_auto_flow": null,
            "grid_auto_rows": null,
            "grid_column": null,
            "grid_gap": null,
            "grid_row": null,
            "grid_template_areas": null,
            "grid_template_columns": null,
            "grid_template_rows": null,
            "height": null,
            "justify_content": null,
            "justify_items": null,
            "left": null,
            "margin": null,
            "max_height": null,
            "max_width": null,
            "min_height": null,
            "min_width": null,
            "object_fit": null,
            "object_position": null,
            "order": null,
            "overflow": null,
            "overflow_x": null,
            "overflow_y": null,
            "padding": null,
            "right": null,
            "top": null,
            "visibility": null,
            "width": null
          }
        },
        "1ac82068c35a47a08b386db017f4a998": {
          "model_module": "@jupyter-widgets/controls",
          "model_name": "DescriptionStyleModel",
          "model_module_version": "1.5.0",
          "state": {
            "_model_module": "@jupyter-widgets/controls",
            "_model_module_version": "1.5.0",
            "_model_name": "DescriptionStyleModel",
            "_view_count": null,
            "_view_module": "@jupyter-widgets/base",
            "_view_module_version": "1.2.0",
            "_view_name": "StyleView",
            "description_width": ""
          }
        },
        "a5511a2bed4f48ebaec55cfb546c4e3e": {
          "model_module": "@jupyter-widgets/base",
          "model_name": "LayoutModel",
          "model_module_version": "1.2.0",
          "state": {
            "_model_module": "@jupyter-widgets/base",
            "_model_module_version": "1.2.0",
            "_model_name": "LayoutModel",
            "_view_count": null,
            "_view_module": "@jupyter-widgets/base",
            "_view_module_version": "1.2.0",
            "_view_name": "LayoutView",
            "align_content": null,
            "align_items": null,
            "align_self": null,
            "border": null,
            "bottom": null,
            "display": null,
            "flex": null,
            "flex_flow": null,
            "grid_area": null,
            "grid_auto_columns": null,
            "grid_auto_flow": null,
            "grid_auto_rows": null,
            "grid_column": null,
            "grid_gap": null,
            "grid_row": null,
            "grid_template_areas": null,
            "grid_template_columns": null,
            "grid_template_rows": null,
            "height": null,
            "justify_content": null,
            "justify_items": null,
            "left": null,
            "margin": null,
            "max_height": null,
            "max_width": null,
            "min_height": null,
            "min_width": null,
            "object_fit": null,
            "object_position": null,
            "order": null,
            "overflow": null,
            "overflow_x": null,
            "overflow_y": null,
            "padding": null,
            "right": null,
            "top": null,
            "visibility": null,
            "width": null
          }
        },
        "861d38f1486a4ce5b9a4b2720dcee07a": {
          "model_module": "@jupyter-widgets/controls",
          "model_name": "ProgressStyleModel",
          "model_module_version": "1.5.0",
          "state": {
            "_model_module": "@jupyter-widgets/controls",
            "_model_module_version": "1.5.0",
            "_model_name": "ProgressStyleModel",
            "_view_count": null,
            "_view_module": "@jupyter-widgets/base",
            "_view_module_version": "1.2.0",
            "_view_name": "StyleView",
            "bar_color": null,
            "description_width": ""
          }
        },
        "1393f9ba082e420b8cd4d4c7df81824a": {
          "model_module": "@jupyter-widgets/base",
          "model_name": "LayoutModel",
          "model_module_version": "1.2.0",
          "state": {
            "_model_module": "@jupyter-widgets/base",
            "_model_module_version": "1.2.0",
            "_model_name": "LayoutModel",
            "_view_count": null,
            "_view_module": "@jupyter-widgets/base",
            "_view_module_version": "1.2.0",
            "_view_name": "LayoutView",
            "align_content": null,
            "align_items": null,
            "align_self": null,
            "border": null,
            "bottom": null,
            "display": null,
            "flex": null,
            "flex_flow": null,
            "grid_area": null,
            "grid_auto_columns": null,
            "grid_auto_flow": null,
            "grid_auto_rows": null,
            "grid_column": null,
            "grid_gap": null,
            "grid_row": null,
            "grid_template_areas": null,
            "grid_template_columns": null,
            "grid_template_rows": null,
            "height": null,
            "justify_content": null,
            "justify_items": null,
            "left": null,
            "margin": null,
            "max_height": null,
            "max_width": null,
            "min_height": null,
            "min_width": null,
            "object_fit": null,
            "object_position": null,
            "order": null,
            "overflow": null,
            "overflow_x": null,
            "overflow_y": null,
            "padding": null,
            "right": null,
            "top": null,
            "visibility": null,
            "width": null
          }
        },
        "699e8223fff7434190d7ae33e96721f3": {
          "model_module": "@jupyter-widgets/controls",
          "model_name": "DescriptionStyleModel",
          "model_module_version": "1.5.0",
          "state": {
            "_model_module": "@jupyter-widgets/controls",
            "_model_module_version": "1.5.0",
            "_model_name": "DescriptionStyleModel",
            "_view_count": null,
            "_view_module": "@jupyter-widgets/base",
            "_view_module_version": "1.2.0",
            "_view_name": "StyleView",
            "description_width": ""
          }
        },
        "aab1f57c05564cf8bca1a88c945b4e99": {
          "model_module": "@jupyter-widgets/controls",
          "model_name": "HBoxModel",
          "model_module_version": "1.5.0",
          "state": {
            "_dom_classes": [],
            "_model_module": "@jupyter-widgets/controls",
            "_model_module_version": "1.5.0",
            "_model_name": "HBoxModel",
            "_view_count": null,
            "_view_module": "@jupyter-widgets/controls",
            "_view_module_version": "1.5.0",
            "_view_name": "HBoxView",
            "box_style": "",
            "children": [
              "IPY_MODEL_5ddad8da54374a86a3cddeb15b3c33b1",
              "IPY_MODEL_faff9e8d7e9347fca8aa148dedd00d72",
              "IPY_MODEL_8eefb4aa978b473ea63eabea7cdcd17d"
            ],
            "layout": "IPY_MODEL_ff051b008c36474d82f89f78b39e8513"
          }
        },
        "5ddad8da54374a86a3cddeb15b3c33b1": {
          "model_module": "@jupyter-widgets/controls",
          "model_name": "HTMLModel",
          "model_module_version": "1.5.0",
          "state": {
            "_dom_classes": [],
            "_model_module": "@jupyter-widgets/controls",
            "_model_module_version": "1.5.0",
            "_model_name": "HTMLModel",
            "_view_count": null,
            "_view_module": "@jupyter-widgets/controls",
            "_view_module_version": "1.5.0",
            "_view_name": "HTMLView",
            "description": "",
            "description_tooltip": null,
            "layout": "IPY_MODEL_d1330ff784ef496887f6c786fb9c30e1",
            "placeholder": "​",
            "style": "IPY_MODEL_ecb061ec23c846c4a650e36da06cb11b",
            "value": "Map: 100%"
          }
        },
        "faff9e8d7e9347fca8aa148dedd00d72": {
          "model_module": "@jupyter-widgets/controls",
          "model_name": "FloatProgressModel",
          "model_module_version": "1.5.0",
          "state": {
            "_dom_classes": [],
            "_model_module": "@jupyter-widgets/controls",
            "_model_module_version": "1.5.0",
            "_model_name": "FloatProgressModel",
            "_view_count": null,
            "_view_module": "@jupyter-widgets/controls",
            "_view_module_version": "1.5.0",
            "_view_name": "ProgressView",
            "bar_style": "success",
            "description": "",
            "description_tooltip": null,
            "layout": "IPY_MODEL_361f8224c0004b55aa1e17533ac0b58c",
            "max": 2012,
            "min": 0,
            "orientation": "horizontal",
            "style": "IPY_MODEL_82edb576f7f04b37800f949728e4c6b7",
            "value": 2012
          }
        },
        "8eefb4aa978b473ea63eabea7cdcd17d": {
          "model_module": "@jupyter-widgets/controls",
          "model_name": "HTMLModel",
          "model_module_version": "1.5.0",
          "state": {
            "_dom_classes": [],
            "_model_module": "@jupyter-widgets/controls",
            "_model_module_version": "1.5.0",
            "_model_name": "HTMLModel",
            "_view_count": null,
            "_view_module": "@jupyter-widgets/controls",
            "_view_module_version": "1.5.0",
            "_view_name": "HTMLView",
            "description": "",
            "description_tooltip": null,
            "layout": "IPY_MODEL_4d9fff56bbe6473ba12fef298ffe7e5f",
            "placeholder": "​",
            "style": "IPY_MODEL_7be3855f7bde4e6392f4f9aac40d7d4a",
            "value": " 2012/2012 [00:06&lt;00:00, 293.21 examples/s]"
          }
        },
        "ff051b008c36474d82f89f78b39e8513": {
          "model_module": "@jupyter-widgets/base",
          "model_name": "LayoutModel",
          "model_module_version": "1.2.0",
          "state": {
            "_model_module": "@jupyter-widgets/base",
            "_model_module_version": "1.2.0",
            "_model_name": "LayoutModel",
            "_view_count": null,
            "_view_module": "@jupyter-widgets/base",
            "_view_module_version": "1.2.0",
            "_view_name": "LayoutView",
            "align_content": null,
            "align_items": null,
            "align_self": null,
            "border": null,
            "bottom": null,
            "display": null,
            "flex": null,
            "flex_flow": null,
            "grid_area": null,
            "grid_auto_columns": null,
            "grid_auto_flow": null,
            "grid_auto_rows": null,
            "grid_column": null,
            "grid_gap": null,
            "grid_row": null,
            "grid_template_areas": null,
            "grid_template_columns": null,
            "grid_template_rows": null,
            "height": null,
            "justify_content": null,
            "justify_items": null,
            "left": null,
            "margin": null,
            "max_height": null,
            "max_width": null,
            "min_height": null,
            "min_width": null,
            "object_fit": null,
            "object_position": null,
            "order": null,
            "overflow": null,
            "overflow_x": null,
            "overflow_y": null,
            "padding": null,
            "right": null,
            "top": null,
            "visibility": null,
            "width": null
          }
        },
        "d1330ff784ef496887f6c786fb9c30e1": {
          "model_module": "@jupyter-widgets/base",
          "model_name": "LayoutModel",
          "model_module_version": "1.2.0",
          "state": {
            "_model_module": "@jupyter-widgets/base",
            "_model_module_version": "1.2.0",
            "_model_name": "LayoutModel",
            "_view_count": null,
            "_view_module": "@jupyter-widgets/base",
            "_view_module_version": "1.2.0",
            "_view_name": "LayoutView",
            "align_content": null,
            "align_items": null,
            "align_self": null,
            "border": null,
            "bottom": null,
            "display": null,
            "flex": null,
            "flex_flow": null,
            "grid_area": null,
            "grid_auto_columns": null,
            "grid_auto_flow": null,
            "grid_auto_rows": null,
            "grid_column": null,
            "grid_gap": null,
            "grid_row": null,
            "grid_template_areas": null,
            "grid_template_columns": null,
            "grid_template_rows": null,
            "height": null,
            "justify_content": null,
            "justify_items": null,
            "left": null,
            "margin": null,
            "max_height": null,
            "max_width": null,
            "min_height": null,
            "min_width": null,
            "object_fit": null,
            "object_position": null,
            "order": null,
            "overflow": null,
            "overflow_x": null,
            "overflow_y": null,
            "padding": null,
            "right": null,
            "top": null,
            "visibility": null,
            "width": null
          }
        },
        "ecb061ec23c846c4a650e36da06cb11b": {
          "model_module": "@jupyter-widgets/controls",
          "model_name": "DescriptionStyleModel",
          "model_module_version": "1.5.0",
          "state": {
            "_model_module": "@jupyter-widgets/controls",
            "_model_module_version": "1.5.0",
            "_model_name": "DescriptionStyleModel",
            "_view_count": null,
            "_view_module": "@jupyter-widgets/base",
            "_view_module_version": "1.2.0",
            "_view_name": "StyleView",
            "description_width": ""
          }
        },
        "361f8224c0004b55aa1e17533ac0b58c": {
          "model_module": "@jupyter-widgets/base",
          "model_name": "LayoutModel",
          "model_module_version": "1.2.0",
          "state": {
            "_model_module": "@jupyter-widgets/base",
            "_model_module_version": "1.2.0",
            "_model_name": "LayoutModel",
            "_view_count": null,
            "_view_module": "@jupyter-widgets/base",
            "_view_module_version": "1.2.0",
            "_view_name": "LayoutView",
            "align_content": null,
            "align_items": null,
            "align_self": null,
            "border": null,
            "bottom": null,
            "display": null,
            "flex": null,
            "flex_flow": null,
            "grid_area": null,
            "grid_auto_columns": null,
            "grid_auto_flow": null,
            "grid_auto_rows": null,
            "grid_column": null,
            "grid_gap": null,
            "grid_row": null,
            "grid_template_areas": null,
            "grid_template_columns": null,
            "grid_template_rows": null,
            "height": null,
            "justify_content": null,
            "justify_items": null,
            "left": null,
            "margin": null,
            "max_height": null,
            "max_width": null,
            "min_height": null,
            "min_width": null,
            "object_fit": null,
            "object_position": null,
            "order": null,
            "overflow": null,
            "overflow_x": null,
            "overflow_y": null,
            "padding": null,
            "right": null,
            "top": null,
            "visibility": null,
            "width": null
          }
        },
        "82edb576f7f04b37800f949728e4c6b7": {
          "model_module": "@jupyter-widgets/controls",
          "model_name": "ProgressStyleModel",
          "model_module_version": "1.5.0",
          "state": {
            "_model_module": "@jupyter-widgets/controls",
            "_model_module_version": "1.5.0",
            "_model_name": "ProgressStyleModel",
            "_view_count": null,
            "_view_module": "@jupyter-widgets/base",
            "_view_module_version": "1.2.0",
            "_view_name": "StyleView",
            "bar_color": null,
            "description_width": ""
          }
        },
        "4d9fff56bbe6473ba12fef298ffe7e5f": {
          "model_module": "@jupyter-widgets/base",
          "model_name": "LayoutModel",
          "model_module_version": "1.2.0",
          "state": {
            "_model_module": "@jupyter-widgets/base",
            "_model_module_version": "1.2.0",
            "_model_name": "LayoutModel",
            "_view_count": null,
            "_view_module": "@jupyter-widgets/base",
            "_view_module_version": "1.2.0",
            "_view_name": "LayoutView",
            "align_content": null,
            "align_items": null,
            "align_self": null,
            "border": null,
            "bottom": null,
            "display": null,
            "flex": null,
            "flex_flow": null,
            "grid_area": null,
            "grid_auto_columns": null,
            "grid_auto_flow": null,
            "grid_auto_rows": null,
            "grid_column": null,
            "grid_gap": null,
            "grid_row": null,
            "grid_template_areas": null,
            "grid_template_columns": null,
            "grid_template_rows": null,
            "height": null,
            "justify_content": null,
            "justify_items": null,
            "left": null,
            "margin": null,
            "max_height": null,
            "max_width": null,
            "min_height": null,
            "min_width": null,
            "object_fit": null,
            "object_position": null,
            "order": null,
            "overflow": null,
            "overflow_x": null,
            "overflow_y": null,
            "padding": null,
            "right": null,
            "top": null,
            "visibility": null,
            "width": null
          }
        },
        "7be3855f7bde4e6392f4f9aac40d7d4a": {
          "model_module": "@jupyter-widgets/controls",
          "model_name": "DescriptionStyleModel",
          "model_module_version": "1.5.0",
          "state": {
            "_model_module": "@jupyter-widgets/controls",
            "_model_module_version": "1.5.0",
            "_model_name": "DescriptionStyleModel",
            "_view_count": null,
            "_view_module": "@jupyter-widgets/base",
            "_view_module_version": "1.2.0",
            "_view_name": "StyleView",
            "description_width": ""
          }
        },
        "538fab7a50704b72ae3820f4c0e7ae37": {
          "model_module": "@jupyter-widgets/controls",
          "model_name": "HBoxModel",
          "model_module_version": "1.5.0",
          "state": {
            "_dom_classes": [],
            "_model_module": "@jupyter-widgets/controls",
            "_model_module_version": "1.5.0",
            "_model_name": "HBoxModel",
            "_view_count": null,
            "_view_module": "@jupyter-widgets/controls",
            "_view_module_version": "1.5.0",
            "_view_name": "HBoxView",
            "box_style": "",
            "children": [
              "IPY_MODEL_5e3f91201fdc443c9df6efaadb7ce6e5",
              "IPY_MODEL_32ecf00271514d7f88265866e6ec1a1f",
              "IPY_MODEL_759088bab66c4c4d8e35d5e735894067"
            ],
            "layout": "IPY_MODEL_c5e9b8fde2ea490f813b6e7d8b8c779e"
          }
        },
        "5e3f91201fdc443c9df6efaadb7ce6e5": {
          "model_module": "@jupyter-widgets/controls",
          "model_name": "HTMLModel",
          "model_module_version": "1.5.0",
          "state": {
            "_dom_classes": [],
            "_model_module": "@jupyter-widgets/controls",
            "_model_module_version": "1.5.0",
            "_model_name": "HTMLModel",
            "_view_count": null,
            "_view_module": "@jupyter-widgets/controls",
            "_view_module_version": "1.5.0",
            "_view_name": "HTMLView",
            "description": "",
            "description_tooltip": null,
            "layout": "IPY_MODEL_9b2340ca66b246c9b1a9777cf4941a0d",
            "placeholder": "​",
            "style": "IPY_MODEL_a98dc9acdabc47d986df0570fd1ba223",
            "value": "Map: 100%"
          }
        },
        "32ecf00271514d7f88265866e6ec1a1f": {
          "model_module": "@jupyter-widgets/controls",
          "model_name": "FloatProgressModel",
          "model_module_version": "1.5.0",
          "state": {
            "_dom_classes": [],
            "_model_module": "@jupyter-widgets/controls",
            "_model_module_version": "1.5.0",
            "_model_name": "FloatProgressModel",
            "_view_count": null,
            "_view_module": "@jupyter-widgets/controls",
            "_view_module_version": "1.5.0",
            "_view_name": "ProgressView",
            "bar_style": "success",
            "description": "",
            "description_tooltip": null,
            "layout": "IPY_MODEL_14c496ac53f44e7b814529a516122c39",
            "max": 503,
            "min": 0,
            "orientation": "horizontal",
            "style": "IPY_MODEL_9f28de32660b4b40aa59c10446cc6ee9",
            "value": 503
          }
        },
        "759088bab66c4c4d8e35d5e735894067": {
          "model_module": "@jupyter-widgets/controls",
          "model_name": "HTMLModel",
          "model_module_version": "1.5.0",
          "state": {
            "_dom_classes": [],
            "_model_module": "@jupyter-widgets/controls",
            "_model_module_version": "1.5.0",
            "_model_name": "HTMLModel",
            "_view_count": null,
            "_view_module": "@jupyter-widgets/controls",
            "_view_module_version": "1.5.0",
            "_view_name": "HTMLView",
            "description": "",
            "description_tooltip": null,
            "layout": "IPY_MODEL_d13c6e9ecbf54e00bf1f2b99806c8461",
            "placeholder": "​",
            "style": "IPY_MODEL_ffc3a06a821a43558828a406a8fad977",
            "value": " 503/503 [00:02&lt;00:00, 205.33 examples/s]"
          }
        },
        "c5e9b8fde2ea490f813b6e7d8b8c779e": {
          "model_module": "@jupyter-widgets/base",
          "model_name": "LayoutModel",
          "model_module_version": "1.2.0",
          "state": {
            "_model_module": "@jupyter-widgets/base",
            "_model_module_version": "1.2.0",
            "_model_name": "LayoutModel",
            "_view_count": null,
            "_view_module": "@jupyter-widgets/base",
            "_view_module_version": "1.2.0",
            "_view_name": "LayoutView",
            "align_content": null,
            "align_items": null,
            "align_self": null,
            "border": null,
            "bottom": null,
            "display": null,
            "flex": null,
            "flex_flow": null,
            "grid_area": null,
            "grid_auto_columns": null,
            "grid_auto_flow": null,
            "grid_auto_rows": null,
            "grid_column": null,
            "grid_gap": null,
            "grid_row": null,
            "grid_template_areas": null,
            "grid_template_columns": null,
            "grid_template_rows": null,
            "height": null,
            "justify_content": null,
            "justify_items": null,
            "left": null,
            "margin": null,
            "max_height": null,
            "max_width": null,
            "min_height": null,
            "min_width": null,
            "object_fit": null,
            "object_position": null,
            "order": null,
            "overflow": null,
            "overflow_x": null,
            "overflow_y": null,
            "padding": null,
            "right": null,
            "top": null,
            "visibility": null,
            "width": null
          }
        },
        "9b2340ca66b246c9b1a9777cf4941a0d": {
          "model_module": "@jupyter-widgets/base",
          "model_name": "LayoutModel",
          "model_module_version": "1.2.0",
          "state": {
            "_model_module": "@jupyter-widgets/base",
            "_model_module_version": "1.2.0",
            "_model_name": "LayoutModel",
            "_view_count": null,
            "_view_module": "@jupyter-widgets/base",
            "_view_module_version": "1.2.0",
            "_view_name": "LayoutView",
            "align_content": null,
            "align_items": null,
            "align_self": null,
            "border": null,
            "bottom": null,
            "display": null,
            "flex": null,
            "flex_flow": null,
            "grid_area": null,
            "grid_auto_columns": null,
            "grid_auto_flow": null,
            "grid_auto_rows": null,
            "grid_column": null,
            "grid_gap": null,
            "grid_row": null,
            "grid_template_areas": null,
            "grid_template_columns": null,
            "grid_template_rows": null,
            "height": null,
            "justify_content": null,
            "justify_items": null,
            "left": null,
            "margin": null,
            "max_height": null,
            "max_width": null,
            "min_height": null,
            "min_width": null,
            "object_fit": null,
            "object_position": null,
            "order": null,
            "overflow": null,
            "overflow_x": null,
            "overflow_y": null,
            "padding": null,
            "right": null,
            "top": null,
            "visibility": null,
            "width": null
          }
        },
        "a98dc9acdabc47d986df0570fd1ba223": {
          "model_module": "@jupyter-widgets/controls",
          "model_name": "DescriptionStyleModel",
          "model_module_version": "1.5.0",
          "state": {
            "_model_module": "@jupyter-widgets/controls",
            "_model_module_version": "1.5.0",
            "_model_name": "DescriptionStyleModel",
            "_view_count": null,
            "_view_module": "@jupyter-widgets/base",
            "_view_module_version": "1.2.0",
            "_view_name": "StyleView",
            "description_width": ""
          }
        },
        "14c496ac53f44e7b814529a516122c39": {
          "model_module": "@jupyter-widgets/base",
          "model_name": "LayoutModel",
          "model_module_version": "1.2.0",
          "state": {
            "_model_module": "@jupyter-widgets/base",
            "_model_module_version": "1.2.0",
            "_model_name": "LayoutModel",
            "_view_count": null,
            "_view_module": "@jupyter-widgets/base",
            "_view_module_version": "1.2.0",
            "_view_name": "LayoutView",
            "align_content": null,
            "align_items": null,
            "align_self": null,
            "border": null,
            "bottom": null,
            "display": null,
            "flex": null,
            "flex_flow": null,
            "grid_area": null,
            "grid_auto_columns": null,
            "grid_auto_flow": null,
            "grid_auto_rows": null,
            "grid_column": null,
            "grid_gap": null,
            "grid_row": null,
            "grid_template_areas": null,
            "grid_template_columns": null,
            "grid_template_rows": null,
            "height": null,
            "justify_content": null,
            "justify_items": null,
            "left": null,
            "margin": null,
            "max_height": null,
            "max_width": null,
            "min_height": null,
            "min_width": null,
            "object_fit": null,
            "object_position": null,
            "order": null,
            "overflow": null,
            "overflow_x": null,
            "overflow_y": null,
            "padding": null,
            "right": null,
            "top": null,
            "visibility": null,
            "width": null
          }
        },
        "9f28de32660b4b40aa59c10446cc6ee9": {
          "model_module": "@jupyter-widgets/controls",
          "model_name": "ProgressStyleModel",
          "model_module_version": "1.5.0",
          "state": {
            "_model_module": "@jupyter-widgets/controls",
            "_model_module_version": "1.5.0",
            "_model_name": "ProgressStyleModel",
            "_view_count": null,
            "_view_module": "@jupyter-widgets/base",
            "_view_module_version": "1.2.0",
            "_view_name": "StyleView",
            "bar_color": null,
            "description_width": ""
          }
        },
        "d13c6e9ecbf54e00bf1f2b99806c8461": {
          "model_module": "@jupyter-widgets/base",
          "model_name": "LayoutModel",
          "model_module_version": "1.2.0",
          "state": {
            "_model_module": "@jupyter-widgets/base",
            "_model_module_version": "1.2.0",
            "_model_name": "LayoutModel",
            "_view_count": null,
            "_view_module": "@jupyter-widgets/base",
            "_view_module_version": "1.2.0",
            "_view_name": "LayoutView",
            "align_content": null,
            "align_items": null,
            "align_self": null,
            "border": null,
            "bottom": null,
            "display": null,
            "flex": null,
            "flex_flow": null,
            "grid_area": null,
            "grid_auto_columns": null,
            "grid_auto_flow": null,
            "grid_auto_rows": null,
            "grid_column": null,
            "grid_gap": null,
            "grid_row": null,
            "grid_template_areas": null,
            "grid_template_columns": null,
            "grid_template_rows": null,
            "height": null,
            "justify_content": null,
            "justify_items": null,
            "left": null,
            "margin": null,
            "max_height": null,
            "max_width": null,
            "min_height": null,
            "min_width": null,
            "object_fit": null,
            "object_position": null,
            "order": null,
            "overflow": null,
            "overflow_x": null,
            "overflow_y": null,
            "padding": null,
            "right": null,
            "top": null,
            "visibility": null,
            "width": null
          }
        },
        "ffc3a06a821a43558828a406a8fad977": {
          "model_module": "@jupyter-widgets/controls",
          "model_name": "DescriptionStyleModel",
          "model_module_version": "1.5.0",
          "state": {
            "_model_module": "@jupyter-widgets/controls",
            "_model_module_version": "1.5.0",
            "_model_name": "DescriptionStyleModel",
            "_view_count": null,
            "_view_module": "@jupyter-widgets/base",
            "_view_module_version": "1.2.0",
            "_view_name": "StyleView",
            "description_width": ""
          }
        }
      }
    }
  },
  "cells": [
    {
      "cell_type": "markdown",
      "metadata": {
        "id": "view-in-github",
        "colab_type": "text"
      },
      "source": [
        "<a href=\"https://colab.research.google.com/github/simulate111/Textual-Data-Analysis-25/blob/main/project_TDA.ipynb\" target=\"_parent\"><img src=\"https://colab.research.google.com/assets/colab-badge.svg\" alt=\"Open In Colab\"/></a>"
      ]
    },
    {
      "cell_type": "markdown",
      "source": [
        "<h1> TDA course project </h1>\n",
        "\n",
        "Name: MRA\n",
        "\n",
        "Pair: If you did this project as pair work, name the other student here, leave empty otherwise. If you work in pair, <b>both</b> hand out the same project report in Moodle.\n"
      ],
      "metadata": {
        "id": "2S-8Tg9jcIq3"
      }
    },
    {
      "cell_type": "markdown",
      "source": [
        "<h1> Step 1: Load the data with LLM judgements </h1>"
      ],
      "metadata": {
        "id": "6i74smlNdZyn"
      }
    },
    {
      "cell_type": "code",
      "source": [
        "#work here"
      ],
      "metadata": {
        "id": "s7kgkwxHo8Hl"
      },
      "execution_count": 145,
      "outputs": []
    },
    {
      "cell_type": "code",
      "source": [
        "!pip -q install datasets\n",
        "!pip install -q scikit-learn"
      ],
      "metadata": {
        "id": "ozPRuAkioSVJ"
      },
      "execution_count": 146,
      "outputs": []
    },
    {
      "cell_type": "code",
      "source": [
        "#import libraries\n",
        "import os\n",
        "import numpy as np\n",
        "import gzip\n",
        "import json\n",
        "import pandas as pd\n",
        "from datasets import Dataset\n",
        "from transformers import AutoTokenizer, AutoModelForSequenceClassification, Trainer, TrainingArguments\n",
        "from sklearn.metrics import accuracy_score, precision_score, recall_score, f1_score"
      ],
      "metadata": {
        "id": "QjlXiUJabWbm"
      },
      "execution_count": 148,
      "outputs": []
    },
    {
      "cell_type": "code",
      "source": [
        "#Load the data\n",
        "url = \"http://dl.turkunlp.org/tda-course-2025/tda25-responses.jsonl.gz\"\n",
        "filename = \"tda25-responses.jsonl.gz\"\n",
        "os.system(f\"wget {url} -O {filename}\")\n",
        "extracted_filename = \"tda25-responses.jsonl\"\n",
        "with gzip.open(filename, 'rt', encoding='utf-8') as f_in:\n",
        "    data = [json.loads(line) for line in f_in]\n",
        "df = pd.DataFrame(data)"
      ],
      "metadata": {
        "id": "ff3QiHgtov7N"
      },
      "execution_count": 149,
      "outputs": []
    },
    {
      "cell_type": "code",
      "source": [
        "#divide the response to separate columns for further convenience\n",
        "df[\"Step-by-step\"] = df[\"response\"].str.extract(r\"Step-by-step:\\s*(Yes|No)\")\n",
        "df[\"Training\"] = df[\"response\"].str.extract(r\"Training:\\s*(Yes|No)\")\n",
        "df[\"Explanation\"] = df[\"response\"].str.split(\"\\n\\n\", n=1).str[1]\n",
        "df.drop(columns=[\"response\"], inplace=True)"
      ],
      "metadata": {
        "id": "81e9vnbDXPd_"
      },
      "execution_count": 150,
      "outputs": []
    },
    {
      "cell_type": "code",
      "source": [
        "df.head()"
      ],
      "metadata": {
        "colab": {
          "base_uri": "https://localhost:8080/",
          "height": 206
        },
        "id": "Lr1u0W9XXWYR",
        "outputId": "6671e6b5-e364-4600-ce4e-134700be1a97"
      },
      "execution_count": 151,
      "outputs": [
        {
          "output_type": "execute_result",
          "data": {
            "text/plain": [
              "                                            document Step-by-step Training  \\\n",
              "0  Peeling an onion seems like an trivial task, b...          Yes       No   \n",
              "1  Cowboy’s WR Terrance Williams Arrested\\nDallas...           No       No   \n",
              "2  Idea Crib’s Well-thy Pinoy Profiles blog serie...           No       No   \n",
              "3  Will I ever stop being nervous every time I pu...           No       No   \n",
              "4  In today’s NHL rumors rundown, Toronto Maple L...           No       No   \n",
              "\n",
              "                                         Explanation  \n",
              "0  The article does provide a clear sequence of o...  \n",
              "1  The article does not provide a clear sequence ...  \n",
              "2  The article does not provide a clear sequence ...  \n",
              "3  The article does not provide a clear sequence ...  \n",
              "4  The article does not provide a clear sequence ...  "
            ],
            "text/html": [
              "\n",
              "  <div id=\"df-493e6e28-db00-4ddc-8a21-68ea0e9827ef\" class=\"colab-df-container\">\n",
              "    <div>\n",
              "<style scoped>\n",
              "    .dataframe tbody tr th:only-of-type {\n",
              "        vertical-align: middle;\n",
              "    }\n",
              "\n",
              "    .dataframe tbody tr th {\n",
              "        vertical-align: top;\n",
              "    }\n",
              "\n",
              "    .dataframe thead th {\n",
              "        text-align: right;\n",
              "    }\n",
              "</style>\n",
              "<table border=\"1\" class=\"dataframe\">\n",
              "  <thead>\n",
              "    <tr style=\"text-align: right;\">\n",
              "      <th></th>\n",
              "      <th>document</th>\n",
              "      <th>Step-by-step</th>\n",
              "      <th>Training</th>\n",
              "      <th>Explanation</th>\n",
              "    </tr>\n",
              "  </thead>\n",
              "  <tbody>\n",
              "    <tr>\n",
              "      <th>0</th>\n",
              "      <td>Peeling an onion seems like an trivial task, b...</td>\n",
              "      <td>Yes</td>\n",
              "      <td>No</td>\n",
              "      <td>The article does provide a clear sequence of o...</td>\n",
              "    </tr>\n",
              "    <tr>\n",
              "      <th>1</th>\n",
              "      <td>Cowboy’s WR Terrance Williams Arrested\\nDallas...</td>\n",
              "      <td>No</td>\n",
              "      <td>No</td>\n",
              "      <td>The article does not provide a clear sequence ...</td>\n",
              "    </tr>\n",
              "    <tr>\n",
              "      <th>2</th>\n",
              "      <td>Idea Crib’s Well-thy Pinoy Profiles blog serie...</td>\n",
              "      <td>No</td>\n",
              "      <td>No</td>\n",
              "      <td>The article does not provide a clear sequence ...</td>\n",
              "    </tr>\n",
              "    <tr>\n",
              "      <th>3</th>\n",
              "      <td>Will I ever stop being nervous every time I pu...</td>\n",
              "      <td>No</td>\n",
              "      <td>No</td>\n",
              "      <td>The article does not provide a clear sequence ...</td>\n",
              "    </tr>\n",
              "    <tr>\n",
              "      <th>4</th>\n",
              "      <td>In today’s NHL rumors rundown, Toronto Maple L...</td>\n",
              "      <td>No</td>\n",
              "      <td>No</td>\n",
              "      <td>The article does not provide a clear sequence ...</td>\n",
              "    </tr>\n",
              "  </tbody>\n",
              "</table>\n",
              "</div>\n",
              "    <div class=\"colab-df-buttons\">\n",
              "\n",
              "  <div class=\"colab-df-container\">\n",
              "    <button class=\"colab-df-convert\" onclick=\"convertToInteractive('df-493e6e28-db00-4ddc-8a21-68ea0e9827ef')\"\n",
              "            title=\"Convert this dataframe to an interactive table.\"\n",
              "            style=\"display:none;\">\n",
              "\n",
              "  <svg xmlns=\"http://www.w3.org/2000/svg\" height=\"24px\" viewBox=\"0 -960 960 960\">\n",
              "    <path d=\"M120-120v-720h720v720H120Zm60-500h600v-160H180v160Zm220 220h160v-160H400v160Zm0 220h160v-160H400v160ZM180-400h160v-160H180v160Zm440 0h160v-160H620v160ZM180-180h160v-160H180v160Zm440 0h160v-160H620v160Z\"/>\n",
              "  </svg>\n",
              "    </button>\n",
              "\n",
              "  <style>\n",
              "    .colab-df-container {\n",
              "      display:flex;\n",
              "      gap: 12px;\n",
              "    }\n",
              "\n",
              "    .colab-df-convert {\n",
              "      background-color: #E8F0FE;\n",
              "      border: none;\n",
              "      border-radius: 50%;\n",
              "      cursor: pointer;\n",
              "      display: none;\n",
              "      fill: #1967D2;\n",
              "      height: 32px;\n",
              "      padding: 0 0 0 0;\n",
              "      width: 32px;\n",
              "    }\n",
              "\n",
              "    .colab-df-convert:hover {\n",
              "      background-color: #E2EBFA;\n",
              "      box-shadow: 0px 1px 2px rgba(60, 64, 67, 0.3), 0px 1px 3px 1px rgba(60, 64, 67, 0.15);\n",
              "      fill: #174EA6;\n",
              "    }\n",
              "\n",
              "    .colab-df-buttons div {\n",
              "      margin-bottom: 4px;\n",
              "    }\n",
              "\n",
              "    [theme=dark] .colab-df-convert {\n",
              "      background-color: #3B4455;\n",
              "      fill: #D2E3FC;\n",
              "    }\n",
              "\n",
              "    [theme=dark] .colab-df-convert:hover {\n",
              "      background-color: #434B5C;\n",
              "      box-shadow: 0px 1px 3px 1px rgba(0, 0, 0, 0.15);\n",
              "      filter: drop-shadow(0px 1px 2px rgba(0, 0, 0, 0.3));\n",
              "      fill: #FFFFFF;\n",
              "    }\n",
              "  </style>\n",
              "\n",
              "    <script>\n",
              "      const buttonEl =\n",
              "        document.querySelector('#df-493e6e28-db00-4ddc-8a21-68ea0e9827ef button.colab-df-convert');\n",
              "      buttonEl.style.display =\n",
              "        google.colab.kernel.accessAllowed ? 'block' : 'none';\n",
              "\n",
              "      async function convertToInteractive(key) {\n",
              "        const element = document.querySelector('#df-493e6e28-db00-4ddc-8a21-68ea0e9827ef');\n",
              "        const dataTable =\n",
              "          await google.colab.kernel.invokeFunction('convertToInteractive',\n",
              "                                                    [key], {});\n",
              "        if (!dataTable) return;\n",
              "\n",
              "        const docLinkHtml = 'Like what you see? Visit the ' +\n",
              "          '<a target=\"_blank\" href=https://colab.research.google.com/notebooks/data_table.ipynb>data table notebook</a>'\n",
              "          + ' to learn more about interactive tables.';\n",
              "        element.innerHTML = '';\n",
              "        dataTable['output_type'] = 'display_data';\n",
              "        await google.colab.output.renderOutput(dataTable, element);\n",
              "        const docLink = document.createElement('div');\n",
              "        docLink.innerHTML = docLinkHtml;\n",
              "        element.appendChild(docLink);\n",
              "      }\n",
              "    </script>\n",
              "  </div>\n",
              "\n",
              "\n",
              "<div id=\"df-21a2e91c-4f1f-437f-ba0f-05356d111050\">\n",
              "  <button class=\"colab-df-quickchart\" onclick=\"quickchart('df-21a2e91c-4f1f-437f-ba0f-05356d111050')\"\n",
              "            title=\"Suggest charts\"\n",
              "            style=\"display:none;\">\n",
              "\n",
              "<svg xmlns=\"http://www.w3.org/2000/svg\" height=\"24px\"viewBox=\"0 0 24 24\"\n",
              "     width=\"24px\">\n",
              "    <g>\n",
              "        <path d=\"M19 3H5c-1.1 0-2 .9-2 2v14c0 1.1.9 2 2 2h14c1.1 0 2-.9 2-2V5c0-1.1-.9-2-2-2zM9 17H7v-7h2v7zm4 0h-2V7h2v10zm4 0h-2v-4h2v4z\"/>\n",
              "    </g>\n",
              "</svg>\n",
              "  </button>\n",
              "\n",
              "<style>\n",
              "  .colab-df-quickchart {\n",
              "      --bg-color: #E8F0FE;\n",
              "      --fill-color: #1967D2;\n",
              "      --hover-bg-color: #E2EBFA;\n",
              "      --hover-fill-color: #174EA6;\n",
              "      --disabled-fill-color: #AAA;\n",
              "      --disabled-bg-color: #DDD;\n",
              "  }\n",
              "\n",
              "  [theme=dark] .colab-df-quickchart {\n",
              "      --bg-color: #3B4455;\n",
              "      --fill-color: #D2E3FC;\n",
              "      --hover-bg-color: #434B5C;\n",
              "      --hover-fill-color: #FFFFFF;\n",
              "      --disabled-bg-color: #3B4455;\n",
              "      --disabled-fill-color: #666;\n",
              "  }\n",
              "\n",
              "  .colab-df-quickchart {\n",
              "    background-color: var(--bg-color);\n",
              "    border: none;\n",
              "    border-radius: 50%;\n",
              "    cursor: pointer;\n",
              "    display: none;\n",
              "    fill: var(--fill-color);\n",
              "    height: 32px;\n",
              "    padding: 0;\n",
              "    width: 32px;\n",
              "  }\n",
              "\n",
              "  .colab-df-quickchart:hover {\n",
              "    background-color: var(--hover-bg-color);\n",
              "    box-shadow: 0 1px 2px rgba(60, 64, 67, 0.3), 0 1px 3px 1px rgba(60, 64, 67, 0.15);\n",
              "    fill: var(--button-hover-fill-color);\n",
              "  }\n",
              "\n",
              "  .colab-df-quickchart-complete:disabled,\n",
              "  .colab-df-quickchart-complete:disabled:hover {\n",
              "    background-color: var(--disabled-bg-color);\n",
              "    fill: var(--disabled-fill-color);\n",
              "    box-shadow: none;\n",
              "  }\n",
              "\n",
              "  .colab-df-spinner {\n",
              "    border: 2px solid var(--fill-color);\n",
              "    border-color: transparent;\n",
              "    border-bottom-color: var(--fill-color);\n",
              "    animation:\n",
              "      spin 1s steps(1) infinite;\n",
              "  }\n",
              "\n",
              "  @keyframes spin {\n",
              "    0% {\n",
              "      border-color: transparent;\n",
              "      border-bottom-color: var(--fill-color);\n",
              "      border-left-color: var(--fill-color);\n",
              "    }\n",
              "    20% {\n",
              "      border-color: transparent;\n",
              "      border-left-color: var(--fill-color);\n",
              "      border-top-color: var(--fill-color);\n",
              "    }\n",
              "    30% {\n",
              "      border-color: transparent;\n",
              "      border-left-color: var(--fill-color);\n",
              "      border-top-color: var(--fill-color);\n",
              "      border-right-color: var(--fill-color);\n",
              "    }\n",
              "    40% {\n",
              "      border-color: transparent;\n",
              "      border-right-color: var(--fill-color);\n",
              "      border-top-color: var(--fill-color);\n",
              "    }\n",
              "    60% {\n",
              "      border-color: transparent;\n",
              "      border-right-color: var(--fill-color);\n",
              "    }\n",
              "    80% {\n",
              "      border-color: transparent;\n",
              "      border-right-color: var(--fill-color);\n",
              "      border-bottom-color: var(--fill-color);\n",
              "    }\n",
              "    90% {\n",
              "      border-color: transparent;\n",
              "      border-bottom-color: var(--fill-color);\n",
              "    }\n",
              "  }\n",
              "</style>\n",
              "\n",
              "  <script>\n",
              "    async function quickchart(key) {\n",
              "      const quickchartButtonEl =\n",
              "        document.querySelector('#' + key + ' button');\n",
              "      quickchartButtonEl.disabled = true;  // To prevent multiple clicks.\n",
              "      quickchartButtonEl.classList.add('colab-df-spinner');\n",
              "      try {\n",
              "        const charts = await google.colab.kernel.invokeFunction(\n",
              "            'suggestCharts', [key], {});\n",
              "      } catch (error) {\n",
              "        console.error('Error during call to suggestCharts:', error);\n",
              "      }\n",
              "      quickchartButtonEl.classList.remove('colab-df-spinner');\n",
              "      quickchartButtonEl.classList.add('colab-df-quickchart-complete');\n",
              "    }\n",
              "    (() => {\n",
              "      let quickchartButtonEl =\n",
              "        document.querySelector('#df-21a2e91c-4f1f-437f-ba0f-05356d111050 button');\n",
              "      quickchartButtonEl.style.display =\n",
              "        google.colab.kernel.accessAllowed ? 'block' : 'none';\n",
              "    })();\n",
              "  </script>\n",
              "</div>\n",
              "\n",
              "    </div>\n",
              "  </div>\n"
            ],
            "application/vnd.google.colaboratory.intrinsic+json": {
              "type": "dataframe",
              "variable_name": "df",
              "summary": "{\n  \"name\": \"df\",\n  \"rows\": 2515,\n  \"fields\": [\n    {\n      \"column\": \"document\",\n      \"properties\": {\n        \"dtype\": \"string\",\n        \"num_unique_values\": 2515,\n        \"samples\": [\n          \"Fisher Cats split with Mets\\nFisher Cats Press Release:\\nKevin Pillar picked up two more hits and Brad Glenn smacked his first home run of the year, but the Fisher Cats fell to the Binghamton Mets, 6-3, on Sunday afternoon at NYSEG Stadium. The loss leaves the Fisher Cats with a split of the four-game series at Binghamton before they head to New Britain on Monday night.\\nBinghamton got on the board first, loading the bases and the scoring with a sacrifice fly in the first inning against starting pitcher Austin Bibens-Dirkx. In the second, a one-out homer by Blake Forsythe made it 2-0 in the Mets' favor.\\nPillar brought the Fisher Cats back within a run in the third inning on an RBI single, but the B-Mets answered with a three-run homer in the bottom of the frame to push the scored to 5-1.\\nThe teams traded runs again in the fifth, with Glenn's home run leading off the top of the inning. Bibens-Dirkx was responsible for the Mets run in the bottom of the inning to leave the score at 6-2 Binghamton through five.\\nThe Fisher Cats had one more rally in the eighth inning, scoring a run on a Pillar double and a Binghamton error. The rally ended when Mets reliever Jack Leathersich retired the potential tying run in Adam Loewen on a fly ball to left field.\\nBibens-Dirkx (1-2) took the loss, allowing six runs over 4.2 innings. Rafael Montero (2-0) earned the win for the Mets with five innings of work.\\nPillar led the Fisher Cats offense with two more hits. He has hit safely in nine straight games, picking up 17 hits in that time. He finished the series with the Mets with seven hits in 17 at-bats, driving home five runs in the four-game set.\\nThe Fisher Cats now head to New Britain, Conn., to open a three-game series with the Minnesota Twins' affiliate on Monday night at 6:35 p.m. RHP Marcus Walden (0-1, 4.15) goes in search of his first win of the year, drawing the start against New Britain's Logan Darnell (0-0, 1.04). Fans can listen to the game with Tom Gauthier beginning at 6:15 p.m. on the WGIR Fisher Cats Radio Network and at www.nhfishercats.com.\\nThe Fisher Cats return home to Northeast Delta Dental Stadium on Thursday, April 18 for a seven-home homestand with Binghamton and New Britain. The first game of the stand features a fleece blanket giveaway for the first 1,000 fans courtesy of Heritage Plumbing, Heating, Cooling and Electric. For tickets and a full list of promotions, visit www.nhfishercats.com.\",\n          \"Day 7: #atozchallenge\\nHave you considered guest blogging but don\\u2019t know where to begin? The first step is to determine what you want to accomplish.\\nWhat is your goal?\\n- Do you have expertise in an area and want to share it?\\n- Do you want to create more traffic to your blog or increase followers?\\n- Want to see an increase in backlinks to your content?\\n- Or, establish yourself as an authority?\\nWhere to Find Guest Blogging Opportunities:\\nOnce you know your motivations, it\\u2019s time to find the opportunities, and there are many.\\n- Begin with a simple keyword search for \\u201cguest post\\u201d on Google, Twitter, or preferred search engine.\\n- Utilize the connections you\\u2019ve already established \\u2013 favorite blogs or other social networking sites.\\n- Look for blogs that best match your area of interest or expertise, have engaged readers, and is active on social networks.\\n- Check out sites like Contently, Huffington Post, or Angie\\u2019s Diary.\\nThings to do before pitching a guest post:\\n- Familiarize yourself with the blog; it\\u2019s content and readership.\\n- Have guest posts been featured before?\\n- Who were the guest bloggers? Authors? Other bloggers? Freelancers? Read their bios and get to know them.\\n- How did the guest post do? Was there a lot of reader engagement?\\n- Become a familiar face in the blogging community.\\nWhen to pitch:\\n- When someone mentions your blog on, Twitter, LinkedIn, Facebook, or Google.\\n- When a blogger advertises, they are seeking guest posts.\\n- When a guest post is featured on another blog.\\nHow to Pitch:\\n- Read the guidelines.\\n- Introduce yourself. Craft a guest post bio and include links back to your blog or author websites that show your work.\\n- As with any pitch, personalize your email.\\n- Explain what you can offer in a guest post.\\n- Provide links to your blog and other sites on which you have published.\\n- Format your guest post the same as the site in which you are submitting.\\n- Provide valuable and relatable information.\\n- Do not self-promote except within the author bio.\\n- Utilize internal links to some of the owner\\u2019s posts.\\n- Create a call to action for comments.\\nWant to know more about guest blogging? Check out these resources.\\nGuest Blogging Opportunities:\\n- The community of Guest Bloggers \\u2013 free sign up.\\n- Brian Keith May \\u2013 100 Sites to Submit Guest Posts\\n- Buzz Blogger \\u2013 500 Places to Syndicate Your content.\\nDoes guest blogging interest you? Have you been a featured guest blogger in the past?\",\n          \"Sowbhagya & Chethan C.N. (originally written in Kannada), translated in English by Malleshwari Baddela\\nRising prices of pulses and meat have impacted the poor significantly. Waste-pickers with little income are left to fend themselves against the high costs of food. Even within waste-pickers, the migrant community members (from other states) are worst off. They have no formal linkage with public distribution system- thus, nothing nutritious and filling left in their diet. Many of the children of migrant waste-pickers are identified with malnutrition and protein deficiency.\\nSeven years back, an experiment of growing oyster mushrooms to counter malnutrition and protein deficiency was done in Amravati district of Maharashtra. It didn\\u2019t succeed for many different reasons including the absence of relevant subsidies etc. The idea of countering malnutrition and protein deficiency by oyster mushroom cultivation stayed in the head of Nalini Shekar, founder of Hasiru Dala. She wanted to do something around it for a long time.\\nOyster mushroom cultivation is very easy to do. You don\\u2019t need much of physical space. Chaffed paddy straw, an empty packet \\u2013 cover: size 18 inches, and mushroom seeds is all what one needs. Chaffed paddy straw is easily available and is the leftover following harvest. Straws have to be chopped in three inch pieces, after that the straws have to be boiled for one hour. Once boiled, the water is to be drained off. Then straws are spread on a clean dry cloth and left for drying under shade for two hours. The straws will be still moist.\\nA layer of seeds is added in the packet. After that an inch of moist straws is placed. It is repeated for four to five times in the same packet. The packet should be tightly packed with very little air in it. The packet should have ten- fifteen holes. It can be kept in shade, anywhere in the house, at room temperature for twenty days. On twentieth or twenty first day, spores will start coming out. Little water is to be sprinkled twice daily after the twentieth day. Mushrooms will be ready to harvest within couple of days of sprinkling water. Cook those mushrooms and have it for countering malnutrition and protein deficiency.\\nThe suggestion of growing mushrooms was shared with wastepickers. Many of them are excited about it. The first training was conducted in horticulture department. Very few came as the location was very far and one had to take time out of work to go there. It was decided to host the training sessions in the vicinity of their residence. Last week a training programme for the cultivation of mushrooms was conducted in Akshaya Nagara and Kalkere Cross, Bengaluru \\u2013 where most of the wastepickers reside, with the participation of 58 wastepickers and their family members. More have shown interest, many more training sessions planned.\"\n        ],\n        \"semantic_type\": \"\",\n        \"description\": \"\"\n      }\n    },\n    {\n      \"column\": \"Step-by-step\",\n      \"properties\": {\n        \"dtype\": \"category\",\n        \"num_unique_values\": 2,\n        \"samples\": [\n          \"No\",\n          \"Yes\"\n        ],\n        \"semantic_type\": \"\",\n        \"description\": \"\"\n      }\n    },\n    {\n      \"column\": \"Training\",\n      \"properties\": {\n        \"dtype\": \"category\",\n        \"num_unique_values\": 2,\n        \"samples\": [\n          \"Yes\",\n          \"No\"\n        ],\n        \"semantic_type\": \"\",\n        \"description\": \"\"\n      }\n    },\n    {\n      \"column\": \"Explanation\",\n      \"properties\": {\n        \"dtype\": \"string\",\n        \"num_unique_values\": 2512,\n        \"samples\": [\n          \"The article does not present a clear sequence of ordered steps for completing a specific task. Instead, it consists of various disjointed statements and facts that lack coherent structure and procedural instructions. As a result, the content does not provide sufficient detail or organization to facilitate deeper reasoning or training a language model effectively.\",\n          \"The article does not provide a clear sequence of ordered steps to guide the reader through completing a task; it primarily consists of reflections on past social media posts and their performance without any structured instructions. Additionally, the content lacks the detailed procedural instructions necessary for training a language model in deeper reasoning, as it focuses more on sharing experiences rather than outlining processes or encouraging critical thinking.\"\n        ],\n        \"semantic_type\": \"\",\n        \"description\": \"\"\n      }\n    }\n  ]\n}"
            }
          },
          "metadata": {},
          "execution_count": 151
        }
      ]
    },
    {
      "cell_type": "code",
      "source": [
        "#Making HuggingFace dataset\n",
        "hf_dataset = Dataset.from_pandas(df)\n",
        "hf_dataset.save_to_disk(\"hf_dataset\")"
      ],
      "metadata": {
        "colab": {
          "base_uri": "https://localhost:8080/",
          "height": 49,
          "referenced_widgets": [
            "7703b20549974b56a0cb0153af823d10",
            "5c133f783eeb47ce9e2047b13fe8dc62",
            "d2672a4c2b414ccb9568eb79536c2a93",
            "bd93dac7960c4ed0afeb04c5ef206a28",
            "f85fa2bd27c841c18a92f654d2a2b356",
            "9fdb048626d54498bde1e97c2be82c8f",
            "be287233b46942fea66e3862bae84fbb",
            "6b6b39cbc58e40b6b5d53de43b68f96d",
            "178a589e52fa45de9303a1005bb334b6",
            "3f118349446d4014aeb42b034cd51673",
            "31bbf578921f40ab9253fc72c578dc16"
          ]
        },
        "id": "rcQJ1SCtXv0w",
        "outputId": "644e319a-5639-4dac-e958-3a81ee2a99c0"
      },
      "execution_count": 152,
      "outputs": [
        {
          "output_type": "display_data",
          "data": {
            "text/plain": [
              "Saving the dataset (0/1 shards):   0%|          | 0/2515 [00:00<?, ? examples/s]"
            ],
            "application/vnd.jupyter.widget-view+json": {
              "version_major": 2,
              "version_minor": 0,
              "model_id": "7703b20549974b56a0cb0153af823d10"
            }
          },
          "metadata": {}
        }
      ]
    },
    {
      "cell_type": "code",
      "source": [
        "print(hf_dataset)"
      ],
      "metadata": {
        "colab": {
          "base_uri": "https://localhost:8080/"
        },
        "id": "QMIxsecwXMsq",
        "outputId": "da6542f8-41d6-4e97-c57d-3b80850dd756"
      },
      "execution_count": 153,
      "outputs": [
        {
          "output_type": "stream",
          "name": "stdout",
          "text": [
            "Dataset({\n",
            "    features: ['document', 'Step-by-step', 'Training', 'Explanation'],\n",
            "    num_rows: 2515\n",
            "})\n"
          ]
        }
      ]
    },
    {
      "cell_type": "code",
      "source": [
        "#Convert yes-no to binaries\n",
        "hf_dataset = hf_dataset.map(lambda x: {\"label\": 1 if x[\"Training\"] == \"Yes\" else 0})"
      ],
      "metadata": {
        "colab": {
          "base_uri": "https://localhost:8080/",
          "height": 49,
          "referenced_widgets": [
            "ac98e293b8b94f2788789824fc33a333",
            "aafd1199d8e945c895d024ee318c306a",
            "fe9667e7660945f981105cdade024a00",
            "ce4d15f32c294403999c91a2e2c8300a",
            "1aeb89ab5e30448b86c47eed7b90a59a",
            "fb54e84330884c4a9fddeadf63bb3690",
            "1ac82068c35a47a08b386db017f4a998",
            "a5511a2bed4f48ebaec55cfb546c4e3e",
            "861d38f1486a4ce5b9a4b2720dcee07a",
            "1393f9ba082e420b8cd4d4c7df81824a",
            "699e8223fff7434190d7ae33e96721f3"
          ]
        },
        "id": "xpNiq-SmYbeU",
        "outputId": "448448c7-af2e-47b5-99d3-a67697be1ea1"
      },
      "execution_count": 154,
      "outputs": [
        {
          "output_type": "display_data",
          "data": {
            "text/plain": [
              "Map:   0%|          | 0/2515 [00:00<?, ? examples/s]"
            ],
            "application/vnd.jupyter.widget-view+json": {
              "version_major": 2,
              "version_minor": 0,
              "model_id": "ac98e293b8b94f2788789824fc33a333"
            }
          },
          "metadata": {}
        }
      ]
    },
    {
      "cell_type": "code",
      "source": [
        "print(hf_dataset[0])"
      ],
      "metadata": {
        "colab": {
          "base_uri": "https://localhost:8080/"
        },
        "id": "3QStwAOtZQNB",
        "outputId": "d952e6f1-27aa-4b85-aca7-c8eb4193f64d"
      },
      "execution_count": 155,
      "outputs": [
        {
          "output_type": "stream",
          "name": "stdout",
          "text": [
            "{'document': 'Peeling an onion seems like an trivial task, but if you’ve never peeled an onion before, it can be quite intimidating. Don’t worry – it is pretty easy to peel an onion.\\nYou can now learn how to peel an onion by following these illustrated step-by-step instructions.\\nStep #1: Put the whole onion on the cutting board\\nStep 2: Cut off one end of the onion with a knife, as shown on the picture below:\\nHere’s a picture of the onion with that end already cut off. The end of the onion is laying on the right side of the onion on the cutting board.\\nStep 3: Cut off another end of the onion with a knife, as show on the picture below:\\nAfter both ends of the onion have been cut off, the onion is ready to be peeled. Here’s the picture of the onion without its ends:\\nStep 4: Start peeling! Make a cut under the peel, and pull on the peel so it separates from the onion. Look at the picture: knife under the peel, thumb on top of the peel. Grab the peel and pull.\\nStep 5: Keep peeling in the same way as the previous step, until there is no more peel left on the onion.\\nIf the peel doesn’t come off easily, you can just peel the outer thin layer of onion itself, like shown picture below:\\nYou are done! The onion is now peeled and ready to be used in your recipe!\\nHere’s the picture of the fully peeled onion:', 'Step-by-step': 'Yes', 'Training': 'No', 'Explanation': 'The article does provide a clear sequence of ordered steps for peeling an onion, making it easy for readers to follow the instructions. However, while the instructions are straightforward, they lack the depth and detail needed for training a language model capable of deeper reasoning, as they do not include alternative methods, potential problems, or reasoning behind each step that would enhance understanding.', 'label': 0}\n"
          ]
        }
      ]
    },
    {
      "cell_type": "code",
      "source": [
        "pd.DataFrame(hf_dataset).head()"
      ],
      "metadata": {
        "colab": {
          "base_uri": "https://localhost:8080/",
          "height": 206
        },
        "id": "S4EhDVvzZiQ0",
        "outputId": "ddd9104e-35f0-4425-ed1f-a8acfa928976"
      },
      "execution_count": 156,
      "outputs": [
        {
          "output_type": "execute_result",
          "data": {
            "text/plain": [
              "                                            document Step-by-step Training  \\\n",
              "0  Peeling an onion seems like an trivial task, b...          Yes       No   \n",
              "1  Cowboy’s WR Terrance Williams Arrested\\nDallas...           No       No   \n",
              "2  Idea Crib’s Well-thy Pinoy Profiles blog serie...           No       No   \n",
              "3  Will I ever stop being nervous every time I pu...           No       No   \n",
              "4  In today’s NHL rumors rundown, Toronto Maple L...           No       No   \n",
              "\n",
              "                                         Explanation  label  \n",
              "0  The article does provide a clear sequence of o...      0  \n",
              "1  The article does not provide a clear sequence ...      0  \n",
              "2  The article does not provide a clear sequence ...      0  \n",
              "3  The article does not provide a clear sequence ...      0  \n",
              "4  The article does not provide a clear sequence ...      0  "
            ],
            "text/html": [
              "\n",
              "  <div id=\"df-de32b829-c4c3-451e-bd57-f3fe08bc1081\" class=\"colab-df-container\">\n",
              "    <div>\n",
              "<style scoped>\n",
              "    .dataframe tbody tr th:only-of-type {\n",
              "        vertical-align: middle;\n",
              "    }\n",
              "\n",
              "    .dataframe tbody tr th {\n",
              "        vertical-align: top;\n",
              "    }\n",
              "\n",
              "    .dataframe thead th {\n",
              "        text-align: right;\n",
              "    }\n",
              "</style>\n",
              "<table border=\"1\" class=\"dataframe\">\n",
              "  <thead>\n",
              "    <tr style=\"text-align: right;\">\n",
              "      <th></th>\n",
              "      <th>document</th>\n",
              "      <th>Step-by-step</th>\n",
              "      <th>Training</th>\n",
              "      <th>Explanation</th>\n",
              "      <th>label</th>\n",
              "    </tr>\n",
              "  </thead>\n",
              "  <tbody>\n",
              "    <tr>\n",
              "      <th>0</th>\n",
              "      <td>Peeling an onion seems like an trivial task, b...</td>\n",
              "      <td>Yes</td>\n",
              "      <td>No</td>\n",
              "      <td>The article does provide a clear sequence of o...</td>\n",
              "      <td>0</td>\n",
              "    </tr>\n",
              "    <tr>\n",
              "      <th>1</th>\n",
              "      <td>Cowboy’s WR Terrance Williams Arrested\\nDallas...</td>\n",
              "      <td>No</td>\n",
              "      <td>No</td>\n",
              "      <td>The article does not provide a clear sequence ...</td>\n",
              "      <td>0</td>\n",
              "    </tr>\n",
              "    <tr>\n",
              "      <th>2</th>\n",
              "      <td>Idea Crib’s Well-thy Pinoy Profiles blog serie...</td>\n",
              "      <td>No</td>\n",
              "      <td>No</td>\n",
              "      <td>The article does not provide a clear sequence ...</td>\n",
              "      <td>0</td>\n",
              "    </tr>\n",
              "    <tr>\n",
              "      <th>3</th>\n",
              "      <td>Will I ever stop being nervous every time I pu...</td>\n",
              "      <td>No</td>\n",
              "      <td>No</td>\n",
              "      <td>The article does not provide a clear sequence ...</td>\n",
              "      <td>0</td>\n",
              "    </tr>\n",
              "    <tr>\n",
              "      <th>4</th>\n",
              "      <td>In today’s NHL rumors rundown, Toronto Maple L...</td>\n",
              "      <td>No</td>\n",
              "      <td>No</td>\n",
              "      <td>The article does not provide a clear sequence ...</td>\n",
              "      <td>0</td>\n",
              "    </tr>\n",
              "  </tbody>\n",
              "</table>\n",
              "</div>\n",
              "    <div class=\"colab-df-buttons\">\n",
              "\n",
              "  <div class=\"colab-df-container\">\n",
              "    <button class=\"colab-df-convert\" onclick=\"convertToInteractive('df-de32b829-c4c3-451e-bd57-f3fe08bc1081')\"\n",
              "            title=\"Convert this dataframe to an interactive table.\"\n",
              "            style=\"display:none;\">\n",
              "\n",
              "  <svg xmlns=\"http://www.w3.org/2000/svg\" height=\"24px\" viewBox=\"0 -960 960 960\">\n",
              "    <path d=\"M120-120v-720h720v720H120Zm60-500h600v-160H180v160Zm220 220h160v-160H400v160Zm0 220h160v-160H400v160ZM180-400h160v-160H180v160Zm440 0h160v-160H620v160ZM180-180h160v-160H180v160Zm440 0h160v-160H620v160Z\"/>\n",
              "  </svg>\n",
              "    </button>\n",
              "\n",
              "  <style>\n",
              "    .colab-df-container {\n",
              "      display:flex;\n",
              "      gap: 12px;\n",
              "    }\n",
              "\n",
              "    .colab-df-convert {\n",
              "      background-color: #E8F0FE;\n",
              "      border: none;\n",
              "      border-radius: 50%;\n",
              "      cursor: pointer;\n",
              "      display: none;\n",
              "      fill: #1967D2;\n",
              "      height: 32px;\n",
              "      padding: 0 0 0 0;\n",
              "      width: 32px;\n",
              "    }\n",
              "\n",
              "    .colab-df-convert:hover {\n",
              "      background-color: #E2EBFA;\n",
              "      box-shadow: 0px 1px 2px rgba(60, 64, 67, 0.3), 0px 1px 3px 1px rgba(60, 64, 67, 0.15);\n",
              "      fill: #174EA6;\n",
              "    }\n",
              "\n",
              "    .colab-df-buttons div {\n",
              "      margin-bottom: 4px;\n",
              "    }\n",
              "\n",
              "    [theme=dark] .colab-df-convert {\n",
              "      background-color: #3B4455;\n",
              "      fill: #D2E3FC;\n",
              "    }\n",
              "\n",
              "    [theme=dark] .colab-df-convert:hover {\n",
              "      background-color: #434B5C;\n",
              "      box-shadow: 0px 1px 3px 1px rgba(0, 0, 0, 0.15);\n",
              "      filter: drop-shadow(0px 1px 2px rgba(0, 0, 0, 0.3));\n",
              "      fill: #FFFFFF;\n",
              "    }\n",
              "  </style>\n",
              "\n",
              "    <script>\n",
              "      const buttonEl =\n",
              "        document.querySelector('#df-de32b829-c4c3-451e-bd57-f3fe08bc1081 button.colab-df-convert');\n",
              "      buttonEl.style.display =\n",
              "        google.colab.kernel.accessAllowed ? 'block' : 'none';\n",
              "\n",
              "      async function convertToInteractive(key) {\n",
              "        const element = document.querySelector('#df-de32b829-c4c3-451e-bd57-f3fe08bc1081');\n",
              "        const dataTable =\n",
              "          await google.colab.kernel.invokeFunction('convertToInteractive',\n",
              "                                                    [key], {});\n",
              "        if (!dataTable) return;\n",
              "\n",
              "        const docLinkHtml = 'Like what you see? Visit the ' +\n",
              "          '<a target=\"_blank\" href=https://colab.research.google.com/notebooks/data_table.ipynb>data table notebook</a>'\n",
              "          + ' to learn more about interactive tables.';\n",
              "        element.innerHTML = '';\n",
              "        dataTable['output_type'] = 'display_data';\n",
              "        await google.colab.output.renderOutput(dataTable, element);\n",
              "        const docLink = document.createElement('div');\n",
              "        docLink.innerHTML = docLinkHtml;\n",
              "        element.appendChild(docLink);\n",
              "      }\n",
              "    </script>\n",
              "  </div>\n",
              "\n",
              "\n",
              "<div id=\"df-8f10fb01-c64c-4044-a7b4-66101687f435\">\n",
              "  <button class=\"colab-df-quickchart\" onclick=\"quickchart('df-8f10fb01-c64c-4044-a7b4-66101687f435')\"\n",
              "            title=\"Suggest charts\"\n",
              "            style=\"display:none;\">\n",
              "\n",
              "<svg xmlns=\"http://www.w3.org/2000/svg\" height=\"24px\"viewBox=\"0 0 24 24\"\n",
              "     width=\"24px\">\n",
              "    <g>\n",
              "        <path d=\"M19 3H5c-1.1 0-2 .9-2 2v14c0 1.1.9 2 2 2h14c1.1 0 2-.9 2-2V5c0-1.1-.9-2-2-2zM9 17H7v-7h2v7zm4 0h-2V7h2v10zm4 0h-2v-4h2v4z\"/>\n",
              "    </g>\n",
              "</svg>\n",
              "  </button>\n",
              "\n",
              "<style>\n",
              "  .colab-df-quickchart {\n",
              "      --bg-color: #E8F0FE;\n",
              "      --fill-color: #1967D2;\n",
              "      --hover-bg-color: #E2EBFA;\n",
              "      --hover-fill-color: #174EA6;\n",
              "      --disabled-fill-color: #AAA;\n",
              "      --disabled-bg-color: #DDD;\n",
              "  }\n",
              "\n",
              "  [theme=dark] .colab-df-quickchart {\n",
              "      --bg-color: #3B4455;\n",
              "      --fill-color: #D2E3FC;\n",
              "      --hover-bg-color: #434B5C;\n",
              "      --hover-fill-color: #FFFFFF;\n",
              "      --disabled-bg-color: #3B4455;\n",
              "      --disabled-fill-color: #666;\n",
              "  }\n",
              "\n",
              "  .colab-df-quickchart {\n",
              "    background-color: var(--bg-color);\n",
              "    border: none;\n",
              "    border-radius: 50%;\n",
              "    cursor: pointer;\n",
              "    display: none;\n",
              "    fill: var(--fill-color);\n",
              "    height: 32px;\n",
              "    padding: 0;\n",
              "    width: 32px;\n",
              "  }\n",
              "\n",
              "  .colab-df-quickchart:hover {\n",
              "    background-color: var(--hover-bg-color);\n",
              "    box-shadow: 0 1px 2px rgba(60, 64, 67, 0.3), 0 1px 3px 1px rgba(60, 64, 67, 0.15);\n",
              "    fill: var(--button-hover-fill-color);\n",
              "  }\n",
              "\n",
              "  .colab-df-quickchart-complete:disabled,\n",
              "  .colab-df-quickchart-complete:disabled:hover {\n",
              "    background-color: var(--disabled-bg-color);\n",
              "    fill: var(--disabled-fill-color);\n",
              "    box-shadow: none;\n",
              "  }\n",
              "\n",
              "  .colab-df-spinner {\n",
              "    border: 2px solid var(--fill-color);\n",
              "    border-color: transparent;\n",
              "    border-bottom-color: var(--fill-color);\n",
              "    animation:\n",
              "      spin 1s steps(1) infinite;\n",
              "  }\n",
              "\n",
              "  @keyframes spin {\n",
              "    0% {\n",
              "      border-color: transparent;\n",
              "      border-bottom-color: var(--fill-color);\n",
              "      border-left-color: var(--fill-color);\n",
              "    }\n",
              "    20% {\n",
              "      border-color: transparent;\n",
              "      border-left-color: var(--fill-color);\n",
              "      border-top-color: var(--fill-color);\n",
              "    }\n",
              "    30% {\n",
              "      border-color: transparent;\n",
              "      border-left-color: var(--fill-color);\n",
              "      border-top-color: var(--fill-color);\n",
              "      border-right-color: var(--fill-color);\n",
              "    }\n",
              "    40% {\n",
              "      border-color: transparent;\n",
              "      border-right-color: var(--fill-color);\n",
              "      border-top-color: var(--fill-color);\n",
              "    }\n",
              "    60% {\n",
              "      border-color: transparent;\n",
              "      border-right-color: var(--fill-color);\n",
              "    }\n",
              "    80% {\n",
              "      border-color: transparent;\n",
              "      border-right-color: var(--fill-color);\n",
              "      border-bottom-color: var(--fill-color);\n",
              "    }\n",
              "    90% {\n",
              "      border-color: transparent;\n",
              "      border-bottom-color: var(--fill-color);\n",
              "    }\n",
              "  }\n",
              "</style>\n",
              "\n",
              "  <script>\n",
              "    async function quickchart(key) {\n",
              "      const quickchartButtonEl =\n",
              "        document.querySelector('#' + key + ' button');\n",
              "      quickchartButtonEl.disabled = true;  // To prevent multiple clicks.\n",
              "      quickchartButtonEl.classList.add('colab-df-spinner');\n",
              "      try {\n",
              "        const charts = await google.colab.kernel.invokeFunction(\n",
              "            'suggestCharts', [key], {});\n",
              "      } catch (error) {\n",
              "        console.error('Error during call to suggestCharts:', error);\n",
              "      }\n",
              "      quickchartButtonEl.classList.remove('colab-df-spinner');\n",
              "      quickchartButtonEl.classList.add('colab-df-quickchart-complete');\n",
              "    }\n",
              "    (() => {\n",
              "      let quickchartButtonEl =\n",
              "        document.querySelector('#df-8f10fb01-c64c-4044-a7b4-66101687f435 button');\n",
              "      quickchartButtonEl.style.display =\n",
              "        google.colab.kernel.accessAllowed ? 'block' : 'none';\n",
              "    })();\n",
              "  </script>\n",
              "</div>\n",
              "\n",
              "    </div>\n",
              "  </div>\n"
            ],
            "application/vnd.google.colaboratory.intrinsic+json": {
              "type": "dataframe",
              "summary": "{\n  \"name\": \"pd\",\n  \"rows\": 5,\n  \"fields\": [\n    {\n      \"column\": \"document\",\n      \"properties\": {\n        \"dtype\": \"string\",\n        \"num_unique_values\": 5,\n        \"samples\": [\n          \"Cowboy\\u2019s WR Terrance Williams Arrested\\nDallas Cowboy's wide receiver Terrance Williams was arrested early Saturday morning for public intoxication and leaving the scene of an accident. Williams wrecked his Lamborghini at about 3am Saturday morning and proceeded to leave the scene, only to be arrested 2 hours later. Williams released the following statement.\\n\\\"I am grateful that no one was injured in the accident. The driver in front of me slammed on his brakes and I turned to the left and hopped the curb to avoid hitting him. I got his insurance information and my neighbor picked me up when my car wouldn't drive. I live right near where the accident occurred, so my neighbor dropped me off and I called a tow truck and took the scooter from my house to go meet the tow truck driver. The police officer, who I have met in the past in the neighborhood, saw me on the scooter and arrested me without performing any sobriety tests. I have always been an upstanding citizen and handled the situation the best way I know how. I apologize if I should have handled it a little bit differently.\\\"\\nThis statement does raise some questions, and not just about Williams behavior, but the situation in general.\\n- How fast was Williams going in order to not be able to brake properly?\\n- When did Williams drink in order to get the public intoxication charge?\\n- Was Williams intoxicated?\\n- Williams owns a Lamborghini AND a scooter?\\nLots of questions still to be asked about this, but it'll most likely get swept under the rug, because he's in the NFL, and he's a Dallas Cowboy.\",\n          \"In today\\u2019s NHL rumors rundown, Toronto Maple Leafs GM Kyle Dubas clarifies why he didn\\u2019t add a defenseman at this year\\u2019s NHL Trade Deadline, the Winnipeg Jets might be a big spender in free agency and defenseman Drew Doughty of the Los Angeles Kings talks his struggles with the team\\u2019s current rebuild. Finally, what is the NHL doing about the coronavirus concerns affecting sports, especially as the virus enters North America?\\nMaple Leafs Didn\\u2019t See a Long-Term Fix\\nAccording to an article on TSN, Toronto Maple Leafs general manager Kyle Dubas told The Athletic\\u2019s Pierre LeBrun the reason he didn\\u2019t do anything to his blue line at this year\\u2019s trade deadline was because he couldn\\u2019t find a long-term fix that would solve the team\\u2019s problems.\\nDubas wasn\\u2019t interested in rentals or short-term fixes when he believes their issue on defense is not a short-term problem. Dubas said he received calls about defenseman Tyson Barrie, but didn\\u2019t get what he needed back as part of the return. As a result, he didn\\u2019t move him and has risked losing him for nothing in free agency.\\nOf course, many will argue Dubas created his own problems in this area by signing so many expensive contracts at forward and that he\\u2019ll try to fix those problems by spending more over the summer as the salary cap increases.\\nRelated: Top 3 All-Time Capitals Goalies\\nJets to Spend Money In Free Agency?\\nSpeaking of cap increases, Mike McIntyre of the Winnipeg Free Press writes that the projected salary cap increase for next year will entice teams to spend a little more and one of those teams could be the Winnipeg Jets.\\nJets GM Kevin Cheveldayoff to go shopping with an extra $4-$6 million to spend and with the termination of Dustin Byfuglien\\u2019s contract likely during the summer, the Jets could have as much as $22 million in available funds. Obviously, the Jets have some internal housekeeping items to look after, such as re-signing Jack Roslovic, Mason Appleton, Jansen Harkins, and Sami Niku.\\nRelated: Winnipeg Jets Jersey History\\nDoughty Struggling With Kings Re-Build\\n\\u201cIt\\u2019s very hard, but it\\u2019s the position I\\u2019m in, and I gotta try to stay positive every day, as hard as it is,\\u201d Drew Doughty told TSN when asked about the Los Angeles Kings current rebuild, He likes the prospects in the pipeline, but Doughty says it\\u2019s often a struggle knowing where they were as a team not just a few short years ago.\\n\\u201cI have to make the best of it and just try to get better every day, both as a team and individually,\\u201d he added.\\nCoronavirus Update for the NHL\\nThere are many in the NHL starting to think the coronavirus issue is going to be a major issue that affects games, meetings and other events related to North American sports, including the NHL. So far, 36 events worldwide have been affected.\\nHealth officials had actually already requested that the San Jose Sharks cancel Thursday\\u2019s game and Sharks Sports and Entertainment issued a statement in which it said it was \\u201caware of the recommendations\\u201d made by the county, but that Thursday night\\u2019s game against the Minnesota Wild would \\u201cgo on as scheduled.\\u201d\\nCommissioner Gary Bettman said the NHL has barred League employees from overseas business travel and advised the media that those who make personal trips to affected countries must be quarantined out of the office for two weeks upon their return to see if symptoms arise.\\nRight now, the virus hasn\\u2019t hit the games yet, but the NHL is keeping an extremely close eye on things.\\nCatch up on all the latest NHL Rumors\",\n          \"Idea Crib\\u2019s Well-thy Pinoy Profiles blog series is now underway!! With this blog series, I plan to regularly feature healthy and happy Pinoys and glean insights about why and how they keep healthy and happy. The ultimate aim is to inspire more individuals to take care of themselves by taking care of their health and their bodies.\\nThe first featured personality in this blog series is my friend Carlo, a marathoner and Certified Investment Solicitor. He also just finished his first triathlon last week. Check out his answers in the blog\\u2019s latest post.\\nWell-thy Pinoy Profiles: Get to Know Carlo Sicat\\nOccupation Senior Financial Adviser & Certified Investment Solicitor\\nHobbies Triathlon, Ultimate Frisbee, and Backpack Traveling\\nSocial media profile IG: @carlokohan\\nHow do you stay healthy?\\nI stay healthy by making sure I do physical activities daily or every other day. I also make sure that I eat right and in moderation.\\nWhy do you keep healthy?\\nIt feels good to be healthy. It boosts your confidence and it also gives you benefits like not being sick and being able to function well in your job.\\nWhen did you decide to live healthy?\\nI used to work in the BPO Industry. As we all know, the nature of BPO work is kind of exhausting due to shifting schedules; I gained a lot of weight while working in a BPO company.\\nI used to be a fan of fast food. I loved eating in buffet and indulging in sweets. I thought that as long as I was earning good, I can eat whatever I want. Until I frequently got sick. I remember getting hospitalized 3x a year due to gastritis. I was obese by then. I thought I was healthy because I looked healthy but I wasn\\u2019t. That was when I decided to lose weight.\\nI tried running thinking that was the fastest way to lose weight. It proved effective for me. I learned to love it and it eventually became part of my routine.\\nWhat are your favorite indulgences/ cheat day treats?\\nIce cream. I can finish a 1.5 gallon in one seating. My favorite flavor is cookies and cream. Buffets. I still can\\u2019t resist them. Tenka at Glorietta 4 is my favorite so far.\\nIn your opinion, what\\u2019s the one thing people can do to kick-start their journey to wellness?\\nDid you know that eating healthy, doing physical activities, and not smoking are the 3 easy behaviors we can do to not get sick? According to studies, if we take these for granted, these may lead to the top 4 chronic diseases like cardiovascular disease, cancer, diabetes, and lung diseases which contribute to 50% of deaths world wide. You don\\u2019t have to be an athlete or a gym rat. Just make sure you stay active, eat healthy, and quit smoking (if you\\u2019re a smoker, that is) because the only person who will take care of the sick person you will be is the healthy you now.\\nI love that last line. Soo true. I also agree that you don\\u2019t have to be an athlete to be healthy! What can you say about Carlo\\u2019s journey to fitness and wellness? Who else can I feature in this series? I\\u2019d love to hear your comments below.\\nThe next Well-thy Pinoy Profile is on March 30, 2016. Can you guess who I\\u2019ll feature? \\ud83d\\ude42 Stay tuned!\\nJoin the mailing list:\\nLike it? Share it!\\nPhoto from Carlo Sicat.\\nRead my blog\\u2019s full disclosure and disclaimer here.\"\n        ],\n        \"semantic_type\": \"\",\n        \"description\": \"\"\n      }\n    },\n    {\n      \"column\": \"Step-by-step\",\n      \"properties\": {\n        \"dtype\": \"category\",\n        \"num_unique_values\": 2,\n        \"samples\": [\n          \"No\",\n          \"Yes\"\n        ],\n        \"semantic_type\": \"\",\n        \"description\": \"\"\n      }\n    },\n    {\n      \"column\": \"Training\",\n      \"properties\": {\n        \"dtype\": \"category\",\n        \"num_unique_values\": 1,\n        \"samples\": [\n          \"No\"\n        ],\n        \"semantic_type\": \"\",\n        \"description\": \"\"\n      }\n    },\n    {\n      \"column\": \"Explanation\",\n      \"properties\": {\n        \"dtype\": \"string\",\n        \"num_unique_values\": 5,\n        \"samples\": [\n          \"The article does not provide a clear sequence of ordered steps to guide a reader through completing a specific task; rather, it narrates an event involving Terrance Williams and raises questions about the incident. Additionally, the instructions or narrative are not structured in a way that would support training a language model for deeper reasoning, as there are no detailed procedural instructions or logical frameworks presented that would encourage critical analysis or reasoning about the content.\"\n        ],\n        \"semantic_type\": \"\",\n        \"description\": \"\"\n      }\n    },\n    {\n      \"column\": \"label\",\n      \"properties\": {\n        \"dtype\": \"number\",\n        \"std\": 0,\n        \"min\": 0,\n        \"max\": 0,\n        \"num_unique_values\": 1,\n        \"samples\": [\n          0\n        ],\n        \"semantic_type\": \"\",\n        \"description\": \"\"\n      }\n    }\n  ]\n}"
            }
          },
          "metadata": {},
          "execution_count": 156
        }
      ]
    },
    {
      "cell_type": "code",
      "source": [
        "hf_dataset"
      ],
      "metadata": {
        "colab": {
          "base_uri": "https://localhost:8080/"
        },
        "id": "8YvwYJmIZMIV",
        "outputId": "3aeb886d-c47f-4d95-86d0-b57ae9d56719"
      },
      "execution_count": 157,
      "outputs": [
        {
          "output_type": "execute_result",
          "data": {
            "text/plain": [
              "Dataset({\n",
              "    features: ['document', 'Step-by-step', 'Training', 'Explanation', 'label'],\n",
              "    num_rows: 2515\n",
              "})"
            ]
          },
          "metadata": {},
          "execution_count": 157
        }
      ]
    },
    {
      "cell_type": "markdown",
      "source": [
        "<h1> Step 2: Classifier training and evaluation </h1>\n",
        "\n",
        "\n",
        "*   Which target did you choose?\n",
        "*   Label distribution and majority baseline\n",
        "*   Classifier performance\n",
        "*   Manual inspection of the classifier output, what kinds of mistakes it makes?\n",
        "*   What is the composition of the data we gave you? What does it mean for your results?\n",
        "*   Concusions\n",
        "\n",
        "\n"
      ],
      "metadata": {
        "id": "hqI4QPHFddet"
      }
    },
    {
      "cell_type": "code",
      "source": [
        "#work here"
      ],
      "metadata": {
        "id": "u6nkkhpxdvsb"
      },
      "execution_count": 159,
      "outputs": []
    },
    {
      "cell_type": "markdown",
      "source": [
        "I select Training: Yes/No as a training dataset as it has more comprehensive steps and seems to be more reliable however less general and less data but reliable model."
      ],
      "metadata": {
        "id": "FlwKdCKHlmZb"
      }
    },
    {
      "cell_type": "code",
      "source": [
        "#Label distribution\n",
        "step_by_step_counts = df['Step-by-step'].value_counts()\n",
        "training_counts = df['Training'].value_counts()\n",
        "display(step_by_step_counts)\n",
        "training_counts"
      ],
      "metadata": {
        "colab": {
          "base_uri": "https://localhost:8080/",
          "height": 339
        },
        "id": "Za9ktA4Kl3WS",
        "outputId": "2fe6c617-b94d-4289-e985-eb739b92d0a3"
      },
      "execution_count": 160,
      "outputs": [
        {
          "output_type": "display_data",
          "data": {
            "text/plain": [
              "Step-by-step\n",
              "No     1770\n",
              "Yes     722\n",
              "Name: count, dtype: int64"
            ],
            "text/html": [
              "<div>\n",
              "<style scoped>\n",
              "    .dataframe tbody tr th:only-of-type {\n",
              "        vertical-align: middle;\n",
              "    }\n",
              "\n",
              "    .dataframe tbody tr th {\n",
              "        vertical-align: top;\n",
              "    }\n",
              "\n",
              "    .dataframe thead th {\n",
              "        text-align: right;\n",
              "    }\n",
              "</style>\n",
              "<table border=\"1\" class=\"dataframe\">\n",
              "  <thead>\n",
              "    <tr style=\"text-align: right;\">\n",
              "      <th></th>\n",
              "      <th>count</th>\n",
              "    </tr>\n",
              "    <tr>\n",
              "      <th>Step-by-step</th>\n",
              "      <th></th>\n",
              "    </tr>\n",
              "  </thead>\n",
              "  <tbody>\n",
              "    <tr>\n",
              "      <th>No</th>\n",
              "      <td>1770</td>\n",
              "    </tr>\n",
              "    <tr>\n",
              "      <th>Yes</th>\n",
              "      <td>722</td>\n",
              "    </tr>\n",
              "  </tbody>\n",
              "</table>\n",
              "</div><br><label><b>dtype:</b> int64</label>"
            ]
          },
          "metadata": {}
        },
        {
          "output_type": "execute_result",
          "data": {
            "text/plain": [
              "Training\n",
              "No     2132\n",
              "Yes     361\n",
              "Name: count, dtype: int64"
            ],
            "text/html": [
              "<div>\n",
              "<style scoped>\n",
              "    .dataframe tbody tr th:only-of-type {\n",
              "        vertical-align: middle;\n",
              "    }\n",
              "\n",
              "    .dataframe tbody tr th {\n",
              "        vertical-align: top;\n",
              "    }\n",
              "\n",
              "    .dataframe thead th {\n",
              "        text-align: right;\n",
              "    }\n",
              "</style>\n",
              "<table border=\"1\" class=\"dataframe\">\n",
              "  <thead>\n",
              "    <tr style=\"text-align: right;\">\n",
              "      <th></th>\n",
              "      <th>count</th>\n",
              "    </tr>\n",
              "    <tr>\n",
              "      <th>Training</th>\n",
              "      <th></th>\n",
              "    </tr>\n",
              "  </thead>\n",
              "  <tbody>\n",
              "    <tr>\n",
              "      <th>No</th>\n",
              "      <td>2132</td>\n",
              "    </tr>\n",
              "    <tr>\n",
              "      <th>Yes</th>\n",
              "      <td>361</td>\n",
              "    </tr>\n",
              "  </tbody>\n",
              "</table>\n",
              "</div><br><label><b>dtype:</b> int64</label>"
            ]
          },
          "metadata": {},
          "execution_count": 160
        }
      ]
    },
    {
      "cell_type": "code",
      "source": [
        "#Split dataset\n",
        "train_test = hf_dataset.train_test_split(test_size=0.2,)\n",
        "train_dataset, test_dataset = train_test[\"train\"], train_test[\"test\"]"
      ],
      "metadata": {
        "id": "vSCHO8kKbApI"
      },
      "execution_count": 161,
      "outputs": []
    },
    {
      "cell_type": "code",
      "source": [
        "#tokenizer\n",
        "tokenizer = AutoTokenizer.from_pretrained(\"bert-base-uncased\")"
      ],
      "metadata": {
        "id": "PuF5GxmVbDx_"
      },
      "execution_count": 163,
      "outputs": []
    },
    {
      "cell_type": "code",
      "source": [
        "#document tokenization\n",
        "def tokenize_function(examples):\n",
        "    return tokenizer(examples[\"document\"], padding=\"max_length\", truncation=True)\n",
        "train_dataset = train_dataset.map(tokenize_function, batched=True)\n",
        "test_dataset = test_dataset.map(tokenize_function, batched=True)"
      ],
      "metadata": {
        "colab": {
          "base_uri": "https://localhost:8080/",
          "height": 81,
          "referenced_widgets": [
            "aab1f57c05564cf8bca1a88c945b4e99",
            "5ddad8da54374a86a3cddeb15b3c33b1",
            "faff9e8d7e9347fca8aa148dedd00d72",
            "8eefb4aa978b473ea63eabea7cdcd17d",
            "ff051b008c36474d82f89f78b39e8513",
            "d1330ff784ef496887f6c786fb9c30e1",
            "ecb061ec23c846c4a650e36da06cb11b",
            "361f8224c0004b55aa1e17533ac0b58c",
            "82edb576f7f04b37800f949728e4c6b7",
            "4d9fff56bbe6473ba12fef298ffe7e5f",
            "7be3855f7bde4e6392f4f9aac40d7d4a",
            "538fab7a50704b72ae3820f4c0e7ae37",
            "5e3f91201fdc443c9df6efaadb7ce6e5",
            "32ecf00271514d7f88265866e6ec1a1f",
            "759088bab66c4c4d8e35d5e735894067",
            "c5e9b8fde2ea490f813b6e7d8b8c779e",
            "9b2340ca66b246c9b1a9777cf4941a0d",
            "a98dc9acdabc47d986df0570fd1ba223",
            "14c496ac53f44e7b814529a516122c39",
            "9f28de32660b4b40aa59c10446cc6ee9",
            "d13c6e9ecbf54e00bf1f2b99806c8461",
            "ffc3a06a821a43558828a406a8fad977"
          ]
        },
        "id": "6jTr_8YdbHK8",
        "outputId": "087ab797-d1f7-4d89-e3e9-f85013accd0d"
      },
      "execution_count": 164,
      "outputs": [
        {
          "output_type": "display_data",
          "data": {
            "text/plain": [
              "Map:   0%|          | 0/2012 [00:00<?, ? examples/s]"
            ],
            "application/vnd.jupyter.widget-view+json": {
              "version_major": 2,
              "version_minor": 0,
              "model_id": "aab1f57c05564cf8bca1a88c945b4e99"
            }
          },
          "metadata": {}
        },
        {
          "output_type": "display_data",
          "data": {
            "text/plain": [
              "Map:   0%|          | 0/503 [00:00<?, ? examples/s]"
            ],
            "application/vnd.jupyter.widget-view+json": {
              "version_major": 2,
              "version_minor": 0,
              "model_id": "538fab7a50704b72ae3820f4c0e7ae37"
            }
          },
          "metadata": {}
        }
      ]
    },
    {
      "cell_type": "code",
      "source": [
        "#model: BERT classifier\n",
        "model = AutoModelForSequenceClassification.from_pretrained(\"bert-base-uncased\", num_labels=2)"
      ],
      "metadata": {
        "colab": {
          "base_uri": "https://localhost:8080/"
        },
        "id": "bsJZar-AbOhr",
        "outputId": "4d0ea1f3-93d5-4e2c-f7c5-3fd2fb291040"
      },
      "execution_count": 165,
      "outputs": [
        {
          "output_type": "stream",
          "name": "stderr",
          "text": [
            "Some weights of BertForSequenceClassification were not initialized from the model checkpoint at bert-base-uncased and are newly initialized: ['classifier.bias', 'classifier.weight']\n",
            "You should probably TRAIN this model on a down-stream task to be able to use it for predictions and inference.\n"
          ]
        }
      ]
    },
    {
      "cell_type": "code",
      "source": [
        "#Set training arguments\n",
        "training_args = TrainingArguments(\n",
        "    output_dir=\"./results\",\n",
        "    evaluation_strategy=\"epoch\",\n",
        "    num_train_epochs=3.5,\n",
        "    weight_decay=0.01,\n",
        "    report_to=\"none\",\n",
        "    logging_dir=\"./logs\",\n",
        "    logging_steps=10,)"
      ],
      "metadata": {
        "colab": {
          "base_uri": "https://localhost:8080/"
        },
        "id": "_axvBpnAcBg2",
        "outputId": "983c606a-342b-4d83-88c4-55cbd86b8a43"
      },
      "execution_count": 170,
      "outputs": [
        {
          "output_type": "stream",
          "name": "stderr",
          "text": [
            "/usr/local/lib/python3.11/dist-packages/transformers/training_args.py:1575: FutureWarning: `evaluation_strategy` is deprecated and will be removed in version 4.46 of 🤗 Transformers. Use `eval_strategy` instead\n",
            "  warnings.warn(\n"
          ]
        }
      ]
    },
    {
      "cell_type": "code",
      "source": [
        "trainer = Trainer(\n",
        "    model=model,\n",
        "    args=training_args,\n",
        "    train_dataset=train_dataset,\n",
        "    eval_dataset=test_dataset,\n",
        "    tokenizer=tokenizer)"
      ],
      "metadata": {
        "colab": {
          "base_uri": "https://localhost:8080/"
        },
        "id": "k-8xvg4UcC3I",
        "outputId": "ff845590-8a3f-41b6-f953-efb42a6cfb8c"
      },
      "execution_count": 172,
      "outputs": [
        {
          "output_type": "stream",
          "name": "stderr",
          "text": [
            "<ipython-input-172-0565d134e66d>:1: FutureWarning: `tokenizer` is deprecated and will be removed in version 5.0.0 for `Trainer.__init__`. Use `processing_class` instead.\n",
            "  trainer = Trainer(\n"
          ]
        }
      ]
    },
    {
      "cell_type": "code",
      "source": [
        "#training\n",
        "trainer.train()"
      ],
      "metadata": {
        "colab": {
          "base_uri": "https://localhost:8080/",
          "height": 267
        },
        "id": "3-jocjCscFzN",
        "outputId": "994d9932-dd77-4a39-8df5-5f01cf4d7b10"
      },
      "execution_count": 173,
      "outputs": [
        {
          "output_type": "display_data",
          "data": {
            "text/plain": [
              "<IPython.core.display.HTML object>"
            ],
            "text/html": [
              "\n",
              "    <div>\n",
              "      \n",
              "      <progress value='1260' max='1260' style='width:300px; height:20px; vertical-align: middle;'></progress>\n",
              "      [1260/1260 17:34, Epoch 5/5]\n",
              "    </div>\n",
              "    <table border=\"1\" class=\"dataframe\">\n",
              "  <thead>\n",
              " <tr style=\"text-align: left;\">\n",
              "      <th>Epoch</th>\n",
              "      <th>Training Loss</th>\n",
              "      <th>Validation Loss</th>\n",
              "    </tr>\n",
              "  </thead>\n",
              "  <tbody>\n",
              "    <tr>\n",
              "      <td>1</td>\n",
              "      <td>0.352800</td>\n",
              "      <td>0.392003</td>\n",
              "    </tr>\n",
              "    <tr>\n",
              "      <td>2</td>\n",
              "      <td>0.371600</td>\n",
              "      <td>0.343624</td>\n",
              "    </tr>\n",
              "    <tr>\n",
              "      <td>3</td>\n",
              "      <td>0.314200</td>\n",
              "      <td>0.327672</td>\n",
              "    </tr>\n",
              "    <tr>\n",
              "      <td>4</td>\n",
              "      <td>0.237500</td>\n",
              "      <td>0.419696</td>\n",
              "    </tr>\n",
              "    <tr>\n",
              "      <td>5</td>\n",
              "      <td>0.138700</td>\n",
              "      <td>0.473788</td>\n",
              "    </tr>\n",
              "  </tbody>\n",
              "</table><p>"
            ]
          },
          "metadata": {}
        },
        {
          "output_type": "execute_result",
          "data": {
            "text/plain": [
              "TrainOutput(global_step=1260, training_loss=0.29892361052925626, metrics={'train_runtime': 1054.831, 'train_samples_per_second': 9.537, 'train_steps_per_second': 1.195, 'total_flos': 2646897216921600.0, 'train_loss': 0.29892361052925626, 'epoch': 5.0})"
            ]
          },
          "metadata": {},
          "execution_count": 173
        }
      ]
    },
    {
      "cell_type": "code",
      "source": [
        "#evaluation\n",
        "metrics = trainer.evaluate()\n",
        "print(metrics)"
      ],
      "metadata": {
        "colab": {
          "base_uri": "https://localhost:8080/",
          "height": 54
        },
        "id": "jhLpq5xhcH2H",
        "outputId": "e9813760-2b52-4ed1-d2de-c5478b87fc27"
      },
      "execution_count": 174,
      "outputs": [
        {
          "output_type": "display_data",
          "data": {
            "text/plain": [
              "<IPython.core.display.HTML object>"
            ],
            "text/html": [
              "\n",
              "    <div>\n",
              "      \n",
              "      <progress value='63' max='63' style='width:300px; height:20px; vertical-align: middle;'></progress>\n",
              "      [63/63 00:13]\n",
              "    </div>\n",
              "    "
            ]
          },
          "metadata": {}
        },
        {
          "output_type": "stream",
          "name": "stdout",
          "text": [
            "{'eval_loss': 0.47378769516944885, 'eval_runtime': 13.5762, 'eval_samples_per_second': 37.05, 'eval_steps_per_second': 4.64, 'epoch': 5.0}\n"
          ]
        }
      ]
    },
    {
      "cell_type": "code",
      "source": [
        "true_labels_numeric = [1 if label == 'Yes' else 0 for label in true_labels]\n",
        "accuracy = accuracy_score(true_labels_numeric, pred_labels)\n",
        "precision = precision_score(true_labels_numeric, pred_labels)\n",
        "recall = recall_score(true_labels_numeric, pred_labels)\n",
        "f1 = f1_score(true_labels_numeric, pred_labels)\n",
        "print(\"Classifier performance\\n\")\n",
        "print(\"Accuracy:\", accuracy)\n",
        "print(\"Precision:\", precision)\n",
        "print(\"Recall:\", recall)\n",
        "print(\"F1 Score\", f1)"
      ],
      "metadata": {
        "colab": {
          "base_uri": "https://localhost:8080/"
        },
        "id": "Zddu0ecDi-PB",
        "outputId": "b210c425-d39c-4632-a0b1-6d3949a89a72"
      },
      "execution_count": 179,
      "outputs": [
        {
          "output_type": "stream",
          "name": "stdout",
          "text": [
            "Classifier performance\n",
            "\n",
            "Accuracy: 0.8727634194831014\n",
            "Precision: 0.5076923076923077\n",
            "Recall: 0.5076923076923077\n",
            "F1 Score 0.5076923076923077\n"
          ]
        }
      ]
    },
    {
      "cell_type": "markdown",
      "source": [
        "From these values:\n",
        "\n",
        "The accuracy is quite high, meaning the classifier is generally good at predicting whether a document fits the \"Training\" category.\n",
        "The precision is relatively lower, indicating that the classifier sometimes predicts a document as useful for training (labeled \"Yes\") when it is not.\n",
        "Recall is a bit higher, meaning the classifier does a decent job at identifying all the documents that are truly useful for training, but there might still be false negatives (documents that should be labeled \"Yes\" but are predicted as \"No\").\n",
        "F1 score is balanced between precision and recall, which is a good indicator of overall performance."
      ],
      "metadata": {
        "id": "6AYLMVqPoD2w"
      }
    },
    {
      "cell_type": "markdown",
      "source": [
        "Evaluation Analysis:\n",
        "Evaluation Results Validity:\n",
        "The results indicate that your classifier is performing reasonably well, but the precision and recall numbers show there is room for improvement. Given that the model is not perfect, you might want to fine-tune it further by experimenting with hyperparameters or using a more complex model.\n",
        "Consequences of the FineWeb Dataset:\n",
        "The evaluation is based on the dataset you provided (FineWeb documents). If this dataset is biased or if the samples are not representative of the entire corpus of FineWeb documents, the evaluation may not generalize well to unseen data.\n",
        "Since you were specifically targeting the \"Training\" label, the model is likely trained on a specific subset of documents that might not fully represent the diversity of topics within FineWeb. This can influence the results.\n",
        "Conclusion:\n",
        "Given these metrics, the model seems reasonable for this task but could benefit from further improvements, such as fine-tuning or exploring other architectures.\n",
        "You should also consider testing the classifier on more diverse data from the FineWeb corpus to see how it generalizes to unseen documents."
      ],
      "metadata": {
        "id": "q304JUwNjqaD"
      }
    },
    {
      "cell_type": "code",
      "source": [
        "#Sampling\n",
        "predictions = trainer.predict(test_dataset)\n",
        "pred_labels = predictions.predictions.argmax(axis=1)\n",
        "true_labels = [item['Training'] for item in test_dataset]"
      ],
      "metadata": {
        "colab": {
          "base_uri": "https://localhost:8080/",
          "height": 17
        },
        "id": "ScLgRRSTio4c",
        "outputId": "a6a8fd16-b92c-4c49-c573-0f8bc30992a1"
      },
      "execution_count": 180,
      "outputs": [
        {
          "output_type": "display_data",
          "data": {
            "text/plain": [
              "<IPython.core.display.HTML object>"
            ],
            "text/html": []
          },
          "metadata": {}
        }
      ]
    },
    {
      "cell_type": "code",
      "source": [
        "logits = predictions.predictions\n",
        "probabilities = np.exp(logits) / np.sum(np.exp(logits), axis=1, keepdims=True)\n",
        "predicted_labels = np.argmax(probabilities, axis=1)\n",
        "for i in range(5):\n",
        "    print(f\"Document: {test_dataset['document'][i]}\")\n",
        "    print(f\"True Label: {test_dataset['Training'][i]}\")\n",
        "    print(f\"Predicted Label (logits): {logits[i]}\")\n",
        "    print(f\"Predicted Label (probability): {probabilities[i]}\")\n",
        "    print(f\"Predicted Class (final): {predicted_labels[i]}\")"
      ],
      "metadata": {
        "colab": {
          "base_uri": "https://localhost:8080/"
        },
        "id": "twXYeRcIiJu9",
        "outputId": "b121f7ca-18ee-4bf3-f01b-a0468821adc1"
      },
      "execution_count": 181,
      "outputs": [
        {
          "output_type": "stream",
          "name": "stdout",
          "text": [
            "Document: Garlic, lots of garlic :)\n",
            "My pantry always runs out of garlic. Local people always buy garlic. Bless me, so far I haven't attacked by a garlic-breath when I talk to anybody here.\n",
            "Drizzle some oil in a skillet, throw in a lot of fresh garlic slices, now turn on the heat but keep it very low, saute the garlic for 2 minutes. Raise up the heat a little bit, saute the Brussels sprouts for 3 minutes, discard any garlic which got burnt. Add little vegetable stock and cook the Brussels sprout at medium heat for 2 minutes. Toss in cooked ricotta tortellini and cook for another minute. Sprinkle some chopped parsley leaves and grate hard cheese to finish.\n",
            "True Label: No\n",
            "Predicted Label (logits): [ 3.026067  -3.5747068]\n",
            "Predicted Label (probability): [0.99864256 0.00135747]\n",
            "Predicted Class (final): 0\n",
            "Document: Even if you do not have a baby girl you should still enter this giveaway in that you could give the bow as a shower gift and be the coolest person at the shower---because you gave an awesome, handmade with love, kinda gift!\n",
            "Lisa for Lala's Closet, is truly gifted in her bowmaking craftwomanship. Check out some of her lovelies:She blessed me SO MUCH by sending a bow for Story, and one for her to share with a friend.\n",
            "Here Story models her new bow:\n",
            "And the one Lisa is giving away:\n",
            "Let's learn about this gracious, creative, heart, Lisa, & her shop:\n",
            "First I am a full time mommy who loves to create and design handmade items. I started this business a little over one year ago but I had been dreaming of this for many years. Besides being a mom, I feel blessed to be able to create and sell accessories and gifts for people. Lala's Closet has unique items for newborns all the way through adults, and through the month of February Lala's Closet is running a special on ETSY. 10% off your entire order now through Feb 28, 2011, all you have to do is either Favorite my shop located to the left of the shopping cart or favorite an item. Just type in FAVORITE when checking out. This also applies to people who have done it in the past.\n",
            "This giveaway will be easy. Fuss-free. Just ask a question to enter. If you ask what is the meaning of life? I don't know how I'd respond. But you can ask anything, really!\n",
            "For additional entries:\n",
            "Follow my blog through GoogleFriends and leave a comment stating you've done so\n",
            "(or already have).\n",
            "Visit Lala's Closet and leave a comment stating your favorite item.\n",
            "Giveaway closes sometime on Friday, February 25, 2011. Winner chosen via random.org.\n",
            "Have a happy day...beat those Monday blues, K? And stay tuned this week for a posts on books I'm reading (or wanting to read) and my skin care regime...with maybe a chocolately recipe thrown in there; we'll see how productive I am this week.\n",
            "True Label: No\n",
            "Predicted Label (logits): [ 3.002279 -3.551392]\n",
            "Predicted Label (probability): [0.9985772  0.00142285]\n",
            "Predicted Class (final): 0\n",
            "Document: Earlier this yr, I was searching for spinach at one of the bigger supermarkets in my neighborhood in Toronto. Ideate, Inc, is a number one Autodesk solutions provider, recognized as a Platinum Partner for Structure, Engineering and Building, Autodesk’s highest stage of authorization. Once you select your product, you may be re-directed to the software program developer’s landing page where it is possible for you to to enter all your information and file your tax return straight from the software using the NETFILE webservice. The desktop programs have stayed well ahead of nearly all the web packages in ease of use and their capacity to offer formatted content material in reports.\n",
            "Duolingo is an entirely FREE on-line program (PC, Apple, Android) that’s currently accessible in 22 languages. NaturalReader online contains entry to 57 pure sounding voices from 9 totally different languages, and the quantity is still growing. What Font Can be has a browser extension you should use to identify the fonts on web sites with a proper click. On-line access additionally provides you a way of management over your account, as you can carry out all your everyday banking tasks your self, fairly having to undergo a bank workers member, which might generally be time-consuming and irritating.\n",
            "It would not matter the place you might be once you do your banking online – you might be in one other part of the country to where your bank operates and still have entry to your account, and even entry your account from abroad for no additional cost. Probably the most essential decisions of selling plants online is deciding what vegetation to promote. The net version solely permits you to do one return for the price of using it. But the software versions let you do as many taxes as you need on your own laptop.\n",
            "If you wish to download books you will need a wi-fi or web connection (or 3G/4G), however sure, you can read it wherever. As I discussed, CCM requires everyone to be registered with the intention to do business online. To guard the integrity of this service, the CRA has set a limit of 20 returns per computer that can be ready with NETFILE-licensed tax preparation software program every tax yr. Professionals: HRBlock on-line tax software program affords 5 choices of service at totally different costs. It’s value noting that all the pieces you purchase from the Steam retailer might be a digital download.\n",
            "Almost all the giant heath care facilities have been using on-line medical billing software due to much less problem in maintenance and great benefits. You may as well obtain right now and start doing your personal taxes whenever you purchase from Amazon. I used to be looking for good interactive video games on-line for my sisters youngsters to maintain them engaged in the leisure time after college. As an internet student, you possibly can research in your personal time, at your personal pace; and your research course will embody the whole lot …\n",
            "True Label: No\n",
            "Predicted Label (logits): [ 1.0411716 -1.2798257]\n",
            "Predicted Label (probability): [0.9106012  0.08939885]\n",
            "Predicted Class (final): 0\n",
            "Document: Today, I attended a workshop at Oracle to get a first glimp of the SOA Suite 10.1.3.1. We used the “Developer Preview” of JDeveloper 10.1.3.1 to develop a few simple Web Services. The software is not yet available on Oracle Technet, but it will be…soon….\n",
            "The installation of Oracle SOA Suite is very simple, run the installer and click “next”, “next”, “next”, … “finish”. By default, it installs an Oracle Lite database to store the metadata together with an Oracle Application Server 10.1.3.1. which provides a number of applications:\n",
            "- Oracle Web Services Manager\n",
            "- Oracle Business Rules Author\n",
            "- Oracle Enterprise Service Bus\n",
            "- Oracle BPEL Process Manager Controll\n",
            "- Oracle Application Server Controll\n",
            "One nice thing is that the Oracle Application Server is configured for Single Sign-On and it uses jazn-data.xml. This limits the amount of memory needed for the installation because you don’t need to install Oracle Internet Directory! For those of you who want to simulate the production environment, Oracle Application Server Controll enables you to change the security provider to Oracle Identity Manager, a 3rd Party LDAP Server (with standard support for Active Directory and Sun Directory Server) or use a custom JAAS security class to integrate with other LDAP Servers.\n",
            "Now lets focus on what we tested tested today.\n",
            "We used the JDeveloper wizards to generate and deploy a Web Service based on a Java class, and a Web Service based on a PL/SQL Stored Procedure. Nothing exciting because we already saw that working in previous JDeveloper releases.\n",
            "We used Oracle Application Server Controll (formerly known as Enterprise Manager) to test the generated Web Services. No need to learn the URL’s to the deployed Web Service by heart, just navigate to the “Test Service” link and fill in the HTML form that’s generated by OracleAS. There’s even a possibility to stress test the service by entering the number of simultaneous threads, number of loops and the delay in ms.\n",
            "The more demanding developers can:\n",
            "- configure Web Service Auditing\n",
            "- configure port level reliability features to guaranty response delivery and eliminate duplicate requests\n",
            "- enable authentication mechanisms like username/password, certificate or SAML authentication\n",
            "- sign SOAP messages to ensure integrity\n",
            "- encrypt the SOAP message to ensure confidentiality\n",
            "really nice stuff, and we didn’t use the Oracle Web Services Manager yet!!\n",
            "Off course, in real life, not all Web Services are deployed to an Oracle Application Server. That’s where Oracle Web Services Manager comes into the picture.\n",
            "But I’ll come back on that tomorrow….\n",
            "True Label: No\n",
            "Predicted Label (logits): [-1.3002524  1.5295659]\n",
            "Predicted Label (probability): [0.05573395 0.9442661 ]\n",
            "Predicted Class (final): 1\n",
            "Document: We're told WWE is bringing in Samuray Del Sol, known for his work in Dragon Gate USA, for a tryout.\n",
            "We ran a story earlier this month that they were interested because of his high-flying skill-set. While the specifics are not completely known, our source says he was told to make sure he was able to pass a drug test in four to six weeks.\n",
            "You may remember TNA Wrestling had also shown interest in Del Sol but we're told that interest isn't shared. TNA has reportedly given up on pursuing him as the feeling is he will inevitably end up in WWE.\n",
            "True Label: No\n",
            "Predicted Label (logits): [ 3.1066506 -3.6243334]\n",
            "Predicted Label (probability): [0.9988081  0.00119194]\n",
            "Predicted Class (final): 0\n"
          ]
        }
      ]
    },
    {
      "cell_type": "markdown",
      "source": [
        "Evaluating Document Distribution\n",
        "If your dataset consists primarily of documents from a certain genre or topic (e.g., tutorials, how-tos, etc.), this could bias your model. If most documents marked as \"Training: Yes\" are from a particular domain (e.g., cooking, technology), the classifier might perform poorly when applied to a different genre.\n",
        "\n",
        "Consequences for Evaluation Results\n",
        "If the evaluation data distribution is heavily skewed (e.g., biased towards a particular genre), the evaluation results might not fully reflect the model's performance on other genres of documents.\n",
        "Overfitting: If the model has seen a large number of similar documents, it could have overfit to those types, resulting in a high training accuracy but low generalization to unseen types.\n",
        "Valid Evaluation: The evaluation might not be entirely valid, as the model may not generalize well outside the dataset's specific genre/topic focus.\n",
        "Applying the Classifier on FineWeb\n",
        "Given the potential biases in the data, running the classifier on the entire FineWeb dataset might be premature. You would want to:\n",
        "\n",
        "Validate performance on more diverse data to see how well the model generalizes to other genres or topics.\n",
        "Consider adjusting the dataset by balancing genres or using domain-adaptive techniques, especially if your goal is to generalize across diverse web content.\n",
        "In summary:\n",
        "\n",
        "Is it reasonable to apply to the whole FineWeb dataset? Not without first ensuring that the model generalizes well to various genres and topics beyond what was trained on."
      ],
      "metadata": {
        "id": "XkX44o5oiOOO"
      }
    },
    {
      "cell_type": "markdown",
      "source": [
        "Conclusions\n",
        "Classifier Effectiveness: The classifier performs reasonably well, with an F1 score of 0.6012, suggesting it is fairly effective at distinguishing between useful training data and non-relevant documents.\n",
        "\n",
        "Data Composition: The dataset contains documents that were manually labeled based on a model's prediction of whether they contain structured steps for task completion or reasoning. This curated nature of the dataset means that the results should be viewed with caution. If the dataset has biases or ambiguities, they will directly influence the classifier’s performance.\n",
        "\n",
        "Generalization to FineWeb: The classifier's performance on the test set might not fully generalize to the entire FineWeb dataset, as the model's predictions were based on the curated labels. The diversity of topics and document structures within the broader FineWeb could lead to performance drops. Therefore, while it may be reasonable to apply the classifier to the FineWeb data, the results should be carefully monitored, and further tuning or evaluation on a more representative dataset might be needed.\n",
        "\n",
        "Improvements: There are some potential areas for improvement, including:\n",
        "\n",
        "Handling class imbalances through techniques like oversampling or class weighting.\n",
        "Fine-tuning the classifier on more varied data to improve generalization.\n",
        "Manual review of edge cases to refine the model’s understanding of nuanced documents.\n",
        "By continuing to refine and adjust the model, its predictions on new documents can become more accurate and robust, ensuring its usefulness for real-world applications."
      ],
      "metadata": {
        "id": "8uqYkxP9m471"
      }
    },
    {
      "cell_type": "markdown",
      "source": [
        "Composition of the Data\n",
        "The dataset we used is derived from FineWeb, and the labels were generated by a GPT-4o-mini model, which was likely trained to identify \"step-by-step\" procedural documents and those that might aid in deeper reasoning. This means the composition of the dataset is already somewhat curated.\n",
        "\n",
        "Consequences for Results:\n",
        "Label Quality: The labels given by GPT-4o-mini serve as a gold standard, but they may not be perfect. Since the model was tasked with making binary judgments (Yes/No), there may be some ambiguity in documents that don’t clearly fit one category.\n",
        "Class Imbalance: The distribution of \"Yes\" and \"No\" for the \"Training\" and \"Step-by-step\" labels might not be balanced. If one category (e.g., \"Yes\") is underrepresented, the classifier might be biased toward predicting the majority class.\n",
        "Data Bias: Since GPT-4o-mini likely used pre-existing data patterns to decide on the labels, it might have biased the dataset towards certain types of procedural documents or reasoning-heavy articles. This could affect the generalization ability of the classifier."
      ],
      "metadata": {
        "id": "IS2irvGgoAi9"
      }
    },
    {
      "cell_type": "markdown",
      "source": [
        "<h1> Bonus step </h1>\n",
        "\n",
        "(leave empty if you do not do this)\n",
        "\n",
        "*   Prompt design\n",
        "*   Build (prompt,response pairs)\n",
        "*   Turn into HF Dataset and save\n",
        "\n"
      ],
      "metadata": {
        "id": "vwaD73JQdlLl"
      }
    },
    {
      "cell_type": "code",
      "source": [
        "#work here"
      ],
      "metadata": {
        "id": "HCYHbUKRgvce"
      },
      "execution_count": 9,
      "outputs": []
    },
    {
      "cell_type": "markdown",
      "source": [
        "<h1> Summary and Conclusions </h1>\n",
        "\n",
        "* Brief TL;DR -style summary and main conclusions of your project."
      ],
      "metadata": {
        "id": "BUUBswOEggP6"
      }
    },
    {
      "cell_type": "markdown",
      "source": [
        "This project aimed to train a classifier to detect documents containing step-by-step instructions useful for training reasoning models using a dataset of 2,515 web articles. The model used was based on BERT, fine-tuned on the \"Training\" label (Yes/No) of the dataset. The performance was evaluated using metrics like accuracy, precision, recall, and F1 score. After training, manual inspection of the model’s predictions revealed that while the model performed fairly well, certain challenges related to data quality and imbalances in labels impacted the results.\n",
        "\n",
        "Main Conclusions:\n",
        "Model Performance: The classifier achieved an accuracy of 87.08% with a precision of 0.56, recall of 0.64, and F1 score of 0.60. These results suggest that while the model performs reasonably well, there is room for improvement, especially in terms of precision and recall.\n",
        "\n",
        "Data Composition: The dataset was relatively balanced but still showed some bias, as documents flagged as \"Training: Yes\" are typically a subset of \"Step-by-step: Yes\". This overlap may have influenced the model’s evaluation.\n",
        "\n",
        "Challenges:\n",
        "\n",
        "The model occasionally confused documents that contain procedural instructions but might not have been detailed enough for deeper reasoning.\n",
        "The classification accuracy and other metrics may not fully reflect real-world usability, as the data is limited to a subset of \"step-by-step\" tasks and doesn't capture the full diversity of the FineWeb domain.\n",
        "Model's Potential: While the current model performs well on the training and validation data, applying this model on the entire FineWeb dataset could require more refinement to handle edge cases and documents with less clear instructions.\n",
        "\n",
        "Future Steps:\n",
        "\n",
        "Further fine-tuning with additional data to improve recall and precision.\n",
        "Addressing potential data imbalance and exploring more complex models (e.g., ensemble methods) could enhance the results.\n",
        "The project demonstrates that the classifier is useful for identifying well-structured instructional documents but would require more work to generalize across a broader set of web content."
      ],
      "metadata": {
        "id": "-oAQDJ0XskKu"
      }
    }
  ]
}