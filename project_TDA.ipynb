{
  "nbformat": 4,
  "nbformat_minor": 0,
  "metadata": {
    "colab": {
      "provenance": [],
      "name": "project_TDA.ipynb",
      "gpuType": "T4",
      "include_colab_link": true
    },
    "kernelspec": {
      "name": "python3",
      "display_name": "Python 3"
    },
    "language_info": {
      "name": "python"
    },
    "accelerator": "GPU",
    "widgets": {
      "application/vnd.jupyter.widget-state+json": {
        "ad0040ae52af4898831539e9d93d0c89": {
          "model_module": "@jupyter-widgets/controls",
          "model_name": "HBoxModel",
          "model_module_version": "1.5.0",
          "state": {
            "_dom_classes": [],
            "_model_module": "@jupyter-widgets/controls",
            "_model_module_version": "1.5.0",
            "_model_name": "HBoxModel",
            "_view_count": null,
            "_view_module": "@jupyter-widgets/controls",
            "_view_module_version": "1.5.0",
            "_view_name": "HBoxView",
            "box_style": "",
            "children": [
              "IPY_MODEL_f980f4acabd24aa2bfab24fd28b7d021",
              "IPY_MODEL_63605931ef5049999c76bc7eb306d952",
              "IPY_MODEL_2f7b59e0b6c34e789f0c15d2f46348f9"
            ],
            "layout": "IPY_MODEL_761110ce94f54b1f984a0647cabdc023"
          }
        },
        "f980f4acabd24aa2bfab24fd28b7d021": {
          "model_module": "@jupyter-widgets/controls",
          "model_name": "HTMLModel",
          "model_module_version": "1.5.0",
          "state": {
            "_dom_classes": [],
            "_model_module": "@jupyter-widgets/controls",
            "_model_module_version": "1.5.0",
            "_model_name": "HTMLModel",
            "_view_count": null,
            "_view_module": "@jupyter-widgets/controls",
            "_view_module_version": "1.5.0",
            "_view_name": "HTMLView",
            "description": "",
            "description_tooltip": null,
            "layout": "IPY_MODEL_a2657e1a87a54448a891fd83e41d3044",
            "placeholder": "​",
            "style": "IPY_MODEL_bd87800f764343fca442f6dae0364baf",
            "value": "Saving the dataset (1/1 shards): 100%"
          }
        },
        "63605931ef5049999c76bc7eb306d952": {
          "model_module": "@jupyter-widgets/controls",
          "model_name": "FloatProgressModel",
          "model_module_version": "1.5.0",
          "state": {
            "_dom_classes": [],
            "_model_module": "@jupyter-widgets/controls",
            "_model_module_version": "1.5.0",
            "_model_name": "FloatProgressModel",
            "_view_count": null,
            "_view_module": "@jupyter-widgets/controls",
            "_view_module_version": "1.5.0",
            "_view_name": "ProgressView",
            "bar_style": "success",
            "description": "",
            "description_tooltip": null,
            "layout": "IPY_MODEL_542c294339324d08b2c7032b65b98e6a",
            "max": 2515,
            "min": 0,
            "orientation": "horizontal",
            "style": "IPY_MODEL_05e298d83e5049929ef0696206214f19",
            "value": 2515
          }
        },
        "2f7b59e0b6c34e789f0c15d2f46348f9": {
          "model_module": "@jupyter-widgets/controls",
          "model_name": "HTMLModel",
          "model_module_version": "1.5.0",
          "state": {
            "_dom_classes": [],
            "_model_module": "@jupyter-widgets/controls",
            "_model_module_version": "1.5.0",
            "_model_name": "HTMLModel",
            "_view_count": null,
            "_view_module": "@jupyter-widgets/controls",
            "_view_module_version": "1.5.0",
            "_view_name": "HTMLView",
            "description": "",
            "description_tooltip": null,
            "layout": "IPY_MODEL_31dff7c9b0c94888ac47072e11d7addc",
            "placeholder": "​",
            "style": "IPY_MODEL_c53a27b8c7d74608a978560cb69bedc4",
            "value": " 2515/2515 [00:00&lt;00:00, 29564.01 examples/s]"
          }
        },
        "761110ce94f54b1f984a0647cabdc023": {
          "model_module": "@jupyter-widgets/base",
          "model_name": "LayoutModel",
          "model_module_version": "1.2.0",
          "state": {
            "_model_module": "@jupyter-widgets/base",
            "_model_module_version": "1.2.0",
            "_model_name": "LayoutModel",
            "_view_count": null,
            "_view_module": "@jupyter-widgets/base",
            "_view_module_version": "1.2.0",
            "_view_name": "LayoutView",
            "align_content": null,
            "align_items": null,
            "align_self": null,
            "border": null,
            "bottom": null,
            "display": null,
            "flex": null,
            "flex_flow": null,
            "grid_area": null,
            "grid_auto_columns": null,
            "grid_auto_flow": null,
            "grid_auto_rows": null,
            "grid_column": null,
            "grid_gap": null,
            "grid_row": null,
            "grid_template_areas": null,
            "grid_template_columns": null,
            "grid_template_rows": null,
            "height": null,
            "justify_content": null,
            "justify_items": null,
            "left": null,
            "margin": null,
            "max_height": null,
            "max_width": null,
            "min_height": null,
            "min_width": null,
            "object_fit": null,
            "object_position": null,
            "order": null,
            "overflow": null,
            "overflow_x": null,
            "overflow_y": null,
            "padding": null,
            "right": null,
            "top": null,
            "visibility": null,
            "width": null
          }
        },
        "a2657e1a87a54448a891fd83e41d3044": {
          "model_module": "@jupyter-widgets/base",
          "model_name": "LayoutModel",
          "model_module_version": "1.2.0",
          "state": {
            "_model_module": "@jupyter-widgets/base",
            "_model_module_version": "1.2.0",
            "_model_name": "LayoutModel",
            "_view_count": null,
            "_view_module": "@jupyter-widgets/base",
            "_view_module_version": "1.2.0",
            "_view_name": "LayoutView",
            "align_content": null,
            "align_items": null,
            "align_self": null,
            "border": null,
            "bottom": null,
            "display": null,
            "flex": null,
            "flex_flow": null,
            "grid_area": null,
            "grid_auto_columns": null,
            "grid_auto_flow": null,
            "grid_auto_rows": null,
            "grid_column": null,
            "grid_gap": null,
            "grid_row": null,
            "grid_template_areas": null,
            "grid_template_columns": null,
            "grid_template_rows": null,
            "height": null,
            "justify_content": null,
            "justify_items": null,
            "left": null,
            "margin": null,
            "max_height": null,
            "max_width": null,
            "min_height": null,
            "min_width": null,
            "object_fit": null,
            "object_position": null,
            "order": null,
            "overflow": null,
            "overflow_x": null,
            "overflow_y": null,
            "padding": null,
            "right": null,
            "top": null,
            "visibility": null,
            "width": null
          }
        },
        "bd87800f764343fca442f6dae0364baf": {
          "model_module": "@jupyter-widgets/controls",
          "model_name": "DescriptionStyleModel",
          "model_module_version": "1.5.0",
          "state": {
            "_model_module": "@jupyter-widgets/controls",
            "_model_module_version": "1.5.0",
            "_model_name": "DescriptionStyleModel",
            "_view_count": null,
            "_view_module": "@jupyter-widgets/base",
            "_view_module_version": "1.2.0",
            "_view_name": "StyleView",
            "description_width": ""
          }
        },
        "542c294339324d08b2c7032b65b98e6a": {
          "model_module": "@jupyter-widgets/base",
          "model_name": "LayoutModel",
          "model_module_version": "1.2.0",
          "state": {
            "_model_module": "@jupyter-widgets/base",
            "_model_module_version": "1.2.0",
            "_model_name": "LayoutModel",
            "_view_count": null,
            "_view_module": "@jupyter-widgets/base",
            "_view_module_version": "1.2.0",
            "_view_name": "LayoutView",
            "align_content": null,
            "align_items": null,
            "align_self": null,
            "border": null,
            "bottom": null,
            "display": null,
            "flex": null,
            "flex_flow": null,
            "grid_area": null,
            "grid_auto_columns": null,
            "grid_auto_flow": null,
            "grid_auto_rows": null,
            "grid_column": null,
            "grid_gap": null,
            "grid_row": null,
            "grid_template_areas": null,
            "grid_template_columns": null,
            "grid_template_rows": null,
            "height": null,
            "justify_content": null,
            "justify_items": null,
            "left": null,
            "margin": null,
            "max_height": null,
            "max_width": null,
            "min_height": null,
            "min_width": null,
            "object_fit": null,
            "object_position": null,
            "order": null,
            "overflow": null,
            "overflow_x": null,
            "overflow_y": null,
            "padding": null,
            "right": null,
            "top": null,
            "visibility": null,
            "width": null
          }
        },
        "05e298d83e5049929ef0696206214f19": {
          "model_module": "@jupyter-widgets/controls",
          "model_name": "ProgressStyleModel",
          "model_module_version": "1.5.0",
          "state": {
            "_model_module": "@jupyter-widgets/controls",
            "_model_module_version": "1.5.0",
            "_model_name": "ProgressStyleModel",
            "_view_count": null,
            "_view_module": "@jupyter-widgets/base",
            "_view_module_version": "1.2.0",
            "_view_name": "StyleView",
            "bar_color": null,
            "description_width": ""
          }
        },
        "31dff7c9b0c94888ac47072e11d7addc": {
          "model_module": "@jupyter-widgets/base",
          "model_name": "LayoutModel",
          "model_module_version": "1.2.0",
          "state": {
            "_model_module": "@jupyter-widgets/base",
            "_model_module_version": "1.2.0",
            "_model_name": "LayoutModel",
            "_view_count": null,
            "_view_module": "@jupyter-widgets/base",
            "_view_module_version": "1.2.0",
            "_view_name": "LayoutView",
            "align_content": null,
            "align_items": null,
            "align_self": null,
            "border": null,
            "bottom": null,
            "display": null,
            "flex": null,
            "flex_flow": null,
            "grid_area": null,
            "grid_auto_columns": null,
            "grid_auto_flow": null,
            "grid_auto_rows": null,
            "grid_column": null,
            "grid_gap": null,
            "grid_row": null,
            "grid_template_areas": null,
            "grid_template_columns": null,
            "grid_template_rows": null,
            "height": null,
            "justify_content": null,
            "justify_items": null,
            "left": null,
            "margin": null,
            "max_height": null,
            "max_width": null,
            "min_height": null,
            "min_width": null,
            "object_fit": null,
            "object_position": null,
            "order": null,
            "overflow": null,
            "overflow_x": null,
            "overflow_y": null,
            "padding": null,
            "right": null,
            "top": null,
            "visibility": null,
            "width": null
          }
        },
        "c53a27b8c7d74608a978560cb69bedc4": {
          "model_module": "@jupyter-widgets/controls",
          "model_name": "DescriptionStyleModel",
          "model_module_version": "1.5.0",
          "state": {
            "_model_module": "@jupyter-widgets/controls",
            "_model_module_version": "1.5.0",
            "_model_name": "DescriptionStyleModel",
            "_view_count": null,
            "_view_module": "@jupyter-widgets/base",
            "_view_module_version": "1.2.0",
            "_view_name": "StyleView",
            "description_width": ""
          }
        },
        "d9571700fd1843f89a6d71e527dff09a": {
          "model_module": "@jupyter-widgets/controls",
          "model_name": "HBoxModel",
          "model_module_version": "1.5.0",
          "state": {
            "_dom_classes": [],
            "_model_module": "@jupyter-widgets/controls",
            "_model_module_version": "1.5.0",
            "_model_name": "HBoxModel",
            "_view_count": null,
            "_view_module": "@jupyter-widgets/controls",
            "_view_module_version": "1.5.0",
            "_view_name": "HBoxView",
            "box_style": "",
            "children": [
              "IPY_MODEL_a1b7a14f091d4ff8be5d59d556c58be2",
              "IPY_MODEL_1085263c77274495a32532dd68cd124e",
              "IPY_MODEL_368f77f8ed6b42659935a2c464d096f2"
            ],
            "layout": "IPY_MODEL_a039d3ec833f4a2ba7026a44b7b09732"
          }
        },
        "a1b7a14f091d4ff8be5d59d556c58be2": {
          "model_module": "@jupyter-widgets/controls",
          "model_name": "HTMLModel",
          "model_module_version": "1.5.0",
          "state": {
            "_dom_classes": [],
            "_model_module": "@jupyter-widgets/controls",
            "_model_module_version": "1.5.0",
            "_model_name": "HTMLModel",
            "_view_count": null,
            "_view_module": "@jupyter-widgets/controls",
            "_view_module_version": "1.5.0",
            "_view_name": "HTMLView",
            "description": "",
            "description_tooltip": null,
            "layout": "IPY_MODEL_7dbf2cbeb709459e920c34c19ee01153",
            "placeholder": "​",
            "style": "IPY_MODEL_ba1a62a7ebd24afb9fd5604e7338dfe8",
            "value": "Map: 100%"
          }
        },
        "1085263c77274495a32532dd68cd124e": {
          "model_module": "@jupyter-widgets/controls",
          "model_name": "FloatProgressModel",
          "model_module_version": "1.5.0",
          "state": {
            "_dom_classes": [],
            "_model_module": "@jupyter-widgets/controls",
            "_model_module_version": "1.5.0",
            "_model_name": "FloatProgressModel",
            "_view_count": null,
            "_view_module": "@jupyter-widgets/controls",
            "_view_module_version": "1.5.0",
            "_view_name": "ProgressView",
            "bar_style": "success",
            "description": "",
            "description_tooltip": null,
            "layout": "IPY_MODEL_a7219caca36741c89a14dc412513250e",
            "max": 2515,
            "min": 0,
            "orientation": "horizontal",
            "style": "IPY_MODEL_2c5af93c8da442b0a75a4fa142ec8d23",
            "value": 2515
          }
        },
        "368f77f8ed6b42659935a2c464d096f2": {
          "model_module": "@jupyter-widgets/controls",
          "model_name": "HTMLModel",
          "model_module_version": "1.5.0",
          "state": {
            "_dom_classes": [],
            "_model_module": "@jupyter-widgets/controls",
            "_model_module_version": "1.5.0",
            "_model_name": "HTMLModel",
            "_view_count": null,
            "_view_module": "@jupyter-widgets/controls",
            "_view_module_version": "1.5.0",
            "_view_name": "HTMLView",
            "description": "",
            "description_tooltip": null,
            "layout": "IPY_MODEL_21cc69c41b1b4a2f8b9b0b7a72cae759",
            "placeholder": "​",
            "style": "IPY_MODEL_2e00a218ecd341beb24c3d2680f66ad7",
            "value": " 2515/2515 [00:00&lt;00:00, 7164.82 examples/s]"
          }
        },
        "a039d3ec833f4a2ba7026a44b7b09732": {
          "model_module": "@jupyter-widgets/base",
          "model_name": "LayoutModel",
          "model_module_version": "1.2.0",
          "state": {
            "_model_module": "@jupyter-widgets/base",
            "_model_module_version": "1.2.0",
            "_model_name": "LayoutModel",
            "_view_count": null,
            "_view_module": "@jupyter-widgets/base",
            "_view_module_version": "1.2.0",
            "_view_name": "LayoutView",
            "align_content": null,
            "align_items": null,
            "align_self": null,
            "border": null,
            "bottom": null,
            "display": null,
            "flex": null,
            "flex_flow": null,
            "grid_area": null,
            "grid_auto_columns": null,
            "grid_auto_flow": null,
            "grid_auto_rows": null,
            "grid_column": null,
            "grid_gap": null,
            "grid_row": null,
            "grid_template_areas": null,
            "grid_template_columns": null,
            "grid_template_rows": null,
            "height": null,
            "justify_content": null,
            "justify_items": null,
            "left": null,
            "margin": null,
            "max_height": null,
            "max_width": null,
            "min_height": null,
            "min_width": null,
            "object_fit": null,
            "object_position": null,
            "order": null,
            "overflow": null,
            "overflow_x": null,
            "overflow_y": null,
            "padding": null,
            "right": null,
            "top": null,
            "visibility": null,
            "width": null
          }
        },
        "7dbf2cbeb709459e920c34c19ee01153": {
          "model_module": "@jupyter-widgets/base",
          "model_name": "LayoutModel",
          "model_module_version": "1.2.0",
          "state": {
            "_model_module": "@jupyter-widgets/base",
            "_model_module_version": "1.2.0",
            "_model_name": "LayoutModel",
            "_view_count": null,
            "_view_module": "@jupyter-widgets/base",
            "_view_module_version": "1.2.0",
            "_view_name": "LayoutView",
            "align_content": null,
            "align_items": null,
            "align_self": null,
            "border": null,
            "bottom": null,
            "display": null,
            "flex": null,
            "flex_flow": null,
            "grid_area": null,
            "grid_auto_columns": null,
            "grid_auto_flow": null,
            "grid_auto_rows": null,
            "grid_column": null,
            "grid_gap": null,
            "grid_row": null,
            "grid_template_areas": null,
            "grid_template_columns": null,
            "grid_template_rows": null,
            "height": null,
            "justify_content": null,
            "justify_items": null,
            "left": null,
            "margin": null,
            "max_height": null,
            "max_width": null,
            "min_height": null,
            "min_width": null,
            "object_fit": null,
            "object_position": null,
            "order": null,
            "overflow": null,
            "overflow_x": null,
            "overflow_y": null,
            "padding": null,
            "right": null,
            "top": null,
            "visibility": null,
            "width": null
          }
        },
        "ba1a62a7ebd24afb9fd5604e7338dfe8": {
          "model_module": "@jupyter-widgets/controls",
          "model_name": "DescriptionStyleModel",
          "model_module_version": "1.5.0",
          "state": {
            "_model_module": "@jupyter-widgets/controls",
            "_model_module_version": "1.5.0",
            "_model_name": "DescriptionStyleModel",
            "_view_count": null,
            "_view_module": "@jupyter-widgets/base",
            "_view_module_version": "1.2.0",
            "_view_name": "StyleView",
            "description_width": ""
          }
        },
        "a7219caca36741c89a14dc412513250e": {
          "model_module": "@jupyter-widgets/base",
          "model_name": "LayoutModel",
          "model_module_version": "1.2.0",
          "state": {
            "_model_module": "@jupyter-widgets/base",
            "_model_module_version": "1.2.0",
            "_model_name": "LayoutModel",
            "_view_count": null,
            "_view_module": "@jupyter-widgets/base",
            "_view_module_version": "1.2.0",
            "_view_name": "LayoutView",
            "align_content": null,
            "align_items": null,
            "align_self": null,
            "border": null,
            "bottom": null,
            "display": null,
            "flex": null,
            "flex_flow": null,
            "grid_area": null,
            "grid_auto_columns": null,
            "grid_auto_flow": null,
            "grid_auto_rows": null,
            "grid_column": null,
            "grid_gap": null,
            "grid_row": null,
            "grid_template_areas": null,
            "grid_template_columns": null,
            "grid_template_rows": null,
            "height": null,
            "justify_content": null,
            "justify_items": null,
            "left": null,
            "margin": null,
            "max_height": null,
            "max_width": null,
            "min_height": null,
            "min_width": null,
            "object_fit": null,
            "object_position": null,
            "order": null,
            "overflow": null,
            "overflow_x": null,
            "overflow_y": null,
            "padding": null,
            "right": null,
            "top": null,
            "visibility": null,
            "width": null
          }
        },
        "2c5af93c8da442b0a75a4fa142ec8d23": {
          "model_module": "@jupyter-widgets/controls",
          "model_name": "ProgressStyleModel",
          "model_module_version": "1.5.0",
          "state": {
            "_model_module": "@jupyter-widgets/controls",
            "_model_module_version": "1.5.0",
            "_model_name": "ProgressStyleModel",
            "_view_count": null,
            "_view_module": "@jupyter-widgets/base",
            "_view_module_version": "1.2.0",
            "_view_name": "StyleView",
            "bar_color": null,
            "description_width": ""
          }
        },
        "21cc69c41b1b4a2f8b9b0b7a72cae759": {
          "model_module": "@jupyter-widgets/base",
          "model_name": "LayoutModel",
          "model_module_version": "1.2.0",
          "state": {
            "_model_module": "@jupyter-widgets/base",
            "_model_module_version": "1.2.0",
            "_model_name": "LayoutModel",
            "_view_count": null,
            "_view_module": "@jupyter-widgets/base",
            "_view_module_version": "1.2.0",
            "_view_name": "LayoutView",
            "align_content": null,
            "align_items": null,
            "align_self": null,
            "border": null,
            "bottom": null,
            "display": null,
            "flex": null,
            "flex_flow": null,
            "grid_area": null,
            "grid_auto_columns": null,
            "grid_auto_flow": null,
            "grid_auto_rows": null,
            "grid_column": null,
            "grid_gap": null,
            "grid_row": null,
            "grid_template_areas": null,
            "grid_template_columns": null,
            "grid_template_rows": null,
            "height": null,
            "justify_content": null,
            "justify_items": null,
            "left": null,
            "margin": null,
            "max_height": null,
            "max_width": null,
            "min_height": null,
            "min_width": null,
            "object_fit": null,
            "object_position": null,
            "order": null,
            "overflow": null,
            "overflow_x": null,
            "overflow_y": null,
            "padding": null,
            "right": null,
            "top": null,
            "visibility": null,
            "width": null
          }
        },
        "2e00a218ecd341beb24c3d2680f66ad7": {
          "model_module": "@jupyter-widgets/controls",
          "model_name": "DescriptionStyleModel",
          "model_module_version": "1.5.0",
          "state": {
            "_model_module": "@jupyter-widgets/controls",
            "_model_module_version": "1.5.0",
            "_model_name": "DescriptionStyleModel",
            "_view_count": null,
            "_view_module": "@jupyter-widgets/base",
            "_view_module_version": "1.2.0",
            "_view_name": "StyleView",
            "description_width": ""
          }
        },
        "2ee035b8553a4d80b1b1956f6fb5f3a1": {
          "model_module": "@jupyter-widgets/controls",
          "model_name": "HBoxModel",
          "model_module_version": "1.5.0",
          "state": {
            "_dom_classes": [],
            "_model_module": "@jupyter-widgets/controls",
            "_model_module_version": "1.5.0",
            "_model_name": "HBoxModel",
            "_view_count": null,
            "_view_module": "@jupyter-widgets/controls",
            "_view_module_version": "1.5.0",
            "_view_name": "HBoxView",
            "box_style": "",
            "children": [
              "IPY_MODEL_57164efe62434c579bfb5395ffc6a71a",
              "IPY_MODEL_a99da09213064b4883c15beecde3aa34",
              "IPY_MODEL_795237abec954a40a51df3a314f67e3a"
            ],
            "layout": "IPY_MODEL_3079276ad6544c699643ffaf41d619b4"
          }
        },
        "57164efe62434c579bfb5395ffc6a71a": {
          "model_module": "@jupyter-widgets/controls",
          "model_name": "HTMLModel",
          "model_module_version": "1.5.0",
          "state": {
            "_dom_classes": [],
            "_model_module": "@jupyter-widgets/controls",
            "_model_module_version": "1.5.0",
            "_model_name": "HTMLModel",
            "_view_count": null,
            "_view_module": "@jupyter-widgets/controls",
            "_view_module_version": "1.5.0",
            "_view_name": "HTMLView",
            "description": "",
            "description_tooltip": null,
            "layout": "IPY_MODEL_981bd3a8815f4bf091b0497c010acd32",
            "placeholder": "​",
            "style": "IPY_MODEL_e26dd4824b824a3fa23eeb256e489d0e",
            "value": "Map: 100%"
          }
        },
        "a99da09213064b4883c15beecde3aa34": {
          "model_module": "@jupyter-widgets/controls",
          "model_name": "FloatProgressModel",
          "model_module_version": "1.5.0",
          "state": {
            "_dom_classes": [],
            "_model_module": "@jupyter-widgets/controls",
            "_model_module_version": "1.5.0",
            "_model_name": "FloatProgressModel",
            "_view_count": null,
            "_view_module": "@jupyter-widgets/controls",
            "_view_module_version": "1.5.0",
            "_view_name": "ProgressView",
            "bar_style": "success",
            "description": "",
            "description_tooltip": null,
            "layout": "IPY_MODEL_7e7f2a1543ef40b19a7eb7ae02f06630",
            "max": 2012,
            "min": 0,
            "orientation": "horizontal",
            "style": "IPY_MODEL_d93abe782bdf4c7f9e5844e90c9d67eb",
            "value": 2012
          }
        },
        "795237abec954a40a51df3a314f67e3a": {
          "model_module": "@jupyter-widgets/controls",
          "model_name": "HTMLModel",
          "model_module_version": "1.5.0",
          "state": {
            "_dom_classes": [],
            "_model_module": "@jupyter-widgets/controls",
            "_model_module_version": "1.5.0",
            "_model_name": "HTMLModel",
            "_view_count": null,
            "_view_module": "@jupyter-widgets/controls",
            "_view_module_version": "1.5.0",
            "_view_name": "HTMLView",
            "description": "",
            "description_tooltip": null,
            "layout": "IPY_MODEL_68ac8f16ed1e4de89313e271d55a8e8f",
            "placeholder": "​",
            "style": "IPY_MODEL_5d6a2b7bb3214eb2b128a752efc9fca7",
            "value": " 2012/2012 [00:08&lt;00:00, 235.49 examples/s]"
          }
        },
        "3079276ad6544c699643ffaf41d619b4": {
          "model_module": "@jupyter-widgets/base",
          "model_name": "LayoutModel",
          "model_module_version": "1.2.0",
          "state": {
            "_model_module": "@jupyter-widgets/base",
            "_model_module_version": "1.2.0",
            "_model_name": "LayoutModel",
            "_view_count": null,
            "_view_module": "@jupyter-widgets/base",
            "_view_module_version": "1.2.0",
            "_view_name": "LayoutView",
            "align_content": null,
            "align_items": null,
            "align_self": null,
            "border": null,
            "bottom": null,
            "display": null,
            "flex": null,
            "flex_flow": null,
            "grid_area": null,
            "grid_auto_columns": null,
            "grid_auto_flow": null,
            "grid_auto_rows": null,
            "grid_column": null,
            "grid_gap": null,
            "grid_row": null,
            "grid_template_areas": null,
            "grid_template_columns": null,
            "grid_template_rows": null,
            "height": null,
            "justify_content": null,
            "justify_items": null,
            "left": null,
            "margin": null,
            "max_height": null,
            "max_width": null,
            "min_height": null,
            "min_width": null,
            "object_fit": null,
            "object_position": null,
            "order": null,
            "overflow": null,
            "overflow_x": null,
            "overflow_y": null,
            "padding": null,
            "right": null,
            "top": null,
            "visibility": null,
            "width": null
          }
        },
        "981bd3a8815f4bf091b0497c010acd32": {
          "model_module": "@jupyter-widgets/base",
          "model_name": "LayoutModel",
          "model_module_version": "1.2.0",
          "state": {
            "_model_module": "@jupyter-widgets/base",
            "_model_module_version": "1.2.0",
            "_model_name": "LayoutModel",
            "_view_count": null,
            "_view_module": "@jupyter-widgets/base",
            "_view_module_version": "1.2.0",
            "_view_name": "LayoutView",
            "align_content": null,
            "align_items": null,
            "align_self": null,
            "border": null,
            "bottom": null,
            "display": null,
            "flex": null,
            "flex_flow": null,
            "grid_area": null,
            "grid_auto_columns": null,
            "grid_auto_flow": null,
            "grid_auto_rows": null,
            "grid_column": null,
            "grid_gap": null,
            "grid_row": null,
            "grid_template_areas": null,
            "grid_template_columns": null,
            "grid_template_rows": null,
            "height": null,
            "justify_content": null,
            "justify_items": null,
            "left": null,
            "margin": null,
            "max_height": null,
            "max_width": null,
            "min_height": null,
            "min_width": null,
            "object_fit": null,
            "object_position": null,
            "order": null,
            "overflow": null,
            "overflow_x": null,
            "overflow_y": null,
            "padding": null,
            "right": null,
            "top": null,
            "visibility": null,
            "width": null
          }
        },
        "e26dd4824b824a3fa23eeb256e489d0e": {
          "model_module": "@jupyter-widgets/controls",
          "model_name": "DescriptionStyleModel",
          "model_module_version": "1.5.0",
          "state": {
            "_model_module": "@jupyter-widgets/controls",
            "_model_module_version": "1.5.0",
            "_model_name": "DescriptionStyleModel",
            "_view_count": null,
            "_view_module": "@jupyter-widgets/base",
            "_view_module_version": "1.2.0",
            "_view_name": "StyleView",
            "description_width": ""
          }
        },
        "7e7f2a1543ef40b19a7eb7ae02f06630": {
          "model_module": "@jupyter-widgets/base",
          "model_name": "LayoutModel",
          "model_module_version": "1.2.0",
          "state": {
            "_model_module": "@jupyter-widgets/base",
            "_model_module_version": "1.2.0",
            "_model_name": "LayoutModel",
            "_view_count": null,
            "_view_module": "@jupyter-widgets/base",
            "_view_module_version": "1.2.0",
            "_view_name": "LayoutView",
            "align_content": null,
            "align_items": null,
            "align_self": null,
            "border": null,
            "bottom": null,
            "display": null,
            "flex": null,
            "flex_flow": null,
            "grid_area": null,
            "grid_auto_columns": null,
            "grid_auto_flow": null,
            "grid_auto_rows": null,
            "grid_column": null,
            "grid_gap": null,
            "grid_row": null,
            "grid_template_areas": null,
            "grid_template_columns": null,
            "grid_template_rows": null,
            "height": null,
            "justify_content": null,
            "justify_items": null,
            "left": null,
            "margin": null,
            "max_height": null,
            "max_width": null,
            "min_height": null,
            "min_width": null,
            "object_fit": null,
            "object_position": null,
            "order": null,
            "overflow": null,
            "overflow_x": null,
            "overflow_y": null,
            "padding": null,
            "right": null,
            "top": null,
            "visibility": null,
            "width": null
          }
        },
        "d93abe782bdf4c7f9e5844e90c9d67eb": {
          "model_module": "@jupyter-widgets/controls",
          "model_name": "ProgressStyleModel",
          "model_module_version": "1.5.0",
          "state": {
            "_model_module": "@jupyter-widgets/controls",
            "_model_module_version": "1.5.0",
            "_model_name": "ProgressStyleModel",
            "_view_count": null,
            "_view_module": "@jupyter-widgets/base",
            "_view_module_version": "1.2.0",
            "_view_name": "StyleView",
            "bar_color": null,
            "description_width": ""
          }
        },
        "68ac8f16ed1e4de89313e271d55a8e8f": {
          "model_module": "@jupyter-widgets/base",
          "model_name": "LayoutModel",
          "model_module_version": "1.2.0",
          "state": {
            "_model_module": "@jupyter-widgets/base",
            "_model_module_version": "1.2.0",
            "_model_name": "LayoutModel",
            "_view_count": null,
            "_view_module": "@jupyter-widgets/base",
            "_view_module_version": "1.2.0",
            "_view_name": "LayoutView",
            "align_content": null,
            "align_items": null,
            "align_self": null,
            "border": null,
            "bottom": null,
            "display": null,
            "flex": null,
            "flex_flow": null,
            "grid_area": null,
            "grid_auto_columns": null,
            "grid_auto_flow": null,
            "grid_auto_rows": null,
            "grid_column": null,
            "grid_gap": null,
            "grid_row": null,
            "grid_template_areas": null,
            "grid_template_columns": null,
            "grid_template_rows": null,
            "height": null,
            "justify_content": null,
            "justify_items": null,
            "left": null,
            "margin": null,
            "max_height": null,
            "max_width": null,
            "min_height": null,
            "min_width": null,
            "object_fit": null,
            "object_position": null,
            "order": null,
            "overflow": null,
            "overflow_x": null,
            "overflow_y": null,
            "padding": null,
            "right": null,
            "top": null,
            "visibility": null,
            "width": null
          }
        },
        "5d6a2b7bb3214eb2b128a752efc9fca7": {
          "model_module": "@jupyter-widgets/controls",
          "model_name": "DescriptionStyleModel",
          "model_module_version": "1.5.0",
          "state": {
            "_model_module": "@jupyter-widgets/controls",
            "_model_module_version": "1.5.0",
            "_model_name": "DescriptionStyleModel",
            "_view_count": null,
            "_view_module": "@jupyter-widgets/base",
            "_view_module_version": "1.2.0",
            "_view_name": "StyleView",
            "description_width": ""
          }
        },
        "796562737eae41c4b53aaf318412a507": {
          "model_module": "@jupyter-widgets/controls",
          "model_name": "HBoxModel",
          "model_module_version": "1.5.0",
          "state": {
            "_dom_classes": [],
            "_model_module": "@jupyter-widgets/controls",
            "_model_module_version": "1.5.0",
            "_model_name": "HBoxModel",
            "_view_count": null,
            "_view_module": "@jupyter-widgets/controls",
            "_view_module_version": "1.5.0",
            "_view_name": "HBoxView",
            "box_style": "",
            "children": [
              "IPY_MODEL_606b9129f9dd45668fc8fb00dc6e8c08",
              "IPY_MODEL_59e028a9e8904f63abfe96a666d20fa4",
              "IPY_MODEL_e3125dd90da2476d833017088ec2f509"
            ],
            "layout": "IPY_MODEL_a59cc0c36cb54d76b8a68bde4a0ffb82"
          }
        },
        "606b9129f9dd45668fc8fb00dc6e8c08": {
          "model_module": "@jupyter-widgets/controls",
          "model_name": "HTMLModel",
          "model_module_version": "1.5.0",
          "state": {
            "_dom_classes": [],
            "_model_module": "@jupyter-widgets/controls",
            "_model_module_version": "1.5.0",
            "_model_name": "HTMLModel",
            "_view_count": null,
            "_view_module": "@jupyter-widgets/controls",
            "_view_module_version": "1.5.0",
            "_view_name": "HTMLView",
            "description": "",
            "description_tooltip": null,
            "layout": "IPY_MODEL_0d6d976d1a364b5d98539d5c43464fb6",
            "placeholder": "​",
            "style": "IPY_MODEL_1beed9ecb7f1402aa0dd4e4dbc41f94a",
            "value": "Map: 100%"
          }
        },
        "59e028a9e8904f63abfe96a666d20fa4": {
          "model_module": "@jupyter-widgets/controls",
          "model_name": "FloatProgressModel",
          "model_module_version": "1.5.0",
          "state": {
            "_dom_classes": [],
            "_model_module": "@jupyter-widgets/controls",
            "_model_module_version": "1.5.0",
            "_model_name": "FloatProgressModel",
            "_view_count": null,
            "_view_module": "@jupyter-widgets/controls",
            "_view_module_version": "1.5.0",
            "_view_name": "ProgressView",
            "bar_style": "success",
            "description": "",
            "description_tooltip": null,
            "layout": "IPY_MODEL_224aa48888c24e8282b7cf93aface564",
            "max": 503,
            "min": 0,
            "orientation": "horizontal",
            "style": "IPY_MODEL_2baddb2986d54980b48988af037a7956",
            "value": 503
          }
        },
        "e3125dd90da2476d833017088ec2f509": {
          "model_module": "@jupyter-widgets/controls",
          "model_name": "HTMLModel",
          "model_module_version": "1.5.0",
          "state": {
            "_dom_classes": [],
            "_model_module": "@jupyter-widgets/controls",
            "_model_module_version": "1.5.0",
            "_model_name": "HTMLModel",
            "_view_count": null,
            "_view_module": "@jupyter-widgets/controls",
            "_view_module_version": "1.5.0",
            "_view_name": "HTMLView",
            "description": "",
            "description_tooltip": null,
            "layout": "IPY_MODEL_ba87b376496041dab2ac2e6d7d340815",
            "placeholder": "​",
            "style": "IPY_MODEL_da9ac7e2826f45d69e2eae59427b23f5",
            "value": " 503/503 [00:01&lt;00:00, 260.58 examples/s]"
          }
        },
        "a59cc0c36cb54d76b8a68bde4a0ffb82": {
          "model_module": "@jupyter-widgets/base",
          "model_name": "LayoutModel",
          "model_module_version": "1.2.0",
          "state": {
            "_model_module": "@jupyter-widgets/base",
            "_model_module_version": "1.2.0",
            "_model_name": "LayoutModel",
            "_view_count": null,
            "_view_module": "@jupyter-widgets/base",
            "_view_module_version": "1.2.0",
            "_view_name": "LayoutView",
            "align_content": null,
            "align_items": null,
            "align_self": null,
            "border": null,
            "bottom": null,
            "display": null,
            "flex": null,
            "flex_flow": null,
            "grid_area": null,
            "grid_auto_columns": null,
            "grid_auto_flow": null,
            "grid_auto_rows": null,
            "grid_column": null,
            "grid_gap": null,
            "grid_row": null,
            "grid_template_areas": null,
            "grid_template_columns": null,
            "grid_template_rows": null,
            "height": null,
            "justify_content": null,
            "justify_items": null,
            "left": null,
            "margin": null,
            "max_height": null,
            "max_width": null,
            "min_height": null,
            "min_width": null,
            "object_fit": null,
            "object_position": null,
            "order": null,
            "overflow": null,
            "overflow_x": null,
            "overflow_y": null,
            "padding": null,
            "right": null,
            "top": null,
            "visibility": null,
            "width": null
          }
        },
        "0d6d976d1a364b5d98539d5c43464fb6": {
          "model_module": "@jupyter-widgets/base",
          "model_name": "LayoutModel",
          "model_module_version": "1.2.0",
          "state": {
            "_model_module": "@jupyter-widgets/base",
            "_model_module_version": "1.2.0",
            "_model_name": "LayoutModel",
            "_view_count": null,
            "_view_module": "@jupyter-widgets/base",
            "_view_module_version": "1.2.0",
            "_view_name": "LayoutView",
            "align_content": null,
            "align_items": null,
            "align_self": null,
            "border": null,
            "bottom": null,
            "display": null,
            "flex": null,
            "flex_flow": null,
            "grid_area": null,
            "grid_auto_columns": null,
            "grid_auto_flow": null,
            "grid_auto_rows": null,
            "grid_column": null,
            "grid_gap": null,
            "grid_row": null,
            "grid_template_areas": null,
            "grid_template_columns": null,
            "grid_template_rows": null,
            "height": null,
            "justify_content": null,
            "justify_items": null,
            "left": null,
            "margin": null,
            "max_height": null,
            "max_width": null,
            "min_height": null,
            "min_width": null,
            "object_fit": null,
            "object_position": null,
            "order": null,
            "overflow": null,
            "overflow_x": null,
            "overflow_y": null,
            "padding": null,
            "right": null,
            "top": null,
            "visibility": null,
            "width": null
          }
        },
        "1beed9ecb7f1402aa0dd4e4dbc41f94a": {
          "model_module": "@jupyter-widgets/controls",
          "model_name": "DescriptionStyleModel",
          "model_module_version": "1.5.0",
          "state": {
            "_model_module": "@jupyter-widgets/controls",
            "_model_module_version": "1.5.0",
            "_model_name": "DescriptionStyleModel",
            "_view_count": null,
            "_view_module": "@jupyter-widgets/base",
            "_view_module_version": "1.2.0",
            "_view_name": "StyleView",
            "description_width": ""
          }
        },
        "224aa48888c24e8282b7cf93aface564": {
          "model_module": "@jupyter-widgets/base",
          "model_name": "LayoutModel",
          "model_module_version": "1.2.0",
          "state": {
            "_model_module": "@jupyter-widgets/base",
            "_model_module_version": "1.2.0",
            "_model_name": "LayoutModel",
            "_view_count": null,
            "_view_module": "@jupyter-widgets/base",
            "_view_module_version": "1.2.0",
            "_view_name": "LayoutView",
            "align_content": null,
            "align_items": null,
            "align_self": null,
            "border": null,
            "bottom": null,
            "display": null,
            "flex": null,
            "flex_flow": null,
            "grid_area": null,
            "grid_auto_columns": null,
            "grid_auto_flow": null,
            "grid_auto_rows": null,
            "grid_column": null,
            "grid_gap": null,
            "grid_row": null,
            "grid_template_areas": null,
            "grid_template_columns": null,
            "grid_template_rows": null,
            "height": null,
            "justify_content": null,
            "justify_items": null,
            "left": null,
            "margin": null,
            "max_height": null,
            "max_width": null,
            "min_height": null,
            "min_width": null,
            "object_fit": null,
            "object_position": null,
            "order": null,
            "overflow": null,
            "overflow_x": null,
            "overflow_y": null,
            "padding": null,
            "right": null,
            "top": null,
            "visibility": null,
            "width": null
          }
        },
        "2baddb2986d54980b48988af037a7956": {
          "model_module": "@jupyter-widgets/controls",
          "model_name": "ProgressStyleModel",
          "model_module_version": "1.5.0",
          "state": {
            "_model_module": "@jupyter-widgets/controls",
            "_model_module_version": "1.5.0",
            "_model_name": "ProgressStyleModel",
            "_view_count": null,
            "_view_module": "@jupyter-widgets/base",
            "_view_module_version": "1.2.0",
            "_view_name": "StyleView",
            "bar_color": null,
            "description_width": ""
          }
        },
        "ba87b376496041dab2ac2e6d7d340815": {
          "model_module": "@jupyter-widgets/base",
          "model_name": "LayoutModel",
          "model_module_version": "1.2.0",
          "state": {
            "_model_module": "@jupyter-widgets/base",
            "_model_module_version": "1.2.0",
            "_model_name": "LayoutModel",
            "_view_count": null,
            "_view_module": "@jupyter-widgets/base",
            "_view_module_version": "1.2.0",
            "_view_name": "LayoutView",
            "align_content": null,
            "align_items": null,
            "align_self": null,
            "border": null,
            "bottom": null,
            "display": null,
            "flex": null,
            "flex_flow": null,
            "grid_area": null,
            "grid_auto_columns": null,
            "grid_auto_flow": null,
            "grid_auto_rows": null,
            "grid_column": null,
            "grid_gap": null,
            "grid_row": null,
            "grid_template_areas": null,
            "grid_template_columns": null,
            "grid_template_rows": null,
            "height": null,
            "justify_content": null,
            "justify_items": null,
            "left": null,
            "margin": null,
            "max_height": null,
            "max_width": null,
            "min_height": null,
            "min_width": null,
            "object_fit": null,
            "object_position": null,
            "order": null,
            "overflow": null,
            "overflow_x": null,
            "overflow_y": null,
            "padding": null,
            "right": null,
            "top": null,
            "visibility": null,
            "width": null
          }
        },
        "da9ac7e2826f45d69e2eae59427b23f5": {
          "model_module": "@jupyter-widgets/controls",
          "model_name": "DescriptionStyleModel",
          "model_module_version": "1.5.0",
          "state": {
            "_model_module": "@jupyter-widgets/controls",
            "_model_module_version": "1.5.0",
            "_model_name": "DescriptionStyleModel",
            "_view_count": null,
            "_view_module": "@jupyter-widgets/base",
            "_view_module_version": "1.2.0",
            "_view_name": "StyleView",
            "description_width": ""
          }
        }
      }
    }
  },
  "cells": [
    {
      "cell_type": "markdown",
      "metadata": {
        "id": "view-in-github",
        "colab_type": "text"
      },
      "source": [
        "<a href=\"https://colab.research.google.com/github/simulate111/Textual-Data-Analysis-25/blob/main/project_TDA.ipynb\" target=\"_parent\"><img src=\"https://colab.research.google.com/assets/colab-badge.svg\" alt=\"Open In Colab\"/></a>"
      ]
    },
    {
      "cell_type": "markdown",
      "source": [
        "<h1> TDA course project </h1>\n",
        "\n",
        "Name: MRA\n",
        "\n",
        "Pair: If you did this project as pair work, name the other student here, leave empty otherwise. If you work in pair, <b>both</b> hand out the same project report in Moodle.\n"
      ],
      "metadata": {
        "id": "2S-8Tg9jcIq3"
      }
    },
    {
      "cell_type": "markdown",
      "source": [
        "<h1> Step 1: Load the data with LLM judgements </h1>"
      ],
      "metadata": {
        "id": "6i74smlNdZyn"
      }
    },
    {
      "cell_type": "code",
      "source": [
        "#work here"
      ],
      "metadata": {
        "id": "s7kgkwxHo8Hl"
      },
      "execution_count": 1,
      "outputs": []
    },
    {
      "cell_type": "code",
      "source": [
        "!pip -q install datasets\n",
        "!pip install -q scikit-learn"
      ],
      "metadata": {
        "id": "ozPRuAkioSVJ"
      },
      "execution_count": 2,
      "outputs": []
    },
    {
      "cell_type": "code",
      "source": [
        "#import libraries\n",
        "import os\n",
        "import numpy as np\n",
        "import gzip\n",
        "import json\n",
        "import pandas as pd\n",
        "from datasets import Dataset\n",
        "from transformers import AutoTokenizer, AutoModelForSequenceClassification, Trainer, TrainingArguments\n",
        "from sklearn.metrics import accuracy_score, precision_score, recall_score, f1_score"
      ],
      "metadata": {
        "id": "QjlXiUJabWbm"
      },
      "execution_count": 3,
      "outputs": []
    },
    {
      "cell_type": "code",
      "source": [
        "#Load the data\n",
        "url = \"http://dl.turkunlp.org/tda-course-2025/tda25-responses.jsonl.gz\"\n",
        "filename = \"tda25-responses.jsonl.gz\"\n",
        "os.system(f\"wget {url} -O {filename}\")\n",
        "extracted_filename = \"tda25-responses.jsonl\"\n",
        "with gzip.open(filename, 'rt', encoding='utf-8') as f_in:\n",
        "    data = [json.loads(line) for line in f_in]\n",
        "df = pd.DataFrame(data)"
      ],
      "metadata": {
        "id": "ff3QiHgtov7N"
      },
      "execution_count": 4,
      "outputs": []
    },
    {
      "cell_type": "code",
      "source": [
        "#divide the response to separate columns for further convenience\n",
        "df[\"Step-by-step\"] = df[\"response\"].str.extract(r\"Step-by-step:\\s*(Yes|No)\")\n",
        "df[\"Training\"] = df[\"response\"].str.extract(r\"Training:\\s*(Yes|No)\")\n",
        "df[\"Explanation\"] = df[\"response\"].str.split(\"\\n\\n\", n=1).str[1]\n",
        "df.drop(columns=[\"response\"], inplace=True)"
      ],
      "metadata": {
        "id": "81e9vnbDXPd_"
      },
      "execution_count": 5,
      "outputs": []
    },
    {
      "cell_type": "code",
      "source": [
        "df.head()"
      ],
      "metadata": {
        "colab": {
          "base_uri": "https://localhost:8080/",
          "height": 310
        },
        "id": "Lr1u0W9XXWYR",
        "outputId": "eb7cae59-6cd1-4bb1-8c78-331b646199bd"
      },
      "execution_count": 6,
      "outputs": [
        {
          "output_type": "execute_result",
          "data": {
            "text/plain": [
              "                                            document Step-by-step Training  \\\n",
              "0  Peeling an onion seems like an trivial task, b...          Yes       No   \n",
              "1  Cowboy’s WR Terrance Williams Arrested\\nDallas...           No       No   \n",
              "2  Idea Crib’s Well-thy Pinoy Profiles blog serie...           No       No   \n",
              "3  Will I ever stop being nervous every time I pu...           No       No   \n",
              "4  In today’s NHL rumors rundown, Toronto Maple L...           No       No   \n",
              "\n",
              "                                         Explanation  \n",
              "0  The article does provide a clear sequence of o...  \n",
              "1  The article does not provide a clear sequence ...  \n",
              "2  The article does not provide a clear sequence ...  \n",
              "3  The article does not provide a clear sequence ...  \n",
              "4  The article does not provide a clear sequence ...  "
            ],
            "text/html": [
              "\n",
              "  <div id=\"df-3976aad7-e318-4eb3-9589-9f4daf1b6150\" class=\"colab-df-container\">\n",
              "    <div>\n",
              "<style scoped>\n",
              "    .dataframe tbody tr th:only-of-type {\n",
              "        vertical-align: middle;\n",
              "    }\n",
              "\n",
              "    .dataframe tbody tr th {\n",
              "        vertical-align: top;\n",
              "    }\n",
              "\n",
              "    .dataframe thead th {\n",
              "        text-align: right;\n",
              "    }\n",
              "</style>\n",
              "<table border=\"1\" class=\"dataframe\">\n",
              "  <thead>\n",
              "    <tr style=\"text-align: right;\">\n",
              "      <th></th>\n",
              "      <th>document</th>\n",
              "      <th>Step-by-step</th>\n",
              "      <th>Training</th>\n",
              "      <th>Explanation</th>\n",
              "    </tr>\n",
              "  </thead>\n",
              "  <tbody>\n",
              "    <tr>\n",
              "      <th>0</th>\n",
              "      <td>Peeling an onion seems like an trivial task, b...</td>\n",
              "      <td>Yes</td>\n",
              "      <td>No</td>\n",
              "      <td>The article does provide a clear sequence of o...</td>\n",
              "    </tr>\n",
              "    <tr>\n",
              "      <th>1</th>\n",
              "      <td>Cowboy’s WR Terrance Williams Arrested\\nDallas...</td>\n",
              "      <td>No</td>\n",
              "      <td>No</td>\n",
              "      <td>The article does not provide a clear sequence ...</td>\n",
              "    </tr>\n",
              "    <tr>\n",
              "      <th>2</th>\n",
              "      <td>Idea Crib’s Well-thy Pinoy Profiles blog serie...</td>\n",
              "      <td>No</td>\n",
              "      <td>No</td>\n",
              "      <td>The article does not provide a clear sequence ...</td>\n",
              "    </tr>\n",
              "    <tr>\n",
              "      <th>3</th>\n",
              "      <td>Will I ever stop being nervous every time I pu...</td>\n",
              "      <td>No</td>\n",
              "      <td>No</td>\n",
              "      <td>The article does not provide a clear sequence ...</td>\n",
              "    </tr>\n",
              "    <tr>\n",
              "      <th>4</th>\n",
              "      <td>In today’s NHL rumors rundown, Toronto Maple L...</td>\n",
              "      <td>No</td>\n",
              "      <td>No</td>\n",
              "      <td>The article does not provide a clear sequence ...</td>\n",
              "    </tr>\n",
              "  </tbody>\n",
              "</table>\n",
              "</div>\n",
              "    <div class=\"colab-df-buttons\">\n",
              "\n",
              "  <div class=\"colab-df-container\">\n",
              "    <button class=\"colab-df-convert\" onclick=\"convertToInteractive('df-3976aad7-e318-4eb3-9589-9f4daf1b6150')\"\n",
              "            title=\"Convert this dataframe to an interactive table.\"\n",
              "            style=\"display:none;\">\n",
              "\n",
              "  <svg xmlns=\"http://www.w3.org/2000/svg\" height=\"24px\" viewBox=\"0 -960 960 960\">\n",
              "    <path d=\"M120-120v-720h720v720H120Zm60-500h600v-160H180v160Zm220 220h160v-160H400v160Zm0 220h160v-160H400v160ZM180-400h160v-160H180v160Zm440 0h160v-160H620v160ZM180-180h160v-160H180v160Zm440 0h160v-160H620v160Z\"/>\n",
              "  </svg>\n",
              "    </button>\n",
              "\n",
              "  <style>\n",
              "    .colab-df-container {\n",
              "      display:flex;\n",
              "      gap: 12px;\n",
              "    }\n",
              "\n",
              "    .colab-df-convert {\n",
              "      background-color: #E8F0FE;\n",
              "      border: none;\n",
              "      border-radius: 50%;\n",
              "      cursor: pointer;\n",
              "      display: none;\n",
              "      fill: #1967D2;\n",
              "      height: 32px;\n",
              "      padding: 0 0 0 0;\n",
              "      width: 32px;\n",
              "    }\n",
              "\n",
              "    .colab-df-convert:hover {\n",
              "      background-color: #E2EBFA;\n",
              "      box-shadow: 0px 1px 2px rgba(60, 64, 67, 0.3), 0px 1px 3px 1px rgba(60, 64, 67, 0.15);\n",
              "      fill: #174EA6;\n",
              "    }\n",
              "\n",
              "    .colab-df-buttons div {\n",
              "      margin-bottom: 4px;\n",
              "    }\n",
              "\n",
              "    [theme=dark] .colab-df-convert {\n",
              "      background-color: #3B4455;\n",
              "      fill: #D2E3FC;\n",
              "    }\n",
              "\n",
              "    [theme=dark] .colab-df-convert:hover {\n",
              "      background-color: #434B5C;\n",
              "      box-shadow: 0px 1px 3px 1px rgba(0, 0, 0, 0.15);\n",
              "      filter: drop-shadow(0px 1px 2px rgba(0, 0, 0, 0.3));\n",
              "      fill: #FFFFFF;\n",
              "    }\n",
              "  </style>\n",
              "\n",
              "    <script>\n",
              "      const buttonEl =\n",
              "        document.querySelector('#df-3976aad7-e318-4eb3-9589-9f4daf1b6150 button.colab-df-convert');\n",
              "      buttonEl.style.display =\n",
              "        google.colab.kernel.accessAllowed ? 'block' : 'none';\n",
              "\n",
              "      async function convertToInteractive(key) {\n",
              "        const element = document.querySelector('#df-3976aad7-e318-4eb3-9589-9f4daf1b6150');\n",
              "        const dataTable =\n",
              "          await google.colab.kernel.invokeFunction('convertToInteractive',\n",
              "                                                    [key], {});\n",
              "        if (!dataTable) return;\n",
              "\n",
              "        const docLinkHtml = 'Like what you see? Visit the ' +\n",
              "          '<a target=\"_blank\" href=https://colab.research.google.com/notebooks/data_table.ipynb>data table notebook</a>'\n",
              "          + ' to learn more about interactive tables.';\n",
              "        element.innerHTML = '';\n",
              "        dataTable['output_type'] = 'display_data';\n",
              "        await google.colab.output.renderOutput(dataTable, element);\n",
              "        const docLink = document.createElement('div');\n",
              "        docLink.innerHTML = docLinkHtml;\n",
              "        element.appendChild(docLink);\n",
              "      }\n",
              "    </script>\n",
              "  </div>\n",
              "\n",
              "\n",
              "<div id=\"df-02f97a54-2453-4e7a-bad6-1f9250f87eb5\">\n",
              "  <button class=\"colab-df-quickchart\" onclick=\"quickchart('df-02f97a54-2453-4e7a-bad6-1f9250f87eb5')\"\n",
              "            title=\"Suggest charts\"\n",
              "            style=\"display:none;\">\n",
              "\n",
              "<svg xmlns=\"http://www.w3.org/2000/svg\" height=\"24px\"viewBox=\"0 0 24 24\"\n",
              "     width=\"24px\">\n",
              "    <g>\n",
              "        <path d=\"M19 3H5c-1.1 0-2 .9-2 2v14c0 1.1.9 2 2 2h14c1.1 0 2-.9 2-2V5c0-1.1-.9-2-2-2zM9 17H7v-7h2v7zm4 0h-2V7h2v10zm4 0h-2v-4h2v4z\"/>\n",
              "    </g>\n",
              "</svg>\n",
              "  </button>\n",
              "\n",
              "<style>\n",
              "  .colab-df-quickchart {\n",
              "      --bg-color: #E8F0FE;\n",
              "      --fill-color: #1967D2;\n",
              "      --hover-bg-color: #E2EBFA;\n",
              "      --hover-fill-color: #174EA6;\n",
              "      --disabled-fill-color: #AAA;\n",
              "      --disabled-bg-color: #DDD;\n",
              "  }\n",
              "\n",
              "  [theme=dark] .colab-df-quickchart {\n",
              "      --bg-color: #3B4455;\n",
              "      --fill-color: #D2E3FC;\n",
              "      --hover-bg-color: #434B5C;\n",
              "      --hover-fill-color: #FFFFFF;\n",
              "      --disabled-bg-color: #3B4455;\n",
              "      --disabled-fill-color: #666;\n",
              "  }\n",
              "\n",
              "  .colab-df-quickchart {\n",
              "    background-color: var(--bg-color);\n",
              "    border: none;\n",
              "    border-radius: 50%;\n",
              "    cursor: pointer;\n",
              "    display: none;\n",
              "    fill: var(--fill-color);\n",
              "    height: 32px;\n",
              "    padding: 0;\n",
              "    width: 32px;\n",
              "  }\n",
              "\n",
              "  .colab-df-quickchart:hover {\n",
              "    background-color: var(--hover-bg-color);\n",
              "    box-shadow: 0 1px 2px rgba(60, 64, 67, 0.3), 0 1px 3px 1px rgba(60, 64, 67, 0.15);\n",
              "    fill: var(--button-hover-fill-color);\n",
              "  }\n",
              "\n",
              "  .colab-df-quickchart-complete:disabled,\n",
              "  .colab-df-quickchart-complete:disabled:hover {\n",
              "    background-color: var(--disabled-bg-color);\n",
              "    fill: var(--disabled-fill-color);\n",
              "    box-shadow: none;\n",
              "  }\n",
              "\n",
              "  .colab-df-spinner {\n",
              "    border: 2px solid var(--fill-color);\n",
              "    border-color: transparent;\n",
              "    border-bottom-color: var(--fill-color);\n",
              "    animation:\n",
              "      spin 1s steps(1) infinite;\n",
              "  }\n",
              "\n",
              "  @keyframes spin {\n",
              "    0% {\n",
              "      border-color: transparent;\n",
              "      border-bottom-color: var(--fill-color);\n",
              "      border-left-color: var(--fill-color);\n",
              "    }\n",
              "    20% {\n",
              "      border-color: transparent;\n",
              "      border-left-color: var(--fill-color);\n",
              "      border-top-color: var(--fill-color);\n",
              "    }\n",
              "    30% {\n",
              "      border-color: transparent;\n",
              "      border-left-color: var(--fill-color);\n",
              "      border-top-color: var(--fill-color);\n",
              "      border-right-color: var(--fill-color);\n",
              "    }\n",
              "    40% {\n",
              "      border-color: transparent;\n",
              "      border-right-color: var(--fill-color);\n",
              "      border-top-color: var(--fill-color);\n",
              "    }\n",
              "    60% {\n",
              "      border-color: transparent;\n",
              "      border-right-color: var(--fill-color);\n",
              "    }\n",
              "    80% {\n",
              "      border-color: transparent;\n",
              "      border-right-color: var(--fill-color);\n",
              "      border-bottom-color: var(--fill-color);\n",
              "    }\n",
              "    90% {\n",
              "      border-color: transparent;\n",
              "      border-bottom-color: var(--fill-color);\n",
              "    }\n",
              "  }\n",
              "</style>\n",
              "\n",
              "  <script>\n",
              "    async function quickchart(key) {\n",
              "      const quickchartButtonEl =\n",
              "        document.querySelector('#' + key + ' button');\n",
              "      quickchartButtonEl.disabled = true;  // To prevent multiple clicks.\n",
              "      quickchartButtonEl.classList.add('colab-df-spinner');\n",
              "      try {\n",
              "        const charts = await google.colab.kernel.invokeFunction(\n",
              "            'suggestCharts', [key], {});\n",
              "      } catch (error) {\n",
              "        console.error('Error during call to suggestCharts:', error);\n",
              "      }\n",
              "      quickchartButtonEl.classList.remove('colab-df-spinner');\n",
              "      quickchartButtonEl.classList.add('colab-df-quickchart-complete');\n",
              "    }\n",
              "    (() => {\n",
              "      let quickchartButtonEl =\n",
              "        document.querySelector('#df-02f97a54-2453-4e7a-bad6-1f9250f87eb5 button');\n",
              "      quickchartButtonEl.style.display =\n",
              "        google.colab.kernel.accessAllowed ? 'block' : 'none';\n",
              "    })();\n",
              "  </script>\n",
              "</div>\n",
              "\n",
              "    </div>\n",
              "  </div>\n"
            ],
            "application/vnd.google.colaboratory.intrinsic+json": {
              "type": "dataframe",
              "variable_name": "df",
              "summary": "{\n  \"name\": \"df\",\n  \"rows\": 2515,\n  \"fields\": [\n    {\n      \"column\": \"document\",\n      \"properties\": {\n        \"dtype\": \"string\",\n        \"num_unique_values\": 2515,\n        \"samples\": [\n          \"Fisher Cats split with Mets\\nFisher Cats Press Release:\\nKevin Pillar picked up two more hits and Brad Glenn smacked his first home run of the year, but the Fisher Cats fell to the Binghamton Mets, 6-3, on Sunday afternoon at NYSEG Stadium. The loss leaves the Fisher Cats with a split of the four-game series at Binghamton before they head to New Britain on Monday night.\\nBinghamton got on the board first, loading the bases and the scoring with a sacrifice fly in the first inning against starting pitcher Austin Bibens-Dirkx. In the second, a one-out homer by Blake Forsythe made it 2-0 in the Mets' favor.\\nPillar brought the Fisher Cats back within a run in the third inning on an RBI single, but the B-Mets answered with a three-run homer in the bottom of the frame to push the scored to 5-1.\\nThe teams traded runs again in the fifth, with Glenn's home run leading off the top of the inning. Bibens-Dirkx was responsible for the Mets run in the bottom of the inning to leave the score at 6-2 Binghamton through five.\\nThe Fisher Cats had one more rally in the eighth inning, scoring a run on a Pillar double and a Binghamton error. The rally ended when Mets reliever Jack Leathersich retired the potential tying run in Adam Loewen on a fly ball to left field.\\nBibens-Dirkx (1-2) took the loss, allowing six runs over 4.2 innings. Rafael Montero (2-0) earned the win for the Mets with five innings of work.\\nPillar led the Fisher Cats offense with two more hits. He has hit safely in nine straight games, picking up 17 hits in that time. He finished the series with the Mets with seven hits in 17 at-bats, driving home five runs in the four-game set.\\nThe Fisher Cats now head to New Britain, Conn., to open a three-game series with the Minnesota Twins' affiliate on Monday night at 6:35 p.m. RHP Marcus Walden (0-1, 4.15) goes in search of his first win of the year, drawing the start against New Britain's Logan Darnell (0-0, 1.04). Fans can listen to the game with Tom Gauthier beginning at 6:15 p.m. on the WGIR Fisher Cats Radio Network and at www.nhfishercats.com.\\nThe Fisher Cats return home to Northeast Delta Dental Stadium on Thursday, April 18 for a seven-home homestand with Binghamton and New Britain. The first game of the stand features a fleece blanket giveaway for the first 1,000 fans courtesy of Heritage Plumbing, Heating, Cooling and Electric. For tickets and a full list of promotions, visit www.nhfishercats.com.\",\n          \"Day 7: #atozchallenge\\nHave you considered guest blogging but don\\u2019t know where to begin? The first step is to determine what you want to accomplish.\\nWhat is your goal?\\n- Do you have expertise in an area and want to share it?\\n- Do you want to create more traffic to your blog or increase followers?\\n- Want to see an increase in backlinks to your content?\\n- Or, establish yourself as an authority?\\nWhere to Find Guest Blogging Opportunities:\\nOnce you know your motivations, it\\u2019s time to find the opportunities, and there are many.\\n- Begin with a simple keyword search for \\u201cguest post\\u201d on Google, Twitter, or preferred search engine.\\n- Utilize the connections you\\u2019ve already established \\u2013 favorite blogs or other social networking sites.\\n- Look for blogs that best match your area of interest or expertise, have engaged readers, and is active on social networks.\\n- Check out sites like Contently, Huffington Post, or Angie\\u2019s Diary.\\nThings to do before pitching a guest post:\\n- Familiarize yourself with the blog; it\\u2019s content and readership.\\n- Have guest posts been featured before?\\n- Who were the guest bloggers? Authors? Other bloggers? Freelancers? Read their bios and get to know them.\\n- How did the guest post do? Was there a lot of reader engagement?\\n- Become a familiar face in the blogging community.\\nWhen to pitch:\\n- When someone mentions your blog on, Twitter, LinkedIn, Facebook, or Google.\\n- When a blogger advertises, they are seeking guest posts.\\n- When a guest post is featured on another blog.\\nHow to Pitch:\\n- Read the guidelines.\\n- Introduce yourself. Craft a guest post bio and include links back to your blog or author websites that show your work.\\n- As with any pitch, personalize your email.\\n- Explain what you can offer in a guest post.\\n- Provide links to your blog and other sites on which you have published.\\n- Format your guest post the same as the site in which you are submitting.\\n- Provide valuable and relatable information.\\n- Do not self-promote except within the author bio.\\n- Utilize internal links to some of the owner\\u2019s posts.\\n- Create a call to action for comments.\\nWant to know more about guest blogging? Check out these resources.\\nGuest Blogging Opportunities:\\n- The community of Guest Bloggers \\u2013 free sign up.\\n- Brian Keith May \\u2013 100 Sites to Submit Guest Posts\\n- Buzz Blogger \\u2013 500 Places to Syndicate Your content.\\nDoes guest blogging interest you? Have you been a featured guest blogger in the past?\",\n          \"Sowbhagya & Chethan C.N. (originally written in Kannada), translated in English by Malleshwari Baddela\\nRising prices of pulses and meat have impacted the poor significantly. Waste-pickers with little income are left to fend themselves against the high costs of food. Even within waste-pickers, the migrant community members (from other states) are worst off. They have no formal linkage with public distribution system- thus, nothing nutritious and filling left in their diet. Many of the children of migrant waste-pickers are identified with malnutrition and protein deficiency.\\nSeven years back, an experiment of growing oyster mushrooms to counter malnutrition and protein deficiency was done in Amravati district of Maharashtra. It didn\\u2019t succeed for many different reasons including the absence of relevant subsidies etc. The idea of countering malnutrition and protein deficiency by oyster mushroom cultivation stayed in the head of Nalini Shekar, founder of Hasiru Dala. She wanted to do something around it for a long time.\\nOyster mushroom cultivation is very easy to do. You don\\u2019t need much of physical space. Chaffed paddy straw, an empty packet \\u2013 cover: size 18 inches, and mushroom seeds is all what one needs. Chaffed paddy straw is easily available and is the leftover following harvest. Straws have to be chopped in three inch pieces, after that the straws have to be boiled for one hour. Once boiled, the water is to be drained off. Then straws are spread on a clean dry cloth and left for drying under shade for two hours. The straws will be still moist.\\nA layer of seeds is added in the packet. After that an inch of moist straws is placed. It is repeated for four to five times in the same packet. The packet should be tightly packed with very little air in it. The packet should have ten- fifteen holes. It can be kept in shade, anywhere in the house, at room temperature for twenty days. On twentieth or twenty first day, spores will start coming out. Little water is to be sprinkled twice daily after the twentieth day. Mushrooms will be ready to harvest within couple of days of sprinkling water. Cook those mushrooms and have it for countering malnutrition and protein deficiency.\\nThe suggestion of growing mushrooms was shared with wastepickers. Many of them are excited about it. The first training was conducted in horticulture department. Very few came as the location was very far and one had to take time out of work to go there. It was decided to host the training sessions in the vicinity of their residence. Last week a training programme for the cultivation of mushrooms was conducted in Akshaya Nagara and Kalkere Cross, Bengaluru \\u2013 where most of the wastepickers reside, with the participation of 58 wastepickers and their family members. More have shown interest, many more training sessions planned.\"\n        ],\n        \"semantic_type\": \"\",\n        \"description\": \"\"\n      }\n    },\n    {\n      \"column\": \"Step-by-step\",\n      \"properties\": {\n        \"dtype\": \"category\",\n        \"num_unique_values\": 2,\n        \"samples\": [\n          \"No\",\n          \"Yes\"\n        ],\n        \"semantic_type\": \"\",\n        \"description\": \"\"\n      }\n    },\n    {\n      \"column\": \"Training\",\n      \"properties\": {\n        \"dtype\": \"category\",\n        \"num_unique_values\": 2,\n        \"samples\": [\n          \"Yes\",\n          \"No\"\n        ],\n        \"semantic_type\": \"\",\n        \"description\": \"\"\n      }\n    },\n    {\n      \"column\": \"Explanation\",\n      \"properties\": {\n        \"dtype\": \"string\",\n        \"num_unique_values\": 2512,\n        \"samples\": [\n          \"The article does not present a clear sequence of ordered steps for completing a specific task. Instead, it consists of various disjointed statements and facts that lack coherent structure and procedural instructions. As a result, the content does not provide sufficient detail or organization to facilitate deeper reasoning or training a language model effectively.\",\n          \"The article does not provide a clear sequence of ordered steps to guide the reader through completing a task; it primarily consists of reflections on past social media posts and their performance without any structured instructions. Additionally, the content lacks the detailed procedural instructions necessary for training a language model in deeper reasoning, as it focuses more on sharing experiences rather than outlining processes or encouraging critical thinking.\"\n        ],\n        \"semantic_type\": \"\",\n        \"description\": \"\"\n      }\n    }\n  ]\n}"
            }
          },
          "metadata": {},
          "execution_count": 6
        }
      ]
    },
    {
      "cell_type": "code",
      "source": [
        "#Making HuggingFace dataset\n",
        "hf_dataset = Dataset.from_pandas(df)\n",
        "hf_dataset.save_to_disk(\"hf_dataset\")"
      ],
      "metadata": {
        "colab": {
          "base_uri": "https://localhost:8080/",
          "height": 49,
          "referenced_widgets": [
            "ad0040ae52af4898831539e9d93d0c89",
            "f980f4acabd24aa2bfab24fd28b7d021",
            "63605931ef5049999c76bc7eb306d952",
            "2f7b59e0b6c34e789f0c15d2f46348f9",
            "761110ce94f54b1f984a0647cabdc023",
            "a2657e1a87a54448a891fd83e41d3044",
            "bd87800f764343fca442f6dae0364baf",
            "542c294339324d08b2c7032b65b98e6a",
            "05e298d83e5049929ef0696206214f19",
            "31dff7c9b0c94888ac47072e11d7addc",
            "c53a27b8c7d74608a978560cb69bedc4"
          ]
        },
        "id": "rcQJ1SCtXv0w",
        "outputId": "7cd1be63-6739-4144-f3c0-888ba32d376c"
      },
      "execution_count": 7,
      "outputs": [
        {
          "output_type": "display_data",
          "data": {
            "text/plain": [
              "Saving the dataset (0/1 shards):   0%|          | 0/2515 [00:00<?, ? examples/s]"
            ],
            "application/vnd.jupyter.widget-view+json": {
              "version_major": 2,
              "version_minor": 0,
              "model_id": "ad0040ae52af4898831539e9d93d0c89"
            }
          },
          "metadata": {}
        }
      ]
    },
    {
      "cell_type": "code",
      "source": [
        "print(hf_dataset)"
      ],
      "metadata": {
        "colab": {
          "base_uri": "https://localhost:8080/"
        },
        "id": "QMIxsecwXMsq",
        "outputId": "8ba4b6cb-0156-4227-ebd2-8578e20b77d8"
      },
      "execution_count": 8,
      "outputs": [
        {
          "output_type": "stream",
          "name": "stdout",
          "text": [
            "Dataset({\n",
            "    features: ['document', 'Step-by-step', 'Training', 'Explanation'],\n",
            "    num_rows: 2515\n",
            "})\n"
          ]
        }
      ]
    },
    {
      "cell_type": "code",
      "source": [
        "#Convert yes-no to binaries\n",
        "hf_dataset = hf_dataset.map(lambda x: {\"label\": 1 if x[\"Training\"] == \"Yes\" else 0})"
      ],
      "metadata": {
        "colab": {
          "base_uri": "https://localhost:8080/",
          "height": 49,
          "referenced_widgets": [
            "d9571700fd1843f89a6d71e527dff09a",
            "a1b7a14f091d4ff8be5d59d556c58be2",
            "1085263c77274495a32532dd68cd124e",
            "368f77f8ed6b42659935a2c464d096f2",
            "a039d3ec833f4a2ba7026a44b7b09732",
            "7dbf2cbeb709459e920c34c19ee01153",
            "ba1a62a7ebd24afb9fd5604e7338dfe8",
            "a7219caca36741c89a14dc412513250e",
            "2c5af93c8da442b0a75a4fa142ec8d23",
            "21cc69c41b1b4a2f8b9b0b7a72cae759",
            "2e00a218ecd341beb24c3d2680f66ad7"
          ]
        },
        "id": "xpNiq-SmYbeU",
        "outputId": "63e0421f-497c-4251-af54-60133c2c51de"
      },
      "execution_count": 9,
      "outputs": [
        {
          "output_type": "display_data",
          "data": {
            "text/plain": [
              "Map:   0%|          | 0/2515 [00:00<?, ? examples/s]"
            ],
            "application/vnd.jupyter.widget-view+json": {
              "version_major": 2,
              "version_minor": 0,
              "model_id": "d9571700fd1843f89a6d71e527dff09a"
            }
          },
          "metadata": {}
        }
      ]
    },
    {
      "cell_type": "code",
      "source": [
        "print(hf_dataset[0])"
      ],
      "metadata": {
        "colab": {
          "base_uri": "https://localhost:8080/"
        },
        "id": "3QStwAOtZQNB",
        "outputId": "00829bf5-9ab5-4c52-d4fb-99e012605429"
      },
      "execution_count": 10,
      "outputs": [
        {
          "output_type": "stream",
          "name": "stdout",
          "text": [
            "{'document': 'Peeling an onion seems like an trivial task, but if you’ve never peeled an onion before, it can be quite intimidating. Don’t worry – it is pretty easy to peel an onion.\\nYou can now learn how to peel an onion by following these illustrated step-by-step instructions.\\nStep #1: Put the whole onion on the cutting board\\nStep 2: Cut off one end of the onion with a knife, as shown on the picture below:\\nHere’s a picture of the onion with that end already cut off. The end of the onion is laying on the right side of the onion on the cutting board.\\nStep 3: Cut off another end of the onion with a knife, as show on the picture below:\\nAfter both ends of the onion have been cut off, the onion is ready to be peeled. Here’s the picture of the onion without its ends:\\nStep 4: Start peeling! Make a cut under the peel, and pull on the peel so it separates from the onion. Look at the picture: knife under the peel, thumb on top of the peel. Grab the peel and pull.\\nStep 5: Keep peeling in the same way as the previous step, until there is no more peel left on the onion.\\nIf the peel doesn’t come off easily, you can just peel the outer thin layer of onion itself, like shown picture below:\\nYou are done! The onion is now peeled and ready to be used in your recipe!\\nHere’s the picture of the fully peeled onion:', 'Step-by-step': 'Yes', 'Training': 'No', 'Explanation': 'The article does provide a clear sequence of ordered steps for peeling an onion, making it easy for readers to follow the instructions. However, while the instructions are straightforward, they lack the depth and detail needed for training a language model capable of deeper reasoning, as they do not include alternative methods, potential problems, or reasoning behind each step that would enhance understanding.', 'label': 0}\n"
          ]
        }
      ]
    },
    {
      "cell_type": "code",
      "source": [
        "pd.DataFrame(hf_dataset).head()"
      ],
      "metadata": {
        "colab": {
          "base_uri": "https://localhost:8080/",
          "height": 310
        },
        "id": "S4EhDVvzZiQ0",
        "outputId": "b085d651-6ad0-4229-dc25-063c342bb958"
      },
      "execution_count": 11,
      "outputs": [
        {
          "output_type": "execute_result",
          "data": {
            "text/plain": [
              "                                            document Step-by-step Training  \\\n",
              "0  Peeling an onion seems like an trivial task, b...          Yes       No   \n",
              "1  Cowboy’s WR Terrance Williams Arrested\\nDallas...           No       No   \n",
              "2  Idea Crib’s Well-thy Pinoy Profiles blog serie...           No       No   \n",
              "3  Will I ever stop being nervous every time I pu...           No       No   \n",
              "4  In today’s NHL rumors rundown, Toronto Maple L...           No       No   \n",
              "\n",
              "                                         Explanation  label  \n",
              "0  The article does provide a clear sequence of o...      0  \n",
              "1  The article does not provide a clear sequence ...      0  \n",
              "2  The article does not provide a clear sequence ...      0  \n",
              "3  The article does not provide a clear sequence ...      0  \n",
              "4  The article does not provide a clear sequence ...      0  "
            ],
            "text/html": [
              "\n",
              "  <div id=\"df-935420e3-f937-4b01-b421-2fb3a5eab4e9\" class=\"colab-df-container\">\n",
              "    <div>\n",
              "<style scoped>\n",
              "    .dataframe tbody tr th:only-of-type {\n",
              "        vertical-align: middle;\n",
              "    }\n",
              "\n",
              "    .dataframe tbody tr th {\n",
              "        vertical-align: top;\n",
              "    }\n",
              "\n",
              "    .dataframe thead th {\n",
              "        text-align: right;\n",
              "    }\n",
              "</style>\n",
              "<table border=\"1\" class=\"dataframe\">\n",
              "  <thead>\n",
              "    <tr style=\"text-align: right;\">\n",
              "      <th></th>\n",
              "      <th>document</th>\n",
              "      <th>Step-by-step</th>\n",
              "      <th>Training</th>\n",
              "      <th>Explanation</th>\n",
              "      <th>label</th>\n",
              "    </tr>\n",
              "  </thead>\n",
              "  <tbody>\n",
              "    <tr>\n",
              "      <th>0</th>\n",
              "      <td>Peeling an onion seems like an trivial task, b...</td>\n",
              "      <td>Yes</td>\n",
              "      <td>No</td>\n",
              "      <td>The article does provide a clear sequence of o...</td>\n",
              "      <td>0</td>\n",
              "    </tr>\n",
              "    <tr>\n",
              "      <th>1</th>\n",
              "      <td>Cowboy’s WR Terrance Williams Arrested\\nDallas...</td>\n",
              "      <td>No</td>\n",
              "      <td>No</td>\n",
              "      <td>The article does not provide a clear sequence ...</td>\n",
              "      <td>0</td>\n",
              "    </tr>\n",
              "    <tr>\n",
              "      <th>2</th>\n",
              "      <td>Idea Crib’s Well-thy Pinoy Profiles blog serie...</td>\n",
              "      <td>No</td>\n",
              "      <td>No</td>\n",
              "      <td>The article does not provide a clear sequence ...</td>\n",
              "      <td>0</td>\n",
              "    </tr>\n",
              "    <tr>\n",
              "      <th>3</th>\n",
              "      <td>Will I ever stop being nervous every time I pu...</td>\n",
              "      <td>No</td>\n",
              "      <td>No</td>\n",
              "      <td>The article does not provide a clear sequence ...</td>\n",
              "      <td>0</td>\n",
              "    </tr>\n",
              "    <tr>\n",
              "      <th>4</th>\n",
              "      <td>In today’s NHL rumors rundown, Toronto Maple L...</td>\n",
              "      <td>No</td>\n",
              "      <td>No</td>\n",
              "      <td>The article does not provide a clear sequence ...</td>\n",
              "      <td>0</td>\n",
              "    </tr>\n",
              "  </tbody>\n",
              "</table>\n",
              "</div>\n",
              "    <div class=\"colab-df-buttons\">\n",
              "\n",
              "  <div class=\"colab-df-container\">\n",
              "    <button class=\"colab-df-convert\" onclick=\"convertToInteractive('df-935420e3-f937-4b01-b421-2fb3a5eab4e9')\"\n",
              "            title=\"Convert this dataframe to an interactive table.\"\n",
              "            style=\"display:none;\">\n",
              "\n",
              "  <svg xmlns=\"http://www.w3.org/2000/svg\" height=\"24px\" viewBox=\"0 -960 960 960\">\n",
              "    <path d=\"M120-120v-720h720v720H120Zm60-500h600v-160H180v160Zm220 220h160v-160H400v160Zm0 220h160v-160H400v160ZM180-400h160v-160H180v160Zm440 0h160v-160H620v160ZM180-180h160v-160H180v160Zm440 0h160v-160H620v160Z\"/>\n",
              "  </svg>\n",
              "    </button>\n",
              "\n",
              "  <style>\n",
              "    .colab-df-container {\n",
              "      display:flex;\n",
              "      gap: 12px;\n",
              "    }\n",
              "\n",
              "    .colab-df-convert {\n",
              "      background-color: #E8F0FE;\n",
              "      border: none;\n",
              "      border-radius: 50%;\n",
              "      cursor: pointer;\n",
              "      display: none;\n",
              "      fill: #1967D2;\n",
              "      height: 32px;\n",
              "      padding: 0 0 0 0;\n",
              "      width: 32px;\n",
              "    }\n",
              "\n",
              "    .colab-df-convert:hover {\n",
              "      background-color: #E2EBFA;\n",
              "      box-shadow: 0px 1px 2px rgba(60, 64, 67, 0.3), 0px 1px 3px 1px rgba(60, 64, 67, 0.15);\n",
              "      fill: #174EA6;\n",
              "    }\n",
              "\n",
              "    .colab-df-buttons div {\n",
              "      margin-bottom: 4px;\n",
              "    }\n",
              "\n",
              "    [theme=dark] .colab-df-convert {\n",
              "      background-color: #3B4455;\n",
              "      fill: #D2E3FC;\n",
              "    }\n",
              "\n",
              "    [theme=dark] .colab-df-convert:hover {\n",
              "      background-color: #434B5C;\n",
              "      box-shadow: 0px 1px 3px 1px rgba(0, 0, 0, 0.15);\n",
              "      filter: drop-shadow(0px 1px 2px rgba(0, 0, 0, 0.3));\n",
              "      fill: #FFFFFF;\n",
              "    }\n",
              "  </style>\n",
              "\n",
              "    <script>\n",
              "      const buttonEl =\n",
              "        document.querySelector('#df-935420e3-f937-4b01-b421-2fb3a5eab4e9 button.colab-df-convert');\n",
              "      buttonEl.style.display =\n",
              "        google.colab.kernel.accessAllowed ? 'block' : 'none';\n",
              "\n",
              "      async function convertToInteractive(key) {\n",
              "        const element = document.querySelector('#df-935420e3-f937-4b01-b421-2fb3a5eab4e9');\n",
              "        const dataTable =\n",
              "          await google.colab.kernel.invokeFunction('convertToInteractive',\n",
              "                                                    [key], {});\n",
              "        if (!dataTable) return;\n",
              "\n",
              "        const docLinkHtml = 'Like what you see? Visit the ' +\n",
              "          '<a target=\"_blank\" href=https://colab.research.google.com/notebooks/data_table.ipynb>data table notebook</a>'\n",
              "          + ' to learn more about interactive tables.';\n",
              "        element.innerHTML = '';\n",
              "        dataTable['output_type'] = 'display_data';\n",
              "        await google.colab.output.renderOutput(dataTable, element);\n",
              "        const docLink = document.createElement('div');\n",
              "        docLink.innerHTML = docLinkHtml;\n",
              "        element.appendChild(docLink);\n",
              "      }\n",
              "    </script>\n",
              "  </div>\n",
              "\n",
              "\n",
              "<div id=\"df-04506e17-8378-4083-b1bf-2866fa03eef4\">\n",
              "  <button class=\"colab-df-quickchart\" onclick=\"quickchart('df-04506e17-8378-4083-b1bf-2866fa03eef4')\"\n",
              "            title=\"Suggest charts\"\n",
              "            style=\"display:none;\">\n",
              "\n",
              "<svg xmlns=\"http://www.w3.org/2000/svg\" height=\"24px\"viewBox=\"0 0 24 24\"\n",
              "     width=\"24px\">\n",
              "    <g>\n",
              "        <path d=\"M19 3H5c-1.1 0-2 .9-2 2v14c0 1.1.9 2 2 2h14c1.1 0 2-.9 2-2V5c0-1.1-.9-2-2-2zM9 17H7v-7h2v7zm4 0h-2V7h2v10zm4 0h-2v-4h2v4z\"/>\n",
              "    </g>\n",
              "</svg>\n",
              "  </button>\n",
              "\n",
              "<style>\n",
              "  .colab-df-quickchart {\n",
              "      --bg-color: #E8F0FE;\n",
              "      --fill-color: #1967D2;\n",
              "      --hover-bg-color: #E2EBFA;\n",
              "      --hover-fill-color: #174EA6;\n",
              "      --disabled-fill-color: #AAA;\n",
              "      --disabled-bg-color: #DDD;\n",
              "  }\n",
              "\n",
              "  [theme=dark] .colab-df-quickchart {\n",
              "      --bg-color: #3B4455;\n",
              "      --fill-color: #D2E3FC;\n",
              "      --hover-bg-color: #434B5C;\n",
              "      --hover-fill-color: #FFFFFF;\n",
              "      --disabled-bg-color: #3B4455;\n",
              "      --disabled-fill-color: #666;\n",
              "  }\n",
              "\n",
              "  .colab-df-quickchart {\n",
              "    background-color: var(--bg-color);\n",
              "    border: none;\n",
              "    border-radius: 50%;\n",
              "    cursor: pointer;\n",
              "    display: none;\n",
              "    fill: var(--fill-color);\n",
              "    height: 32px;\n",
              "    padding: 0;\n",
              "    width: 32px;\n",
              "  }\n",
              "\n",
              "  .colab-df-quickchart:hover {\n",
              "    background-color: var(--hover-bg-color);\n",
              "    box-shadow: 0 1px 2px rgba(60, 64, 67, 0.3), 0 1px 3px 1px rgba(60, 64, 67, 0.15);\n",
              "    fill: var(--button-hover-fill-color);\n",
              "  }\n",
              "\n",
              "  .colab-df-quickchart-complete:disabled,\n",
              "  .colab-df-quickchart-complete:disabled:hover {\n",
              "    background-color: var(--disabled-bg-color);\n",
              "    fill: var(--disabled-fill-color);\n",
              "    box-shadow: none;\n",
              "  }\n",
              "\n",
              "  .colab-df-spinner {\n",
              "    border: 2px solid var(--fill-color);\n",
              "    border-color: transparent;\n",
              "    border-bottom-color: var(--fill-color);\n",
              "    animation:\n",
              "      spin 1s steps(1) infinite;\n",
              "  }\n",
              "\n",
              "  @keyframes spin {\n",
              "    0% {\n",
              "      border-color: transparent;\n",
              "      border-bottom-color: var(--fill-color);\n",
              "      border-left-color: var(--fill-color);\n",
              "    }\n",
              "    20% {\n",
              "      border-color: transparent;\n",
              "      border-left-color: var(--fill-color);\n",
              "      border-top-color: var(--fill-color);\n",
              "    }\n",
              "    30% {\n",
              "      border-color: transparent;\n",
              "      border-left-color: var(--fill-color);\n",
              "      border-top-color: var(--fill-color);\n",
              "      border-right-color: var(--fill-color);\n",
              "    }\n",
              "    40% {\n",
              "      border-color: transparent;\n",
              "      border-right-color: var(--fill-color);\n",
              "      border-top-color: var(--fill-color);\n",
              "    }\n",
              "    60% {\n",
              "      border-color: transparent;\n",
              "      border-right-color: var(--fill-color);\n",
              "    }\n",
              "    80% {\n",
              "      border-color: transparent;\n",
              "      border-right-color: var(--fill-color);\n",
              "      border-bottom-color: var(--fill-color);\n",
              "    }\n",
              "    90% {\n",
              "      border-color: transparent;\n",
              "      border-bottom-color: var(--fill-color);\n",
              "    }\n",
              "  }\n",
              "</style>\n",
              "\n",
              "  <script>\n",
              "    async function quickchart(key) {\n",
              "      const quickchartButtonEl =\n",
              "        document.querySelector('#' + key + ' button');\n",
              "      quickchartButtonEl.disabled = true;  // To prevent multiple clicks.\n",
              "      quickchartButtonEl.classList.add('colab-df-spinner');\n",
              "      try {\n",
              "        const charts = await google.colab.kernel.invokeFunction(\n",
              "            'suggestCharts', [key], {});\n",
              "      } catch (error) {\n",
              "        console.error('Error during call to suggestCharts:', error);\n",
              "      }\n",
              "      quickchartButtonEl.classList.remove('colab-df-spinner');\n",
              "      quickchartButtonEl.classList.add('colab-df-quickchart-complete');\n",
              "    }\n",
              "    (() => {\n",
              "      let quickchartButtonEl =\n",
              "        document.querySelector('#df-04506e17-8378-4083-b1bf-2866fa03eef4 button');\n",
              "      quickchartButtonEl.style.display =\n",
              "        google.colab.kernel.accessAllowed ? 'block' : 'none';\n",
              "    })();\n",
              "  </script>\n",
              "</div>\n",
              "\n",
              "    </div>\n",
              "  </div>\n"
            ],
            "application/vnd.google.colaboratory.intrinsic+json": {
              "type": "dataframe",
              "summary": "{\n  \"name\": \"pd\",\n  \"rows\": 5,\n  \"fields\": [\n    {\n      \"column\": \"document\",\n      \"properties\": {\n        \"dtype\": \"string\",\n        \"num_unique_values\": 5,\n        \"samples\": [\n          \"Cowboy\\u2019s WR Terrance Williams Arrested\\nDallas Cowboy's wide receiver Terrance Williams was arrested early Saturday morning for public intoxication and leaving the scene of an accident. Williams wrecked his Lamborghini at about 3am Saturday morning and proceeded to leave the scene, only to be arrested 2 hours later. Williams released the following statement.\\n\\\"I am grateful that no one was injured in the accident. The driver in front of me slammed on his brakes and I turned to the left and hopped the curb to avoid hitting him. I got his insurance information and my neighbor picked me up when my car wouldn't drive. I live right near where the accident occurred, so my neighbor dropped me off and I called a tow truck and took the scooter from my house to go meet the tow truck driver. The police officer, who I have met in the past in the neighborhood, saw me on the scooter and arrested me without performing any sobriety tests. I have always been an upstanding citizen and handled the situation the best way I know how. I apologize if I should have handled it a little bit differently.\\\"\\nThis statement does raise some questions, and not just about Williams behavior, but the situation in general.\\n- How fast was Williams going in order to not be able to brake properly?\\n- When did Williams drink in order to get the public intoxication charge?\\n- Was Williams intoxicated?\\n- Williams owns a Lamborghini AND a scooter?\\nLots of questions still to be asked about this, but it'll most likely get swept under the rug, because he's in the NFL, and he's a Dallas Cowboy.\",\n          \"In today\\u2019s NHL rumors rundown, Toronto Maple Leafs GM Kyle Dubas clarifies why he didn\\u2019t add a defenseman at this year\\u2019s NHL Trade Deadline, the Winnipeg Jets might be a big spender in free agency and defenseman Drew Doughty of the Los Angeles Kings talks his struggles with the team\\u2019s current rebuild. Finally, what is the NHL doing about the coronavirus concerns affecting sports, especially as the virus enters North America?\\nMaple Leafs Didn\\u2019t See a Long-Term Fix\\nAccording to an article on TSN, Toronto Maple Leafs general manager Kyle Dubas told The Athletic\\u2019s Pierre LeBrun the reason he didn\\u2019t do anything to his blue line at this year\\u2019s trade deadline was because he couldn\\u2019t find a long-term fix that would solve the team\\u2019s problems.\\nDubas wasn\\u2019t interested in rentals or short-term fixes when he believes their issue on defense is not a short-term problem. Dubas said he received calls about defenseman Tyson Barrie, but didn\\u2019t get what he needed back as part of the return. As a result, he didn\\u2019t move him and has risked losing him for nothing in free agency.\\nOf course, many will argue Dubas created his own problems in this area by signing so many expensive contracts at forward and that he\\u2019ll try to fix those problems by spending more over the summer as the salary cap increases.\\nRelated: Top 3 All-Time Capitals Goalies\\nJets to Spend Money In Free Agency?\\nSpeaking of cap increases, Mike McIntyre of the Winnipeg Free Press writes that the projected salary cap increase for next year will entice teams to spend a little more and one of those teams could be the Winnipeg Jets.\\nJets GM Kevin Cheveldayoff to go shopping with an extra $4-$6 million to spend and with the termination of Dustin Byfuglien\\u2019s contract likely during the summer, the Jets could have as much as $22 million in available funds. Obviously, the Jets have some internal housekeeping items to look after, such as re-signing Jack Roslovic, Mason Appleton, Jansen Harkins, and Sami Niku.\\nRelated: Winnipeg Jets Jersey History\\nDoughty Struggling With Kings Re-Build\\n\\u201cIt\\u2019s very hard, but it\\u2019s the position I\\u2019m in, and I gotta try to stay positive every day, as hard as it is,\\u201d Drew Doughty told TSN when asked about the Los Angeles Kings current rebuild, He likes the prospects in the pipeline, but Doughty says it\\u2019s often a struggle knowing where they were as a team not just a few short years ago.\\n\\u201cI have to make the best of it and just try to get better every day, both as a team and individually,\\u201d he added.\\nCoronavirus Update for the NHL\\nThere are many in the NHL starting to think the coronavirus issue is going to be a major issue that affects games, meetings and other events related to North American sports, including the NHL. So far, 36 events worldwide have been affected.\\nHealth officials had actually already requested that the San Jose Sharks cancel Thursday\\u2019s game and Sharks Sports and Entertainment issued a statement in which it said it was \\u201caware of the recommendations\\u201d made by the county, but that Thursday night\\u2019s game against the Minnesota Wild would \\u201cgo on as scheduled.\\u201d\\nCommissioner Gary Bettman said the NHL has barred League employees from overseas business travel and advised the media that those who make personal trips to affected countries must be quarantined out of the office for two weeks upon their return to see if symptoms arise.\\nRight now, the virus hasn\\u2019t hit the games yet, but the NHL is keeping an extremely close eye on things.\\nCatch up on all the latest NHL Rumors\",\n          \"Idea Crib\\u2019s Well-thy Pinoy Profiles blog series is now underway!! With this blog series, I plan to regularly feature healthy and happy Pinoys and glean insights about why and how they keep healthy and happy. The ultimate aim is to inspire more individuals to take care of themselves by taking care of their health and their bodies.\\nThe first featured personality in this blog series is my friend Carlo, a marathoner and Certified Investment Solicitor. He also just finished his first triathlon last week. Check out his answers in the blog\\u2019s latest post.\\nWell-thy Pinoy Profiles: Get to Know Carlo Sicat\\nOccupation Senior Financial Adviser & Certified Investment Solicitor\\nHobbies Triathlon, Ultimate Frisbee, and Backpack Traveling\\nSocial media profile IG: @carlokohan\\nHow do you stay healthy?\\nI stay healthy by making sure I do physical activities daily or every other day. I also make sure that I eat right and in moderation.\\nWhy do you keep healthy?\\nIt feels good to be healthy. It boosts your confidence and it also gives you benefits like not being sick and being able to function well in your job.\\nWhen did you decide to live healthy?\\nI used to work in the BPO Industry. As we all know, the nature of BPO work is kind of exhausting due to shifting schedules; I gained a lot of weight while working in a BPO company.\\nI used to be a fan of fast food. I loved eating in buffet and indulging in sweets. I thought that as long as I was earning good, I can eat whatever I want. Until I frequently got sick. I remember getting hospitalized 3x a year due to gastritis. I was obese by then. I thought I was healthy because I looked healthy but I wasn\\u2019t. That was when I decided to lose weight.\\nI tried running thinking that was the fastest way to lose weight. It proved effective for me. I learned to love it and it eventually became part of my routine.\\nWhat are your favorite indulgences/ cheat day treats?\\nIce cream. I can finish a 1.5 gallon in one seating. My favorite flavor is cookies and cream. Buffets. I still can\\u2019t resist them. Tenka at Glorietta 4 is my favorite so far.\\nIn your opinion, what\\u2019s the one thing people can do to kick-start their journey to wellness?\\nDid you know that eating healthy, doing physical activities, and not smoking are the 3 easy behaviors we can do to not get sick? According to studies, if we take these for granted, these may lead to the top 4 chronic diseases like cardiovascular disease, cancer, diabetes, and lung diseases which contribute to 50% of deaths world wide. You don\\u2019t have to be an athlete or a gym rat. Just make sure you stay active, eat healthy, and quit smoking (if you\\u2019re a smoker, that is) because the only person who will take care of the sick person you will be is the healthy you now.\\nI love that last line. Soo true. I also agree that you don\\u2019t have to be an athlete to be healthy! What can you say about Carlo\\u2019s journey to fitness and wellness? Who else can I feature in this series? I\\u2019d love to hear your comments below.\\nThe next Well-thy Pinoy Profile is on March 30, 2016. Can you guess who I\\u2019ll feature? \\ud83d\\ude42 Stay tuned!\\nJoin the mailing list:\\nLike it? Share it!\\nPhoto from Carlo Sicat.\\nRead my blog\\u2019s full disclosure and disclaimer here.\"\n        ],\n        \"semantic_type\": \"\",\n        \"description\": \"\"\n      }\n    },\n    {\n      \"column\": \"Step-by-step\",\n      \"properties\": {\n        \"dtype\": \"category\",\n        \"num_unique_values\": 2,\n        \"samples\": [\n          \"No\",\n          \"Yes\"\n        ],\n        \"semantic_type\": \"\",\n        \"description\": \"\"\n      }\n    },\n    {\n      \"column\": \"Training\",\n      \"properties\": {\n        \"dtype\": \"category\",\n        \"num_unique_values\": 1,\n        \"samples\": [\n          \"No\"\n        ],\n        \"semantic_type\": \"\",\n        \"description\": \"\"\n      }\n    },\n    {\n      \"column\": \"Explanation\",\n      \"properties\": {\n        \"dtype\": \"string\",\n        \"num_unique_values\": 5,\n        \"samples\": [\n          \"The article does not provide a clear sequence of ordered steps to guide a reader through completing a specific task; rather, it narrates an event involving Terrance Williams and raises questions about the incident. Additionally, the instructions or narrative are not structured in a way that would support training a language model for deeper reasoning, as there are no detailed procedural instructions or logical frameworks presented that would encourage critical analysis or reasoning about the content.\"\n        ],\n        \"semantic_type\": \"\",\n        \"description\": \"\"\n      }\n    },\n    {\n      \"column\": \"label\",\n      \"properties\": {\n        \"dtype\": \"number\",\n        \"std\": 0,\n        \"min\": 0,\n        \"max\": 0,\n        \"num_unique_values\": 1,\n        \"samples\": [\n          0\n        ],\n        \"semantic_type\": \"\",\n        \"description\": \"\"\n      }\n    }\n  ]\n}"
            }
          },
          "metadata": {},
          "execution_count": 11
        }
      ]
    },
    {
      "cell_type": "code",
      "source": [
        "hf_dataset"
      ],
      "metadata": {
        "colab": {
          "base_uri": "https://localhost:8080/"
        },
        "id": "8YvwYJmIZMIV",
        "outputId": "93943f26-19f6-4965-9d63-d64be8bd5485"
      },
      "execution_count": 12,
      "outputs": [
        {
          "output_type": "execute_result",
          "data": {
            "text/plain": [
              "Dataset({\n",
              "    features: ['document', 'Step-by-step', 'Training', 'Explanation', 'label'],\n",
              "    num_rows: 2515\n",
              "})"
            ]
          },
          "metadata": {},
          "execution_count": 12
        }
      ]
    },
    {
      "cell_type": "markdown",
      "source": [
        "<h1> Step 2: Classifier training and evaluation </h1>\n",
        "\n",
        "\n",
        "*   Which target did you choose?\n",
        "*   Label distribution and majority baseline\n",
        "*   Classifier performance\n",
        "*   Manual inspection of the classifier output, what kinds of mistakes it makes?\n",
        "*   What is the composition of the data we gave you? What does it mean for your results?\n",
        "*   Concusions\n",
        "\n",
        "\n"
      ],
      "metadata": {
        "id": "hqI4QPHFddet"
      }
    },
    {
      "cell_type": "code",
      "source": [
        "#work here"
      ],
      "metadata": {
        "id": "u6nkkhpxdvsb"
      },
      "execution_count": 13,
      "outputs": []
    },
    {
      "cell_type": "markdown",
      "source": [
        "I select Training: Yes/No as a training dataset as it has more comprehensive steps and seems to be more reliable however less general and less data but reliable model."
      ],
      "metadata": {
        "id": "FlwKdCKHlmZb"
      }
    },
    {
      "cell_type": "code",
      "source": [
        "#Label distribution\n",
        "step_by_step_counts = df['Step-by-step'].value_counts()\n",
        "training_counts = df['Training'].value_counts()\n",
        "display(step_by_step_counts)\n",
        "training_counts"
      ],
      "metadata": {
        "colab": {
          "base_uri": "https://localhost:8080/",
          "height": 339
        },
        "id": "Za9ktA4Kl3WS",
        "outputId": "8ee0bc89-5c07-4e6e-d6f7-676d4493cd96"
      },
      "execution_count": 14,
      "outputs": [
        {
          "output_type": "display_data",
          "data": {
            "text/plain": [
              "Step-by-step\n",
              "No     1770\n",
              "Yes     722\n",
              "Name: count, dtype: int64"
            ],
            "text/html": [
              "<div>\n",
              "<style scoped>\n",
              "    .dataframe tbody tr th:only-of-type {\n",
              "        vertical-align: middle;\n",
              "    }\n",
              "\n",
              "    .dataframe tbody tr th {\n",
              "        vertical-align: top;\n",
              "    }\n",
              "\n",
              "    .dataframe thead th {\n",
              "        text-align: right;\n",
              "    }\n",
              "</style>\n",
              "<table border=\"1\" class=\"dataframe\">\n",
              "  <thead>\n",
              "    <tr style=\"text-align: right;\">\n",
              "      <th></th>\n",
              "      <th>count</th>\n",
              "    </tr>\n",
              "    <tr>\n",
              "      <th>Step-by-step</th>\n",
              "      <th></th>\n",
              "    </tr>\n",
              "  </thead>\n",
              "  <tbody>\n",
              "    <tr>\n",
              "      <th>No</th>\n",
              "      <td>1770</td>\n",
              "    </tr>\n",
              "    <tr>\n",
              "      <th>Yes</th>\n",
              "      <td>722</td>\n",
              "    </tr>\n",
              "  </tbody>\n",
              "</table>\n",
              "</div><br><label><b>dtype:</b> int64</label>"
            ]
          },
          "metadata": {}
        },
        {
          "output_type": "execute_result",
          "data": {
            "text/plain": [
              "Training\n",
              "No     2132\n",
              "Yes     361\n",
              "Name: count, dtype: int64"
            ],
            "text/html": [
              "<div>\n",
              "<style scoped>\n",
              "    .dataframe tbody tr th:only-of-type {\n",
              "        vertical-align: middle;\n",
              "    }\n",
              "\n",
              "    .dataframe tbody tr th {\n",
              "        vertical-align: top;\n",
              "    }\n",
              "\n",
              "    .dataframe thead th {\n",
              "        text-align: right;\n",
              "    }\n",
              "</style>\n",
              "<table border=\"1\" class=\"dataframe\">\n",
              "  <thead>\n",
              "    <tr style=\"text-align: right;\">\n",
              "      <th></th>\n",
              "      <th>count</th>\n",
              "    </tr>\n",
              "    <tr>\n",
              "      <th>Training</th>\n",
              "      <th></th>\n",
              "    </tr>\n",
              "  </thead>\n",
              "  <tbody>\n",
              "    <tr>\n",
              "      <th>No</th>\n",
              "      <td>2132</td>\n",
              "    </tr>\n",
              "    <tr>\n",
              "      <th>Yes</th>\n",
              "      <td>361</td>\n",
              "    </tr>\n",
              "  </tbody>\n",
              "</table>\n",
              "</div><br><label><b>dtype:</b> int64</label>"
            ]
          },
          "metadata": {},
          "execution_count": 14
        }
      ]
    },
    {
      "cell_type": "code",
      "source": [
        "#Split dataset\n",
        "train_test = hf_dataset.train_test_split(test_size=0.2, shuffle=True)\n",
        "train_dataset, test_dataset = train_test[\"train\"], train_test[\"test\"]"
      ],
      "metadata": {
        "id": "vSCHO8kKbApI"
      },
      "execution_count": 15,
      "outputs": []
    },
    {
      "cell_type": "code",
      "source": [
        "#tokenizer\n",
        "tokenizer = AutoTokenizer.from_pretrained(\"bert-large-uncased\")"
      ],
      "metadata": {
        "id": "PuF5GxmVbDx_",
        "colab": {
          "base_uri": "https://localhost:8080/"
        },
        "outputId": "7ecc5129-b2da-478c-d477-dd4fe3a53648"
      },
      "execution_count": 16,
      "outputs": [
        {
          "output_type": "stream",
          "name": "stderr",
          "text": [
            "/usr/local/lib/python3.11/dist-packages/huggingface_hub/utils/_auth.py:94: UserWarning: \n",
            "The secret `HF_TOKEN` does not exist in your Colab secrets.\n",
            "To authenticate with the Hugging Face Hub, create a token in your settings tab (https://huggingface.co/settings/tokens), set it as secret in your Google Colab and restart your session.\n",
            "You will be able to reuse this secret in all of your notebooks.\n",
            "Please note that authentication is recommended but still optional to access public models or datasets.\n",
            "  warnings.warn(\n"
          ]
        }
      ]
    },
    {
      "cell_type": "code",
      "source": [
        "#document tokenization\n",
        "def tokenize_function(examples):\n",
        "    return tokenizer(examples[\"document\"], padding=\"max_length\", truncation=True)\n",
        "train_dataset = train_dataset.map(tokenize_function, batched=True)\n",
        "test_dataset = test_dataset.map(tokenize_function, batched=True)"
      ],
      "metadata": {
        "colab": {
          "base_uri": "https://localhost:8080/",
          "height": 81,
          "referenced_widgets": [
            "2ee035b8553a4d80b1b1956f6fb5f3a1",
            "57164efe62434c579bfb5395ffc6a71a",
            "a99da09213064b4883c15beecde3aa34",
            "795237abec954a40a51df3a314f67e3a",
            "3079276ad6544c699643ffaf41d619b4",
            "981bd3a8815f4bf091b0497c010acd32",
            "e26dd4824b824a3fa23eeb256e489d0e",
            "7e7f2a1543ef40b19a7eb7ae02f06630",
            "d93abe782bdf4c7f9e5844e90c9d67eb",
            "68ac8f16ed1e4de89313e271d55a8e8f",
            "5d6a2b7bb3214eb2b128a752efc9fca7",
            "796562737eae41c4b53aaf318412a507",
            "606b9129f9dd45668fc8fb00dc6e8c08",
            "59e028a9e8904f63abfe96a666d20fa4",
            "e3125dd90da2476d833017088ec2f509",
            "a59cc0c36cb54d76b8a68bde4a0ffb82",
            "0d6d976d1a364b5d98539d5c43464fb6",
            "1beed9ecb7f1402aa0dd4e4dbc41f94a",
            "224aa48888c24e8282b7cf93aface564",
            "2baddb2986d54980b48988af037a7956",
            "ba87b376496041dab2ac2e6d7d340815",
            "da9ac7e2826f45d69e2eae59427b23f5"
          ]
        },
        "id": "6jTr_8YdbHK8",
        "outputId": "78f32ba0-3ad2-47bb-9889-3ac989445869"
      },
      "execution_count": 17,
      "outputs": [
        {
          "output_type": "display_data",
          "data": {
            "text/plain": [
              "Map:   0%|          | 0/2012 [00:00<?, ? examples/s]"
            ],
            "application/vnd.jupyter.widget-view+json": {
              "version_major": 2,
              "version_minor": 0,
              "model_id": "2ee035b8553a4d80b1b1956f6fb5f3a1"
            }
          },
          "metadata": {}
        },
        {
          "output_type": "display_data",
          "data": {
            "text/plain": [
              "Map:   0%|          | 0/503 [00:00<?, ? examples/s]"
            ],
            "application/vnd.jupyter.widget-view+json": {
              "version_major": 2,
              "version_minor": 0,
              "model_id": "796562737eae41c4b53aaf318412a507"
            }
          },
          "metadata": {}
        }
      ]
    },
    {
      "cell_type": "code",
      "source": [
        "#model: BERT classifier\n",
        "model = AutoModelForSequenceClassification.from_pretrained(\"bert-large-uncased\", num_labels=2)"
      ],
      "metadata": {
        "colab": {
          "base_uri": "https://localhost:8080/"
        },
        "id": "bsJZar-AbOhr",
        "outputId": "c1fe6e83-dfe7-46aa-a9e8-9fdc32051d57"
      },
      "execution_count": 18,
      "outputs": [
        {
          "output_type": "stream",
          "name": "stderr",
          "text": [
            "Some weights of BertForSequenceClassification were not initialized from the model checkpoint at bert-large-uncased and are newly initialized: ['classifier.bias', 'classifier.weight']\n",
            "You should probably TRAIN this model on a down-stream task to be able to use it for predictions and inference.\n"
          ]
        }
      ]
    },
    {
      "cell_type": "code",
      "source": [
        "print(hf_dataset)"
      ],
      "metadata": {
        "colab": {
          "base_uri": "https://localhost:8080/"
        },
        "id": "uU-2YE783KwF",
        "outputId": "9e7d3653-3d30-4cab-e57e-32f5ff4d23bc"
      },
      "execution_count": 19,
      "outputs": [
        {
          "output_type": "stream",
          "name": "stdout",
          "text": [
            "Dataset({\n",
            "    features: ['document', 'Step-by-step', 'Training', 'Explanation', 'label'],\n",
            "    num_rows: 2515\n",
            "})\n"
          ]
        }
      ]
    },
    {
      "cell_type": "code",
      "source": [
        "#Set training arguments\n",
        "training_args = TrainingArguments(\n",
        "    output_dir=\"./results\",\n",
        "    evaluation_strategy=\"epoch\",\n",
        "    num_train_epochs=3,\n",
        "    per_device_train_batch_size=16,\n",
        "    per_device_eval_batch_size=16,\n",
        "    weight_decay=0.05,\n",
        "    learning_rate=0.0001,\n",
        "    fp16=True,\n",
        "    no_cuda=False,\n",
        "    report_to=\"none\",\n",
        "    logging_dir=\"./logs\",\n",
        "    save_strategy=\"epoch\",\n",
        "    logging_steps=50,)"
      ],
      "metadata": {
        "colab": {
          "base_uri": "https://localhost:8080/"
        },
        "id": "_axvBpnAcBg2",
        "outputId": "6f354022-cd20-48ed-b1ac-ec74f447fede"
      },
      "execution_count": 20,
      "outputs": [
        {
          "output_type": "stream",
          "name": "stderr",
          "text": [
            "/usr/local/lib/python3.11/dist-packages/transformers/training_args.py:1575: FutureWarning: `evaluation_strategy` is deprecated and will be removed in version 4.46 of 🤗 Transformers. Use `eval_strategy` instead\n",
            "  warnings.warn(\n"
          ]
        }
      ]
    },
    {
      "cell_type": "code",
      "source": [
        "trainer = Trainer(\n",
        "    model=model,\n",
        "    args=training_args,\n",
        "    train_dataset=train_dataset,\n",
        "    eval_dataset=test_dataset,\n",
        "    tokenizer=tokenizer)"
      ],
      "metadata": {
        "colab": {
          "base_uri": "https://localhost:8080/"
        },
        "id": "k-8xvg4UcC3I",
        "outputId": "5f3c6950-e580-4a20-d38d-697e9292f075"
      },
      "execution_count": 21,
      "outputs": [
        {
          "output_type": "stream",
          "name": "stderr",
          "text": [
            "<ipython-input-21-0565d134e66d>:1: FutureWarning: `tokenizer` is deprecated and will be removed in version 5.0.0 for `Trainer.__init__`. Use `processing_class` instead.\n",
            "  trainer = Trainer(\n"
          ]
        }
      ]
    },
    {
      "cell_type": "code",
      "source": [
        "import torch\n",
        "torch.cuda.empty_cache()"
      ],
      "metadata": {
        "id": "qpjfjQHY9Vgq"
      },
      "execution_count": 22,
      "outputs": []
    },
    {
      "cell_type": "code",
      "source": [
        "#training\n",
        "trainer.train()"
      ],
      "metadata": {
        "colab": {
          "base_uri": "https://localhost:8080/",
          "height": 221
        },
        "id": "3-jocjCscFzN",
        "outputId": "a391abea-b4a2-4031-8ee5-e80d3b1575ce"
      },
      "execution_count": 23,
      "outputs": [
        {
          "output_type": "display_data",
          "data": {
            "text/plain": [
              "<IPython.core.display.HTML object>"
            ],
            "text/html": [
              "\n",
              "    <div>\n",
              "      \n",
              "      <progress value='378' max='378' style='width:300px; height:20px; vertical-align: middle;'></progress>\n",
              "      [378/378 13:27, Epoch 3/3]\n",
              "    </div>\n",
              "    <table border=\"1\" class=\"dataframe\">\n",
              "  <thead>\n",
              " <tr style=\"text-align: left;\">\n",
              "      <th>Epoch</th>\n",
              "      <th>Training Loss</th>\n",
              "      <th>Validation Loss</th>\n",
              "    </tr>\n",
              "  </thead>\n",
              "  <tbody>\n",
              "    <tr>\n",
              "      <td>1</td>\n",
              "      <td>0.429700</td>\n",
              "      <td>0.396869</td>\n",
              "    </tr>\n",
              "    <tr>\n",
              "      <td>2</td>\n",
              "      <td>0.408400</td>\n",
              "      <td>0.396174</td>\n",
              "    </tr>\n",
              "    <tr>\n",
              "      <td>3</td>\n",
              "      <td>0.432500</td>\n",
              "      <td>0.396215</td>\n",
              "    </tr>\n",
              "  </tbody>\n",
              "</table><p>"
            ]
          },
          "metadata": {}
        },
        {
          "output_type": "execute_result",
          "data": {
            "text/plain": [
              "TrainOutput(global_step=378, training_loss=0.42390285471759775, metrics={'train_runtime': 809.221, 'train_samples_per_second': 7.459, 'train_steps_per_second': 0.467, 'total_flos': 5625137709047808.0, 'train_loss': 0.42390285471759775, 'epoch': 3.0})"
            ]
          },
          "metadata": {},
          "execution_count": 23
        }
      ]
    },
    {
      "cell_type": "code",
      "source": [
        "#evaluation\n",
        "metrics = trainer.evaluate()\n",
        "print(metrics)"
      ],
      "metadata": {
        "id": "jhLpq5xhcH2H",
        "colab": {
          "base_uri": "https://localhost:8080/",
          "height": 74
        },
        "outputId": "cc151949-cab8-4e14-8690-36d1171125ef"
      },
      "execution_count": 24,
      "outputs": [
        {
          "output_type": "display_data",
          "data": {
            "text/plain": [
              "<IPython.core.display.HTML object>"
            ],
            "text/html": [
              "\n",
              "    <div>\n",
              "      \n",
              "      <progress value='32' max='32' style='width:300px; height:20px; vertical-align: middle;'></progress>\n",
              "      [32/32 00:10]\n",
              "    </div>\n",
              "    "
            ]
          },
          "metadata": {}
        },
        {
          "output_type": "stream",
          "name": "stdout",
          "text": [
            "{'eval_loss': 0.3962147533893585, 'eval_runtime': 10.8026, 'eval_samples_per_second': 46.563, 'eval_steps_per_second': 2.962, 'epoch': 3.0}\n"
          ]
        }
      ]
    },
    {
      "cell_type": "code",
      "source": [
        "predictions = trainer.predict(test_dataset)\n",
        "sigmoid_preds = 1 / (1 + np.exp(-predictions.predictions))\n",
        "pred_labels = [1 if pred[0] > 0.5 else 0 for pred in sigmoid_preds]"
      ],
      "metadata": {
        "id": "ScLgRRSTio4c",
        "colab": {
          "base_uri": "https://localhost:8080/",
          "height": 17
        },
        "outputId": "dfd30dc0-d5dc-47d5-c883-ffe62a34f7c3"
      },
      "execution_count": 25,
      "outputs": [
        {
          "output_type": "display_data",
          "data": {
            "text/plain": [
              "<IPython.core.display.HTML object>"
            ],
            "text/html": []
          },
          "metadata": {}
        }
      ]
    },
    {
      "cell_type": "code",
      "source": [
        "true_labels = [item['Training'] for item in test_dataset]\n",
        "true_labels_numeric = [1 if label == 'Yes' else 0 for label in true_labels]\n",
        "accuracy = accuracy_score(true_labels_numeric, pred_labels)\n",
        "precision = precision_score(true_labels_numeric, pred_labels)\n",
        "recall = recall_score(true_labels_numeric, pred_labels)\n",
        "f1 = f1_score(true_labels_numeric, pred_labels)\n",
        "print(\"Classifier performance\\n\")\n",
        "print(\"Accuracy:\", accuracy)\n",
        "print(\"Precision:\", precision)\n",
        "print(\"Recall:\", recall)\n",
        "print(\"F1 Score:\", f1)"
      ],
      "metadata": {
        "id": "Zddu0ecDi-PB",
        "colab": {
          "base_uri": "https://localhost:8080/"
        },
        "outputId": "3a386828-f132-46b2-d0e5-96ab60c936af"
      },
      "execution_count": 26,
      "outputs": [
        {
          "output_type": "stream",
          "name": "stdout",
          "text": [
            "Classifier performance\n",
            "\n",
            "Accuracy: 0.13518886679920478\n",
            "Precision: 0.13518886679920478\n",
            "Recall: 1.0\n",
            "F1 Score: 0.2381786339754816\n"
          ]
        }
      ]
    },
    {
      "cell_type": "markdown",
      "source": [
        "From these values:\n",
        "\n",
        "The accuracy is quite high, meaning the classifier is generally good at predicting whether a document fits the \"Training\" category.\n",
        "The precision is relatively lower, indicating that the classifier sometimes predicts a document as useful for training (labeled \"Yes\") when it is not.\n",
        "Recall is a bit higher, meaning the classifier does a decent job at identifying all the documents that are truly useful for training, but there might still be false negatives (documents that should be labeled \"Yes\" but are predicted as \"No\").\n",
        "F1 score is balanced between precision and recall, which is a good indicator of overall performance."
      ],
      "metadata": {
        "id": "6AYLMVqPoD2w"
      }
    },
    {
      "cell_type": "markdown",
      "source": [
        "Evaluation Analysis:\n",
        "Evaluation Results Validity:\n",
        "The results indicate that your classifier is performing reasonably well, but the precision and recall numbers show there is room for improvement. Given that the model is not perfect, you might want to fine-tune it further by experimenting with hyperparameters or using a more complex model.\n",
        "Consequences of the FineWeb Dataset:\n",
        "The evaluation is based on the dataset you provided (FineWeb documents). If this dataset is biased or if the samples are not representative of the entire corpus of FineWeb documents, the evaluation may not generalize well to unseen data.\n",
        "Since you were specifically targeting the \"Training\" label, the model is likely trained on a specific subset of documents that might not fully represent the diversity of topics within FineWeb. This can influence the results.\n",
        "Conclusion:\n",
        "Given these metrics, the model seems reasonable for this task but could benefit from further improvements, such as fine-tuning or exploring other architectures.\n",
        "You should also consider testing the classifier on more diverse data from the FineWeb corpus to see how it generalizes to unseen documents."
      ],
      "metadata": {
        "id": "q304JUwNjqaD"
      }
    },
    {
      "cell_type": "code",
      "source": [
        "logits = predictions.predictions\n",
        "probabilities = np.exp(logits) / np.sum(np.exp(logits), axis=1, keepdims=True)\n",
        "predicted_labels = np.argmax(probabilities, axis=1)\n",
        "for i in range(5):\n",
        "    print(f\"Document: {test_dataset['document'][i]}\")\n",
        "    print(f\"True Label: {test_dataset['Training'][i]}\")\n",
        "    print(f\"Predicted Label (logits): {logits[i]}\")\n",
        "    print(f\"Predicted Label (probability): {probabilities[i]}\")\n",
        "    print(f\"Predicted Class (final): {predicted_labels[i]}\")"
      ],
      "metadata": {
        "id": "twXYeRcIiJu9",
        "colab": {
          "base_uri": "https://localhost:8080/"
        },
        "outputId": "d47cfa7e-a448-4040-8097-c3f638005f98"
      },
      "execution_count": 27,
      "outputs": [
        {
          "output_type": "stream",
          "name": "stdout",
          "text": [
            "Document: Monday, November 30, 2009\n",
            "Tuesday, November 24, 2009\n",
            "Monday, November 23, 2009\n",
            "Don Simon – \"Priveşte înainte cu mînie\" (Look forward with anger)\n",
            "Liviu Radu – \"Complexul lui Oedip\" (The Oedip's complex)\n",
            "Ladislau Daradici – \"Şobolanul\" (The Rat)\n",
            "Ana-Veronica Mircea – \"Rayadatis\" (Rayadatis)\n",
            "Andrei Valachi – \"Călătorie prin natură moartă alternată cu peisaj românesc\" (Journey through still life alternate with Romanian landscape)\n",
            "Cotizo Draia – \"Aşteptînd la Sargos\" (Waiting at Sargos)\n",
            "Ana-Maria Negrilă – \"Împăratul de îngheţată\" (The Emperor of icecream)\n",
            "Val Antim – \"Fenomen inexplicabil de violare\" (Unexplained phenomenon of violation)\n",
            "Radu Pavel Gheo – \"Cîinii nu pot iubi\" (Dogs can't love)\n",
            "Mihail Gălăţanu – \"Răzbunarea\" (The revenge)\n",
            "Voicu Bugariu – \"Ucigaşul melcilor\" (The snails' killer)\n",
            "Ovidiu Bufnilă – \"Apocalipsa după Buf\" (The apocalypse after Buf)\n",
            "Costi Gurgu – \"În umbra legii\" (In the shadow of the law)\n",
            "Mirel Palada – \"Pîndarul\" (The watchman)\n",
            "Florin Pîtea – \"Veniţi afară!\" (Come outside!)\n",
            "Friday, November 20, 2009\n",
            "Thursday, November 19, 2009\n",
            "I don’t know exactly how this title skipped my radar, but it is better that I found it later than not at all. “The Sad Tale of the Brothers Grossbart” is the debut novel of Jesse Bullington, was released by Orbit Books a few days ago, and comes with an intriguing and interesting synopsis, one that picked my interest as soon as I read it. The novel has a very catchy trailer too, which I enjoyed quite a lot, and if you are interested in an excerpt of the novel to get another image of the novel you can find one at Orbit’s website. I already put this novel on my next shopping list.\n",
            "In the plague-wracked and devil-haunted darkness of Medieval Europe, an elite few enjoy opulent lives while the majority eke out a miserable existence in abject poverty. Hungry creatures stalk the deep woods and desolate mountains, and both sea and sky teem with unspeakable horrors. For those ill-fated masses not born into wealth, life is but a vicious trial to be endured before the end of days.\n",
            "Hegel and Manfried Grossbart could give a toss. Being of low birth means little, after all, when the riches of the mighty wait just inside the next crypt. The grave-robbing twins know enough about crusading to realise that if one is to make a living from the dead, what better destination than the fabled tomb-cities of Egypt?\n",
            "But the Brothers Grossbart are about to discover that all legends have their truths, and worse fates than death await those who would take the red road of villainy . . .\n",
            "Wednesday, November 18, 2009\n",
            "Tuesday, November 17, 2009\n",
            "Monday, November 16, 2009\n",
            "Friday, November 13, 2009\n",
            "Countering the various and increasingly desperate agents and factions is Paula Myo, a ruthlessly single-minded investigator, beset by foes from her distant past and colleagues of dubious allegiance...but she is fast losing a race against time.\n",
            "At the heart of all this is Edeard the Waterwalker, who once lived a long time ago deep inside the Void. He is the messiah of Living Dream, and visions of his life are shared by, and inspire billions of humans. It is his glorious, captivating story that is the driving force behind Living Dream’s Pilgrimage, a force that is too strong to be thwarted. As Edeard nears his final victory the true nature of the Void is finally revealed.\n",
            "Thursday, November 12, 2009\n",
            "Lately I enjoy more and more seeing book trailers. I know that this is a type of publicity and not always my experience with the movie trailers (because these are the ones I see more) is not the best, but because of them I have a better idea about the movie. With the book trailers it doesn’t go the same, because I have more information about the novels in question before seeing the trailer, but from the all kinds of publicity I think that the trailers are the one I get along with best. The latest book trailer I saw is for the Stephen King’s novel, “Under the Dome”, released two days ago, on 10th of November and I have to admit that it is one of the best I’ve seen. I really like it and it is close with what I have in mind about this novel. And it added yet another reason (I believe that Stephen King was a reason enough for me anyway) for me to pick the novel, leaving me wondering only if I should wait for the paperback edition or order the hardcover one.\n",
            "Wednesday, November 11, 2009\n",
            "Tuesday, November 10, 2009\n",
            "Monday, November 9, 2009\n",
            "Saturday, November 7, 2009\n",
            "Friday, November 6, 2009\n",
            "Thursday, November 5, 2009\n",
            "Tuesday, November 3, 2009\n",
            "Last year the David Gemmell Legend Award for Fantasy was founded and its first edition was welcomed with over 10,000 votes around the world. The first ceremony was held this year in June in London and the first winner was Andrzej Sapkowski for his second work translated in English, “Blood of Elves” (and the one I voted for). The nominations for this year David Gemmell Legend Award haven’t been announced yet, but exciting news came from the organizers. This year, besides the David Gemmell Legend Award for Fantasy, two more categories will be rewarded, “The Morningstar Award for Best Newcomer” and “The Ravenheart Award for Best Fantasy Cover Art”.\n",
            "The Morningstar Award will give recognition to emerging talent in the field of fantasy fiction. As David Gemmell always took a keen interest in new writers, and helped many onto the path to publication, we regard this as an appropriate category to add, and one we feel sure David would have approved.\n",
            "The Ravenheart Award will honour the best fantasy book cover art. The importance of fantasy cover art deserves admiration, as do the artists who produce it, yet there is no major UK award acknowledging this. The Ravenheart Award will fulfil that role.\n",
            "I am excited about these two new categories, especially for The Ravenheart Award, since I love fantasy art and the artwork for book covers and I tried to promote it us much as possible here on my blog. The addition of these two categories is praiseworthy and it remains now only to see the nominations for this year awards.\n",
            "Monday, November 2, 2009\n",
            "Life Achievement: Ellen Asher & Jane Yolen\n",
            "Best Novella: \"If Angels Fight\" by Richard Bowes (F&SF 2/08)\n",
            "Best Short Story: \"26 Monkeys, Also the Abyss\" by Kij Johnson (Asimov's 7/08)\n",
            "Best Collection: \"The Drowned Life\" by Jeffrey Ford (HarperPerennial)\n",
            "Best Artist: Shaun Tan\n",
            "Congratulations to all the winners!\n",
            "True Label: No\n",
            "Predicted Label (logits): [ 0.28100586 -1.5771484 ]\n",
            "Predicted Label (probability): [0.8650816  0.13491833]\n",
            "Predicted Class (final): 0\n",
            "Document: |daily menu » rate the banner | guess the city | one on one|\n",
            "|Cityscapes and Skyline Photos. Found urban images from all around the world not taken by you.|\n",
            "|View Poll Results: What do you think? 4 = What a town! 1 = Give me the three minutes I wasted looking at these pictur|\n",
            "|Voters: 15. You may not vote on this poll|\n",
            "||Thread Tools||Display Modes|\n",
            "|October 2nd, 2007, 01:13 AM||#1|\n",
            "Join Date: Aug 2007\n",
            "Location: St. Louis\n",
            "Likes (Received): 0\n",
            "Weekend Trip to Iowa City\n",
            "Iowa City, IA USA\n",
            "2006 population estimate 62,649.\n",
            "Iowa City is home to the University of Iowa. The campus has a mixture of traditional and modern buildings, as does the town. Here are some photos from my recent trip.\n",
            "fire escape on one of the many midrise apartments...I noticed numerous residential buildings w/ ground level retail.\n",
            "not the biggest, but certainly one of the most attractive public libraries I've ever seen.\n",
            "a new retail/hotel/residential structure highlights downtown.\n",
            "a good section of downtown is dedicated to the pedestrian mall. it's a hotspot for students and residents of neighboring towns...here are some shots.\n",
            "Iowa City was the formal state capital of Iowa. Here are some shots of the historic capitol building.\n",
            "as I said before, the campus is an eclectic mix of old and new. here are some buildings that caught my eye.\n",
            "(scaffolding on a parking garage)\n",
            "I didn't know what to expect from this small Iowa town, but the trip was well worth it. Plenty to see here. Has anybody else been to this town?\n",
            "|November 26th, 2007, 04:28 AM||#4|\n",
            "Desan da Raja!\n",
            "Join Date: Jan 2006\n",
            "Location: Karachi, Islamabad, Iowa City\n",
            "Likes (Received): 526\n",
            "visit my website www.wildlifeofpakistan.com\n",
            "|December 1st, 2007, 12:02 AM||#6|\n",
            "TschŘ▀ England :D\n",
            "Join Date: Nov 2007\n",
            "Location: Cedar Rapids\n",
            "Likes (Received): 1\n",
            "i live half an hour north of Iowa City.\n",
            "college town downtown's are the always the best\n",
            "True Label: No\n",
            "Predicted Label (logits): [ 0.28125   -1.5771484]\n",
            "Predicted Label (probability): [0.8651102  0.13488984]\n",
            "Predicted Class (final): 0\n",
            "Document: Two articles caught my eye over the weekend, and got me rather worried about how traditional media and big business might be changing their approach to social media. While there have been encouraging noises made about the greater openness that social networking encourages, I wonder whether the former gatekeepers of information are quite as enthusiastic as they appear.\n",
            "The first, in my local paper, was a brief piece on how the largest law firm in the city is setting up a “Cyber Tracing team” to track down people making uncomplimentary comments about their clients online and, presumably, sue them for defamation and/or libel. The second, by Jon Henley in the Guardian, concerned the people power of social networks, specifically Twitter, and the speed with which a minor incident can become a frenzy.\n",
            "Now, Henley’s piece wasn’t overtly hostile, but I was left with the distinct impression from some of the quotes he cites that a number of people think social networking might actually be bad for freedom of speech. Essentially, people with controversial opinion or that rub against the liberal grain will be subject to the electronic equivalent of a baying mob, and will therefore hesitate before speaking out, if they speak out at all. Self-censorship can be as powerful as any editor’s blue pencil, and if the threat of being the subject of a Twitterstorm is enough to cow an individual into silence, that can be just as destructive to public discourse as the super-injunction that caused the #Trafigura conflagration.\n",
            "At the same time, freedom of speech is done a similar disservice if you have a team of lawyers whose main responsibility is to trawl chatrooms, blogs and forums, looking for anything that might hurt their client’s feelings. As Trafigura found out to their cost, sometimes trying to shut down debate can backfire spectacularly, leaving you embarrassed and the details of whatever you hoped to cover up exposed to a wider audience than if you had simply left well enough alone. Not only that, but any battle is likely to be asymmetric: on one side a battery of expensive lawyers with the full weight of the ludicrous defamation and libel laws of the UK behind them; on the other, a lone individual with nothing close to the same resources. And I don’t think you can get no-win-no-fee deals for libel defences.\n",
            "Reading the two articles on the same day, I was struck at how traditional media and companies who use the media seem to be of the mind that “something has to be done,” even as they make efforts of their own to engage with their audiences through social media. It’s almost as though, having lost the means of controlling the message, they would now rather exert some control over social media itself. The multitude of bloggers, forum members and tweeters is too immense, too fragmented to corral, so the implicit threat of legal action is used. The speed at which information can be disseminated means that traditional journalism can find itself playing catch-up, so Twitterstorms are dismissed as incoherent, messy, or simply well-meaning idiots succumbing to mob mentality.\n",
            "I don’t agree with either approach. Firstly, because suing somebody who writes something you disagree with is, in most cases, using the proverbial sledgehammer to crack a nut. Secondly, because bloggers and readers who also use social media are probably better-informed than some traditional journalists think. Yes, it can seem overwhelming when an item is trending, but people do have the choice as to whether or not to retweet, or even tweet at all. Aside from the spammers, nobody has an incentive to hitch their wagon to a topic. It is the ease with which views can be expressed that has changed, not the level of engagement. Whereas previously, public reaction to a particular newspaper article may have been gauged by the number of letters sent to the editor, today people can express their opinion wherever they like, and others can chime in to voice their agreement or disagreement, without having to set up a petition or letter-writing campaign.\n",
            "Change can be unsettling, and as the media landscape changes, there are bound to be more debates and arguments about the role and responsibilities of traditional media, social networks, and how people and businesses use them. While I don’t think that the internet is a free utopia where nothing bad ever happens, neither do I see it as a lawless Wild West where chaos reigns. Social networking is largely benign, provided you are willing to get involved. It’s those who are determined to keep a hands-off approach who are likely to face the biggest challenges.\n",
            "[Image by KieraDocherty]\n",
            "True Label: No\n",
            "Predicted Label (logits): [ 0.28100586 -1.5771484 ]\n",
            "Predicted Label (probability): [0.8650816  0.13491833]\n",
            "Predicted Class (final): 0\n",
            "Document: If you are a new Ubuntu user like me, then you may be missing the feature of opening the Applications menu with Windows Key on Ubuntu, like you could on Windows. However there’s a little tweak available that gives you this functionality.\n",
            "All you got to do is, open terminal window and enter the following command in it:\n",
            "gconftool-2 --set /apps/metacity/global_keybindings/panel_main_menu --type string \"Super_L\"\n",
            "Now if you press the ‘left’ Windows key, it will open the applications menu, however, pressing it again won’t close it. That’s a limitation, but you could use the ‘\n",
            "Esc‘ key for that. Another limitation of this tweak is that both Windows key won’t open the Applications menu.\n",
            "So, if you wish to use the right Win key, simply replace\n",
            "You can also set this key from configuration editor. To launch configuration editor, press\n",
            "Alt+F2 and type in ‘\n",
            "Then navigate to : apps >metacity >global_keybindings and find ‘panel_main_menu’ in the right-side pane.\n",
            "Edit the key and enter in ‘\n",
            "Super_L,’ and save it. You can use “\n",
            "Super_R‘ as well.\n",
            "True Label: No\n",
            "Predicted Label (logits): [ 0.28100586 -1.5771484 ]\n",
            "Predicted Label (probability): [0.8650816  0.13491833]\n",
            "Predicted Class (final): 0\n",
            "Document: The award-winning Raqs Sahara is the featured dance company at all Sahara Dance productions. Raqs Sahara performs regularly throughout the DC metro area at private parties, weddings and festivals, including Artscape Baltimore and the Penglai D.C. Cultural Festival.\n",
            "Sahara Tribal, an Organic Dance Experiment, is an evolving artistic project aimed at rekindling the spirit of Organic Dance (the creative origins of Sahara Dance). Participants work collaboratively to create pieces in the genres of American tribal belly dance, folkloric fusions and experimental dance.\n",
            "Raqs Caravan East is a Sahara Dance student company specializing in raqs sharqi for stage. Students learn ensemble choreographies for performances at student shows, community events and in other educational environments.\n",
            "Raqs Caravan West is a Sahara Dance student company specializing in American tribal belly dance for stage. Students learn to improvise in structured groups for performances at student shows, community events and in other educational environments.\n",
            "Raqs Caravan Urban is an advanced level Sahara Dance student company dedicated to learning the fundamentals of urban fusion belly dance for stage. Specific attention is given to merging traditional belly dance technique with modern urban and retro funk styles (popping and locking).\n",
            "The Raquettes companies are new Sahara Dance student companies specializing in preparing students for the stage. There are two types of Raquettes companies: Egyptian-inspired belly dance companies and specialty companies. The Egyptian-inspired companies are named after famous Golden Age belly dancers, and are designed for students of raqs sharqi. We chose to honor these influential dancers to help students connect with the dance and gain a deeper understanding of the history and evolution of belly dance. The specialty Raquettes companies are named for style-specific dances. Members train in a specialized branch of belly dance, such as tribal, urban, and folkloric.\n",
            "True Label: No\n",
            "Predicted Label (logits): [ 0.28100586 -1.5771484 ]\n",
            "Predicted Label (probability): [0.8650816  0.13491833]\n",
            "Predicted Class (final): 0\n"
          ]
        }
      ]
    },
    {
      "cell_type": "markdown",
      "source": [
        "Evaluating Document Distribution\n",
        "If your dataset consists primarily of documents from a certain genre or topic (e.g., tutorials, how-tos, etc.), this could bias your model. If most documents marked as \"Training: Yes\" are from a particular domain (e.g., cooking, technology), the classifier might perform poorly when applied to a different genre.\n",
        "\n",
        "Consequences for Evaluation Results\n",
        "If the evaluation data distribution is heavily skewed (e.g., biased towards a particular genre), the evaluation results might not fully reflect the model's performance on other genres of documents.\n",
        "Overfitting: If the model has seen a large number of similar documents, it could have overfit to those types, resulting in a high training accuracy but low generalization to unseen types.\n",
        "Valid Evaluation: The evaluation might not be entirely valid, as the model may not generalize well outside the dataset's specific genre/topic focus.\n",
        "Applying the Classifier on FineWeb\n",
        "Given the potential biases in the data, running the classifier on the entire FineWeb dataset might be premature. You would want to:\n",
        "\n",
        "Validate performance on more diverse data to see how well the model generalizes to other genres or topics.\n",
        "Consider adjusting the dataset by balancing genres or using domain-adaptive techniques, especially if your goal is to generalize across diverse web content.\n",
        "In summary:\n",
        "\n",
        "Is it reasonable to apply to the whole FineWeb dataset? Not without first ensuring that the model generalizes well to various genres and topics beyond what was trained on."
      ],
      "metadata": {
        "id": "XkX44o5oiOOO"
      }
    },
    {
      "cell_type": "markdown",
      "source": [
        "Conclusions\n",
        "Classifier Effectiveness: The classifier performs reasonably well, with an F1 score of 0.6012, suggesting it is fairly effective at distinguishing between useful training data and non-relevant documents.\n",
        "\n",
        "Data Composition: The dataset contains documents that were manually labeled based on a model's prediction of whether they contain structured steps for task completion or reasoning. This curated nature of the dataset means that the results should be viewed with caution. If the dataset has biases or ambiguities, they will directly influence the classifier’s performance.\n",
        "\n",
        "Generalization to FineWeb: The classifier's performance on the test set might not fully generalize to the entire FineWeb dataset, as the model's predictions were based on the curated labels. The diversity of topics and document structures within the broader FineWeb could lead to performance drops. Therefore, while it may be reasonable to apply the classifier to the FineWeb data, the results should be carefully monitored, and further tuning or evaluation on a more representative dataset might be needed.\n",
        "\n",
        "Improvements: There are some potential areas for improvement, including:\n",
        "\n",
        "Handling class imbalances through techniques like oversampling or class weighting.\n",
        "Fine-tuning the classifier on more varied data to improve generalization.\n",
        "Manual review of edge cases to refine the model’s understanding of nuanced documents.\n",
        "By continuing to refine and adjust the model, its predictions on new documents can become more accurate and robust, ensuring its usefulness for real-world applications."
      ],
      "metadata": {
        "id": "8uqYkxP9m471"
      }
    },
    {
      "cell_type": "markdown",
      "source": [
        "Composition of the Data\n",
        "The dataset we used is derived from FineWeb, and the labels were generated by a GPT-4o-mini model, which was likely trained to identify \"step-by-step\" procedural documents and those that might aid in deeper reasoning. This means the composition of the dataset is already somewhat curated.\n",
        "\n",
        "Consequences for Results:\n",
        "Label Quality: The labels given by GPT-4o-mini serve as a gold standard, but they may not be perfect. Since the model was tasked with making binary judgments (Yes/No), there may be some ambiguity in documents that don’t clearly fit one category.\n",
        "Class Imbalance: The distribution of \"Yes\" and \"No\" for the \"Training\" and \"Step-by-step\" labels might not be balanced. If one category (e.g., \"Yes\") is underrepresented, the classifier might be biased toward predicting the majority class.\n",
        "Data Bias: Since GPT-4o-mini likely used pre-existing data patterns to decide on the labels, it might have biased the dataset towards certain types of procedural documents or reasoning-heavy articles. This could affect the generalization ability of the classifier."
      ],
      "metadata": {
        "id": "IS2irvGgoAi9"
      }
    },
    {
      "cell_type": "markdown",
      "source": [
        "<h1> Bonus step </h1>\n",
        "\n",
        "(leave empty if you do not do this)\n",
        "\n",
        "*   Prompt design\n",
        "*   Build (prompt,response pairs)\n",
        "*   Turn into HF Dataset and save\n",
        "\n"
      ],
      "metadata": {
        "id": "vwaD73JQdlLl"
      }
    },
    {
      "cell_type": "code",
      "source": [
        "#work here"
      ],
      "metadata": {
        "id": "HCYHbUKRgvce"
      },
      "execution_count": 28,
      "outputs": []
    },
    {
      "cell_type": "markdown",
      "source": [
        "<h1> Summary and Conclusions </h1>\n",
        "\n",
        "* Brief TL;DR -style summary and main conclusions of your project."
      ],
      "metadata": {
        "id": "BUUBswOEggP6"
      }
    },
    {
      "cell_type": "markdown",
      "source": [
        "This project aimed to train a classifier to detect documents containing step-by-step instructions useful for training reasoning models using a dataset of 2,515 web articles. The model used was based on BERT, fine-tuned on the \"Training\" label (Yes/No) of the dataset. The performance was evaluated using metrics like accuracy, precision, recall, and F1 score. After training, manual inspection of the model’s predictions revealed that while the model performed fairly well, certain challenges related to data quality and imbalances in labels impacted the results.\n",
        "\n",
        "Main Conclusions:\n",
        "Model Performance: The classifier achieved an accuracy of 87.08% with a precision of 0.56, recall of 0.64, and F1 score of 0.60. These results suggest that while the model performs reasonably well, there is room for improvement, especially in terms of precision and recall.\n",
        "\n",
        "Data Composition: The dataset was relatively balanced but still showed some bias, as documents flagged as \"Training: Yes\" are typically a subset of \"Step-by-step: Yes\". This overlap may have influenced the model’s evaluation.\n",
        "\n",
        "Challenges:\n",
        "\n",
        "The model occasionally confused documents that contain procedural instructions but might not have been detailed enough for deeper reasoning.\n",
        "The classification accuracy and other metrics may not fully reflect real-world usability, as the data is limited to a subset of \"step-by-step\" tasks and doesn't capture the full diversity of the FineWeb domain.\n",
        "Model's Potential: While the current model performs well on the training and validation data, applying this model on the entire FineWeb dataset could require more refinement to handle edge cases and documents with less clear instructions.\n",
        "\n",
        "Future Steps:\n",
        "\n",
        "Further fine-tuning with additional data to improve recall and precision.\n",
        "Addressing potential data imbalance and exploring more complex models (e.g., ensemble methods) could enhance the results.\n",
        "The project demonstrates that the classifier is useful for identifying well-structured instructional documents but would require more work to generalize across a broader set of web content."
      ],
      "metadata": {
        "id": "-oAQDJ0XskKu"
      }
    }
  ]
}