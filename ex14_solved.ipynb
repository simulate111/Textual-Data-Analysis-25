{
  "cells": [
    {
      "cell_type": "markdown",
      "metadata": {
        "id": "view-in-github",
        "colab_type": "text"
      },
      "source": [
        "<a href=\"https://colab.research.google.com/github/simulate111/Textual-Data-Analysis-25/blob/main/ex14_solved.ipynb\" target=\"_parent\"><img src=\"https://colab.research.google.com/assets/colab-badge.svg\" alt=\"Open In Colab\"/></a>"
      ]
    },
    {
      "cell_type": "markdown",
      "id": "7c6ab49e-21b8-4eca-b698-eb1fcbab5577",
      "metadata": {
        "id": "7c6ab49e-21b8-4eca-b698-eb1fcbab5577"
      },
      "source": [
        "# The solution steps\n",
        "\n",
        "1. Load the data as usual\n",
        "2. Define a DSPy signature which describes the task as mapping a document (str) into a list of person,org,role tuples;\n",
        "3. Run the program\n",
        "4. Inspect the prompt used through e.g. llm.history[-1]"
      ]
    },
    {
      "cell_type": "code",
      "source": [
        "!pip -q install dspy"
      ],
      "metadata": {
        "id": "i5HZse4vc93S"
      },
      "id": "i5HZse4vc93S",
      "execution_count": null,
      "outputs": []
    },
    {
      "cell_type": "code",
      "execution_count": null,
      "id": "4d065549-a2e6-4ee5-81f9-7ced8ef7628c",
      "metadata": {
        "id": "4d065549-a2e6-4ee5-81f9-7ced8ef7628c"
      },
      "outputs": [],
      "source": [
        "import dspy\n",
        "import unicodedata\n",
        "import re\n",
        "import json\n",
        "import random\n",
        "\n",
        "#api_keys.py has a GPT4o_API_KEY variable\n",
        "#from api_keys import *\n",
        "\n",
        "GPT4o_API_KEY = \"sk-xxxxxxxxxx\"#'your_api_key_here'\n",
        "\n",
        "lm = dspy.LM('openai/gpt-4o-mini', api_key=GPT4o_API_KEY)\n",
        "dspy.configure(lm=lm)"
      ]
    },
    {
      "cell_type": "code",
      "execution_count": null,
      "id": "53f23dd4-5fa0-4f99-8f8f-8a9ee03e98b1",
      "metadata": {
        "id": "53f23dd4-5fa0-4f99-8f8f-8a9ee03e98b1",
        "outputId": "5ad76993-7eb6-45fe-cfe1-19a8db98a68b",
        "colab": {
          "base_uri": "https://localhost:8080/"
        }
      },
      "outputs": [
        {
          "output_type": "stream",
          "name": "stdout",
          "text": [
            "--2025-03-12 08:27:54--  http://dl.turkunlp.org/TKO_8964_2023/news-en-2021.jsonl\n",
            "Resolving dl.turkunlp.org (dl.turkunlp.org)... 195.148.30.23\n",
            "Connecting to dl.turkunlp.org (dl.turkunlp.org)|195.148.30.23|:80... connected.\n",
            "HTTP request sent, awaiting response... 200 OK\n",
            "Length: 3385882 (3.2M) [application/octet-stream]\n",
            "Saving to: ‘news-en-2021.jsonl’\n",
            "\n",
            "news-en-2021.jsonl  100%[===================>]   3.23M  2.28MB/s    in 1.4s    \n",
            "\n",
            "2025-03-12 08:27:56 (2.28 MB/s) - ‘news-en-2021.jsonl’ saved [3385882/3385882]\n",
            "\n"
          ]
        }
      ],
      "source": [
        "!wget http://dl.turkunlp.org/TKO_8964_2023/news-en-2021.jsonl"
      ]
    },
    {
      "cell_type": "code",
      "execution_count": null,
      "id": "8b8ab65b-b8d4-4f0f-96ba-97e9811036a2",
      "metadata": {
        "id": "8b8ab65b-b8d4-4f0f-96ba-97e9811036a2",
        "outputId": "edf11481-b442-4004-f9a4-100a84905fed",
        "colab": {
          "base_uri": "https://localhost:8080/"
        }
      },
      "outputs": [
        {
          "output_type": "stream",
          "name": "stdout",
          "text": [
            "Example({'document': 'Finland\\'s government is pushing ahead with plans to introduce a Covid pass, following a meeting of ministers at the House of the Estates in Helsinki on Thursday afternoon. \\n \"There are still many open questions that need to be answered. At this point, it is impossible to promise that the pass will come or when it will come,\" Prime Minister  Sanna Marin  (SDP) told the media following the conclusion of the meeting. \\n \"The government has given the green light to the Covid pass and preparations will continue,\" Marin added. \\n Minister of Economic Affairs  Mika Lintilä  (Cen) told reporters immediately after the meeting that there was broad agreement between the coalition parties over the need for the certificate. \\n \"It [the pass] is an important tool so that we will not need restrictions any more,\" Lintilä said. \\n The government also decided at Thursday afternoon\\'s meeting to offer coronavirus vaccines to all 12- to 15-year-olds, starting as early as next week. \\n \"Fortunately, we have received an extra batch of approximately 200,000 doses of vaccine in Finland, from which these vaccinations [for 12- to 15-year-olds] can be started without interfering with other vaccination programmes,\" Marin told Yle\\'s A-studio on Wednesday evening. \\n Restrictions for bars, restaurants in spreading regions \\n Furthermore, the government will reintroduce restrictions on the opening hours and operations of bars and restaurants due to the deteriorating coronavirus situation in regions considered to be in the spreading — or most serious — phase of the epidemic. \\n This means that bars and restaurants in the regions of Southwest Finland, Pirkanmaa and Kymenlaakso, as well as the Helsinki metropolitan area, will have to adapt to new regulations that are due to take effect from Sunday. \\n The measures include the opening hours of bars being limited to between 7am and 10pm, while restaurants can stay open one hour later. A ban on karaoke and dancing indoors has also been reintroduced. \\n There will be no changes to the opening hours of bars or restaurants in regions considered to be in the acceleration phase of the pandemic. \\n Changes to external border traffic \\n The government has also decided to make changes to the restrictions on Finland\\'s external border traffic, according to the Ministry of the Interior. External border traffic refers to traffic between Finland and countries not belonging to the Schengen area. \\n The regulations currently in effect will be amended, beginning from 9 August, so that entry restrictions are removed for Ukrainian residents traveling to Finland from Ukraine. \\n Restrictions on entry will be restored for residents of Azerbaijan, South Korea, Japan, Moldova, Serbia and Singapore travelling from these countries to Finland. \\n If a person arriving from the above-mentioned countries has not received a full series of vaccinations, the permitted entry criteria are a resident returning to Finland or other EU or Schengen countries, transit of regular scheduled flight traffic at the airport, or other essential reasons. \\n A person can travel to Finland from any country by presenting an acceptable certificate of the full vaccination series. \\n These new regulations aside, the restrictions that entered into force on 19 July still apply. \\n The latest restrictions are in effect until 22 August. \\n Protesters demand \"same rules for all\" \\n A small but vocal group of protestors, representing cultural sector workers, gathered near the House of the Estates while the government meeting was ongoing to demonstrate against coronavirus restrictions, demanding a fairer distribution of measures. \\n Restrictions have hit especially hard on the cultural and event industry, with many workers in the sector unable to work for the past year and a half. At the same time, the protestors pointed out, shopping malls have been allowed to operate as normal. \\n \"Same rules for all,\" the protesters chanted.'}) (input_keys={'document'})\n"
          ]
        }
      ],
      "source": [
        "news=[]\n",
        "with open(\"news-en-2021.jsonl\") as f:\n",
        "    for line in f:\n",
        "        d=json.loads(line)\n",
        "        news.append(d)\n",
        "news_dspy=[dspy.Example(document=s[\"text\"]).with_inputs(\"document\") for s in news]\n",
        "print(news_dspy[0])\n"
      ]
    },
    {
      "cell_type": "markdown",
      "id": "fabac046-72a3-4bc6-841e-0a7e91c42207",
      "metadata": {
        "id": "fabac046-72a3-4bc6-841e-0a7e91c42207"
      },
      "source": [
        "# DSPy Signature\n",
        "\n",
        "* I opt to define it as a class which allows me to add the hint strings"
      ]
    },
    {
      "cell_type": "code",
      "execution_count": null,
      "id": "c6a9d277-ff73-4d2a-a0fd-1380fbd95ccb",
      "metadata": {
        "id": "c6a9d277-ff73-4d2a-a0fd-1380fbd95ccb"
      },
      "outputs": [],
      "source": [
        "class Relation(dspy.Signature):\n",
        "    \"\"\"Describes a relation between a person and an organization, most likely employment, or being a representative, or similar.\"\"\"\n",
        "\n",
        "    document: str = dspy.InputField(desc=\"Input news document\")\n",
        "    person_organization_relationship: list[tuple[str,str,str]] = dspy.OutputField(desc=\"extracted triples of person,organization,nature-of-relationship\")\n",
        "\n",
        "compare_prog=dspy.ChainOfThought(signature=Relation)\n"
      ]
    },
    {
      "cell_type": "code",
      "execution_count": null,
      "id": "95e5c8ba-74f7-4340-8a28-b458c581d575",
      "metadata": {
        "id": "95e5c8ba-74f7-4340-8a28-b458c581d575",
        "outputId": "1d2e2add-2827-4368-d732-a8a4f54e2889",
        "colab": {
          "base_uri": "https://localhost:8080/"
        }
      },
      "outputs": [
        {
          "output_type": "stream",
          "name": "stderr",
          "text": [
            "100%|██████████| 30/30 [02:32<00:00,  5.09s/it]\n"
          ]
        }
      ],
      "source": [
        "import tqdm\n",
        "responses=[]\n",
        "\n",
        "for item in tqdm.tqdm(news_dspy[:30]):\n",
        "    response=compare_prog(**item)\n",
        "    responses.append(response)\n"
      ]
    },
    {
      "cell_type": "code",
      "execution_count": null,
      "id": "03794977-c77f-4999-abda-357e49bbde34",
      "metadata": {
        "id": "03794977-c77f-4999-abda-357e49bbde34",
        "outputId": "8453a287-e03f-48e4-f35e-79a466559444",
        "colab": {
          "base_uri": "https://localhost:8080/"
        }
      },
      "outputs": [
        {
          "output_type": "stream",
          "name": "stdout",
          "text": [
            "Prediction(\n",
            "    reasoning='The document discusses the actions and statements of Finnish government officials regarding the introduction of a Covid pass and related measures. It highlights the roles of Prime Minister Sanna Marin and Minister of Economic Affairs Mika Lintilä, indicating their positions within the Finnish government. Their statements reflect their responsibilities and involvement in government decisions, establishing a clear relationship between these individuals and the organization they represent, which is the Finnish government.',\n",
            "    person_organization_relationship=[('Sanna Marin', 'Finnish government', 'Prime Minister'), ('Mika Lintilä', 'Finnish government', 'Minister of Economic Affairs')]\n",
            ")\n"
          ]
        }
      ],
      "source": [
        "print(responses[0])"
      ]
    },
    {
      "cell_type": "markdown",
      "id": "4459fc7b-09db-421c-ae9b-b3dc4f839305",
      "metadata": {
        "id": "4459fc7b-09db-421c-ae9b-b3dc4f839305"
      },
      "source": [
        "# Save the answers\n",
        "\n",
        "* It might be wise to save the responses so that we do not need to rerun the the program\n",
        "* For that, it is necessary to turn the responses into simpler objects"
      ]
    },
    {
      "cell_type": "code",
      "execution_count": null,
      "id": "785df379-3c74-44c2-8489-e33f32a5cc79",
      "metadata": {
        "id": "785df379-3c74-44c2-8489-e33f32a5cc79"
      },
      "outputs": [],
      "source": [
        "\n",
        "responses_py=[{\"reasoning\":r.reasoning,\"triples\":r.person_organization_relationship} for r in responses]\n",
        "\n",
        "with open(\"responses.jsonl\",\"wt\") as f:\n",
        "    for r in responses_py:\n",
        "        print(json.dumps(r),file=f)"
      ]
    },
    {
      "cell_type": "code",
      "execution_count": null,
      "id": "122ab1d6-a3fe-4533-b47a-abe413e20051",
      "metadata": {
        "id": "122ab1d6-a3fe-4533-b47a-abe413e20051",
        "outputId": "12c10305-29bd-4132-8342-1e476d28ef18",
        "colab": {
          "base_uri": "https://localhost:8080/"
        }
      },
      "outputs": [
        {
          "output_type": "execute_result",
          "data": {
            "text/plain": [
              "{'prompt': None,\n",
              " 'messages': [{'role': 'system',\n",
              "   'content': 'Your input fields are:\\n1. `document` (str): Input news document\\n\\nYour output fields are:\\n1. `reasoning` (str)\\n2. `person_organization_relationship` (list[tuple[str, str, str]]): extracted triples of person,organization,nature-of-relationship\\n\\nAll interactions will be structured in the following way, with the appropriate values filled in.\\n\\nInputs will have the following structure:\\n\\n[[ ## document ## ]]\\n{document}\\n\\nOutputs will be a JSON object with the following fields.\\n\\n{\\n  \"reasoning\": \"{reasoning}\",\\n  \"person_organization_relationship\": \"{person_organization_relationship}        # note: the value you produce must adhere to the JSON schema: {\\\\\"items\\\\\": {\\\\\"maxItems\\\\\": 3, \\\\\"minItems\\\\\": 3, \\\\\"prefixItems\\\\\": [{\\\\\"type\\\\\": \\\\\"string\\\\\"}, {\\\\\"type\\\\\": \\\\\"string\\\\\"}, {\\\\\"type\\\\\": \\\\\"string\\\\\"}], \\\\\"type\\\\\": \\\\\"array\\\\\"}, \\\\\"type\\\\\": \\\\\"array\\\\\"}\"\\n}\\n\\nIn adhering to this structure, your objective is: \\n        Describes a relation between a person and an organization, most likely employment, or being a representative, or similar.'},\n",
              "  {'role': 'user',\n",
              "   'content': '[[ ## document ## ]]\\nAround 20 infections have already been traced to the Kuopiorock music festival, which was held in the city over three days at the end of July and attended by thousands of people. \\n Local health authorities have reported that they are expecting hundreds more infections to be traced to the event, especially if people do not follow safety guidelines. \\n \"This is just the beginning. It was known that this would happen and that infections would arise,\" infectious disease physician  Raija Savolainen  said. \\n She added that it is not possible to know with certainty if the infections originated at the event itself or from other activities such as concertgoers frequenting bars or restaurants in the city. \\n Cases rising \\n Coronavirus infections in the Kuopio region have increased steadily in recent days as authorities\\' attempts to trace the origins of the the new cases have been hampered. \\n Health authorities in the region said infected people are usually contacted within one day, but infection tracers are not able to identify or contact all those who were possibly exposed to the virus. \\n According to Savolainen, a big challenge for the tracing team is that people do not answer their phones even if they are waiting for information about a test result. This takes an unreasonable amount of resources away from an otherwise small team of tracers, Savolainen said. \\n \"Even over the weekend there were a couple of cases that had to be called dozens of times before being tracked down. Apparently, some people don\\'t want information about exposures or infection even if they know they\\'re supposed to wait for a call about test results,\" she said. \\n Savolainen said the coronavirus situation was deteriorating for a number of different reasons, including because people are tiring of following safety guidelines. \\n \"The main reason though, is the highly contagious Delta variant of the virus, which is currently spreading rapidly among young people, for example at events,\" she said. \\n No plans to restrict large events \\n Events scheduled for this week in Kuopio, including the International Grand Markets in the city\\'s market square and the Hoodfest urban music festival scheduled for this weekend, can still go ahead as planned, according to the City of Kuopio, despite the deteriorating coronavirus situation in the city. \\n City authorities said there are no plans at this stage to place restrictions on the holding of large events, such as limiting the number of attendees. \\n \"We strive to follow national guidelines and the guidelines for lighter restrictions, and to respect Avi\\'s [the Regional State Administrative Agency] decisions not to restrict events,\" Kuopio Deputy Mayor  Jari Saarinen  told Yle.\\n\\nRespond with a JSON object in the following order of fields: `reasoning`, then `person_organization_relationship` (must be formatted as a valid Python list[tuple[str, str, str]]).'}],\n",
              " 'kwargs': {'temperature': 0.0,\n",
              "  'max_tokens': 1000,\n",
              "  'response_format': {'type': 'json_object'}},\n",
              " 'response': ModelResponse(id='chatcmpl-BABlxC6ZD0kwCVjfTtYAede9JCQc7', created=1741768233, model='gpt-4o-mini-2024-07-18', object='chat.completion', system_fingerprint='fp_06737a9306', choices=[Choices(finish_reason='stop', index=0, message=Message(content='{\\n  \"reasoning\": \"The document discusses the coronavirus situation in Kuopio, particularly in relation to the Kuopiorock music festival. It mentions Raija Savolainen, an infectious disease physician, who provides insights on the infections traced to the festival. Additionally, Jari Saarinen, the Deputy Mayor of Kuopio, is quoted regarding the city\\'s stance on large events amidst the pandemic. This indicates a relationship between these individuals and their respective organizations, namely the health authority and the city government.\",\\n  \"person_organization_relationship\": [\\n    [\"Raija Savolainen\", \"Health Authority\", \"Infectious Disease Physician\"],\\n    [\"Jari Saarinen\", \"City of Kuopio\", \"Deputy Mayor\"]\\n  ]\\n}', role='assistant', tool_calls=None, function_call=None, provider_specific_fields={'refusal': None, 'annotations': []}))], usage=Usage(completion_tokens=150, prompt_tokens=819, total_tokens=969, completion_tokens_details=CompletionTokensDetailsWrapper(accepted_prediction_tokens=0, audio_tokens=0, reasoning_tokens=0, rejected_prediction_tokens=0, text_tokens=None), prompt_tokens_details=PromptTokensDetailsWrapper(audio_tokens=0, cached_tokens=0, text_tokens=None, image_tokens=None)), service_tier='default'),\n",
              " 'outputs': ['{\\n  \"reasoning\": \"The document discusses the coronavirus situation in Kuopio, particularly in relation to the Kuopiorock music festival. It mentions Raija Savolainen, an infectious disease physician, who provides insights on the infections traced to the festival. Additionally, Jari Saarinen, the Deputy Mayor of Kuopio, is quoted regarding the city\\'s stance on large events amidst the pandemic. This indicates a relationship between these individuals and their respective organizations, namely the health authority and the city government.\",\\n  \"person_organization_relationship\": [\\n    [\"Raija Savolainen\", \"Health Authority\", \"Infectious Disease Physician\"],\\n    [\"Jari Saarinen\", \"City of Kuopio\", \"Deputy Mayor\"]\\n  ]\\n}'],\n",
              " 'usage': {'completion_tokens': 150,\n",
              "  'prompt_tokens': 819,\n",
              "  'total_tokens': 969,\n",
              "  'completion_tokens_details': CompletionTokensDetailsWrapper(accepted_prediction_tokens=0, audio_tokens=0, reasoning_tokens=0, rejected_prediction_tokens=0, text_tokens=None),\n",
              "  'prompt_tokens_details': PromptTokensDetailsWrapper(audio_tokens=0, cached_tokens=0, text_tokens=None, image_tokens=None)},\n",
              " 'cost': 0.00021285,\n",
              " 'timestamp': '2025-03-12T08:30:35.757014',\n",
              " 'uuid': 'a1293668-2315-4952-b6c9-97d580193261',\n",
              " 'model': 'openai/gpt-4o-mini',\n",
              " 'response_model': 'gpt-4o-mini-2024-07-18',\n",
              " 'model_type': 'chat'}"
            ]
          },
          "metadata": {},
          "execution_count": 14
        }
      ],
      "source": [
        "lm.history[-1]"
      ]
    },
    {
      "cell_type": "code",
      "execution_count": null,
      "id": "290d1ec9-c425-4b74-a28d-1b1a9e8d6f99",
      "metadata": {
        "id": "290d1ec9-c425-4b74-a28d-1b1a9e8d6f99",
        "outputId": "14b5ed67-6f73-4d3d-e8f0-0736ec138846",
        "colab": {
          "base_uri": "https://localhost:8080/"
        }
      },
      "outputs": [
        {
          "output_type": "stream",
          "name": "stdout",
          "text": [
            "Person: Sanna Marin    Org: Finnish government     Rel: Prime Minister\n",
            "Person: Mika Lintilä    Org: Finnish government     Rel: Minister of Economic Affairs\n",
            "Person: Timo Metsola    Org: Vuokraturva     Rel: board chair\n",
            "Person: Emma Terho    Org: International Olympic Committee Athletes’ Commission     Rel: Chair\n",
            "Person: Kirsty Coventry    Org: International Olympic Committee Athletes’ Commission     Rel: Former Chair\n",
            "Person: Peter Tallberg    Org: International Olympic Committee Athletes’ Commission     Rel: Former Member\n",
            "Person: Niina Kauppinen    Org: Helsinki and Uusimaa Hospital District     Rel: Communications Manager\n",
            "Person: Kari Kristeri    Org: Kymenlaakso Hospital District     Rel: Chief Administrative Officer\n",
            "Person: Risto Pietikäinen    Org: Kymenlaakso Hospital District     Rel: Chief Physician\n",
            "Person: Markku Broas    Org: Lapland's Hospital District     Rel: Chief Physician\n",
            "Person: Veikko Karvanen    Org: South-Savo Hospital District     Rel: Chief Physician\n",
            "Person: Anne Kantanen    Org: North-Savo Hospital District     Rel: Director of Nursing\n",
            "Person: Markku Broas    Org: Lapland Hospital District     Rel: Chief Physician\n",
            "Person: Cecilia Damström    Org: City of Lahti     Rel: composer for the installation\n",
            "Person: Erkko Aarti    Org: City of Lahti     Rel: architect of the installation\n",
            "Person: Saara Vauramo    Org: City of Lahti     Rel: program director for the project\n",
            "Person: Emilia Uljas    Org: Association of High School Students     Rel: President\n",
            "Person: Jarmo Rahkola    Org: Southeast Finland Police Department     Rel: Chief Inspector\n",
            "Person: Häme Police    Org: Häme Police Department     Rel: Investigating thefts\n",
            "Person: Southeast Finland Police Department    Org: Southeast Finland Police Department     Rel: Investigating thefts\n",
            "Person: taxi driver    Org: Helsinki District Court     Rel: sentenced by\n",
            "Person: Björn Wahlroos    Org: Sampo Group     Rel: donor\n",
            "Person: Ilpo Kokkila    Org: SRV     Rel: donor\n",
            "Person: Maria Ohisalo    Org: Greens     Rel: candidate\n",
            "Person: Li Andersson    Org: Left Alliance     Rel: candidate\n",
            "Person: Annika Saarikko    Org: Centre     Rel: candidate\n",
            "Person: Emma Kari    Org: Greens     Rel: candidate\n",
            "Person: Anders Adlercreutz    Org: Swedish People's Party     Rel: candidate\n",
            "Person: Ville Tavio    Org: Finns Party     Rel: candidate\n",
            "Person: Antti Lindtman    Org: SDP     Rel: candidate\n",
            "Person: Kai Mykkänen    Org: NCP     Rel: candidate\n",
            "Person: EK    Org: Confederation of Finnish Industries     Rel: supporter\n",
            "Person: RT    Org: Confederation of Finnish Construction Industries     Rel: supporter\n",
            "Person: Antti Kurvinen    Org: Veikkaus     Rel: proposes changes to revenue distribution\n",
            "Person: Antti Kurvinen    Org: Ministry of Science and Culture     Rel: serves as Minister\n",
            "Person: Erkki Liikanen    Org: Veikkaus     Rel: chaired working group on revenue reform\n",
            "Person: Association of Finnish Theatres    Org: Finnish government     Rel: advocates for change\n",
            "Person: Finnish Theatre Directors' Association    Org: Finnish government     Rel: advocates for change\n",
            "Person: Finnish Actors' Association    Org: Finnish government     Rel: advocates for change\n",
            "Person: Finnish National Theatre    Org: Finnish government     Rel: advocates for change\n",
            "Person: Helsinki City Theatre    Org: Finnish government     Rel: advocates for change\n",
            "Person: Ulla Moilanen    Org: University of Turku     Rel: employee\n",
            "Person: Arja Kobylin    Org: Helsinki University Hospital     Rel: Chief Physician\n",
            "Person: Timo Harakka    Org: Government of Finland     Rel: Transport Minister\n",
            "Person: Kustaa Lehtonen    Org: Helsinki University Hospital     Rel: Doctor\n",
            "Person: Mika Rämet    Org: University of Tampere     Rel: Vaccine specialist\n",
            "Person: Lauri Lyly    Org: City of Tampere     Rel: Outgoing city mayor\n",
            "Person: Annukka Merikallio    Org: Iltalehti     Rel: Occupational Psychologist\n",
            "Person: Riikka Laaksonen    Org: Police     Rel: Employee\n",
            "Person: Kristiina Heinonen    Org: Finnish Swimming Education and Lifesaving Federation     Rel: Executive Director\n",
            "Person: Mari Kiviniemi    Org: Finnish Commerce Federation     Rel: managing director\n",
            "Person: Petteri Taalas    Org: World Meteorological Organisation     Rel: leads\n",
            "Person: Inger Andersen    Org: United Nations     Rel: under-Secretary-General\n",
            "Person: Inger Andersen    Org: UN Environment Programme     Rel: Executive Director\n",
            "Person: Hanna Nohynek    Org: Institute for Health and Welfare (THL)     Rel: chief physician\n",
            "Person: Elina Pekkarinen    Org: Ombudsman for Children     Rel: ombudsman\n",
            "Person: Otto Suksi    Org: Finland     Rel: vaccination participant\n",
            "Person: Nooa Kaukinen    Org: Finland     Rel: vaccination participant\n",
            "Person: Krista Mikkonen    Org: Finnish government     Rel: Minister of the Environment and Climate Change\n",
            "Person: Johanna Tuukkanen    Org: healthcare organization     Rel: Chief Physician\n",
            "Person: Mirka Paasikangas    Org: Arabia     Rel: PR and communications manager\n",
            "Person: Maria Ohisalo    Org: Green Party     Rel: chair\n",
            "Person: Antti Häkkänen    Org: National Coalition Party     Rel: vice-chair\n",
            "Person: Sanna Jacksen    Org: Aamurusko Steiner Daycare     Rel: Director\n",
            "Person: Lasse Lipponen    Org: University of Helsinki     Rel: Professor\n",
            "Person: Nea Martemaa    Org: N/A     Rel: Mother\n",
            "Person: Onni Sarmaste    Org: National Emergency Supply Agency     Rel: businessman involved in procurement\n",
            "Person: Tiina Jylhä    Org: National Emergency Supply Agency     Rel: entrepreneur involved in procurement\n",
            "Person: Tomi Lounema    Org: National Emergency Supply Agency     Rel: managing director\n",
            "Person: Tytti Yli-Viikari    Org: National Audit Office     Rel: employed as Auditor-General\n",
            "Person: Matti Okko    Org: National Audit Office     Rel: acting Auditor-General\n",
            "Person: Raija Savolainen    Org: Health Authority     Rel: Infectious Disease Physician\n",
            "Person: Jari Saarinen    Org: City of Kuopio     Rel: Deputy Mayor\n"
          ]
        }
      ],
      "source": [
        "for r in responses_py:\n",
        "    for p,o,r in r[\"triples\"]:\n",
        "        print(f\"Person: {p}    Org: {o}     Rel: {r}\")"
      ]
    },
    {
      "cell_type": "markdown",
      "id": "9c286dbd-395b-4395-a7e1-ee69b820b0b6",
      "metadata": {
        "id": "9c286dbd-395b-4395-a7e1-ee69b820b0b6"
      },
      "source": [
        "# Observations\n",
        "\n",
        "* By inspecting the output, we only evaluate *precision* and not *recall* - be mindful of that\n",
        "* The model took a pretty \"broad\" view of what relation can mean\n",
        "* The model took an excessive freedom in assigning *person* to entities which are not a human\n"
      ]
    },
    {
      "cell_type": "code",
      "source": [],
      "metadata": {
        "id": "F3Jq_7sRekjQ"
      },
      "id": "F3Jq_7sRekjQ",
      "execution_count": null,
      "outputs": []
    }
  ],
  "metadata": {
    "kernelspec": {
      "display_name": "Python 3 (ipykernel)",
      "language": "python",
      "name": "python3"
    },
    "language_info": {
      "codemirror_mode": {
        "name": "ipython",
        "version": 3
      },
      "file_extension": ".py",
      "mimetype": "text/x-python",
      "name": "python",
      "nbconvert_exporter": "python",
      "pygments_lexer": "ipython3",
      "version": "3.12.7"
    },
    "colab": {
      "provenance": [],
      "include_colab_link": true
    }
  },
  "nbformat": 4,
  "nbformat_minor": 5
}