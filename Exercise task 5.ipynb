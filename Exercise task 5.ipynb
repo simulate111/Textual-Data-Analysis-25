{
  "nbformat": 4,
  "nbformat_minor": 0,
  "metadata": {
    "colab": {
      "provenance": [],
      "authorship_tag": "ABX9TyN6P7+ALHe5BWyEB+TMQp8f",
      "include_colab_link": true
    },
    "kernelspec": {
      "name": "python3",
      "display_name": "Python 3"
    },
    "language_info": {
      "name": "python"
    }
  },
  "cells": [
    {
      "cell_type": "markdown",
      "metadata": {
        "id": "view-in-github",
        "colab_type": "text"
      },
      "source": [
        "<a href=\"https://colab.research.google.com/github/simulate111/Textual-Data-Analysis-25/blob/main/Exercise%20task%205.ipynb\" target=\"_parent\"><img src=\"https://colab.research.google.com/assets/colab-badge.svg\" alt=\"Open In Colab\"/></a>"
      ]
    },
    {
      "cell_type": "code",
      "source": [
        "!pip install --quiet transformers datasets"
      ],
      "metadata": {
        "id": "qT7W-ozjFkIf"
      },
      "execution_count": 1,
      "outputs": []
    },
    {
      "cell_type": "code",
      "source": [
        "import os\n",
        "import subprocess\n",
        "import json\n",
        "from transformers import pipeline\n",
        "from collections import Counter"
      ],
      "metadata": {
        "id": "HHCwPwvuvawo"
      },
      "execution_count": 2,
      "outputs": []
    },
    {
      "cell_type": "code",
      "source": [
        "!wget http://dl.turkunlp.org/TKO_8964_2023/news-en-2021.jsonl"
      ],
      "metadata": {
        "colab": {
          "base_uri": "https://localhost:8080/"
        },
        "id": "PRrBbL18wATW",
        "outputId": "fa35b203-94f3-4387-e8f1-150f9bea35e1"
      },
      "execution_count": 3,
      "outputs": [
        {
          "output_type": "stream",
          "name": "stdout",
          "text": [
            "--2025-01-29 21:25:10--  http://dl.turkunlp.org/TKO_8964_2023/news-en-2021.jsonl\n",
            "Resolving dl.turkunlp.org (dl.turkunlp.org)... 195.148.30.23\n",
            "Connecting to dl.turkunlp.org (dl.turkunlp.org)|195.148.30.23|:80... connected.\n",
            "HTTP request sent, awaiting response... 200 OK\n",
            "Length: 3385882 (3.2M) [application/octet-stream]\n",
            "Saving to: ‘news-en-2021.jsonl.4’\n",
            "\n",
            "news-en-2021.jsonl. 100%[===================>]   3.23M  1.63MB/s    in 2.0s    \n",
            "\n",
            "2025-01-29 21:25:13 (1.63 MB/s) - ‘news-en-2021.jsonl.4’ saved [3385882/3385882]\n",
            "\n"
          ]
        }
      ]
    },
    {
      "cell_type": "code",
      "source": [
        "#REad 50 articles\n",
        "news_data = []\n",
        "with open(\"news-en-2021.jsonl\") as f:\n",
        "    for i, line in enumerate(f):\n",
        "        if i >= 50:\n",
        "            break\n",
        "        news_data.append(json.loads(line))\n",
        "texts = [article[\"text\"] for article in news_data if \"text\" in article]\n",
        "print(\"Sample text from article:\", texts[0][0:200])"
      ],
      "metadata": {
        "colab": {
          "base_uri": "https://localhost:8080/"
        },
        "id": "JBKJjT9VGQhn",
        "outputId": "5ef768aa-4e60-432a-e37e-fa62afbcecbb"
      },
      "execution_count": 4,
      "outputs": [
        {
          "output_type": "stream",
          "name": "stdout",
          "text": [
            "Sample text from article: Finland's government is pushing ahead with plans to introduce a Covid pass, following a meeting of ministers at the House of the Estates in Helsinki on Thursday afternoon. \n",
            " \"There are still many open\n"
          ]
        }
      ]
    },
    {
      "cell_type": "code",
      "source": [
        "#Model\n",
        "ner_pipeline = pipeline(\"ner\", model=\"dslim/bert-base-NER\")"
      ],
      "metadata": {
        "colab": {
          "base_uri": "https://localhost:8080/"
        },
        "id": "3NKXjlLbFls-",
        "outputId": "a90ebc90-22d6-4410-d6c2-d4fe26b3ab0a"
      },
      "execution_count": 5,
      "outputs": [
        {
          "output_type": "stream",
          "name": "stderr",
          "text": [
            "/usr/local/lib/python3.11/dist-packages/huggingface_hub/utils/_auth.py:94: UserWarning: \n",
            "The secret `HF_TOKEN` does not exist in your Colab secrets.\n",
            "To authenticate with the Hugging Face Hub, create a token in your settings tab (https://huggingface.co/settings/tokens), set it as secret in your Google Colab and restart your session.\n",
            "You will be able to reuse this secret in all of your notebooks.\n",
            "Please note that authentication is recommended but still optional to access public models or datasets.\n",
            "  warnings.warn(\n",
            "Some weights of the model checkpoint at dslim/bert-base-NER were not used when initializing BertForTokenClassification: ['bert.pooler.dense.bias', 'bert.pooler.dense.weight']\n",
            "- This IS expected if you are initializing BertForTokenClassification from the checkpoint of a model trained on another task or with another architecture (e.g. initializing a BertForSequenceClassification model from a BertForPreTraining model).\n",
            "- This IS NOT expected if you are initializing BertForTokenClassification from the checkpoint of a model that you expect to be exactly identical (initializing a BertForSequenceClassification model from a BertForSequenceClassification model).\n",
            "Device set to use cpu\n"
          ]
        }
      ]
    },
    {
      "cell_type": "code",
      "source": [
        "#get access to raw predictions\n",
        "raw_predictions= [ner_pipeline(text) for text in texts]\n",
        "print(raw_predictions[0][0:2])"
      ],
      "metadata": {
        "colab": {
          "base_uri": "https://localhost:8080/"
        },
        "id": "mk5mpK8exJs6",
        "outputId": "1a13bbd7-2fc9-4f1d-f915-89a3af220377"
      },
      "execution_count": 6,
      "outputs": [
        {
          "output_type": "stream",
          "name": "stdout",
          "text": [
            "[{'entity': 'B-LOC', 'score': 0.99978787, 'index': 1, 'word': 'Finland', 'start': 0, 'end': 7}, {'entity': 'B-MISC', 'score': 0.998447, 'index': 13, 'word': 'Co', 'start': 64, 'end': 66}]\n"
          ]
        }
      ]
    },
    {
      "cell_type": "code",
      "source": [
        "#the most common invalid transitions\n",
        "def invalid_transitions(predictions):\n",
        "    invalid_transition= Counter()\n",
        "    for pred in predictions:\n",
        "        prev_label = None\n",
        "        for token in pred:\n",
        "            label = token[\"entity\"]\n",
        "            if prev_label and label.startswith(\"I-\") and prev_label != label.replace(\"I-\", \"B-\") and prev_label != label:\n",
        "              invalid_transition[(prev_label, label)] += 1\n",
        "            prev_label = label\n",
        "    return invalid_transition"
      ],
      "metadata": {
        "id": "SlvW69axGV5b"
      },
      "execution_count": 7,
      "outputs": []
    },
    {
      "cell_type": "code",
      "source": [
        "invalid = invalid_transitions(raw_predictions)\n",
        "for (prev_label, label), count in invalid.items():\n",
        "    print(f\"{prev_label} ----> {label}:\", count)"
      ],
      "metadata": {
        "colab": {
          "base_uri": "https://localhost:8080/"
        },
        "id": "NwrSYZZ1yeP0",
        "outputId": "8f821454-66de-4fd7-d54d-220a55906be0"
      },
      "execution_count": 8,
      "outputs": [
        {
          "output_type": "stream",
          "name": "stdout",
          "text": [
            "I-PER ----> I-ORG: 4\n",
            "I-ORG ----> I-PER: 1\n",
            "B-LOC ----> I-ORG: 1\n",
            "I-LOC ----> I-ORG: 3\n",
            "B-PER ----> I-ORG: 4\n",
            "I-ORG ----> I-MISC: 5\n",
            "B-MISC ----> I-LOC: 1\n",
            "I-LOC ----> I-MISC: 1\n",
            "B-MISC ----> I-ORG: 6\n",
            "B-ORG ----> I-LOC: 2\n",
            "B-ORG ----> I-PER: 1\n"
          ]
        }
      ]
    },
    {
      "cell_type": "code",
      "source": [
        "#aggregation\n",
        "ner_pipeline = pipeline(\"ner\", model=\"dslim/bert-base-NER\", aggregation_strategy=\"simple\")\n",
        "aggregated_predictions = [ner_pipeline(text) for text in texts]"
      ],
      "metadata": {
        "colab": {
          "base_uri": "https://localhost:8080/"
        },
        "id": "P_ZhN_M9Ga7I",
        "outputId": "979bf31e-3744-4676-f4a0-34458b24ed05"
      },
      "execution_count": 9,
      "outputs": [
        {
          "output_type": "stream",
          "name": "stderr",
          "text": [
            "Some weights of the model checkpoint at dslim/bert-base-NER were not used when initializing BertForTokenClassification: ['bert.pooler.dense.bias', 'bert.pooler.dense.weight']\n",
            "- This IS expected if you are initializing BertForTokenClassification from the checkpoint of a model trained on another task or with another architecture (e.g. initializing a BertForSequenceClassification model from a BertForPreTraining model).\n",
            "- This IS NOT expected if you are initializing BertForTokenClassification from the checkpoint of a model that you expect to be exactly identical (initializing a BertForSequenceClassification model from a BertForSequenceClassification model).\n",
            "Device set to use cpu\n"
          ]
        }
      ]
    },
    {
      "cell_type": "code",
      "source": [
        "print(aggregated_predictions[0][0:2])"
      ],
      "metadata": {
        "colab": {
          "base_uri": "https://localhost:8080/"
        },
        "id": "XeNgy1Ei7CPD",
        "outputId": "8642294e-f6bd-4d41-e9fc-5e17286c73d1"
      },
      "execution_count": 10,
      "outputs": [
        {
          "output_type": "stream",
          "name": "stdout",
          "text": [
            "[{'entity_group': 'LOC', 'score': 0.99978787, 'word': 'Finland', 'start': 0, 'end': 7}, {'entity_group': 'MISC', 'score': 0.9487479, 'word': 'Covid', 'start': 64, 'end': 69}]\n"
          ]
        }
      ]
    },
    {
      "cell_type": "code",
      "source": [
        "entity_counter = Counter()\n",
        "entity_mentions = Counter()\n",
        "for doc in aggregated_predictions:\n",
        "    #print(doc)\n",
        "    for entity in doc:\n",
        "        #print(entity)\n",
        "        entity_type = entity[\"entity_group\"]\n",
        "        entity_name = entity[\"word\"]\n",
        "        entity_counter[entity_type] += 1\n",
        "        entity_mentions[entity_name] += 1"
      ],
      "metadata": {
        "id": "ko9FqDBfGgj2"
      },
      "execution_count": 11,
      "outputs": []
    },
    {
      "cell_type": "code",
      "source": [
        "#the most common entity type in your data and the most common entities\n",
        "for entity_type, count in entity_counter.most_common():\n",
        "    print(f\"{entity_type}:\", count)\n",
        "\n",
        "print(\"\\n\\n\\n\")\n",
        "for entity_name, count in entity_mentions.most_common(5):\n",
        "    print(f\"{entity_name}:\", count)"
      ],
      "metadata": {
        "colab": {
          "base_uri": "https://localhost:8080/"
        },
        "id": "wVGPX6Sk7jLb",
        "outputId": "69b3f990-577f-414f-a3a1-a26c52ea86f0"
      },
      "execution_count": 12,
      "outputs": [
        {
          "output_type": "stream",
          "name": "stdout",
          "text": [
            "ORG: 358\n",
            "PER: 324\n",
            "LOC: 291\n",
            "MISC: 144\n",
            "\n",
            "\n",
            "\n",
            "\n",
            "Finland: 93\n",
            "Finnish: 34\n",
            "Helsinki: 29\n",
            "Covid: 19\n",
            "Yle: 14\n"
          ]
        }
      ]
    },
    {
      "cell_type": "markdown",
      "source": [
        "1) Read the model page to figure out which datasets were used to train the model, and which entities the model includes.\n",
        "\n",
        "Model description:\n",
        "This model is a bert-base-cased model that was fine-tuned on the English version of the standard CoNLL-2003 Named Entity Recognition dataset.\n",
        "\n",
        "Bert-base-NER is a fine-tuned BERT model that is ready to use for Named Entity Recognition and achieves state-of-the-art performance for the NER task. It has been trained to recognize four types of entities: location (LOC), organizations (ORG), person (PER) and Miscellaneous (MISC).\n",
        "\n",
        "The training dataset distinguishes between the beginning and continuation of an entity so that if there are back-to-back entities of the same type, the model can output where the second entity begins. As in the dataset, each token will be classified as one of the following classes:\n",
        "\n",
        "Abbreviation\tDescription\n",
        "O\tOutside of a named entity\n",
        "B-MISC\tBeginning of a miscellaneous entity right after another miscellaneous entity\n",
        "I-MISC\tMiscellaneous entity\n",
        "B-PER\tBeginning of a person’s name right after another person’s name\n",
        "I-PER\tPerson’s name\n",
        "B-ORG\tBeginning of an organization right after another organization\n",
        "I-ORG\torganization\n",
        "B-LOC\tBeginning of a location right after another location\n",
        "I-LOC\tLocation\n",
        "\n",
        "CoNLL-2003 English Dataset Statistics\n",
        "This dataset was derived from the Reuters corpus which consists of Reuters news stories."
      ],
      "metadata": {
        "id": "4m0YCMbJs_vw"
      }
    }
  ]
}